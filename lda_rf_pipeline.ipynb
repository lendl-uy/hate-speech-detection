{
 "cells": [
  {
   "cell_type": "markdown",
   "id": "0d05c036",
   "metadata": {},
   "source": [
    "# LDA - RF Pipeline "
   ]
  },
  {
   "cell_type": "markdown",
   "id": "778cef84980d4467",
   "metadata": {
    "collapsed": false
   },
   "source": [
    "## Import necessary packages"
   ]
  },
  {
   "cell_type": "code",
   "execution_count": 1,
   "id": "initial_id",
   "metadata": {
    "ExecuteTime": {
     "end_time": "2024-04-30T06:12:15.723490Z",
     "start_time": "2024-04-30T06:12:14.266895Z"
    },
    "collapsed": true
   },
   "outputs": [],
   "source": [
    "import time\n",
    "import optuna\n",
    "import numpy as np\n",
    "from tqdm import tqdm\n",
    "from sklearn.feature_extraction.text import CountVectorizer\n",
    "from sklearn.decomposition import LatentDirichletAllocation, NMF\n",
    "from sklearn.model_selection import train_test_split\n",
    "from sklearn.metrics import accuracy_score\n",
    "from sklearn.ensemble import RandomForestClassifier\n",
    "# from bitermplus import BTM\n",
    "\n",
    "from dataset.dataset import Dataset\n",
    "from constants import CLEANED_DATASET_PATH"
   ]
  },
  {
   "cell_type": "markdown",
   "id": "14ffafa63beef650",
   "metadata": {
    "collapsed": false
   },
   "source": [
    "## Constants"
   ]
  },
  {
   "cell_type": "code",
   "execution_count": 2,
   "id": "7e92953c8b90f034",
   "metadata": {
    "ExecuteTime": {
     "end_time": "2024-04-30T06:12:15.730647Z",
     "start_time": "2024-04-30T06:12:15.723831Z"
    },
    "collapsed": false
   },
   "outputs": [],
   "source": [
    "RANDOM_SEED = 0"
   ]
  },
  {
   "cell_type": "markdown",
   "id": "b6be051016d14124",
   "metadata": {
    "collapsed": false
   },
   "source": [
    "## Load the Hate Speech Filipino dataset from Hugging Face"
   ]
  },
  {
   "cell_type": "code",
   "execution_count": 3,
   "id": "88b506f040054ff5",
   "metadata": {
    "ExecuteTime": {
     "end_time": "2024-04-30T06:12:25.180185Z",
     "start_time": "2024-04-30T06:12:16.265426Z"
    },
    "collapsed": false
   },
   "outputs": [
    {
     "name": "stdout",
     "output_type": "stream",
     "text": [
      "Data loaded from dataset/cleaned_dataset.pkl\n"
     ]
    }
   ],
   "source": [
    "dataset = Dataset(full_data_path=CLEANED_DATASET_PATH,\n",
    "                  from_scratch=False,\n",
    "                  split_sizes=[10000, 4232, 4232])\n",
    "dataset.build()\n",
    "\n",
    "X_train = dataset.get_features(split_type=\"train\")\n",
    "Y_train = dataset.get_labels(split_type=\"train\")\n",
    "X_val = dataset.get_features(split_type=\"val\")\n",
    "Y_val = dataset.get_labels(split_type=\"val\")\n",
    "X_test = dataset.get_features(split_type=\"test\")\n",
    "Y_test = dataset.get_labels(split_type=\"test\")"
   ]
  },
  {
   "cell_type": "code",
   "execution_count": 4,
   "id": "f76bd2607ff0e948",
   "metadata": {
    "ExecuteTime": {
     "end_time": "2024-04-30T06:12:25.205936Z",
     "start_time": "2024-04-30T06:12:25.196203Z"
    }
   },
   "outputs": [],
   "source": [
    "# Re-split the dataset into training, validation, and test sets\n",
    "# X_train, X_temp, Y_train, Y_temp = train_test_split(X, Y, test_size=0.2, random_state=RANDOM_SEED)\n",
    "# X_val, X_test, Y_val, Y_test = train_test_split(X_temp, Y_temp, test_size=0.5, random_state=RANDOM_SEED)"
   ]
  },
  {
   "cell_type": "markdown",
   "id": "e7c8c684144c6b8a",
   "metadata": {
    "collapsed": false
   },
   "source": [
    "## Vectorize the texts to be able to perform LDA"
   ]
  },
  {
   "cell_type": "code",
   "execution_count": 5,
   "id": "19a447fade33a0d8",
   "metadata": {
    "ExecuteTime": {
     "end_time": "2024-04-30T06:12:25.321426Z",
     "start_time": "2024-04-30T06:12:25.219275Z"
    },
    "collapsed": false
   },
   "outputs": [],
   "source": [
    "# Define the CountVectorizer\n",
    "vectorizer = CountVectorizer(max_df=0.95, min_df=2)\n",
    "X_train_vector = vectorizer.fit_transform(X_train)\n",
    "X_val_counts = vectorizer.transform(X_val)\n",
    "X_test_counts = vectorizer.transform(X_test)"
   ]
  },
  {
   "cell_type": "markdown",
   "id": "ddb26ec6",
   "metadata": {},
   "source": [
    "## Perform Latent Dirichlet Allocation on the training set"
   ]
  },
  {
   "cell_type": "code",
   "execution_count": 6,
   "id": "b3548b5c",
   "metadata": {},
   "outputs": [],
   "source": [
    "# N_TOPICS = 10\n",
    "# print(f\"Performing Latent Dirichlet Allocation for {N_TOPICS} topics\")\n",
    "# lda = LatentDirichletAllocation(n_components=N_TOPICS, random_state=RANDOM_SEED)\n",
    "# X_train_topics = lda.fit_transform(X_train_vector)\n",
    "# X_val_topics = lda.transform(X_val_counts)\n",
    "# X_test_topics = lda.transform(X_test_counts)\n",
    "# print(f\"Done performing Latent Dirichlet Allocation for {N_TOPICS} topics\")"
   ]
  },
  {
   "cell_type": "markdown",
   "id": "6a81e423",
   "metadata": {},
   "source": [
    "## Perform Non-negative Matrix Factorization on the training set"
   ]
  },
  {
   "cell_type": "code",
   "execution_count": 7,
   "id": "3cb00e9b0970d904",
   "metadata": {
    "ExecuteTime": {
     "end_time": "2024-04-30T06:12:27.362121Z",
     "start_time": "2024-04-30T06:12:26.236271Z"
    },
    "collapsed": false
   },
   "outputs": [
    {
     "name": "stdout",
     "output_type": "stream",
     "text": [
      "Performing Non-negative Matrix Factorization for 20 topics\n",
      "Done performing Non-negative Matrix Factorization for 20 topics\n"
     ]
    }
   ],
   "source": [
    "N_TOPICS = 20\n",
    "print(f\"Performing Non-negative Matrix Factorization for {N_TOPICS} topics\")\n",
    "nmf = NMF(n_components=N_TOPICS, random_state=RANDOM_SEED)\n",
    "X_train_topics = nmf.fit_transform(X_train_vector)\n",
    "X_val_topics = nmf.transform(X_val_counts)\n",
    "X_test_topics = nmf.transform(X_test_counts)\n",
    "print(f\"Done performing Non-negative Matrix Factorization for {N_TOPICS} topics\")"
   ]
  },
  {
   "cell_type": "markdown",
   "id": "e6269a60",
   "metadata": {},
   "source": [
    "## Search for the best hyperparameters of the Random Forest model"
   ]
  },
  {
   "cell_type": "code",
   "execution_count": 8,
   "id": "943d4cfd",
   "metadata": {},
   "outputs": [],
   "source": [
    "# Define the objective function for Optuna\n",
    "def create_objective(X_train, Y_train, X_test, Y_test):\n",
    "    def objective(trial):\n",
    "        n_estimators = trial.suggest_int(\"n_estimators\", 100, 1000)\n",
    "        rf = RandomForestClassifier(n_estimators=n_estimators, \n",
    "                                    random_state=RANDOM_SEED)\n",
    "        rf.fit(X_train, Y_train)\n",
    "        Y_pred = rf.predict(X_test)\n",
    "        score = accuracy_score(Y_test, Y_pred)\n",
    "        return score\n",
    "    return objective"
   ]
  },
  {
   "cell_type": "code",
   "execution_count": 9,
   "id": "ff871c73",
   "metadata": {},
   "outputs": [
    {
     "name": "stderr",
     "output_type": "stream",
     "text": [
      "[I 2024-04-30 23:29:44,005] A new study created in memory with name: LDA_RF_Pipeline\n",
      "[I 2024-04-30 23:29:52,195] Trial 2 finished with value: 0.6810018903591682 and parameters: {'n_estimators': 250}. Best is trial 2 with value: 0.6810018903591682.\n",
      "[I 2024-04-30 23:29:52,321] Trial 0 finished with value: 0.6814744801512287 and parameters: {'n_estimators': 255}. Best is trial 0 with value: 0.6814744801512287.\n",
      "[I 2024-04-30 23:29:53,839] Trial 3 finished with value: 0.6819470699432892 and parameters: {'n_estimators': 291}. Best is trial 3 with value: 0.6819470699432892.\n",
      "[I 2024-04-30 23:29:55,395] Trial 4 finished with value: 0.6814744801512287 and parameters: {'n_estimators': 335}. Best is trial 3 with value: 0.6819470699432892.\n",
      "[I 2024-04-30 23:29:57,633] Trial 10 finished with value: 0.6810018903591682 and parameters: {'n_estimators': 402}. Best is trial 3 with value: 0.6819470699432892.\n",
      "[I 2024-04-30 23:29:59,008] Trial 7 finished with value: 0.6805293005671077 and parameters: {'n_estimators': 445}. Best is trial 3 with value: 0.6819470699432892.\n",
      "[I 2024-04-30 23:30:01,207] Trial 14 finished with value: 0.6819470699432892 and parameters: {'n_estimators': 207}. Best is trial 3 with value: 0.6819470699432892.\n",
      "[I 2024-04-30 23:30:01,559] Trial 6 finished with value: 0.68265595463138 and parameters: {'n_estimators': 511}. Best is trial 6 with value: 0.68265595463138.\n",
      "[I 2024-04-30 23:30:03,441] Trial 9 finished with value: 0.6805293005671077 and parameters: {'n_estimators': 553}. Best is trial 6 with value: 0.68265595463138.\n",
      "[I 2024-04-30 23:30:05,901] Trial 12 finished with value: 0.6824196597353497 and parameters: {'n_estimators': 382}. Best is trial 6 with value: 0.68265595463138.\n",
      "[I 2024-04-30 23:30:10,645] Trial 15 finished with value: 0.6814744801512287 and parameters: {'n_estimators': 421}. Best is trial 6 with value: 0.68265595463138.\n",
      "[I 2024-04-30 23:30:11,462] Trial 1 finished with value: 0.6793478260869565 and parameters: {'n_estimators': 785}. Best is trial 6 with value: 0.68265595463138.\n",
      "[I 2024-04-30 23:30:12,004] Trial 8 finished with value: 0.6791115311909263 and parameters: {'n_estimators': 812}. Best is trial 6 with value: 0.68265595463138.\n",
      "[I 2024-04-30 23:30:14,427] Trial 5 finished with value: 0.679820415879017 and parameters: {'n_estimators': 915}. Best is trial 6 with value: 0.68265595463138.\n",
      "[I 2024-04-30 23:30:14,798] Trial 11 finished with value: 0.6800567107750473 and parameters: {'n_estimators': 924}. Best is trial 6 with value: 0.68265595463138.\n",
      "[I 2024-04-30 23:30:17,756] Trial 16 finished with value: 0.681710775047259 and parameters: {'n_estimators': 664}. Best is trial 6 with value: 0.68265595463138.\n",
      "[I 2024-04-30 23:30:19,231] Trial 13 finished with value: 0.679820415879017 and parameters: {'n_estimators': 896}. Best is trial 6 with value: 0.68265595463138.\n",
      "[I 2024-04-30 23:30:21,253] Trial 19 finished with value: 0.6812381852551985 and parameters: {'n_estimators': 740}. Best is trial 6 with value: 0.68265595463138.\n",
      "[I 2024-04-30 23:30:24,375] Trial 17 finished with value: 0.679820415879017 and parameters: {'n_estimators': 931}. Best is trial 6 with value: 0.68265595463138.\n",
      "[I 2024-04-30 23:30:24,857] Trial 18 finished with value: 0.6810018903591682 and parameters: {'n_estimators': 946}. Best is trial 6 with value: 0.68265595463138.\n"
     ]
    },
    {
     "name": "stdout",
     "output_type": "stream",
     "text": [
      "Best Accuracy: 0.68265595463138\n",
      "Best hyperparameters: {'n_estimators': 511}\n"
     ]
    }
   ],
   "source": [
    "# Create a study object\n",
    "# study = optuna.create_study(direction=\"maximize\", study_name=f\"LDA_RF_Pipeline\")\n",
    "study = optuna.create_study(direction=\"maximize\", study_name=f\"NMF_RF_Pipeline\")\n",
    "\n",
    "\n",
    "# Create the study objective\n",
    "objective = create_objective(X_train_topics, Y_train, X_val_topics, Y_val)\n",
    "\n",
    "# Execute an optimization\n",
    "study.optimize(objective, n_trials=20, n_jobs=-1)\n",
    "\n",
    "# Print the best trial results\n",
    "print(f\"Best Accuracy: {study.best_trial.value}\")\n",
    "print(f\"Best hyperparameters: {study.best_trial.params}\")"
   ]
  },
  {
   "cell_type": "code",
   "execution_count": 10,
   "id": "7fce6536",
   "metadata": {},
   "outputs": [
    {
     "name": "stdout",
     "output_type": "stream",
     "text": [
      "Best NMF-RF Model Accuracy: 0.6767485822306238\n"
     ]
    }
   ],
   "source": [
    "best_n_estimators = study.best_trial.params[\"n_estimators\"]\n",
    "\n",
    "rf = RandomForestClassifier(n_estimators=best_n_estimators, random_state=RANDOM_SEED)\n",
    "rf.fit(X_train_topics, Y_train)\n",
    "Y_pred = rf.predict(X_test_topics)\n",
    "score = accuracy_score(Y_test, Y_pred)\n",
    "# print(f\"Best LDA-RF Model Accuracy: {score}\")\n",
    "print(f\"Best NMF-RF Model Accuracy: {score}\")"
   ]
  }
 ],
 "metadata": {
  "kernelspec": {
   "display_name": "Python 3",
   "language": "python",
   "name": "python3"
  },
  "language_info": {
   "codemirror_mode": {
    "name": "ipython",
    "version": 3
   },
   "file_extension": ".py",
   "mimetype": "text/x-python",
   "name": "python",
   "nbconvert_exporter": "python",
   "pygments_lexer": "ipython3",
   "version": "3.10.8"
  }
 },
 "nbformat": 4,
 "nbformat_minor": 5
}
