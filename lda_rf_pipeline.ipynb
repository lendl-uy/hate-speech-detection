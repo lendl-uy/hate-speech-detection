{
 "cells": [
  {
   "cell_type": "markdown",
   "id": "0d05c036",
   "metadata": {},
   "source": [
    "# LDA - RF Pipeline "
   ]
  },
  {
   "cell_type": "markdown",
   "id": "778cef84980d4467",
   "metadata": {
    "collapsed": false
   },
   "source": [
    "## Import necessary packages"
   ]
  },
  {
   "cell_type": "code",
   "execution_count": 1,
   "id": "initial_id",
   "metadata": {
    "ExecuteTime": {
     "end_time": "2024-04-29T14:33:04.762823Z",
     "start_time": "2024-04-29T14:33:04.755846Z"
    },
    "collapsed": true
   },
   "outputs": [],
   "source": [
    "import time\n",
    "import optuna\n",
    "import numpy as np\n",
    "from tqdm import tqdm\n",
    "from sklearn.feature_extraction.text import CountVectorizer\n",
    "from sklearn.decomposition import LatentDirichletAllocation\n",
    "from sklearn.model_selection import KFold, train_test_split, cross_val_score\n",
    "from sklearn.metrics import accuracy_score\n",
    "from sklearn.ensemble import RandomForestClassifier\n",
    "from sklearn.pipeline import Pipeline\n",
    "from bitermplus import BTM\n",
    "\n",
    "from datasets import load_dataset"
   ]
  },
  {
   "cell_type": "markdown",
   "id": "14ffafa63beef650",
   "metadata": {
    "collapsed": false
   },
   "source": [
    "## Constants"
   ]
  },
  {
   "cell_type": "code",
   "execution_count": 2,
   "id": "7e92953c8b90f034",
   "metadata": {
    "ExecuteTime": {
     "end_time": "2024-04-29T14:33:04.778163Z",
     "start_time": "2024-04-29T14:33:04.763821Z"
    },
    "collapsed": false
   },
   "outputs": [],
   "source": [
    "RANDOM_SEED = 0"
   ]
  },
  {
   "cell_type": "markdown",
   "id": "b6be051016d14124",
   "metadata": {
    "collapsed": false
   },
   "source": [
    "## Load the Hate Speech Filipino dataset from Hugging Face"
   ]
  },
  {
   "cell_type": "code",
   "execution_count": 3,
   "id": "88b506f040054ff5",
   "metadata": {
    "ExecuteTime": {
     "end_time": "2024-04-29T14:33:09.080159Z",
     "start_time": "2024-04-29T14:33:04.779155Z"
    },
    "collapsed": false
   },
   "outputs": [],
   "source": [
    "dataset = load_dataset(\"hate_speech_filipino\")"
   ]
  },
  {
   "cell_type": "code",
   "execution_count": 4,
   "id": "e4d8361405fe5257",
   "metadata": {
    "collapsed": false
   },
   "outputs": [],
   "source": [
    "train_set = dataset[\"train\"]\n",
    "validation_set = dataset[\"validation\"]\n",
    "test_set = dataset[\"test\"]\n",
    "\n",
    "X_train, Y_train = train_set[\"text\"], train_set[\"label\"]\n",
    "X_val, Y_val = validation_set[\"text\"], validation_set[\"label\"]\n",
    "X_test, Y_test = test_set[\"text\"], test_set[\"label\"]\n",
    "\n",
    "X = X_train + X_val + X_test\n",
    "Y = Y_train + Y_val + Y_test"
   ]
  },
  {
   "cell_type": "code",
   "execution_count": 5,
   "id": "f76bd2607ff0e948",
   "metadata": {},
   "outputs": [],
   "source": [
    "# Re-split the dataset into training, validation, and test sets\n",
    "X_train, X_temp, Y_train, Y_temp = train_test_split(X, Y, test_size=0.2, random_state=RANDOM_SEED)\n",
    "X_val, X_test, Y_val, Y_test = train_test_split(X_temp, Y_temp, test_size=0.5, random_state=RANDOM_SEED)"
   ]
  },
  {
   "cell_type": "markdown",
   "id": "e7c8c684144c6b8a",
   "metadata": {
    "collapsed": false
   },
   "source": [
    "## Vectorize the texts to be able to perform LDA"
   ]
  },
  {
   "cell_type": "code",
   "execution_count": 6,
   "id": "19a447fade33a0d8",
   "metadata": {
    "collapsed": false
   },
   "outputs": [],
   "source": [
    "# Define the CountVectorizer\n",
    "vectorizer = CountVectorizer(max_df=0.95, min_df=2)\n",
    "X_train_vector = vectorizer.fit_transform(X_train)"
   ]
  },
  {
   "cell_type": "markdown",
   "id": "ddb26ec6",
   "metadata": {},
   "source": [
    "## Perform Latent Dirichlet Allocation on the training set"
   ]
  },
  {
   "cell_type": "code",
   "execution_count": 7,
   "id": "b3548b5c",
   "metadata": {},
   "outputs": [
    {
     "name": "stdout",
     "output_type": "stream",
     "text": [
      "Performing Latent Dirichlet Allocation for 10 topics\n",
      "Done performing Latent Dirichlet Allocation for 10 topics\n"
     ]
    }
   ],
   "source": [
    "N_TOPICS = 10\n",
    "print(f\"Performing Latent Dirichlet Allocation for {N_TOPICS} topics\")\n",
    "lda = LatentDirichletAllocation(n_components=N_TOPICS, random_state=RANDOM_SEED)\n",
    "X_train_topics = lda.fit_transform(X_train_vector)\n",
    "print(f\"Done performing Latent Dirichlet Allocation for {N_TOPICS} topics\")"
   ]
  },
  {
   "cell_type": "code",
   "execution_count": 8,
   "id": "5c2b27c4",
   "metadata": {},
   "outputs": [],
   "source": [
    "# Transform validation and test data using the fitted vectorizer and LDA\n",
    "X_val_counts = vectorizer.transform(X_val)\n",
    "X_val_topics = lda.transform(X_val_counts)\n",
    "\n",
    "X_test_counts = vectorizer.transform(X_test)\n",
    "X_test_topics = lda.transform(X_test_counts)"
   ]
  },
  {
   "cell_type": "markdown",
   "id": "e6269a60",
   "metadata": {},
   "source": [
    "## Search for the best hyperparameters of the Random Forest model"
   ]
  },
  {
   "cell_type": "code",
   "execution_count": 13,
   "id": "943d4cfd",
   "metadata": {},
   "outputs": [],
   "source": [
    "# Define the objective function for Optuna\n",
    "def create_objective(X_train, Y_train, X_test, Y_test):\n",
    "    def objective(trial):\n",
    "        n_estimators = trial.suggest_int(\"n_estimators\", 100, 1000)\n",
    "        rf = RandomForestClassifier(n_estimators=n_estimators, random_state=RANDOM_SEED)\n",
    "        rf.fit(X_train, Y_train)\n",
    "        Y_pred = rf.predict(X_test)\n",
    "        score = accuracy_score(Y_test, Y_pred)\n",
    "        return score\n",
    "    return objective"
   ]
  },
  {
   "cell_type": "code",
   "execution_count": 14,
   "id": "ff871c73",
   "metadata": {},
   "outputs": [
    {
     "name": "stderr",
     "output_type": "stream",
     "text": [
      "[I 2024-04-29 23:41:09,972] A new study created in memory with name: LDA_RF_Pipeline\n",
      "[I 2024-04-29 23:41:24,394] Trial 1 finished with value: 0.8497730086669418 and parameters: {'n_estimators': 199}. Best is trial 1 with value: 0.8497730086669418.\n",
      "[I 2024-04-29 23:41:32,720] Trial 10 finished with value: 0.8493602971522906 and parameters: {'n_estimators': 302}. Best is trial 1 with value: 0.8497730086669418.\n",
      "[I 2024-04-29 23:41:38,811] Trial 2 finished with value: 0.8497730086669418 and parameters: {'n_estimators': 373}. Best is trial 1 with value: 0.8497730086669418.\n",
      "[I 2024-04-29 23:41:53,524] Trial 4 finished with value: 0.8514238547255468 and parameters: {'n_estimators': 514}. Best is trial 4 with value: 0.8514238547255468.\n",
      "[I 2024-04-29 23:42:04,880] Trial 7 finished with value: 0.8489475856376393 and parameters: {'n_estimators': 616}. Best is trial 4 with value: 0.8514238547255468.\n",
      "[I 2024-04-29 23:42:10,452] Trial 5 finished with value: 0.8472967395790343 and parameters: {'n_estimators': 658}. Best is trial 4 with value: 0.8514238547255468.\n",
      "[I 2024-04-29 23:42:12,034] Trial 3 finished with value: 0.846884028064383 and parameters: {'n_estimators': 673}. Best is trial 4 with value: 0.8514238547255468.\n",
      "[I 2024-04-29 23:42:19,067] Trial 0 finished with value: 0.8489475856376393 and parameters: {'n_estimators': 755}. Best is trial 4 with value: 0.8514238547255468.\n",
      "[I 2024-04-29 23:42:20,414] Trial 12 finished with value: 0.8489475856376393 and parameters: {'n_estimators': 578}. Best is trial 4 with value: 0.8514238547255468.\n",
      "[I 2024-04-29 23:42:21,143] Trial 11 finished with value: 0.8481221626083367 and parameters: {'n_estimators': 777}. Best is trial 4 with value: 0.8514238547255468.\n",
      "[I 2024-04-29 23:42:24,017] Trial 6 finished with value: 0.8481221626083367 and parameters: {'n_estimators': 822}. Best is trial 4 with value: 0.8514238547255468.\n",
      "[I 2024-04-29 23:42:28,109] Trial 16 finished with value: 0.8477094510936856 and parameters: {'n_estimators': 261}. Best is trial 4 with value: 0.8514238547255468.\n",
      "[I 2024-04-29 23:42:29,966] Trial 8 finished with value: 0.848534874122988 and parameters: {'n_estimators': 913}. Best is trial 4 with value: 0.8514238547255468.\n",
      "[I 2024-04-29 23:42:32,120] Trial 9 finished with value: 0.8481221626083367 and parameters: {'n_estimators': 958}. Best is trial 4 with value: 0.8514238547255468.\n",
      "[I 2024-04-29 23:42:37,716] Trial 13 finished with value: 0.848534874122988 and parameters: {'n_estimators': 769}. Best is trial 4 with value: 0.8514238547255468.\n",
      "[I 2024-04-29 23:42:40,141] Trial 19 finished with value: 0.8497730086669418 and parameters: {'n_estimators': 371}. Best is trial 4 with value: 0.8514238547255468.\n",
      "[I 2024-04-29 23:42:47,595] Trial 14 finished with value: 0.848534874122988 and parameters: {'n_estimators': 912}. Best is trial 4 with value: 0.8514238547255468.\n",
      "[I 2024-04-29 23:42:47,762] Trial 15 finished with value: 0.8489475856376393 and parameters: {'n_estimators': 761}. Best is trial 4 with value: 0.8514238547255468.\n",
      "[I 2024-04-29 23:42:54,174] Trial 17 finished with value: 0.848534874122988 and parameters: {'n_estimators': 762}. Best is trial 4 with value: 0.8514238547255468.\n",
      "[I 2024-04-29 23:42:57,801] Trial 18 finished with value: 0.848534874122988 and parameters: {'n_estimators': 834}. Best is trial 4 with value: 0.8514238547255468.\n"
     ]
    },
    {
     "name": "stdout",
     "output_type": "stream",
     "text": [
      "Best Accuracy: 0.8514238547255468\n",
      "Best hyperparameters: {'n_estimators': 514}\n"
     ]
    }
   ],
   "source": [
    "# Create a study object\n",
    "study = optuna.create_study(direction=\"maximize\", study_name=f\"LDA_RF_Pipeline\")\n",
    "\n",
    "# Create the study objective\n",
    "objective = create_objective(X_train_topics, Y_train, X_val_topics, Y_val)\n",
    "\n",
    "# Execute an optimization\n",
    "study.optimize(objective, n_trials=20, n_jobs=-1)\n",
    "\n",
    "# Print the best trial results\n",
    "print(f\"Best Accuracy: {study.best_trial.value}\")\n",
    "print(f\"Best hyperparameters: {study.best_trial.params}\")"
   ]
  },
  {
   "cell_type": "code",
   "execution_count": 17,
   "id": "7fce6536",
   "metadata": {},
   "outputs": [
    {
     "name": "stdout",
     "output_type": "stream",
     "text": [
      "Best LDA-RF Model Accuracy: 0.8696369636963697\n"
     ]
    }
   ],
   "source": [
    "best_n_estimators = study.best_trial.params[\"n_estimators\"]\n",
    "\n",
    "rf = RandomForestClassifier(n_estimators=best_n_estimators, random_state=RANDOM_SEED)\n",
    "rf.fit(X_train_topics, Y_train)\n",
    "Y_pred = rf.predict(X_test_topics)\n",
    "score = accuracy_score(Y_test, Y_pred)\n",
    "print(f\"Best LDA-RF Model Accuracy: {score}\")"
   ]
  }
 ],
 "metadata": {
  "kernelspec": {
   "display_name": "Python 3",
   "language": "python",
   "name": "python3"
  },
  "language_info": {
   "codemirror_mode": {
    "name": "ipython",
    "version": 3
   },
   "file_extension": ".py",
   "mimetype": "text/x-python",
   "name": "python",
   "nbconvert_exporter": "python",
   "pygments_lexer": "ipython3",
   "version": "3.10.8"
  }
 },
 "nbformat": 4,
 "nbformat_minor": 5
}
