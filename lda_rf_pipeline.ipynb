{
 "cells": [
  {
   "cell_type": "markdown",
   "id": "0d05c036",
   "metadata": {},
   "source": [
    "# LDA - RF Pipeline "
   ]
  },
  {
   "cell_type": "markdown",
   "id": "778cef84980d4467",
   "metadata": {
    "collapsed": false
   },
   "source": [
    "## Import necessary packages"
   ]
  },
  {
   "cell_type": "code",
   "execution_count": 1,
   "id": "initial_id",
   "metadata": {
    "ExecuteTime": {
     "end_time": "2024-04-30T06:12:15.723490Z",
     "start_time": "2024-04-30T06:12:14.266895Z"
    },
    "collapsed": true
   },
   "outputs": [],
   "source": [
    "import time\n",
    "import optuna\n",
    "import numpy as np\n",
    "from tqdm import tqdm\n",
    "from sklearn.feature_extraction.text import CountVectorizer\n",
    "from sklearn.decomposition import LatentDirichletAllocation, NMF\n",
    "from sklearn.model_selection import KFold, train_test_split, cross_val_score\n",
    "from sklearn.metrics import accuracy_score\n",
    "from sklearn.ensemble import RandomForestClassifier\n",
    "from sklearn.pipeline import Pipeline\n",
    "from sklearn.feature_extraction.text import TfidfVectorizer\n",
    "# from bitermplus import BTM\n",
    "\n",
    "from load_dataset import load_dataset"
   ]
  },
  {
   "cell_type": "markdown",
   "id": "14ffafa63beef650",
   "metadata": {
    "collapsed": false
   },
   "source": [
    "## Constants"
   ]
  },
  {
   "cell_type": "code",
   "execution_count": 2,
   "id": "7e92953c8b90f034",
   "metadata": {
    "ExecuteTime": {
     "end_time": "2024-04-30T06:12:15.730647Z",
     "start_time": "2024-04-30T06:12:15.723831Z"
    },
    "collapsed": false
   },
   "outputs": [],
   "source": [
    "RANDOM_SEED = 0\n",
    "DATASET_PATH = \"dataset/hate_speech_filipino_cleaned.pkl\""
   ]
  },
  {
   "cell_type": "markdown",
   "id": "b6be051016d14124",
   "metadata": {
    "collapsed": false
   },
   "source": [
    "## Load the Hate Speech Filipino dataset from Hugging Face"
   ]
  },
  {
   "cell_type": "code",
   "execution_count": 3,
   "id": "88b506f040054ff5",
   "metadata": {
    "ExecuteTime": {
     "end_time": "2024-04-30T06:12:25.180185Z",
     "start_time": "2024-04-30T06:12:16.265426Z"
    },
    "collapsed": false
   },
   "outputs": [
    {
     "name": "stdout",
     "output_type": "stream",
     "text": [
      "Data loaded from dataset/hate_speech_filipino_cleaned.pkl\n"
     ]
    }
   ],
   "source": [
    "X, Y = load_dataset(DATASET_PATH)"
   ]
  },
  {
   "cell_type": "code",
   "execution_count": 4,
   "id": "f76bd2607ff0e948",
   "metadata": {
    "ExecuteTime": {
     "end_time": "2024-04-30T06:12:25.205936Z",
     "start_time": "2024-04-30T06:12:25.196203Z"
    }
   },
   "outputs": [],
   "source": [
    "# Re-split the dataset into training, validation, and test sets\n",
    "X_train, X_temp, Y_train, Y_temp = train_test_split(X, Y, test_size=0.2, random_state=RANDOM_SEED)\n",
    "X_val, X_test, Y_val, Y_test = train_test_split(X_temp, Y_temp, test_size=0.5, random_state=RANDOM_SEED)"
   ]
  },
  {
   "cell_type": "markdown",
   "id": "e7c8c684144c6b8a",
   "metadata": {
    "collapsed": false
   },
   "source": [
    "## Vectorize the texts to be able to perform LDA"
   ]
  },
  {
   "cell_type": "code",
   "execution_count": 5,
   "id": "19a447fade33a0d8",
   "metadata": {
    "ExecuteTime": {
     "end_time": "2024-04-30T06:12:25.321426Z",
     "start_time": "2024-04-30T06:12:25.219275Z"
    },
    "collapsed": false
   },
   "outputs": [],
   "source": [
    "# Define the CountVectorizer\n",
    "vectorizer = CountVectorizer(max_df=0.95, min_df=2)\n",
    "X_train_vector = vectorizer.fit_transform(X_train)\n",
    "X_val_counts = vectorizer.transform(X_val)\n",
    "X_test_counts = vectorizer.transform(X_test)"
   ]
  },
  {
   "cell_type": "markdown",
   "id": "ddb26ec6",
   "metadata": {},
   "source": [
    "## Perform Latent Dirichlet Allocation on the training set"
   ]
  },
  {
   "cell_type": "code",
   "execution_count": 6,
   "id": "b3548b5c",
   "metadata": {},
   "outputs": [
    {
     "name": "stdout",
     "output_type": "stream",
     "text": [
      "Performing Latent Dirichlet Allocation for 10 topics\n",
      "Done performing Latent Dirichlet Allocation for 10 topics\n"
     ]
    }
   ],
   "source": [
    "N_TOPICS = 10\n",
    "print(f\"Performing Latent Dirichlet Allocation for {N_TOPICS} topics\")\n",
    "lda = LatentDirichletAllocation(n_components=N_TOPICS, random_state=RANDOM_SEED)\n",
    "X_train_topics = lda.fit_transform(X_train_vector)\n",
    "X_val_topics = lda.transform(X_val_counts)\n",
    "X_test_topics = lda.transform(X_test_counts)\n",
    "print(f\"Done performing Latent Dirichlet Allocation for {N_TOPICS} topics\")"
   ]
  },
  {
   "cell_type": "markdown",
   "id": "e6269a60",
   "metadata": {},
   "source": [
    "## Search for the best hyperparameters of the Random Forest model"
   ]
  },
  {
   "cell_type": "code",
   "execution_count": 7,
   "id": "943d4cfd",
   "metadata": {},
   "outputs": [],
   "source": [
    "# Define the objective function for Optuna\n",
    "def create_objective(X_train, Y_train, X_test, Y_test):\n",
    "    def objective(trial):\n",
    "        n_estimators = trial.suggest_int(\"n_estimators\", 100, 1000)\n",
    "        rf = RandomForestClassifier(n_estimators=n_estimators, random_state=RANDOM_SEED)\n",
    "        rf.fit(X_train, Y_train)\n",
    "        Y_pred = rf.predict(X_test)\n",
    "        score = accuracy_score(Y_test, Y_pred)\n",
    "        return score\n",
    "    return objective"
   ]
  },
  {
   "cell_type": "code",
   "execution_count": 8,
   "id": "ff871c73",
   "metadata": {},
   "outputs": [
    {
     "name": "stderr",
     "output_type": "stream",
     "text": [
      "[I 2024-04-30 17:47:40,976] A new study created in memory with name: LDA_RF_Pipeline\n",
      "[I 2024-04-30 17:47:53,549] Trial 4 finished with value: 0.8464713165497317 and parameters: {'n_estimators': 171}. Best is trial 4 with value: 0.8464713165497317.\n",
      "[I 2024-04-30 17:47:55,987] Trial 2 finished with value: 0.8460586050350805 and parameters: {'n_estimators': 205}. Best is trial 4 with value: 0.8464713165497317.\n",
      "[I 2024-04-30 17:47:58,812] Trial 0 finished with value: 0.8481221626083367 and parameters: {'n_estimators': 244}. Best is trial 0 with value: 0.8481221626083367.\n",
      "[I 2024-04-30 17:48:00,658] Trial 1 finished with value: 0.8448204704911267 and parameters: {'n_estimators': 270}. Best is trial 0 with value: 0.8481221626083367.\n",
      "[I 2024-04-30 17:48:03,569] Trial 11 finished with value: 0.8477094510936856 and parameters: {'n_estimators': 306}. Best is trial 0 with value: 0.8481221626083367.\n",
      "[I 2024-04-30 17:48:11,974] Trial 16 finished with value: 0.8456458935204292 and parameters: {'n_estimators': 106}. Best is trial 0 with value: 0.8481221626083367.\n",
      "[I 2024-04-30 17:48:12,257] Trial 13 finished with value: 0.8464713165497317 and parameters: {'n_estimators': 213}. Best is trial 0 with value: 0.8481221626083367.\n",
      "[I 2024-04-30 17:48:16,457] Trial 14 finished with value: 0.8456458935204292 and parameters: {'n_estimators': 219}. Best is trial 0 with value: 0.8481221626083367.\n",
      "[I 2024-04-30 17:48:17,278] Trial 10 finished with value: 0.8464713165497317 and parameters: {'n_estimators': 471}. Best is trial 0 with value: 0.8481221626083367.\n",
      "[I 2024-04-30 17:48:21,879] Trial 9 finished with value: 0.8493602971522906 and parameters: {'n_estimators': 529}. Best is trial 9 with value: 0.8493602971522906.\n",
      "[I 2024-04-30 17:48:25,833] Trial 15 finished with value: 0.846884028064383 and parameters: {'n_estimators': 315}. Best is trial 9 with value: 0.8493602971522906.\n",
      "[I 2024-04-30 17:48:27,376] Trial 8 finished with value: 0.8481221626083367 and parameters: {'n_estimators': 604}. Best is trial 9 with value: 0.8493602971522906.\n",
      "[I 2024-04-30 17:48:28,126] Trial 3 finished with value: 0.846884028064383 and parameters: {'n_estimators': 617}. Best is trial 9 with value: 0.8493602971522906.\n",
      "[I 2024-04-30 17:48:41,635] Trial 5 finished with value: 0.8477094510936856 and parameters: {'n_estimators': 849}. Best is trial 9 with value: 0.8493602971522906.\n",
      "[I 2024-04-30 17:48:43,799] Trial 7 finished with value: 0.8477094510936856 and parameters: {'n_estimators': 903}. Best is trial 9 with value: 0.8493602971522906.\n",
      "[I 2024-04-30 17:48:45,895] Trial 6 finished with value: 0.8489475856376393 and parameters: {'n_estimators': 931}. Best is trial 9 with value: 0.8493602971522906.\n",
      "[I 2024-04-30 17:48:46,703] Trial 12 finished with value: 0.848534874122988 and parameters: {'n_estimators': 781}. Best is trial 9 with value: 0.8493602971522906.\n",
      "[I 2024-04-30 17:48:51,350] Trial 18 finished with value: 0.848534874122988 and parameters: {'n_estimators': 641}. Best is trial 9 with value: 0.8493602971522906.\n",
      "[I 2024-04-30 17:49:01,526] Trial 19 finished with value: 0.848534874122988 and parameters: {'n_estimators': 806}. Best is trial 9 with value: 0.8493602971522906.\n",
      "[I 2024-04-30 17:49:03,206] Trial 17 finished with value: 0.8481221626083367 and parameters: {'n_estimators': 896}. Best is trial 9 with value: 0.8493602971522906.\n"
     ]
    },
    {
     "name": "stdout",
     "output_type": "stream",
     "text": [
      "Best Accuracy: 0.8493602971522906\n",
      "Best hyperparameters: {'n_estimators': 529}\n"
     ]
    }
   ],
   "source": [
    "# Create a study object\n",
    "study = optuna.create_study(direction=\"maximize\", study_name=f\"LDA_RF_Pipeline\")\n",
    "\n",
    "# Create the study objective\n",
    "objective = create_objective(X_train_topics, Y_train, X_val_topics, Y_val)\n",
    "\n",
    "# Execute an optimization\n",
    "study.optimize(objective, n_trials=20, n_jobs=-1)\n",
    "\n",
    "# Print the best trial results\n",
    "print(f\"Best Accuracy: {study.best_trial.value}\")\n",
    "print(f\"Best hyperparameters: {study.best_trial.params}\")"
   ]
  },
  {
   "cell_type": "code",
   "execution_count": 9,
   "id": "7fce6536",
   "metadata": {},
   "outputs": [
    {
     "name": "stdout",
     "output_type": "stream",
     "text": [
      "Best LDA-RF Model Accuracy: 0.8683993399339934\n"
     ]
    }
   ],
   "source": [
    "best_n_estimators = study.best_trial.params[\"n_estimators\"]\n",
    "\n",
    "rf = RandomForestClassifier(n_estimators=best_n_estimators, random_state=RANDOM_SEED)\n",
    "rf.fit(X_train_topics, Y_train)\n",
    "Y_pred = rf.predict(X_test_topics)\n",
    "score = accuracy_score(Y_test, Y_pred)\n",
    "print(f\"Best LDA-RF Model Accuracy: {score}\")"
   ]
  },
  {
   "cell_type": "code",
   "execution_count": 10,
   "id": "3cb00e9b0970d904",
   "metadata": {
    "ExecuteTime": {
     "end_time": "2024-04-30T06:12:27.362121Z",
     "start_time": "2024-04-30T06:12:26.236271Z"
    },
    "collapsed": false
   },
   "outputs": [
    {
     "name": "stdout",
     "output_type": "stream",
     "text": [
      "Performing Non-negative Matrix Factorization for 20 topics\n",
      "Done performing Non-negative Matrix Factorization for 20 topics\n"
     ]
    }
   ],
   "source": [
    "N_TOPICS = 20\n",
    "print(f\"Performing Non-negative Matrix Factorization for {N_TOPICS} topics\")\n",
    "nmf = NMF(n_components=N_TOPICS, random_state=RANDOM_SEED)\n",
    "X_train_topics = nmf.fit_transform(X_train_vector)\n",
    "X_val_topics = nmf.transform(X_val_counts)\n",
    "X_test_topics = nmf.transform(X_test_counts)\n",
    "print(f\"Done performing Non-negative Matrix Factorization for {N_TOPICS} topics\")"
   ]
  },
  {
   "cell_type": "code",
   "execution_count": 11,
   "id": "115e2227741f015b",
   "metadata": {
    "ExecuteTime": {
     "end_time": "2024-04-30T06:12:40.058451Z",
     "start_time": "2024-04-30T06:12:27.852021Z"
    },
    "collapsed": false
   },
   "outputs": [
    {
     "name": "stdout",
     "output_type": "stream",
     "text": [
      "Best NMF-RF Model Accuracy: 0.8704620462046204\n"
     ]
    }
   ],
   "source": [
    "rf = RandomForestClassifier(n_estimators=169, random_state=RANDOM_SEED)\n",
    "rf.fit(X_train_topics, Y_train)\n",
    "Y_pred = rf.predict(X_test_topics)\n",
    "score = accuracy_score(Y_test, Y_pred)\n",
    "print(f\"Best NMF-RF Model Accuracy: {score}\")"
   ]
  },
  {
   "cell_type": "code",
   "execution_count": 12,
   "id": "8c798a7c86fcdf4",
   "metadata": {
    "ExecuteTime": {
     "end_time": "2024-04-30T06:28:08.692361Z",
     "start_time": "2024-04-30T06:25:12.560002Z"
    },
    "collapsed": false
   },
   "outputs": [
    {
     "name": "stdout",
     "output_type": "stream",
     "text": [
      "Performing Non-negative Matrix Factorization for 10 topics\n",
      "Done performing Non-negative Matrix Factorization for 10 topics\n",
      "Best NMF-RF Model Accuracy for 10 topics: 0.8663366336633663\n",
      "Performing Non-negative Matrix Factorization for 11 topics\n",
      "Done performing Non-negative Matrix Factorization for 11 topics\n",
      "Best NMF-RF Model Accuracy for 11 topics: 0.8572607260726073\n",
      "Performing Non-negative Matrix Factorization for 12 topics\n",
      "Done performing Non-negative Matrix Factorization for 12 topics\n",
      "Best NMF-RF Model Accuracy for 12 topics: 0.8696369636963697\n",
      "Performing Non-negative Matrix Factorization for 13 topics\n",
      "Done performing Non-negative Matrix Factorization for 13 topics\n",
      "Best NMF-RF Model Accuracy for 13 topics: 0.865924092409241\n",
      "Performing Non-negative Matrix Factorization for 14 topics\n",
      "Done performing Non-negative Matrix Factorization for 14 topics\n",
      "Best NMF-RF Model Accuracy for 14 topics: 0.8679867986798679\n",
      "Performing Non-negative Matrix Factorization for 15 topics\n",
      "Done performing Non-negative Matrix Factorization for 15 topics\n",
      "Best NMF-RF Model Accuracy for 15 topics: 0.8712871287128713\n",
      "Performing Non-negative Matrix Factorization for 16 topics\n",
      "Done performing Non-negative Matrix Factorization for 16 topics\n",
      "Best NMF-RF Model Accuracy for 16 topics: 0.8688118811881188\n",
      "Performing Non-negative Matrix Factorization for 17 topics\n",
      "Done performing Non-negative Matrix Factorization for 17 topics\n",
      "Best NMF-RF Model Accuracy for 17 topics: 0.8721122112211221\n",
      "Performing Non-negative Matrix Factorization for 18 topics\n",
      "Done performing Non-negative Matrix Factorization for 18 topics\n",
      "Best NMF-RF Model Accuracy for 18 topics: 0.875\n",
      "Performing Non-negative Matrix Factorization for 19 topics\n",
      "Done performing Non-negative Matrix Factorization for 19 topics\n",
      "Best NMF-RF Model Accuracy for 19 topics: 0.8725247524752475\n",
      "Performing Non-negative Matrix Factorization for 20 topics\n",
      "Done performing Non-negative Matrix Factorization for 20 topics\n",
      "Best NMF-RF Model Accuracy for 20 topics: 0.8729372937293729\n"
     ]
    }
   ],
   "source": [
    "topics_values = [i for i in range(10, 21)]\n",
    "for topic in topics_values:\n",
    "    print(f\"Performing Non-negative Matrix Factorization for {topic} topics\")\n",
    "    nmf = NMF(n_components=topic, random_state=RANDOM_SEED)\n",
    "    X_train_topics = nmf.fit_transform(X_train_vector)\n",
    "    print(f\"Done performing Non-negative Matrix Factorization for {topic} topics\")\n",
    "    \n",
    "    # Transform validation and test data using the fitted vectorizer and LDA\n",
    "    X_val_counts = vectorizer.transform(X_val)\n",
    "    X_val_topics = nmf.transform(X_val_counts)\n",
    "    \n",
    "    X_test_counts = vectorizer.transform(X_test)\n",
    "    X_test_topics = nmf.transform(X_test_counts)\n",
    "    \n",
    "    rf = RandomForestClassifier(n_estimators=514, random_state=RANDOM_SEED)\n",
    "    rf.fit(X_train_topics, Y_train)\n",
    "    Y_pred = rf.predict(X_test_topics)\n",
    "    score = accuracy_score(Y_test, Y_pred)\n",
    "    print(f\"Best NMF-RF Model Accuracy for {topic} topics: {score}\")"
   ]
  }
 ],
 "metadata": {
  "kernelspec": {
   "display_name": "Python 3",
   "language": "python",
   "name": "python3"
  },
  "language_info": {
   "codemirror_mode": {
    "name": "ipython",
    "version": 3
   },
   "file_extension": ".py",
   "mimetype": "text/x-python",
   "name": "python",
   "nbconvert_exporter": "python",
   "pygments_lexer": "ipython3",
   "version": "3.10.8"
  }
 },
 "nbformat": 4,
 "nbformat_minor": 5
}
