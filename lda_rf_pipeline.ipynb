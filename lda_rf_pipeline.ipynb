{
 "cells": [
  {
   "cell_type": "markdown",
   "id": "0d05c036",
   "metadata": {},
   "source": [
    "# LDA - RF Pipeline "
   ]
  },
  {
   "cell_type": "markdown",
   "id": "778cef84980d4467",
   "metadata": {
    "collapsed": false
   },
   "source": [
    "## Import necessary packages"
   ]
  },
  {
   "cell_type": "code",
   "execution_count": null,
   "id": "initial_id",
   "metadata": {
    "ExecuteTime": {
     "end_time": "2024-04-30T06:12:15.723490Z",
     "start_time": "2024-04-30T06:12:14.266895Z"
    },
    "collapsed": true
   },
   "outputs": [],
   "source": [
    "import time\n",
    "import optuna\n",
    "import numpy as np\n",
    "from tqdm import tqdm\n",
    "from sklearn.feature_extraction.text import CountVectorizer\n",
    "from sklearn.decomposition import NMF\n",
    "from sklearn.model_selection import train_test_split\n",
    "from sklearn.metrics import accuracy_score, f1_score\n",
    "from sklearn.pipeline import Pipeline\n",
    "from sklearn.ensemble import RandomForestClassifier\n",
    "# from bitermplus import BTM\n",
    "\n",
    "from dataset.dataset import Dataset\n",
    "from constants import CLEANED_DATASET_PATH"
   ]
  },
  {
   "cell_type": "markdown",
   "id": "14ffafa63beef650",
   "metadata": {
    "collapsed": false
   },
   "source": [
    "## Constants"
   ]
  },
  {
   "cell_type": "code",
   "execution_count": null,
   "id": "7e92953c8b90f034",
   "metadata": {
    "ExecuteTime": {
     "end_time": "2024-04-30T06:12:15.730647Z",
     "start_time": "2024-04-30T06:12:15.723831Z"
    },
    "collapsed": false
   },
   "outputs": [],
   "source": [
    "RANDOM_SEED = 0"
   ]
  },
  {
   "cell_type": "markdown",
   "id": "b6be051016d14124",
   "metadata": {
    "collapsed": false
   },
   "source": [
    "## Load the Hate Speech Filipino dataset from Hugging Face"
   ]
  },
  {
   "cell_type": "code",
   "execution_count": null,
   "id": "88b506f040054ff5",
   "metadata": {
    "ExecuteTime": {
     "end_time": "2024-04-30T06:12:25.180185Z",
     "start_time": "2024-04-30T06:12:16.265426Z"
    },
    "collapsed": false
   },
   "outputs": [],
   "source": [
    "dataset = Dataset(full_data_path=CLEANED_DATASET_PATH,\n",
    "                  from_scratch=False,\n",
    "                  split_sizes=[10000, 4232, 4232])\n",
    "dataset.build()\n",
    "\n",
    "X_train = dataset.get_features(split_type=\"train\")\n",
    "Y_train = dataset.get_labels(split_type=\"train\")\n",
    "X_val = dataset.get_features(split_type=\"val\")\n",
    "Y_val = dataset.get_labels(split_type=\"val\")\n",
    "X_test = dataset.get_features(split_type=\"test\")\n",
    "Y_test = dataset.get_labels(split_type=\"test\")"
   ]
  },
  {
   "cell_type": "code",
   "execution_count": null,
   "id": "f76bd2607ff0e948",
   "metadata": {
    "ExecuteTime": {
     "end_time": "2024-04-30T06:12:25.205936Z",
     "start_time": "2024-04-30T06:12:25.196203Z"
    }
   },
   "outputs": [],
   "source": [
    "# Re-split the dataset into training, validation, and test sets\n",
    "# X_train, X_temp, Y_train, Y_temp = train_test_split(X, Y, test_size=0.2, random_state=RANDOM_SEED)\n",
    "# X_val, X_test, Y_val, Y_test = train_test_split(X_temp, Y_temp, test_size=0.5, random_state=RANDOM_SEED)"
   ]
  },
  {
   "cell_type": "markdown",
   "id": "e7c8c684144c6b8a",
   "metadata": {
    "collapsed": false
   },
   "source": [
    "## Classifier Only Pipeline"
   ]
  },
  {
   "cell_type": "code",
   "execution_count": null,
   "id": "19a447fade33a0d8",
   "metadata": {
    "ExecuteTime": {
     "end_time": "2024-04-30T06:12:25.321426Z",
     "start_time": "2024-04-30T06:12:25.219275Z"
    },
    "collapsed": false
   },
   "outputs": [],
   "source": [
    "def create_objective(X_train, Y_train, X_test, Y_test, random_seed):\n",
    "    def objective(trial):\n",
    "        # Suggest values for the hyperparameters\n",
    "        n_estimators = trial.suggest_int(\"n_estimators\", 100, 1000)\n",
    "\n",
    "        # Create the pipeline within the trial\n",
    "        pipeline = Pipeline([\n",
    "            (\"vectorizer\", CountVectorizer(max_df=0.95, min_df=2)),\n",
    "            (\"rf\", RandomForestClassifier(n_estimators=n_estimators, random_state=random_seed))\n",
    "        ])\n",
    "\n",
    "        # Fit the pipeline\n",
    "        pipeline.fit(X_train, Y_train)\n",
    "\n",
    "        # Evaluate the pipeline\n",
    "        Y_pred = pipeline.predict(X_test)\n",
    "        accuracy = accuracy_score(Y_test, Y_pred)\n",
    "        return accuracy\n",
    "\n",
    "    return objective"
   ]
  },
  {
   "cell_type": "code",
   "execution_count": null,
   "id": "2d8659d6",
   "metadata": {},
   "outputs": [],
   "source": [
    "# Create the objective function\n",
    "objective = create_objective(X_train, Y_train, X_val, Y_val, RANDOM_SEED)\n",
    "\n",
    "# Create an Optuna study object\n",
    "study = optuna.create_study(direction=\"maximize\", study_name=f\"RF_Pipeline\")\n",
    "\n",
    "# Execute an optimization by running trials\n",
    "study.optimize(objective, n_trials=50, n_jobs=-1)\n",
    "\n",
    "best_rf_params = study.best_trial.params\n",
    "\n",
    "# Best trial result\n",
    "print(f\"Best training accuracy: {study.best_trial.value}\")\n",
    "print(f\"Best training hyperparameters: {best_rf_params}\")"
   ]
  },
  {
   "cell_type": "code",
   "execution_count": null,
   "id": "7396c3db",
   "metadata": {},
   "outputs": [],
   "source": [
    "# Create and fit the pipeline\n",
    "pipeline = Pipeline([\n",
    "    (\"vectorizer\", CountVectorizer(max_df=0.95, min_df=2)),\n",
    "    (\"rf\", RandomForestClassifier(n_estimators=best_rf_params[\"n_estimators\"], \n",
    "                                  random_state=RANDOM_SEED))\n",
    "])\n",
    "\n",
    "# Fit the pipeline\n",
    "pipeline.fit(X_train, Y_train)\n",
    "\n",
    "# Evaluate the pipeline\n",
    "Y_pred = pipeline.predict(X_test)\n",
    "accuracy = accuracy_score(Y_test, Y_pred)\n",
    "f1 = f1_score(Y_test, Y_pred)\n",
    "\n",
    "# Best testing result\n",
    "print(f\"Best test accuracy: {study.best_trial.value}\")\n",
    "print(f\"Best test hyperparameters: {study.best_trial.params}\")"
   ]
  },
  {
   "cell_type": "markdown",
   "id": "951e2e63",
   "metadata": {},
   "source": [
    "## NMF-RF Pipeline"
   ]
  },
  {
   "cell_type": "code",
   "execution_count": null,
   "id": "68688f72",
   "metadata": {},
   "outputs": [],
   "source": [
    "def create_objective(X_train, Y_train, X_test, Y_test, best_rf_params, random_seed):\n",
    "    def objective(trial):\n",
    "        # Suggest values for the hyperparameters\n",
    "        n_topics = trial.suggest_int(\"n_topics\", 50, 300)\n",
    "\n",
    "        # Create the pipeline within the trial\n",
    "        pipeline = Pipeline([\n",
    "            (\"vectorizer\", CountVectorizer(max_df=0.95, min_df=2)),\n",
    "            (\"nmf\", NMF(n_components=n_topics, random_state=random_seed)),\n",
    "            (\"rf\", RandomForestClassifier(n_estimators=best_rf_params[\"n_estimators\"], \n",
    "                                          random_state=random_seed))\n",
    "        ])\n",
    "\n",
    "        # Fit the pipeline\n",
    "        pipeline.fit(X_train, Y_train)\n",
    "\n",
    "        # Evaluate the pipeline\n",
    "        Y_pred = pipeline.predict(X_test)\n",
    "        accuracy = accuracy_score(Y_test, Y_pred)\n",
    "        return accuracy\n",
    "\n",
    "    return objective"
   ]
  },
  {
   "cell_type": "code",
   "execution_count": null,
   "id": "b3548b5c",
   "metadata": {},
   "outputs": [],
   "source": [
    "# Create the objective function\n",
    "objective = create_objective(X_train, Y_train, X_val, Y_val, best_rf_params, RANDOM_SEED)\n",
    "\n",
    "# Create an Optuna study object\n",
    "study = optuna.create_study(direction=\"maximize\", study_name=f\"RF_Pipeline\")\n",
    "\n",
    "# Execute an optimization by running trials\n",
    "study.optimize(objective, n_trials=50, n_jobs=-1)\n",
    "\n",
    "best_nmf_params = study.best_trial.params\n",
    "\n",
    "# Best trial result\n",
    "print(f\"Best training accuracy: {study.best_trial.value}\")\n",
    "print(f\"Best training hyperparameters: {best_nmf_params}\")"
   ]
  },
  {
   "cell_type": "code",
   "execution_count": null,
   "id": "a8270024",
   "metadata": {},
   "outputs": [],
   "source": [
    "# Create and fit the pipeline\n",
    "pipeline = Pipeline([\n",
    "    (\"vectorizer\", CountVectorizer(max_df=0.95, min_df=2)),\n",
    "    (\"nmf\", NMF(n_components=best_nmf_params[\"n_topics\"], \n",
    "                random_state=RANDOM_SEED)),\n",
    "    (\"rf\", RandomForestClassifier(n_estimators=best_rf_params[\"n_estimators\"], \n",
    "                                  random_state=RANDOM_SEED))\n",
    "])\n",
    "\n",
    "# Fit the pipeline\n",
    "pipeline.fit(X_train, Y_train)\n",
    "\n",
    "# Evaluate the pipeline\n",
    "Y_pred = pipeline.predict(X_test)\n",
    "accuracy = accuracy_score(Y_test, Y_pred)\n",
    "f1 = f1_score(Y_test, Y_pred)\n",
    "\n",
    "# Best testing result\n",
    "print(f\"Best test accuracy: {study.best_trial.value}\")\n",
    "print(f\"Best test hyperparameters: {study.best_trial.params}\")"
   ]
  }
 ],
 "metadata": {
  "kernelspec": {
   "display_name": "Python 3",
   "language": "python",
   "name": "python3"
  },
  "language_info": {
   "codemirror_mode": {
    "name": "ipython",
    "version": 3
   },
   "file_extension": ".py",
   "mimetype": "text/x-python",
   "name": "python",
   "nbconvert_exporter": "python",
   "pygments_lexer": "ipython3",
   "version": "3.10.8"
  }
 },
 "nbformat": 4,
 "nbformat_minor": 5
}
