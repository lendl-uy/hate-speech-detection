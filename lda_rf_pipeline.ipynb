{
 "cells": [
  {
   "cell_type": "markdown",
   "id": "0d05c036",
   "metadata": {},
   "source": [
    "# LDA - RF Pipeline "
   ]
  },
  {
   "cell_type": "markdown",
   "id": "778cef84980d4467",
   "metadata": {
    "collapsed": false
   },
   "source": [
    "## Import necessary packages"
   ]
  },
  {
   "cell_type": "code",
   "execution_count": 1,
   "id": "initial_id",
   "metadata": {
    "ExecuteTime": {
     "end_time": "2024-04-30T06:12:15.723490Z",
     "start_time": "2024-04-30T06:12:14.266895Z"
    },
    "collapsed": true
   },
   "outputs": [],
   "source": [
    "import time\n",
    "import optuna\n",
    "import numpy as np\n",
    "from tqdm import tqdm\n",
    "from sklearn.feature_extraction.text import CountVectorizer\n",
    "from sklearn.decomposition import LatentDirichletAllocation, NMF\n",
    "from sklearn.model_selection import train_test_split\n",
    "from sklearn.metrics import accuracy_score\n",
    "from sklearn.ensemble import RandomForestClassifier\n",
    "# from bitermplus import BTM\n",
    "\n",
    "from dataset.dataset import Dataset\n",
    "from constants import CLEANED_DATASET_PATH"
   ]
  },
  {
   "cell_type": "markdown",
   "id": "14ffafa63beef650",
   "metadata": {
    "collapsed": false
   },
   "source": [
    "## Constants"
   ]
  },
  {
   "cell_type": "code",
   "execution_count": 2,
   "id": "7e92953c8b90f034",
   "metadata": {
    "ExecuteTime": {
     "end_time": "2024-04-30T06:12:15.730647Z",
     "start_time": "2024-04-30T06:12:15.723831Z"
    },
    "collapsed": false
   },
   "outputs": [],
   "source": [
    "RANDOM_SEED = 0"
   ]
  },
  {
   "cell_type": "markdown",
   "id": "b6be051016d14124",
   "metadata": {
    "collapsed": false
   },
   "source": [
    "## Load the Hate Speech Filipino dataset from Hugging Face"
   ]
  },
  {
   "cell_type": "code",
   "execution_count": 3,
   "id": "88b506f040054ff5",
   "metadata": {
    "ExecuteTime": {
     "end_time": "2024-04-30T06:12:25.180185Z",
     "start_time": "2024-04-30T06:12:16.265426Z"
    },
    "collapsed": false
   },
   "outputs": [
    {
     "name": "stdout",
     "output_type": "stream",
     "text": [
      "Data loaded from dataset/cleaned_dataset.pkl\n"
     ]
    }
   ],
   "source": [
    "dataset = Dataset()\n",
    "X, Y = dataset.load_from_file(CLEANED_DATASET_PATH)"
   ]
  },
  {
   "cell_type": "code",
   "execution_count": 4,
   "id": "f76bd2607ff0e948",
   "metadata": {
    "ExecuteTime": {
     "end_time": "2024-04-30T06:12:25.205936Z",
     "start_time": "2024-04-30T06:12:25.196203Z"
    }
   },
   "outputs": [],
   "source": [
    "# Re-split the dataset into training, validation, and test sets\n",
    "X_train, X_temp, Y_train, Y_temp = train_test_split(X, Y, test_size=0.2, random_state=RANDOM_SEED)\n",
    "X_val, X_test, Y_val, Y_test = train_test_split(X_temp, Y_temp, test_size=0.5, random_state=RANDOM_SEED)"
   ]
  },
  {
   "cell_type": "markdown",
   "id": "e7c8c684144c6b8a",
   "metadata": {
    "collapsed": false
   },
   "source": [
    "## Vectorize the texts to be able to perform LDA"
   ]
  },
  {
   "cell_type": "code",
   "execution_count": 5,
   "id": "19a447fade33a0d8",
   "metadata": {
    "ExecuteTime": {
     "end_time": "2024-04-30T06:12:25.321426Z",
     "start_time": "2024-04-30T06:12:25.219275Z"
    },
    "collapsed": false
   },
   "outputs": [],
   "source": [
    "# Define the CountVectorizer\n",
    "vectorizer = CountVectorizer(max_df=0.95, min_df=2)\n",
    "X_train_vector = vectorizer.fit_transform(X_train)\n",
    "X_val_counts = vectorizer.transform(X_val)\n",
    "X_test_counts = vectorizer.transform(X_test)"
   ]
  },
  {
   "cell_type": "markdown",
   "id": "ddb26ec6",
   "metadata": {},
   "source": [
    "## Perform Latent Dirichlet Allocation on the training set"
   ]
  },
  {
   "cell_type": "code",
   "execution_count": 6,
   "id": "b3548b5c",
   "metadata": {},
   "outputs": [
    {
     "name": "stdout",
     "output_type": "stream",
     "text": [
      "Performing Latent Dirichlet Allocation for 10 topics\n",
      "Done performing Latent Dirichlet Allocation for 10 topics\n"
     ]
    }
   ],
   "source": [
    "N_TOPICS = 10\n",
    "print(f\"Performing Latent Dirichlet Allocation for {N_TOPICS} topics\")\n",
    "lda = LatentDirichletAllocation(n_components=N_TOPICS, random_state=RANDOM_SEED)\n",
    "X_train_topics = lda.fit_transform(X_train_vector)\n",
    "X_val_topics = lda.transform(X_val_counts)\n",
    "X_test_topics = lda.transform(X_test_counts)\n",
    "print(f\"Done performing Latent Dirichlet Allocation for {N_TOPICS} topics\")"
   ]
  },
  {
   "cell_type": "markdown",
   "id": "e6269a60",
   "metadata": {},
   "source": [
    "## Search for the best hyperparameters of the Random Forest model"
   ]
  },
  {
   "cell_type": "code",
   "execution_count": 7,
   "id": "943d4cfd",
   "metadata": {},
   "outputs": [],
   "source": [
    "# Define the objective function for Optuna\n",
    "def create_objective(X_train, Y_train, X_test, Y_test):\n",
    "    def objective(trial):\n",
    "        n_estimators = trial.suggest_int(\"n_estimators\", 100, 1000)\n",
    "        rf = RandomForestClassifier(n_estimators=n_estimators, \n",
    "                                    random_state=RANDOM_SEED)\n",
    "        rf.fit(X_train, Y_train)\n",
    "        Y_pred = rf.predict(X_test)\n",
    "        score = accuracy_score(Y_test, Y_pred)\n",
    "        return score\n",
    "    return objective"
   ]
  },
  {
   "cell_type": "code",
   "execution_count": 8,
   "id": "ff871c73",
   "metadata": {},
   "outputs": [
    {
     "name": "stderr",
     "output_type": "stream",
     "text": [
      "[I 2024-04-30 21:52:10,086] A new study created in memory with name: LDA_RF_Pipeline\n",
      "[I 2024-04-30 21:52:17,109] Trial 0 finished with value: 0.6500541711809318 and parameters: {'n_estimators': 116}. Best is trial 0 with value: 0.6500541711809318.\n",
      "[I 2024-04-30 21:52:18,732] Trial 9 finished with value: 0.6516793066088841 and parameters: {'n_estimators': 138}. Best is trial 9 with value: 0.6516793066088841.\n",
      "[I 2024-04-30 21:52:19,855] Trial 10 finished with value: 0.652762730227519 and parameters: {'n_estimators': 161}. Best is trial 10 with value: 0.652762730227519.\n",
      "[I 2024-04-30 21:52:25,193] Trial 1 finished with value: 0.6446370530877573 and parameters: {'n_estimators': 253}. Best is trial 10 with value: 0.652762730227519.\n",
      "[I 2024-04-30 21:52:26,817] Trial 3 finished with value: 0.6440953412784398 and parameters: {'n_estimators': 276}. Best is trial 10 with value: 0.652762730227519.\n",
      "[I 2024-04-30 21:52:37,563] Trial 13 finished with value: 0.6462621885157096 and parameters: {'n_estimators': 307}. Best is trial 10 with value: 0.652762730227519.\n",
      "[I 2024-04-30 21:52:45,191] Trial 17 finished with value: 0.6511375947995667 and parameters: {'n_estimators': 111}. Best is trial 10 with value: 0.652762730227519.\n",
      "[I 2024-04-30 21:52:49,697] Trial 11 finished with value: 0.6468039003250271 and parameters: {'n_estimators': 625}. Best is trial 10 with value: 0.652762730227519.\n",
      "[I 2024-04-30 21:52:54,197] Trial 14 finished with value: 0.6473456121343445 and parameters: {'n_estimators': 512}. Best is trial 10 with value: 0.652762730227519.\n",
      "[I 2024-04-30 21:53:00,994] Trial 16 finished with value: 0.6489707475622969 and parameters: {'n_estimators': 487}. Best is trial 10 with value: 0.652762730227519.\n",
      "[I 2024-04-30 21:53:04,040] Trial 12 finished with value: 0.6462621885157096 and parameters: {'n_estimators': 701}. Best is trial 10 with value: 0.652762730227519.\n",
      "[I 2024-04-30 21:53:06,227] Trial 6 finished with value: 0.6489707475622969 and parameters: {'n_estimators': 850}. Best is trial 10 with value: 0.652762730227519.\n",
      "[I 2024-04-30 21:53:07,820] Trial 8 finished with value: 0.6473456121343445 and parameters: {'n_estimators': 874}. Best is trial 10 with value: 0.652762730227519.\n",
      "[I 2024-04-30 21:53:08,323] Trial 19 finished with value: 0.6451787648970747 and parameters: {'n_estimators': 257}. Best is trial 10 with value: 0.652762730227519.\n",
      "[I 2024-04-30 21:53:08,555] Trial 4 finished with value: 0.6468039003250271 and parameters: {'n_estimators': 885}. Best is trial 10 with value: 0.652762730227519.\n",
      "[I 2024-04-30 21:53:09,592] Trial 7 finished with value: 0.6462621885157096 and parameters: {'n_estimators': 900}. Best is trial 10 with value: 0.652762730227519.\n",
      "[I 2024-04-30 21:53:10,341] Trial 5 finished with value: 0.6451787648970747 and parameters: {'n_estimators': 936}. Best is trial 10 with value: 0.652762730227519.\n",
      "[I 2024-04-30 21:53:10,701] Trial 18 finished with value: 0.6473456121343445 and parameters: {'n_estimators': 370}. Best is trial 10 with value: 0.652762730227519.\n",
      "[I 2024-04-30 21:53:11,871] Trial 2 finished with value: 0.6462621885157096 and parameters: {'n_estimators': 969}. Best is trial 10 with value: 0.652762730227519.\n",
      "[I 2024-04-30 21:53:20,947] Trial 15 finished with value: 0.6473456121343445 and parameters: {'n_estimators': 978}. Best is trial 10 with value: 0.652762730227519.\n"
     ]
    },
    {
     "name": "stdout",
     "output_type": "stream",
     "text": [
      "Best Accuracy: 0.652762730227519\n",
      "Best hyperparameters: {'n_estimators': 161}\n"
     ]
    }
   ],
   "source": [
    "# Create a study object\n",
    "study = optuna.create_study(direction=\"maximize\", study_name=f\"LDA_RF_Pipeline\")\n",
    "\n",
    "# Create the study objective\n",
    "objective = create_objective(X_train_topics, Y_train, X_val_topics, Y_val)\n",
    "\n",
    "# Execute an optimization\n",
    "study.optimize(objective, n_trials=20, n_jobs=-1)\n",
    "\n",
    "# Print the best trial results\n",
    "print(f\"Best Accuracy: {study.best_trial.value}\")\n",
    "print(f\"Best hyperparameters: {study.best_trial.params}\")"
   ]
  },
  {
   "cell_type": "code",
   "execution_count": 9,
   "id": "7fce6536",
   "metadata": {},
   "outputs": [
    {
     "name": "stdout",
     "output_type": "stream",
     "text": [
      "Best LDA-RF Model Accuracy: 0.6497022198159177\n"
     ]
    }
   ],
   "source": [
    "best_n_estimators = study.best_trial.params[\"n_estimators\"]\n",
    "\n",
    "rf = RandomForestClassifier(n_estimators=best_n_estimators, random_state=RANDOM_SEED)\n",
    "rf.fit(X_train_topics, Y_train)\n",
    "Y_pred = rf.predict(X_test_topics)\n",
    "score = accuracy_score(Y_test, Y_pred)\n",
    "print(f\"Best LDA-RF Model Accuracy: {score}\")"
   ]
  },
  {
   "cell_type": "code",
   "execution_count": 12,
   "id": "3cb00e9b0970d904",
   "metadata": {
    "ExecuteTime": {
     "end_time": "2024-04-30T06:12:27.362121Z",
     "start_time": "2024-04-30T06:12:26.236271Z"
    },
    "collapsed": false
   },
   "outputs": [
    {
     "name": "stdout",
     "output_type": "stream",
     "text": [
      "Performing Non-negative Matrix Factorization for 20 topics\n",
      "Done performing Non-negative Matrix Factorization for 20 topics\n"
     ]
    }
   ],
   "source": [
    "N_TOPICS = 20\n",
    "print(f\"Performing Non-negative Matrix Factorization for {N_TOPICS} topics\")\n",
    "nmf = NMF(n_components=N_TOPICS, random_state=RANDOM_SEED)\n",
    "X_train_topics = nmf.fit_transform(X_train_vector)\n",
    "X_val_topics = nmf.transform(X_val_counts)\n",
    "X_test_topics = nmf.transform(X_test_counts)\n",
    "print(f\"Done performing Non-negative Matrix Factorization for {N_TOPICS} topics\")"
   ]
  },
  {
   "cell_type": "code",
   "execution_count": 13,
   "id": "115e2227741f015b",
   "metadata": {
    "ExecuteTime": {
     "end_time": "2024-04-30T06:12:40.058451Z",
     "start_time": "2024-04-30T06:12:27.852021Z"
    },
    "collapsed": false
   },
   "outputs": [
    {
     "name": "stdout",
     "output_type": "stream",
     "text": [
      "Best NMF-RF Model Accuracy: 0.6940985381700054\n"
     ]
    }
   ],
   "source": [
    "rf = RandomForestClassifier(n_estimators=best_n_estimators, \n",
    "                            random_state=RANDOM_SEED)\n",
    "rf.fit(X_train_topics, Y_train)\n",
    "Y_pred = rf.predict(X_test_topics)\n",
    "score = accuracy_score(Y_test, Y_pred)\n",
    "print(f\"Best NMF-RF Model Accuracy: {score}\")"
   ]
  }
 ],
 "metadata": {
  "kernelspec": {
   "display_name": "Python 3",
   "language": "python",
   "name": "python3"
  },
  "language_info": {
   "codemirror_mode": {
    "name": "ipython",
    "version": 3
   },
   "file_extension": ".py",
   "mimetype": "text/x-python",
   "name": "python",
   "nbconvert_exporter": "python",
   "pygments_lexer": "ipython3",
   "version": "3.10.8"
  }
 },
 "nbformat": 4,
 "nbformat_minor": 5
}
