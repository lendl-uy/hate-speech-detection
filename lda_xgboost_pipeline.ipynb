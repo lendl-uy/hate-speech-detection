{
 "cells": [
  {
   "cell_type": "markdown",
   "id": "30c48592",
   "metadata": {},
   "source": [
    "# LDA - XGBoost Pipeline "
   ]
  },
  {
   "cell_type": "markdown",
   "id": "778cef84980d4467",
   "metadata": {
    "collapsed": false
   },
   "source": [
    "## Import necessary packages"
   ]
  },
  {
   "cell_type": "code",
   "execution_count": 2,
   "id": "initial_id",
   "metadata": {
    "ExecuteTime": {
     "end_time": "2024-04-30T06:15:34.266840Z",
     "start_time": "2024-04-30T06:15:34.253920Z"
    },
    "collapsed": true
   },
   "outputs": [],
   "source": [
    "import time\n",
    "import optuna\n",
    "import numpy as np\n",
    "import xgboost as xgb\n",
    "from sklearn.feature_extraction.text import CountVectorizer\n",
    "from sklearn.decomposition import NMF\n",
    "from sklearn.model_selection import train_test_split\n",
    "from sklearn.metrics import accuracy_score, f1_score\n",
    "from sklearn.pipeline import Pipeline\n",
    "\n",
    "from dataset.dataset import Dataset\n",
    "from constants import CLEANED_DATASET_PATH"
   ]
  },
  {
   "cell_type": "markdown",
   "id": "14ffafa63beef650",
   "metadata": {
    "collapsed": false
   },
   "source": [
    "## Constants"
   ]
  },
  {
   "cell_type": "code",
   "execution_count": 3,
   "id": "7e92953c8b90f034",
   "metadata": {
    "ExecuteTime": {
     "end_time": "2024-04-30T06:15:35.143992Z",
     "start_time": "2024-04-30T06:15:35.093759Z"
    },
    "collapsed": false
   },
   "outputs": [],
   "source": [
    "RANDOM_SEED = 0"
   ]
  },
  {
   "cell_type": "markdown",
   "id": "b6be051016d14124",
   "metadata": {
    "collapsed": false
   },
   "source": [
    "## Load the Hate Speech Filipino dataset from Hugging Face"
   ]
  },
  {
   "cell_type": "code",
   "execution_count": 4,
   "id": "88b506f040054ff5",
   "metadata": {
    "ExecuteTime": {
     "end_time": "2024-04-30T06:15:47.281786Z",
     "start_time": "2024-04-30T06:15:35.782572Z"
    },
    "collapsed": false
   },
   "outputs": [
    {
     "name": "stdout",
     "output_type": "stream",
     "text": [
      "Data loaded from dataset/cleaned_dataset.pkl\n"
     ]
    }
   ],
   "source": [
    "dataset = Dataset(full_data_path=CLEANED_DATASET_PATH,\n",
    "                  from_scratch=False,\n",
    "                  split_sizes=[10000, 4232, 4232])\n",
    "dataset.build()\n",
    "\n",
    "X_train = dataset.get_features(split_type=\"train\")\n",
    "Y_train = dataset.get_labels(split_type=\"train\")\n",
    "X_val = dataset.get_features(split_type=\"val\")\n",
    "Y_val = dataset.get_labels(split_type=\"val\")\n",
    "X_test = dataset.get_features(split_type=\"test\")\n",
    "Y_test = dataset.get_labels(split_type=\"test\")"
   ]
  },
  {
   "cell_type": "code",
   "execution_count": 4,
   "id": "e592255b",
   "metadata": {
    "ExecuteTime": {
     "end_time": "2024-04-30T06:15:47.339678Z",
     "start_time": "2024-04-30T06:15:47.320434Z"
    }
   },
   "outputs": [],
   "source": [
    "# Re-split the dataset into training, validation, and test sets\n",
    "# X_train, X_temp, Y_train, Y_temp = train_test_split(X, Y, test_size=0.2, random_state=RANDOM_SEED)\n",
    "# X_val, X_test, Y_val, Y_test = train_test_split(X_temp, Y_temp, test_size=0.5, random_state=RANDOM_SEED)"
   ]
  },
  {
   "cell_type": "markdown",
   "id": "e7c8c684144c6b8a",
   "metadata": {
    "collapsed": false
   },
   "source": [
    "## Classifier Only Pipeline"
   ]
  },
  {
   "cell_type": "code",
   "execution_count": 8,
   "id": "56546fb8",
   "metadata": {},
   "outputs": [],
   "source": [
    "# Define the objective function for Optuna\n",
    "def create_objective(X_train, Y_train, X_test, Y_test):\n",
    "    def objective(trial):\n",
    "        # Suggest values for the hyperparameters\n",
    "        n_estimators = trial.suggest_int(\"n_estimators\", 100, 1000)\n",
    "        learning_rate = trial.suggest_float(\"learning_rate\", 1e-4, 1e-2)\n",
    "        max_depth = trial.suggest_int(\"max_depth\", 3, 20)\n",
    "        subsample = trial.suggest_float(\"subsample\", 0.5, 1.0)\n",
    "        colsample_bytree = trial.suggest_float(\"colsample_bytree\", 0.5, 1.0)\n",
    "\n",
    "        # Create an XGBoost classifier model with suggested parameters\n",
    "        model = xgb.XGBClassifier(\n",
    "            objective=\"binary:logistic\",\n",
    "            n_estimators=n_estimators,    # Number of trees\n",
    "            learning_rate=learning_rate,  # Learning rate\n",
    "            max_depth=max_depth,          # Depth of the trees\n",
    "            subsample=subsample,          # Subsampling of the training instances\n",
    "            colsample_bytree=colsample_bytree,  # Subsampling of columns for each tree\n",
    "            seed=RANDOM_SEED,             # Seed for reproducibility\n",
    "            use_label_encoder=False,      # Disable label encoder warning\n",
    "            eval_metric=\"logloss\")\n",
    "        \n",
    "        # Create the pipeline within the trial\n",
    "        pipeline = Pipeline([\n",
    "            (\"vectorizer\", CountVectorizer(max_df=0.95, min_df=2)),\n",
    "            (\"gbt\", model)\n",
    "        ])\n",
    "\n",
    "        # Fit the model on the training data\n",
    "        model.fit(X_train, Y_train)\n",
    "\n",
    "        # Predict the labels on the test set\n",
    "        Y_pred = model.predict(X_test)\n",
    "\n",
    "        # Calculate the accuracy\n",
    "        accuracy = accuracy_score(Y_test, Y_pred)\n",
    "        return accuracy\n",
    "    return objective"
   ]
  },
  {
   "cell_type": "code",
   "execution_count": null,
   "id": "eaf73d30",
   "metadata": {},
   "outputs": [],
   "source": [
    "# Create the objective function\n",
    "objective = create_objective(X_train, Y_train, X_val, Y_val, RANDOM_SEED)\n",
    "\n",
    "# Create an Optuna study object\n",
    "study = optuna.create_study(direction=\"maximize\", study_name=f\"XGB_Pipeline\")\n",
    "\n",
    "# Execute an optimization by running trials\n",
    "study.optimize(objective, n_trials=50, n_jobs=-1)\n",
    "\n",
    "best_xgb_params = study.best_trial.params\n",
    "\n",
    "# Best trial result\n",
    "print(f\"Best training accuracy: {study.best_trial.value}\")\n",
    "print(f\"Best training hyperparameters: {best_xgb_params}\")"
   ]
  },
  {
   "cell_type": "code",
   "execution_count": null,
   "id": "ed3acd75",
   "metadata": {},
   "outputs": [],
   "source": [
    "# Create an XGBoost classifier model with suggested parameters\n",
    "model = xgb.XGBClassifier(\n",
    "    objective=\"binary:logistic\",\n",
    "    n_estimators=best_xgb_params[\"n_estimators\"],    # Number of trees\n",
    "    learning_rate=best_xgb_params[\"learning_rate\"],  # Learning rate\n",
    "    max_depth=best_xgb_params[\"max_depth\"],          # Depth of the trees\n",
    "    subsample=best_xgb_params[\"subsample\"],          # Subsampling of the training instances\n",
    "    colsample_bytree=best_xgb_params[\"colsample_bytree\"],  # Subsampling of columns for each tree\n",
    "    seed=RANDOM_SEED,             # Seed for reproducibility\n",
    "    use_label_encoder=False,      # Disable label encoder warning\n",
    "    eval_metric=\"logloss\")\n",
    "\n",
    "# Create the pipeline within the trial\n",
    "pipeline = Pipeline([\n",
    "    (\"vectorizer\", CountVectorizer(max_df=0.95, min_df=2)),\n",
    "    (\"gbt\", model)\n",
    "])\n",
    "\n",
    "# Fit the model on the training data\n",
    "model.fit(X_train, Y_train)\n",
    "\n",
    "# Predict the labels on the test set\n",
    "Y_pred = model.predict(X_test)\n",
    "accuracy = accuracy_score(Y_test, Y_pred)\n",
    "f1 = f1_score(Y_test, Y_pred)\n",
    "\n",
    "# Best testing result\n",
    "print(f\"Best test accuracy: {study.best_trial.value}\")\n",
    "print(f\"Best test hyperparameters: {study.best_trial.params}\")"
   ]
  },
  {
   "cell_type": "markdown",
   "id": "7fe3b6dc",
   "metadata": {},
   "source": [
    "## NMF-XGB Pipeline"
   ]
  },
  {
   "cell_type": "code",
   "execution_count": 9,
   "id": "0e2efd2c",
   "metadata": {},
   "outputs": [
    {
     "name": "stderr",
     "output_type": "stream",
     "text": [
      "[I 2024-04-30 23:30:47,894] A new study created in memory with name: LDA_XGBoost_Pipeline\n",
      "[I 2024-04-30 23:30:57,445] Trial 3 finished with value: 0.6027882797731569 and parameters: {'n_estimators': 207, 'learning_rate': 0.0008820168556655033, 'max_depth': 7, 'subsample': 0.5921306411205443, 'colsample_bytree': 0.6469691352327644}. Best is trial 3 with value: 0.6027882797731569.\n",
      "[I 2024-04-30 23:31:01,378] Trial 11 finished with value: 0.6784026465028355 and parameters: {'n_estimators': 257, 'learning_rate': 0.004176049323972921, 'max_depth': 8, 'subsample': 0.9829841975557365, 'colsample_bytree': 0.5606966638435017}. Best is trial 11 with value: 0.6784026465028355.\n",
      "[I 2024-04-30 23:31:06,002] Trial 2 finished with value: 0.6838374291115312 and parameters: {'n_estimators': 271, 'learning_rate': 0.004818178657155203, 'max_depth': 10, 'subsample': 0.6218578186581494, 'colsample_bytree': 0.6300211479070421}. Best is trial 2 with value: 0.6838374291115312.\n",
      "[I 2024-04-30 23:31:08,806] Trial 12 finished with value: 0.666351606805293 and parameters: {'n_estimators': 429, 'learning_rate': 0.001980478274502772, 'max_depth': 4, 'subsample': 0.715059584185437, 'colsample_bytree': 0.8162066877558122}. Best is trial 2 with value: 0.6838374291115312.\n",
      "[I 2024-04-30 23:31:10,128] Trial 9 finished with value: 0.6630434782608695 and parameters: {'n_estimators': 815, 'learning_rate': 0.001025540254396415, 'max_depth': 4, 'subsample': 0.9727245488387499, 'colsample_bytree': 0.9257262106974278}. Best is trial 2 with value: 0.6838374291115312.\n",
      "[I 2024-04-30 23:31:18,630] Trial 5 finished with value: 0.6833648393194707 and parameters: {'n_estimators': 421, 'learning_rate': 0.007032357921339239, 'max_depth': 11, 'subsample': 0.5592881452219185, 'colsample_bytree': 0.9859389553201308}. Best is trial 2 with value: 0.6838374291115312.\n",
      "[I 2024-04-30 23:31:19,951] Trial 6 finished with value: 0.6850189035916824 and parameters: {'n_estimators': 433, 'learning_rate': 0.004076273184532463, 'max_depth': 11, 'subsample': 0.5829336902349922, 'colsample_bytree': 0.5664662899546588}. Best is trial 6 with value: 0.6850189035916824.\n",
      "[I 2024-04-30 23:31:20,679] Trial 15 finished with value: 0.6760396975425331 and parameters: {'n_estimators': 110, 'learning_rate': 0.006398464570016648, 'max_depth': 14, 'subsample': 0.7129377063998632, 'colsample_bytree': 0.7469159698635461}. Best is trial 6 with value: 0.6850189035916824.\n",
      "[I 2024-04-30 23:31:25,778] Trial 18 finished with value: 0.6517013232514177 and parameters: {'n_estimators': 212, 'learning_rate': 0.0014915280507428832, 'max_depth': 4, 'subsample': 0.5008154650408048, 'colsample_bytree': 0.8338328893554537}. Best is trial 6 with value: 0.6850189035916824.\n",
      "[I 2024-04-30 23:31:31,439] Trial 7 finished with value: 0.6866729678638941 and parameters: {'n_estimators': 538, 'learning_rate': 0.005369262373720238, 'max_depth': 12, 'subsample': 0.7538188814682288, 'colsample_bytree': 0.5681588674515927}. Best is trial 7 with value: 0.6866729678638941.\n",
      "[I 2024-04-30 23:31:34,997] Trial 10 finished with value: 0.678875236294896 and parameters: {'n_estimators': 501, 'learning_rate': 0.008924155121754977, 'max_depth': 14, 'subsample': 0.815460362655909, 'colsample_bytree': 0.8391912133739121}. Best is trial 7 with value: 0.6866729678638941.\n",
      "[I 2024-04-30 23:31:39,961] Trial 19 finished with value: 0.6762759924385633 and parameters: {'n_estimators': 301, 'learning_rate': 0.008717159098672989, 'max_depth': 11, 'subsample': 0.5570998001251743, 'colsample_bytree': 0.8775977132839101}. Best is trial 7 with value: 0.6866729678638941.\n",
      "[I 2024-04-30 23:31:42,249] Trial 14 finished with value: 0.6774574669187146 and parameters: {'n_estimators': 866, 'learning_rate': 0.005176955668604445, 'max_depth': 7, 'subsample': 0.9215639584255124, 'colsample_bytree': 0.6373548406506119}. Best is trial 7 with value: 0.6866729678638941.\n",
      "[I 2024-04-30 23:31:48,410] Trial 17 finished with value: 0.6852551984877127 and parameters: {'n_estimators': 475, 'learning_rate': 0.0077704474425487205, 'max_depth': 12, 'subsample': 0.9919545363577612, 'colsample_bytree': 0.5149934937186542}. Best is trial 7 with value: 0.6866729678638941.\n",
      "[I 2024-04-30 23:31:49,558] Trial 16 finished with value: 0.6767485822306238 and parameters: {'n_estimators': 714, 'learning_rate': 0.001203990732358598, 'max_depth': 10, 'subsample': 0.6462482227951116, 'colsample_bytree': 0.8374516953274692}. Best is trial 7 with value: 0.6866729678638941.\n",
      "[I 2024-04-30 23:31:53,094] Trial 0 finished with value: 0.6762759924385633 and parameters: {'n_estimators': 577, 'learning_rate': 0.0029448811634379, 'max_depth': 20, 'subsample': 0.6977287589077534, 'colsample_bytree': 0.7073311471163215}. Best is trial 7 with value: 0.6866729678638941.\n",
      "[I 2024-04-30 23:31:53,953] Trial 4 finished with value: 0.6843100189035917 and parameters: {'n_estimators': 715, 'learning_rate': 0.009929757707457436, 'max_depth': 18, 'subsample': 0.6479250615457204, 'colsample_bytree': 0.51938457239105}. Best is trial 7 with value: 0.6866729678638941.\n",
      "[I 2024-04-30 23:32:00,918] Trial 1 finished with value: 0.6774574669187146 and parameters: {'n_estimators': 895, 'learning_rate': 0.0074320363114036845, 'max_depth': 19, 'subsample': 0.8136580559014603, 'colsample_bytree': 0.9322463268548086}. Best is trial 7 with value: 0.6866729678638941.\n",
      "[I 2024-04-30 23:32:03,442] Trial 8 finished with value: 0.6821833648393195 and parameters: {'n_estimators': 987, 'learning_rate': 0.0013724606769698602, 'max_depth': 17, 'subsample': 0.8562809232883393, 'colsample_bytree': 0.5155952621693595}. Best is trial 7 with value: 0.6866729678638941.\n",
      "[I 2024-04-30 23:32:04,609] Trial 13 finished with value: 0.6821833648393195 and parameters: {'n_estimators': 975, 'learning_rate': 0.004157855552836688, 'max_depth': 19, 'subsample': 0.6896451143115079, 'colsample_bytree': 0.9042356239258573}. Best is trial 7 with value: 0.6866729678638941.\n"
     ]
    },
    {
     "name": "stdout",
     "output_type": "stream",
     "text": [
      "Best Accuracy: 0.6866729678638941\n",
      "Best hyperparameters: {'n_estimators': 538, 'learning_rate': 0.005369262373720238, 'max_depth': 12, 'subsample': 0.7538188814682288, 'colsample_bytree': 0.5681588674515927}\n"
     ]
    }
   ],
   "source": [
    "# Define the objective function for Optuna\n",
    "def create_objective(X_train, Y_train, X_test, Y_test, best_xgb_params, random_seed):\n",
    "    def objective(trial):\n",
    "        # Suggest values for the hyperparameters\n",
    "        n_topics = trial.suggest_int(\"n_topics\", 50, 300)\n",
    "\n",
    "        # Create an XGBoost classifier model with suggested parameters\n",
    "        model = xgb.XGBClassifier(\n",
    "            objective=\"binary:logistic\",\n",
    "            n_estimators=best_xgb_params[\"n_estimators\"],    # Number of trees\n",
    "            learning_rate=best_xgb_params[\"learning_rate\"],  # Learning rate\n",
    "            max_depth=best_xgb_params[\"max_depth\"],          # Depth of the trees\n",
    "            subsample=best_xgb_params[\"subsample\"],          # Subsampling of the training instances\n",
    "            colsample_bytree=best_xgb_params[\"colsample_bytree\"],  # Subsampling of columns for each tree\n",
    "            seed=random_seed,             # Seed for reproducibility\n",
    "            use_label_encoder=False,      # Disable label encoder warning\n",
    "            eval_metric=\"logloss\")\n",
    "        \n",
    "        # Create the pipeline within the trial\n",
    "        pipeline = Pipeline([\n",
    "            (\"vectorizer\", CountVectorizer(max_df=0.95, min_df=2)),\n",
    "            (\"nmf\", NMF(n_components=n_topics, random_state=random_seed)),\n",
    "            (\"gbt\", model)\n",
    "        ])\n",
    "\n",
    "        # Fit the model on the training data\n",
    "        model.fit(X_train, Y_train)\n",
    "\n",
    "        # Predict the labels on the test set\n",
    "        Y_pred = model.predict(X_test)\n",
    "\n",
    "        # Calculate the accuracy\n",
    "        accuracy = accuracy_score(Y_test, Y_pred)\n",
    "        return accuracy\n",
    "    return objective"
   ]
  },
  {
   "cell_type": "code",
   "execution_count": 10,
   "id": "42ac769e",
   "metadata": {},
   "outputs": [
    {
     "name": "stdout",
     "output_type": "stream",
     "text": [
      "Best NMF-XGBoost Model Accuracy: 0.655718336483932\n"
     ]
    }
   ],
   "source": [
    "# Create the objective function\n",
    "objective = create_objective(X_train, Y_train, X_val, Y_val, best_xgb_params, RANDOM_SEED)\n",
    "\n",
    "# Create an Optuna study object\n",
    "study = optuna.create_study(direction=\"maximize\", study_name=f\"XGB_Pipeline\")\n",
    "\n",
    "# Execute an optimization by running trials\n",
    "study.optimize(objective, n_trials=50, n_jobs=-1)\n",
    "\n",
    "best_nmf_params = study.best_trial.params\n",
    "\n",
    "# Best trial result\n",
    "print(f\"Best training accuracy: {study.best_trial.value}\")\n",
    "print(f\"Best training hyperparameters: {best_nmf_params}\")"
   ]
  },
  {
   "cell_type": "code",
   "execution_count": null,
   "id": "56fb4bee",
   "metadata": {},
   "outputs": [],
   "source": [
    "# Create an XGBoost classifier model with suggested parameters\n",
    "model = xgb.XGBClassifier(\n",
    "    objective=\"binary:logistic\",\n",
    "    n_estimators=best_xgb_params[\"n_estimators\"],    # Number of trees\n",
    "    learning_rate=best_xgb_params[\"learning_rate\"],  # Learning rate\n",
    "    max_depth=best_xgb_params[\"max_depth\"],          # Depth of the trees\n",
    "    subsample=best_xgb_params[\"subsample\"],          # Subsampling of the training instances\n",
    "    colsample_bytree=best_xgb_params[\"colsample_bytree\"],  # Subsampling of columns for each tree\n",
    "    seed=RANDOM_SEED,             # Seed for reproducibility\n",
    "    use_label_encoder=False,      # Disable label encoder warning\n",
    "    eval_metric=\"logloss\")\n",
    "\n",
    "# Create the pipeline within the trial\n",
    "pipeline = Pipeline([\n",
    "    (\"vectorizer\", CountVectorizer(max_df=0.95, min_df=2)),\n",
    "    (\"nmf\", NMF(n_components=best_nmf_params[\"n_topics\"], \n",
    "                random_state=RANDOM_SEED)),\n",
    "    (\"gbt\", model)\n",
    "])\n",
    "\n",
    "# Fit the model on the training data\n",
    "model.fit(X_train, Y_train)\n",
    "\n",
    "# Predict the labels on the test set\n",
    "Y_pred = model.predict(X_test)\n",
    "accuracy = accuracy_score(Y_test, Y_pred)\n",
    "f1 = f1_score(Y_test, Y_pred)\n",
    "\n",
    "# Best testing result\n",
    "print(f\"Best test accuracy: {study.best_trial.value}\")\n",
    "print(f\"Best test hyperparameters: {study.best_trial.params}\")"
   ]
  }
 ],
 "metadata": {
  "kernelspec": {
   "display_name": "Python 3",
   "language": "python",
   "name": "python3"
  },
  "language_info": {
   "codemirror_mode": {
    "name": "ipython",
    "version": 3
   },
   "file_extension": ".py",
   "mimetype": "text/x-python",
   "name": "python",
   "nbconvert_exporter": "python",
   "pygments_lexer": "ipython3",
   "version": "3.10.8"
  }
 },
 "nbformat": 4,
 "nbformat_minor": 5
}
