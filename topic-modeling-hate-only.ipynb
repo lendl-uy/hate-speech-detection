{
 "cells": [
  {
   "cell_type": "markdown",
   "metadata": {},
   "source": [
    "# Topic Modeling on Tweets with Hate Speech"
   ]
  },
  {
   "cell_type": "code",
   "execution_count": 30,
   "metadata": {},
   "outputs": [],
   "source": [
    "import numpy as np\n",
    "\n",
    "from dataset.dataset import Dataset\n",
    "from constants import *\n",
    "\n",
    "from gensim.models import Nmf, TfidfModel\n",
    "from gensim.test.utils import common_texts\n",
    "from gensim.corpora.dictionary import Dictionary\n",
    "from gensim.models.coherencemodel import CoherenceModel"
   ]
  },
  {
   "cell_type": "code",
   "execution_count": 2,
   "metadata": {},
   "outputs": [],
   "source": [
    "RANDOM_SEED = 0"
   ]
  },
  {
   "cell_type": "code",
   "execution_count": 3,
   "metadata": {},
   "outputs": [
    {
     "name": "stdout",
     "output_type": "stream",
     "text": [
      "Data loaded from dataset/cleaned_dataset.pkl\n"
     ]
    }
   ],
   "source": [
    "dataset = Dataset(full_data_path=CLEANED_DATASET_PATH,\n",
    "                  from_scratch=False,\n",
    "                  split_sizes=split_sizes_cleaned)\n",
    "dataset.build()\n",
    "\n",
    "X_train = dataset.get_features(split_type=\"train\")\n",
    "Y_train = dataset.get_labels(split_type=\"train\")\n",
    "X_val = dataset.get_features(split_type=\"val\")\n",
    "Y_val = dataset.get_labels(split_type=\"val\")\n",
    "X_test = dataset.get_features(split_type=\"test\")\n",
    "Y_test = dataset.get_labels(split_type=\"test\")"
   ]
  },
  {
   "cell_type": "markdown",
   "metadata": {},
   "source": [
    "## TFIDF + NMF using Gensim"
   ]
  },
  {
   "cell_type": "code",
   "execution_count": 15,
   "metadata": {},
   "outputs": [],
   "source": [
    "X_train = np.array(X_train)\n",
    "Y_train = np.array(Y_train)\n",
    "X_train_hate = X_train[Y_train == 1]\n",
    "X_train_hate_tokenized = [sentence.split() for sentence in X_train_hate]"
   ]
  },
  {
   "cell_type": "code",
   "execution_count": 38,
   "metadata": {},
   "outputs": [],
   "source": [
    "dct = Dictionary(X_train_hate_tokenized)\n",
    "corpus = [dct.doc2bow(text) for text in X_train_hate_tokenized]"
   ]
  },
  {
   "cell_type": "code",
   "execution_count": 23,
   "metadata": {},
   "outputs": [],
   "source": [
    "# Fit TFIDF Model\n",
    "model = TfidfModel(corpus)\n",
    "X_train_hate_tfidf = [model[corpus_bow] for corpus_bow in corpus]"
   ]
  },
  {
   "cell_type": "code",
   "execution_count": 53,
   "metadata": {},
   "outputs": [],
   "source": [
    "# Fit NMF Model\n",
    "nmf = Nmf(X_train_hate_tfidf, num_topics = 10)\n",
    "hate_topics_per_tweet = nmf.get_document_topics(bow=X_train_hate_tfidf, normalize=True)"
   ]
  },
  {
   "cell_type": "code",
   "execution_count": 54,
   "metadata": {},
   "outputs": [],
   "source": [
    "hate_topics = nmf.show_topics(num_topics=10,num_words=10,normalize=True)"
   ]
  },
  {
   "cell_type": "code",
   "execution_count": 60,
   "metadata": {},
   "outputs": [],
   "source": [
    "topics_with_score = nmf.top_topics(corpus=X_train_hate_tfidf, texts=X_train_hate_tokenized, dictionary=dct, window_size=None, coherence='u_mass', topn=10, processes=-1)"
   ]
  },
  {
   "cell_type": "code",
   "execution_count": 77,
   "metadata": {},
   "outputs": [],
   "source": [
    "for j in range(10):\n",
    "    for i in range(10):\n",
    "        topics_with_score[j][0][i] = list(topics_with_score[j][0][i])\n",
    "        word_id = int(topics_with_score[j][0][i][1])\n",
    "        word = dct.get(word_id)\n",
    "        topics_with_score[j][0][i][1] = word\n",
    "    "
   ]
  },
  {
   "cell_type": "code",
   "execution_count": 78,
   "metadata": {},
   "outputs": [
    {
     "data": {
      "text/plain": [
       "[([[0.032076789927225235, 'nognog'],\n",
       "   [0.031182506455621317, 'ad'],\n",
       "   [0.016756622746141626, 'tv'],\n",
       "   [0.016321195907105897, 'pandak'],\n",
       "   [0.012547773072852257, 'binay'],\n",
       "   [0.011298152539111221, 'nung'],\n",
       "   [0.011259820641336668, 'campaign'],\n",
       "   [0.00902197463244003, 'tangina'],\n",
       "   [0.008907872594437889, 'ads'],\n",
       "   [0.0076647133151455035, 'hahahaha']],\n",
       "  -4.426310562091763),\n",
       " ([[0.03420426970510757, 'commercial'],\n",
       "   [0.019761264829294408, 'nako'],\n",
       "   [0.019159798423454028, 'hay'],\n",
       "   [0.014745585400393781, 'hahaha'],\n",
       "   [0.014201001220966975, 'puta'],\n",
       "   [0.011350157757941966, 'ha'],\n",
       "   [0.010143296159668731, 'nognog'],\n",
       "   [0.010018815754758235, 'binay'],\n",
       "   [0.008113258725498472, 'grabe'],\n",
       "   [0.008099476277440518, 'vp']],\n",
       "  -5.115252430149921),\n",
       " ([[0.023018250901399306, 'talaga'],\n",
       "   [0.009781646169791111, 'mo'],\n",
       "   [0.009459497811197384, 'mar'],\n",
       "   [0.009099935512251148, 'eh'],\n",
       "   [0.008335307016861063, 'po'],\n",
       "   [0.007319312629563542, 'oh'],\n",
       "   [0.007105989659676381, 'bobo'],\n",
       "   [0.006747650669337335, 'totoo'],\n",
       "   [0.006596705678623224, 'political'],\n",
       "   [0.006446224682621153, 'roxas']],\n",
       "  -5.508076810844866),\n",
       " ([[0.03186794284026813, 'duterte'],\n",
       "   [0.018334845272683826, 'miriam'],\n",
       "   [0.013085651541745066, 'wtf'],\n",
       "   [0.012895601122866628, 'poe'],\n",
       "   [0.010900979955088444, 'tsk'],\n",
       "   [0.009688197026051396, 'santiago'],\n",
       "   [0.008778193906492855, 'roxas'],\n",
       "   [0.0073383746341065224, 'niyo'],\n",
       "   [0.006677515932221578, 'mayor'],\n",
       "   [0.005940064416124079, 'grabe']],\n",
       "  -5.707848046740931),\n",
       " ([[0.025764075792904045, 'desperate'],\n",
       "   [0.01774392000692861, 'poe'],\n",
       "   [0.014853668839840595, 'duterte'],\n",
       "   [0.012415085578445532, 'president'],\n",
       "   [0.012102462397649043, 'puro'],\n",
       "   [0.009642984365311523, 'grace'],\n",
       "   [0.009444336293097759, 'roxas'],\n",
       "   [0.008815906661980198, 'win'],\n",
       "   [0.008403397152889144, 'laki'],\n",
       "   [0.00792560318722598, 'mar']],\n",
       "  -5.834774717816558),\n",
       " ([[0.014402601799026034, 'vote'],\n",
       "   [0.013490034355505267, 'mo'],\n",
       "   [0.013015795317286229, 'fuck'],\n",
       "   [0.010547707457996889, 'wala'],\n",
       "   [0.00964683810005759, 'please'],\n",
       "   [0.00942120119475333, 'mar'],\n",
       "   [0.008308220779637483, 'roxas'],\n",
       "   [0.0074270633405385, 'us'],\n",
       "   [0.006595723434360537, 'makati'],\n",
       "   [0.006436945566635162, 'corruption']],\n",
       "  -5.980904954373849),\n",
       " ([[0.03807459087669097, 'mo'],\n",
       "   [0.012843850529288253, 'ad'],\n",
       "   [0.011743356437585601, 'nognog'],\n",
       "   [0.010140562222136695, 'haha'],\n",
       "   [0.009424662072211664, 'kang'],\n",
       "   [0.009347711089079341, 'binay'],\n",
       "   [0.009284686243564726, 'nakakainis'],\n",
       "   [0.008495346645059798, 'ulol'],\n",
       "   [0.008137596905697392, 'pilipinasdebates2016'],\n",
       "   [0.0059528691513230595, 'tangina']],\n",
       "  -6.864019491205775),\n",
       " ([[0.022427458509389323, 'nog'],\n",
       "   [0.017552095180252247, 'poe'],\n",
       "   [0.014348877207391869, 'grace'],\n",
       "   [0.01258051028279057, 'manalo'],\n",
       "   [0.01157027418380466, 'mar'],\n",
       "   [0.011286996982527903, 'nakakairita'],\n",
       "   [0.010069700227413717, 'po'],\n",
       "   [0.009840353085097056, 'shut'],\n",
       "   [0.009409160317826874, 'pilipinasdebates2016'],\n",
       "   [0.009139263785118854, 'roxas']],\n",
       "  -8.609004227205169),\n",
       " ([[0.025980753559706273, 'alam'],\n",
       "   [0.012391196879871478, 'roxas'],\n",
       "   [0.011678377517346648, 'mar'],\n",
       "   [0.008338494276999705, 'nanalo'],\n",
       "   [0.00815251554124504, 'makati'],\n",
       "   [0.008113401219953631, 'ah'],\n",
       "   [0.007166509631239946, 'haha'],\n",
       "   [0.006972566864553989, 'tong'],\n",
       "   [0.006595091743712915, 'halalanresults'],\n",
       "   [0.006417238669080374, 'nognog']],\n",
       "  -8.873135940699019),\n",
       " ([[0.020536763330405362, 'roxas'],\n",
       "   [0.01958192303636879, 'mar'],\n",
       "   [0.012437101839013833, 'nalang'],\n",
       "   [0.01008094735616511, 'corrupt'],\n",
       "   [0.00882656704185391, 'tanga'],\n",
       "   [0.008097110124997284, 'ayawsadilaw'],\n",
       "   [0.008026004945389924, 'hahahaha'],\n",
       "   [0.008008174037244757, 'hahahahaha'],\n",
       "   [0.007844492652811196, 'hahaha'],\n",
       "   [0.007643785027805979, 'leche']],\n",
       "  -10.443235467358083)]"
      ]
     },
     "execution_count": 78,
     "metadata": {},
     "output_type": "execute_result"
    }
   ],
   "source": [
    "topics_with_score"
   ]
  }
 ],
 "metadata": {
  "kernelspec": {
   "display_name": "Python 3",
   "language": "python",
   "name": "python3"
  },
  "language_info": {
   "codemirror_mode": {
    "name": "ipython",
    "version": 3
   },
   "file_extension": ".py",
   "mimetype": "text/x-python",
   "name": "python",
   "nbconvert_exporter": "python",
   "pygments_lexer": "ipython3",
   "version": "3.11.2"
  }
 },
 "nbformat": 4,
 "nbformat_minor": 2
}
