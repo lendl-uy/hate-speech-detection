{
 "cells": [
  {
   "cell_type": "code",
   "execution_count": 2,
   "metadata": {
    "ExecuteTime": {
     "end_time": "2024-05-01T16:18:35.482799Z",
     "start_time": "2024-05-01T16:18:34.763708Z"
    }
   },
   "outputs": [],
   "source": [
    "import numpy as np\n",
    "import umap\n",
    "from sklearn.manifold import TSNE\n",
    "from sklearn.decomposition import KernelPCA\n",
    "\n",
    "from sklearn.feature_extraction.text import CountVectorizer, TfidfVectorizer\n",
    "from sklearn.metrics import accuracy_score, f1_score\n",
    "from sklearn.ensemble import RandomForestClassifier\n",
    "from sklearn.decomposition import LatentDirichletAllocation, NMF, PCA, SparsePCA\n",
    "from sklearn.pipeline import Pipeline\n",
    "from dataset.dataset import Dataset\n",
    "from constants import CLEANED_DATASET_PATH"
   ]
  },
  {
   "cell_type": "code",
   "execution_count": 3,
   "metadata": {
    "ExecuteTime": {
     "end_time": "2024-05-01T16:18:35.486815Z",
     "start_time": "2024-05-01T16:18:35.483270Z"
    }
   },
   "outputs": [],
   "source": [
    "RANDOM_SEED = 0\n",
    "N_ESTIMATORS = 511"
   ]
  },
  {
   "cell_type": "code",
   "execution_count": 4,
   "metadata": {
    "ExecuteTime": {
     "end_time": "2024-05-01T16:18:35.492221Z",
     "start_time": "2024-05-01T16:18:35.486553Z"
    }
   },
   "outputs": [
    {
     "name": "stdout",
     "output_type": "stream",
     "text": [
      "Data loaded from dataset/cleaned_dataset.pkl\n"
     ]
    }
   ],
   "source": [
    "dataset = Dataset(full_data_path=CLEANED_DATASET_PATH,\n",
    "                  from_scratch=False,\n",
    "                  split_sizes=[10000, 4232, 4232])\n",
    "dataset.build()\n",
    "\n",
    "X_train = dataset.get_features(split_type=\"train\")\n",
    "Y_train = dataset.get_labels(split_type=\"train\")\n",
    "X_val = dataset.get_features(split_type=\"val\")\n",
    "Y_val = dataset.get_labels(split_type=\"val\")\n",
    "X_test = dataset.get_features(split_type=\"test\")\n",
    "Y_test = dataset.get_labels(split_type=\"test\")"
   ]
  },
  {
   "cell_type": "markdown",
   "source": [
    "# Classifier only Pipeline"
   ],
   "metadata": {
    "collapsed": false
   }
  },
  {
   "cell_type": "markdown",
   "source": [
    "## Count Vectorizer"
   ],
   "metadata": {
    "collapsed": false
   }
  },
  {
   "cell_type": "code",
   "execution_count": 5,
   "outputs": [
    {
     "name": "stdout",
     "output_type": "stream",
     "text": [
      "Best Counts-RF only Model Accuracy: 0.7374763705103969\n",
      "Best Counts-RF only Model F1-Score: 0.7036543078154175\n"
     ]
    }
   ],
   "source": [
    "# Create the pipeline\n",
    "N_ESTIMATORS = 511\n",
    "counts_rf_pipeline = Pipeline([\n",
    "    (\"vectorizer\", CountVectorizer(max_df=0.95, min_df=2)),\n",
    "    (\"rf\", RandomForestClassifier(n_estimators=511, random_state=RANDOM_SEED))\n",
    "])\n",
    "\n",
    "# Fit the pipeline on the training data\n",
    "counts_rf_pipeline.fit(X_train, Y_train)\n",
    "\n",
    "# Evaluate the pipeline\n",
    "Y_pred = counts_rf_pipeline.predict(X_test)\n",
    "accuracy = accuracy_score(Y_test, Y_pred)\n",
    "f1 = f1_score(Y_test, Y_pred)\n",
    "print(f\"Best Counts-RF only Model Accuracy: {accuracy}\")\n",
    "print(f\"Best Counts-RF only Model F1-Score: {f1}\")"
   ],
   "metadata": {
    "collapsed": false,
    "ExecuteTime": {
     "end_time": "2024-05-01T16:18:54.929493Z",
     "start_time": "2024-05-01T16:18:35.498426Z"
    }
   }
  },
  {
   "cell_type": "markdown",
   "source": [
    "## TF-IDF Vectorizer"
   ],
   "metadata": {
    "collapsed": false
   }
  },
  {
   "cell_type": "code",
   "execution_count": 6,
   "outputs": [
    {
     "name": "stdout",
     "output_type": "stream",
     "text": [
      "Best TFIDF-RF only Model Accuracy: 0.7318052930056711\n",
      "Best TFIDF-RF only Model F1-Score: 0.7103853023730543\n"
     ]
    }
   ],
   "source": [
    "# Create the pipeline\n",
    "N_ESTIMATORS = 511\n",
    "tfidf_rf_pipeline = Pipeline([\n",
    "    (\"vectorizer\", TfidfVectorizer(max_df=0.95, min_df=2)),\n",
    "    (\"rf\", RandomForestClassifier(n_estimators=N_ESTIMATORS, random_state=RANDOM_SEED))\n",
    "])\n",
    "\n",
    "# Fit the pipeline on the training data\n",
    "tfidf_rf_pipeline.fit(X_train, Y_train)\n",
    "\n",
    "# Evaluate the pipeline\n",
    "Y_pred = tfidf_rf_pipeline.predict(X_test)\n",
    "accuracy = accuracy_score(Y_test, Y_pred)\n",
    "f1 = f1_score(Y_test, Y_pred)\n",
    "print(f\"Best TFIDF-RF only Model Accuracy: {accuracy}\")\n",
    "print(f\"Best TFIDF-RF only Model F1-Score: {f1}\")"
   ],
   "metadata": {
    "collapsed": false,
    "ExecuteTime": {
     "end_time": "2024-05-01T16:19:13.414682Z",
     "start_time": "2024-05-01T16:18:54.983514Z"
    }
   }
  },
  {
   "cell_type": "markdown",
   "source": [
    "# LDA/NMF-Classifier Pipeline"
   ],
   "metadata": {
    "collapsed": false
   }
  },
  {
   "cell_type": "markdown",
   "source": [
    "## Count Vectorizer - LDA Pipeline"
   ],
   "metadata": {
    "collapsed": false
   }
  },
  {
   "cell_type": "code",
   "execution_count": 7,
   "outputs": [
    {
     "name": "stdout",
     "output_type": "stream",
     "text": [
      "Best Counts-LDA-RF Model Accuracy: 0.6422495274102079\n",
      "Best Counts-LDA-RF Model F1-Score: 0.6172901921132457\n"
     ]
    }
   ],
   "source": [
    "# Setup\n",
    "LDA_TOPICS = 10\n",
    "N_ESTIMATORS = 511\n",
    "\n",
    "# Create and fit the pipeline\n",
    "counts_lda_rf_pipeline = Pipeline([\n",
    "    (\"vectorizer\", CountVectorizer(max_df=0.95, min_df=2)),\n",
    "    (\"lda\", LatentDirichletAllocation(n_components=LDA_TOPICS, random_state=RANDOM_SEED)),\n",
    "    (\"rf\", RandomForestClassifier(n_estimators=511, random_state=RANDOM_SEED))\n",
    "])\n",
    "\n",
    "# Fit the pipeline\n",
    "counts_lda_rf_pipeline.fit(X_train, Y_train)\n",
    "\n",
    "# Evaluate the pipeline\n",
    "Y_pred = counts_lda_rf_pipeline.predict(X_test)\n",
    "accuracy = accuracy_score(Y_test, Y_pred)\n",
    "f1 = f1_score(Y_test, Y_pred)\n",
    "print(f\"Best Counts-LDA-RF Model Accuracy: {accuracy}\")\n",
    "print(f\"Best Counts-LDA-RF Model F1-Score: {f1}\")"
   ],
   "metadata": {
    "collapsed": false,
    "ExecuteTime": {
     "end_time": "2024-05-01T16:19:30.325070Z",
     "start_time": "2024-05-01T16:19:13.412360Z"
    }
   }
  },
  {
   "cell_type": "markdown",
   "source": [
    "## Count Vectorizer - NMF Pipeline"
   ],
   "metadata": {
    "collapsed": false
   }
  },
  {
   "cell_type": "code",
   "execution_count": 8,
   "outputs": [
    {
     "name": "stdout",
     "output_type": "stream",
     "text": [
      "Best Counts-NMF-RF Model Accuracy: 0.7162098298676749\n",
      "Best Counts-NMF-RF Model F1-Score: 0.6926030202201178\n"
     ]
    }
   ],
   "source": [
    "# Setup\n",
    "NMF_TOPICS = 150\n",
    "\n",
    "# Create and fit the pipeline\n",
    "counts_nmf_rf_pipeline = Pipeline([\n",
    "    (\"vectorizer\", CountVectorizer(max_df=0.95, min_df=2)),\n",
    "    (\"nmf\", NMF(n_components=NMF_TOPICS, random_state=RANDOM_SEED)),\n",
    "    (\"rf\", RandomForestClassifier(n_estimators=511, random_state=RANDOM_SEED))\n",
    "])\n",
    "\n",
    "# Fit the pipeline\n",
    "counts_nmf_rf_pipeline.fit(X_train, Y_train)\n",
    "\n",
    "# Evaluate the pipeline\n",
    "Y_pred = counts_nmf_rf_pipeline.predict(X_test)\n",
    "accuracy = accuracy_score(Y_test, Y_pred)\n",
    "f1 = f1_score(Y_test, Y_pred)\n",
    "print(f\"Best Counts-NMF-RF Model Accuracy: {accuracy}\")\n",
    "print(f\"Best Counts-NMF-RF Model F1-Score: {f1}\")"
   ],
   "metadata": {
    "collapsed": false,
    "ExecuteTime": {
     "end_time": "2024-05-01T16:20:25.681039Z",
     "start_time": "2024-05-01T16:19:30.330243Z"
    }
   }
  },
  {
   "cell_type": "markdown",
   "source": [
    "## TF-IDF Vectorizer - LDA Pipeline"
   ],
   "metadata": {
    "collapsed": false
   }
  },
  {
   "cell_type": "code",
   "execution_count": 9,
   "outputs": [
    {
     "name": "stdout",
     "output_type": "stream",
     "text": [
      "Best TFIDF-LDA-RF Model Accuracy: 0.6372873345935728\n",
      "Best TFIDF-LDA-RF Model F1-Score: 0.5997392438070405\n"
     ]
    }
   ],
   "source": [
    "# Setup\n",
    "LDA_TOPICS = 10\n",
    "\n",
    "# Create and fit the pipeline\n",
    "tfidf_lda_rf_pipeline = Pipeline([\n",
    "    (\"vectorizer\", TfidfVectorizer(max_df=0.95, min_df=2)),\n",
    "    (\"lda\", LatentDirichletAllocation(n_components=NMF_TOPICS, random_state=RANDOM_SEED)),\n",
    "    (\"rf\", RandomForestClassifier(n_estimators=511, random_state=RANDOM_SEED))\n",
    "])\n",
    "\n",
    "# Fit the pipeline\n",
    "tfidf_lda_rf_pipeline.fit(X_train, Y_train)\n",
    "\n",
    "# Evaluate the pipeline\n",
    "Y_pred = tfidf_lda_rf_pipeline.predict(X_test)\n",
    "accuracy = accuracy_score(Y_test, Y_pred)\n",
    "f1 = f1_score(Y_test, Y_pred)\n",
    "print(f\"Best TFIDF-LDA-RF Model Accuracy: {accuracy}\")\n",
    "print(f\"Best TFIDF-LDA-RF Model F1-Score: {f1}\")"
   ],
   "metadata": {
    "collapsed": false,
    "ExecuteTime": {
     "end_time": "2024-05-01T16:21:57.486898Z",
     "start_time": "2024-05-01T16:20:25.692226Z"
    }
   }
  },
  {
   "cell_type": "markdown",
   "source": [
    "## TF-IDF Vectorizer - NMF Pipeline"
   ],
   "metadata": {
    "collapsed": false
   }
  },
  {
   "cell_type": "code",
   "execution_count": 10,
   "outputs": [
    {
     "name": "stdout",
     "output_type": "stream",
     "text": [
      "Best TFIDF-NMF-RF Model Accuracy: 0.7232986767485823\n",
      "Best TFIDF-NMF-RF Model Accuracy: 0.7049634668682287\n"
     ]
    }
   ],
   "source": [
    "# Setup\n",
    "NMF_TOPICS = 150\n",
    "\n",
    "# Create and fit the pipeline\n",
    "tfidf_lda_rf_pipeline = Pipeline([\n",
    "    (\"vectorizer\", TfidfVectorizer(max_df=0.95, min_df=2)),\n",
    "    (\"nmf\", NMF(n_components=NMF_TOPICS, random_state=RANDOM_SEED)),\n",
    "    (\"rf\", RandomForestClassifier(n_estimators=511, random_state=RANDOM_SEED))\n",
    "])\n",
    "\n",
    "# Fit the pipeline\n",
    "tfidf_lda_rf_pipeline.fit(X_train, Y_train)\n",
    "\n",
    "# Evaluate the pipeline\n",
    "Y_pred = tfidf_lda_rf_pipeline.predict(X_test)\n",
    "accuracy = accuracy_score(Y_test, Y_pred)\n",
    "f1 = f1_score(Y_test, Y_pred)\n",
    "print(f\"Best TFIDF-NMF-RF Model Accuracy: {accuracy}\")\n",
    "print(f\"Best TFIDF-NMF-RF Model Accuracy: {f1}\")"
   ],
   "metadata": {
    "collapsed": false,
    "ExecuteTime": {
     "end_time": "2024-05-01T16:23:03.826885Z",
     "start_time": "2024-05-01T16:21:57.532320Z"
    }
   }
  },
  {
   "cell_type": "markdown",
   "source": [
    "# FastText - Classifier Pipeline"
   ],
   "metadata": {
    "collapsed": false
   }
  },
  {
   "cell_type": "code",
   "execution_count": 11,
   "outputs": [],
   "source": [
    "# from gensim.models import FastText\n",
    "# from nltk.tokenize import word_tokenize\n",
    "# import numpy as np\n",
    "# \n",
    "# # Tokenize the text\n",
    "# tokenized_train = [word_tokenize(doc.lower()) for doc in X_train]\n",
    "# tokenized_val = [word_tokenize(doc.lower()) for doc in X_val]\n",
    "# tokenized_test = [word_tokenize(doc.lower()) for doc in X_test]\n",
    "# \n",
    "# # Train FastText model on your training dataset\n",
    "# model = FastText(vector_size=200, window=10)  # Adjust parameters as needed\n",
    "# model.build_vocab(tokenized_train)\n",
    "# model.train(tokenized_train, total_examples=len(tokenized_train), epochs=10)\n",
    "# \n",
    "# # Function to convert text documents to a mean vector\n",
    "# def document_vector(doc, model):\n",
    "#     # Remove out-of-vocabulary words\n",
    "#     doc = [word for word in doc if word in model.wv.key_to_index]\n",
    "#     if not doc:\n",
    "#         return np.zeros(model.vector_size)\n",
    "#     return np.mean(model.wv[doc], axis=0)\n",
    "# \n",
    "# # Vectorize the documents\n",
    "# X_train_embeddings = np.array([document_vector(doc, model) for doc in tokenized_train])\n",
    "# X_val_embeddings = np.array([document_vector(doc, model) for doc in tokenized_val])\n",
    "# X_test_embeddings = np.array([document_vector(doc, model) for doc in tokenized_test])"
   ],
   "metadata": {
    "collapsed": false,
    "ExecuteTime": {
     "end_time": "2024-05-01T16:23:03.830756Z",
     "start_time": "2024-05-01T16:23:03.827707Z"
    }
   }
  },
  {
   "cell_type": "code",
   "execution_count": 12,
   "outputs": [],
   "source": [
    "# # Classifier Training\n",
    "# rf = RandomForestClassifier(n_estimators=511, random_state=RANDOM_SEED)\n",
    "# rf.fit(X_train_embeddings, Y_train)\n",
    "# Y_pred = rf.predict(X_test_embeddings)\n",
    "# accuracy = accuracy_score(Y_test, Y_pred)\n",
    "# f1 = f1_score(Y_test, Y_pred)\n",
    "# print(f\"Best FastText-RF Model Accuracy: {score}\")"
   ],
   "metadata": {
    "collapsed": false,
    "ExecuteTime": {
     "end_time": "2024-05-01T16:23:03.836507Z",
     "start_time": "2024-05-01T16:23:03.830652Z"
    }
   }
  },
  {
   "cell_type": "markdown",
   "source": [
    "# Dimensionality Reduction - Classifier Pipeline"
   ],
   "metadata": {
    "collapsed": false
   }
  },
  {
   "cell_type": "markdown",
   "source": [
    "## Kernel PCA"
   ],
   "metadata": {
    "collapsed": false
   }
  },
  {
   "cell_type": "code",
   "execution_count": 13,
   "outputs": [
    {
     "name": "stdout",
     "output_type": "stream",
     "text": [
      "Best KPCA-RF Model Accuracy: 0.6720226843100189\n",
      "Best KPCA-RF Model F1-Score: 0.6468193384223918\n"
     ]
    }
   ],
   "source": [
    "# Create and fit the pipeline\n",
    "kpca_rf_pipeline = Pipeline([\n",
    "    (\"vectorizer\", CountVectorizer(max_df=0.95, min_df=2)),\n",
    "    (\"kpca\", KernelPCA(n_components=50, kernel=\"rbf\", gamma=0.01, n_jobs=-1)),\n",
    "    (\"rf\", RandomForestClassifier(n_estimators=511, random_state=RANDOM_SEED))\n",
    "])\n",
    "\n",
    "# Fit the pipeline\n",
    "kpca_rf_pipeline.fit(X_train, Y_train)\n",
    "\n",
    "# Evaluate the pipeline\n",
    "Y_pred = kpca_rf_pipeline.predict(X_test)\n",
    "accuracy = accuracy_score(Y_test, Y_pred)\n",
    "f1 = f1_score(Y_test, Y_pred)\n",
    "print(f\"Best KPCA-RF Model Accuracy: {accuracy}\")\n",
    "print(f\"Best KPCA-RF Model F1-Score: {f1}\")"
   ],
   "metadata": {
    "collapsed": false,
    "ExecuteTime": {
     "end_time": "2024-05-01T16:24:28.869355Z",
     "start_time": "2024-05-01T16:23:03.839445Z"
    }
   }
  },
  {
   "cell_type": "markdown",
   "source": [
    "## UMAP"
   ],
   "metadata": {
    "collapsed": false
   }
  },
  {
   "cell_type": "code",
   "execution_count": 17,
   "outputs": [],
   "source": [
    "import umap.umap_ as umap"
   ],
   "metadata": {
    "collapsed": false,
    "ExecuteTime": {
     "end_time": "2024-05-01T16:26:51.840070Z",
     "start_time": "2024-05-01T16:26:51.835930Z"
    }
   }
  },
  {
   "cell_type": "code",
   "execution_count": 18,
   "outputs": [
    {
     "name": "stderr",
     "output_type": "stream",
     "text": [
      "/Users/lendluy/hate-speech-detection-ensemble-methods/lib/python3.11/site-packages/scipy/sparse/_index.py:145: SparseEfficiencyWarning: Changing the sparsity structure of a csr_matrix is expensive. lil_matrix is more efficient.\n",
      "  self._set_arrayXarray(i, j, x)\n"
     ]
    },
    {
     "name": "stdout",
     "output_type": "stream",
     "text": [
      "Best UMAP-RF Model Accuracy: 0.6042060491493384\n",
      "Best UMAP-RF Model F1-Score: 0.4444444444444444\n"
     ]
    }
   ],
   "source": [
    "# Create and fit the pipeline\n",
    "umap_rf_pipeline = Pipeline([\n",
    "    (\"vectorizer\", CountVectorizer(max_df=0.95, min_df=2)),\n",
    "    (\"umap\", umap.UMAP()),\n",
    "    (\"rf\", RandomForestClassifier(n_estimators=511, random_state=RANDOM_SEED))\n",
    "])\n",
    "\n",
    "# Fit the pipeline\n",
    "umap_rf_pipeline.fit(X_train, Y_train)\n",
    "\n",
    "# Evaluate the pipeline\n",
    "Y_pred = umap_rf_pipeline.predict(X_test)\n",
    "accuracy = accuracy_score(Y_test, Y_pred)\n",
    "f1 = f1_score(Y_test, Y_pred)\n",
    "print(f\"Best UMAP-RF Model Accuracy: {accuracy}\")\n",
    "print(f\"Best UMAP-RF Model F1-Score: {f1}\")"
   ],
   "metadata": {
    "collapsed": false,
    "ExecuteTime": {
     "end_time": "2024-05-01T16:27:21.179641Z",
     "start_time": "2024-05-01T16:26:54.192067Z"
    }
   }
  },
  {
   "cell_type": "markdown",
   "source": [
    "## Sparse PCA"
   ],
   "metadata": {
    "collapsed": false
   }
  },
  {
   "cell_type": "code",
   "execution_count": 14,
   "outputs": [],
   "source": [],
   "metadata": {
    "collapsed": false,
    "ExecuteTime": {
     "end_time": "2024-05-01T16:24:28.876398Z",
     "start_time": "2024-05-01T16:24:28.874985Z"
    }
   }
  }
 ],
 "metadata": {
  "kernelspec": {
   "display_name": "Python 3",
   "language": "python",
   "name": "python3"
  },
  "language_info": {
   "codemirror_mode": {
    "name": "ipython",
    "version": 3
   },
   "file_extension": ".py",
   "mimetype": "text/x-python",
   "name": "python",
   "nbconvert_exporter": "python",
   "pygments_lexer": "ipython3",
   "version": "3.11.9"
  }
 },
 "nbformat": 4,
 "nbformat_minor": 2
}
