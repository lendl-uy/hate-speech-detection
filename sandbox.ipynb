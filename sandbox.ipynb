{
 "cells": [
  {
   "cell_type": "code",
   "execution_count": 1,
   "metadata": {
    "ExecuteTime": {
     "end_time": "2024-05-01T08:06:46.773865Z",
     "start_time": "2024-05-01T08:06:46.227569Z"
    }
   },
   "outputs": [],
   "source": [
    "import numpy as np\n",
    "\n",
    "from sklearn.feature_extraction.text import CountVectorizer, TfidfVectorizer\n",
    "from sklearn.metrics import accuracy_score\n",
    "from sklearn.ensemble import RandomForestClassifier\n",
    "from sklearn.decomposition import LatentDirichletAllocation, NMF\n",
    "from dataset.dataset import Dataset\n",
    "from constants import CLEANED_DATASET_PATH"
   ]
  },
  {
   "cell_type": "code",
   "execution_count": 2,
   "metadata": {
    "ExecuteTime": {
     "end_time": "2024-05-01T08:06:46.779193Z",
     "start_time": "2024-05-01T08:06:46.774454Z"
    }
   },
   "outputs": [],
   "source": [
    "RANDOM_SEED = 0"
   ]
  },
  {
   "cell_type": "code",
   "execution_count": 3,
   "metadata": {
    "ExecuteTime": {
     "end_time": "2024-05-01T08:06:46.784889Z",
     "start_time": "2024-05-01T08:06:46.776118Z"
    }
   },
   "outputs": [
    {
     "name": "stdout",
     "output_type": "stream",
     "text": [
      "Data loaded from dataset/cleaned_dataset.pkl\n"
     ]
    }
   ],
   "source": [
    "dataset = Dataset(full_data_path=CLEANED_DATASET_PATH,\n",
    "                  from_scratch=False,\n",
    "                  split_sizes=[10000, 4232, 4232])\n",
    "dataset.build()\n",
    "\n",
    "X_train = dataset.get_features(split_type=\"train\")\n",
    "Y_train = dataset.get_labels(split_type=\"train\")\n",
    "X_val = dataset.get_features(split_type=\"val\")\n",
    "Y_val = dataset.get_labels(split_type=\"val\")\n",
    "X_test = dataset.get_features(split_type=\"test\")\n",
    "Y_test = dataset.get_labels(split_type=\"test\")"
   ]
  },
  {
   "cell_type": "markdown",
   "source": [
    "# Classifier only Pipeline"
   ],
   "metadata": {
    "collapsed": false
   }
  },
  {
   "cell_type": "markdown",
   "source": [
    "## Count Vectorizer"
   ],
   "metadata": {
    "collapsed": false
   }
  },
  {
   "cell_type": "code",
   "execution_count": 4,
   "outputs": [],
   "source": [
    "# Define the CountVectorizer\n",
    "count_vectorizer = CountVectorizer(max_df=0.95, min_df=2)\n",
    "X_train_counts = count_vectorizer.fit_transform(X_train)\n",
    "X_val_counts = count_vectorizer.transform(X_val)\n",
    "X_test_counts = count_vectorizer.transform(X_test)"
   ],
   "metadata": {
    "collapsed": false,
    "ExecuteTime": {
     "end_time": "2024-05-01T08:06:46.881287Z",
     "start_time": "2024-05-01T08:06:46.830429Z"
    }
   }
  },
  {
   "cell_type": "code",
   "execution_count": 5,
   "metadata": {
    "ExecuteTime": {
     "end_time": "2024-05-01T08:07:05.579465Z",
     "start_time": "2024-05-01T08:06:46.882699Z"
    }
   },
   "outputs": [
    {
     "name": "stdout",
     "output_type": "stream",
     "text": [
      "Best Counts-RF only Model Accuracy: 0.7374763705103969\n"
     ]
    }
   ],
   "source": [
    "# Classifier Training\n",
    "rf = RandomForestClassifier(n_estimators=511, random_state=RANDOM_SEED)\n",
    "rf.fit(X_train_counts, Y_train)\n",
    "Y_pred = rf.predict(X_test_counts)\n",
    "score = accuracy_score(Y_test, Y_pred)\n",
    "print(f\"Best Counts-RF only Model Accuracy: {score}\")"
   ]
  },
  {
   "cell_type": "markdown",
   "source": [
    "## TF-IDF Vectorizer"
   ],
   "metadata": {
    "collapsed": false
   }
  },
  {
   "cell_type": "code",
   "execution_count": 6,
   "outputs": [],
   "source": [
    "# Define the CountVectorizer\n",
    "tfidf_vectorizer = TfidfVectorizer(max_df=0.95, min_df=2)\n",
    "X_train_tfidf = tfidf_vectorizer.fit_transform(X_train)\n",
    "X_val_tfidf = tfidf_vectorizer.transform(X_val)\n",
    "X_test_tfidf = tfidf_vectorizer.transform(X_test)"
   ],
   "metadata": {
    "collapsed": false,
    "ExecuteTime": {
     "end_time": "2024-05-01T08:07:05.706292Z",
     "start_time": "2024-05-01T08:07:05.591954Z"
    }
   }
  },
  {
   "cell_type": "code",
   "execution_count": 7,
   "outputs": [
    {
     "name": "stdout",
     "output_type": "stream",
     "text": [
      "Best TFIDF-RF only Model Accuracy: 0.7318052930056711\n"
     ]
    }
   ],
   "source": [
    "# Classifier Training\n",
    "rf = RandomForestClassifier(n_estimators=511, random_state=RANDOM_SEED)\n",
    "rf.fit(X_train_tfidf, Y_train)\n",
    "Y_pred = rf.predict(X_test_tfidf)\n",
    "score = accuracy_score(Y_test, Y_pred)\n",
    "print(f\"Best TFIDF-RF only Model Accuracy: {score}\")"
   ],
   "metadata": {
    "collapsed": false,
    "ExecuteTime": {
     "end_time": "2024-05-01T08:07:23.975018Z",
     "start_time": "2024-05-01T08:07:05.726190Z"
    }
   }
  },
  {
   "cell_type": "markdown",
   "source": [
    "# LDA/NMF-Classifier Pipeline"
   ],
   "metadata": {
    "collapsed": false
   }
  },
  {
   "cell_type": "markdown",
   "source": [
    "## Count Vectorizer - LDA Pipeline"
   ],
   "metadata": {
    "collapsed": false
   }
  },
  {
   "cell_type": "code",
   "execution_count": 8,
   "outputs": [
    {
     "name": "stdout",
     "output_type": "stream",
     "text": [
      "Performing Latent Dirichlet Allocation for 10 topics\n",
      "Done performing Latent Dirichlet Allocation for 10 topics\n"
     ]
    }
   ],
   "source": [
    "LDA_TOPICS = 10\n",
    "print(f\"Performing Latent Dirichlet Allocation for {LDA_TOPICS} topics\")\n",
    "lda = LatentDirichletAllocation(n_components=LDA_TOPICS, random_state=RANDOM_SEED)\n",
    "X_train_lda = lda.fit_transform(X_train_counts)\n",
    "X_val_lda = lda.transform(X_val_counts)\n",
    "X_test_lda = lda.transform(X_test_counts)\n",
    "print(f\"Done performing Latent Dirichlet Allocation for {LDA_TOPICS} topics\")"
   ],
   "metadata": {
    "collapsed": false,
    "ExecuteTime": {
     "end_time": "2024-05-01T08:07:30.699098Z",
     "start_time": "2024-05-01T08:07:23.975510Z"
    }
   }
  },
  {
   "cell_type": "code",
   "execution_count": 9,
   "outputs": [
    {
     "name": "stdout",
     "output_type": "stream",
     "text": [
      "Best Counts-LDA-RF Model Accuracy: 0.6422495274102079\n"
     ]
    }
   ],
   "source": [
    "# Classifier Training\n",
    "rf = RandomForestClassifier(n_estimators=511, random_state=RANDOM_SEED)\n",
    "rf.fit(X_train_lda, Y_train)\n",
    "Y_pred = rf.predict(X_test_lda)\n",
    "score = accuracy_score(Y_test, Y_pred)\n",
    "print(f\"Best Counts-LDA-RF Model Accuracy: {score}\")"
   ],
   "metadata": {
    "collapsed": false,
    "ExecuteTime": {
     "end_time": "2024-05-01T08:07:40.786183Z",
     "start_time": "2024-05-01T08:07:30.714058Z"
    }
   }
  },
  {
   "cell_type": "markdown",
   "source": [
    "## Count Vectorizer - NMF Pipeline"
   ],
   "metadata": {
    "collapsed": false
   }
  },
  {
   "cell_type": "code",
   "execution_count": 10,
   "outputs": [
    {
     "name": "stdout",
     "output_type": "stream",
     "text": [
      "Performing Non-negative Matrix Factorization for 150 topics\n",
      "Done performing Non-negative Matrix Factorization for 150 topics\n"
     ]
    }
   ],
   "source": [
    "NMF_TOPICS = 150\n",
    "print(f\"Performing Non-negative Matrix Factorization for {NMF_TOPICS} topics\")\n",
    "nmf = NMF(n_components=NMF_TOPICS, random_state=RANDOM_SEED)\n",
    "X_train_nmf = nmf.fit_transform(X_train_counts)\n",
    "X_val_nmf = nmf.transform(X_val_counts)\n",
    "X_test_nmf = nmf.transform(X_test_counts)\n",
    "print(f\"Done performing Non-negative Matrix Factorization for {NMF_TOPICS} topics\")"
   ],
   "metadata": {
    "collapsed": false,
    "ExecuteTime": {
     "end_time": "2024-05-01T08:08:21.838363Z",
     "start_time": "2024-05-01T08:07:40.782390Z"
    }
   }
  },
  {
   "cell_type": "code",
   "execution_count": 11,
   "outputs": [
    {
     "name": "stdout",
     "output_type": "stream",
     "text": [
      "Best Counts-NMF-RF Model Accuracy: 0.7162098298676749\n"
     ]
    }
   ],
   "source": [
    "# Classifier Training\n",
    "rf = RandomForestClassifier(n_estimators=511, random_state=RANDOM_SEED)\n",
    "rf.fit(X_train_nmf, Y_train)\n",
    "Y_pred = rf.predict(X_test_nmf)\n",
    "score = accuracy_score(Y_test, Y_pred)\n",
    "print(f\"Best Counts-NMF-RF Model Accuracy: {score}\")"
   ],
   "metadata": {
    "collapsed": false,
    "ExecuteTime": {
     "end_time": "2024-05-01T08:08:36.312869Z",
     "start_time": "2024-05-01T08:08:21.903893Z"
    }
   }
  },
  {
   "cell_type": "markdown",
   "source": [
    "## TF-IDF Vectorizer - LDA Pipeline"
   ],
   "metadata": {
    "collapsed": false
   }
  },
  {
   "cell_type": "code",
   "execution_count": 12,
   "outputs": [
    {
     "name": "stdout",
     "output_type": "stream",
     "text": [
      "Performing Latent Dirichlet Allocation for 10 topics\n",
      "Done performing Latent Dirichlet Allocation for 10 topics\n"
     ]
    }
   ],
   "source": [
    "LDA_TOPICS = 10\n",
    "print(f\"Performing Latent Dirichlet Allocation for {LDA_TOPICS} topics\")\n",
    "lda = LatentDirichletAllocation(n_components=LDA_TOPICS, random_state=RANDOM_SEED)\n",
    "X_train_lda = lda.fit_transform(X_train_tfidf)\n",
    "X_val_lda = lda.transform(X_val_tfidf)\n",
    "X_test_lda = lda.transform(X_test_tfidf)\n",
    "print(f\"Done performing Latent Dirichlet Allocation for {LDA_TOPICS} topics\")"
   ],
   "metadata": {
    "collapsed": false,
    "ExecuteTime": {
     "end_time": "2024-05-01T08:08:40.500786Z",
     "start_time": "2024-05-01T08:08:36.313827Z"
    }
   }
  },
  {
   "cell_type": "code",
   "execution_count": 13,
   "outputs": [
    {
     "name": "stdout",
     "output_type": "stream",
     "text": [
      "Best TFIDF-LDA-RF Model Accuracy: 0.599952741020794\n"
     ]
    }
   ],
   "source": [
    "# Classifier Training\n",
    "rf = RandomForestClassifier(n_estimators=511, random_state=RANDOM_SEED)\n",
    "rf.fit(X_train_lda, Y_train)\n",
    "Y_pred = rf.predict(X_test_lda)\n",
    "score = accuracy_score(Y_test, Y_pred)\n",
    "print(f\"Best TFIDF-LDA-RF Model Accuracy: {score}\")"
   ],
   "metadata": {
    "collapsed": false,
    "ExecuteTime": {
     "end_time": "2024-05-01T08:08:53.105362Z",
     "start_time": "2024-05-01T08:08:40.506607Z"
    }
   }
  },
  {
   "cell_type": "markdown",
   "source": [
    "## TF-IDF Vectorizer - NMF Pipeline"
   ],
   "metadata": {
    "collapsed": false
   }
  },
  {
   "cell_type": "code",
   "execution_count": 14,
   "outputs": [
    {
     "name": "stdout",
     "output_type": "stream",
     "text": [
      "Performing Non-negative Matrix Factorization for 150 topics\n",
      "Done performing Non-negative Matrix Factorization for 150 topics\n"
     ]
    }
   ],
   "source": [
    "NMF_TOPICS = 150\n",
    "print(f\"Performing Non-negative Matrix Factorization for {NMF_TOPICS} topics\")\n",
    "nmf = NMF(n_components=NMF_TOPICS, random_state=RANDOM_SEED)\n",
    "X_train_nmf = nmf.fit_transform(X_train_tfidf)\n",
    "X_val_nmf = nmf.transform(X_val_tfidf)\n",
    "X_test_nmf = nmf.transform(X_test_tfidf)\n",
    "print(f\"Done performing Non-negative Matrix Factorization for {NMF_TOPICS} topics\")"
   ],
   "metadata": {
    "collapsed": false,
    "ExecuteTime": {
     "end_time": "2024-05-01T08:09:41.030905Z",
     "start_time": "2024-05-01T08:08:53.103483Z"
    }
   }
  },
  {
   "cell_type": "code",
   "execution_count": 15,
   "outputs": [
    {
     "name": "stdout",
     "output_type": "stream",
     "text": [
      "Best TFIDF-NMF-RF Model Accuracy: 0.7232986767485823\n"
     ]
    }
   ],
   "source": [
    "# Classifier Training\n",
    "rf = RandomForestClassifier(n_estimators=511, random_state=RANDOM_SEED)\n",
    "rf.fit(X_train_nmf, Y_train)\n",
    "Y_pred = rf.predict(X_test_nmf)\n",
    "score = accuracy_score(Y_test, Y_pred)\n",
    "print(f\"Best TFIDF-NMF-RF Model Accuracy: {score}\")"
   ],
   "metadata": {
    "collapsed": false,
    "ExecuteTime": {
     "end_time": "2024-05-01T08:09:56.364159Z",
     "start_time": "2024-05-01T08:09:41.051525Z"
    }
   }
  },
  {
   "cell_type": "markdown",
   "source": [
    "# FastText - Classifier Pipeline"
   ],
   "metadata": {
    "collapsed": false
   }
  },
  {
   "cell_type": "code",
   "execution_count": 16,
   "outputs": [],
   "source": [
    "from gensim.models import FastText\n",
    "from nltk.tokenize import word_tokenize\n",
    "import numpy as np\n",
    "\n",
    "# Tokenize the text\n",
    "tokenized_train = [word_tokenize(doc.lower()) for doc in X_train]\n",
    "tokenized_val = [word_tokenize(doc.lower()) for doc in X_val]\n",
    "tokenized_test = [word_tokenize(doc.lower()) for doc in X_test]\n",
    "\n",
    "# Train FastText model on your training dataset\n",
    "model = FastText(vector_size=200, window=10)  # Adjust parameters as needed\n",
    "model.build_vocab(tokenized_train)\n",
    "model.train(tokenized_train, total_examples=len(tokenized_train), epochs=10)\n",
    "\n",
    "# Function to convert text documents to a mean vector\n",
    "def document_vector(doc, model):\n",
    "    # Remove out-of-vocabulary words\n",
    "    doc = [word for word in doc if word in model.wv.key_to_index]\n",
    "    if not doc:\n",
    "        return np.zeros(model.vector_size)\n",
    "    return np.mean(model.wv[doc], axis=0)\n",
    "\n",
    "# Vectorize the documents\n",
    "X_train_embeddings = np.array([document_vector(doc, model) for doc in tokenized_train])\n",
    "X_val_embeddings = np.array([document_vector(doc, model) for doc in tokenized_val])\n",
    "X_test_embeddings = np.array([document_vector(doc, model) for doc in tokenized_test])"
   ],
   "metadata": {
    "collapsed": false,
    "ExecuteTime": {
     "end_time": "2024-05-01T08:10:02.544809Z",
     "start_time": "2024-05-01T08:09:56.366247Z"
    }
   }
  },
  {
   "cell_type": "code",
   "execution_count": 17,
   "outputs": [
    {
     "name": "stdout",
     "output_type": "stream",
     "text": [
      "Best FastText-RF Model Accuracy: 0.6713137996219282\n"
     ]
    }
   ],
   "source": [
    "# Classifier Training\n",
    "rf = RandomForestClassifier(n_estimators=511, random_state=RANDOM_SEED)\n",
    "rf.fit(X_train_embeddings, Y_train)\n",
    "Y_pred = rf.predict(X_test_embeddings)\n",
    "score = accuracy_score(Y_test, Y_pred)\n",
    "print(f\"Best FastText-RF Model Accuracy: {score}\")"
   ],
   "metadata": {
    "collapsed": false,
    "ExecuteTime": {
     "end_time": "2024-05-01T08:10:48.937434Z",
     "start_time": "2024-05-01T08:10:02.553558Z"
    }
   }
  }
 ],
 "metadata": {
  "kernelspec": {
   "display_name": "Python 3",
   "language": "python",
   "name": "python3"
  },
  "language_info": {
   "codemirror_mode": {
    "name": "ipython",
    "version": 3
   },
   "file_extension": ".py",
   "mimetype": "text/x-python",
   "name": "python",
   "nbconvert_exporter": "python",
   "pygments_lexer": "ipython3",
   "version": "3.11.9"
  }
 },
 "nbformat": 4,
 "nbformat_minor": 2
}
