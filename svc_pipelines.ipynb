{
 "cells": [
  {
   "cell_type": "markdown",
   "id": "717881f9",
   "metadata": {},
   "source": [
    "# LDA - SVC Pipeline"
   ]
  },
  {
   "cell_type": "markdown",
   "id": "778cef84980d4467",
   "metadata": {
    "collapsed": false
   },
   "source": [
    "## Import necessary packages"
   ]
  },
  {
   "cell_type": "code",
   "execution_count": 1,
   "id": "initial_id",
   "metadata": {
    "ExecuteTime": {
     "end_time": "2024-04-28T14:41:56.071481Z",
     "start_time": "2024-04-28T14:41:51.462844Z"
    },
    "collapsed": true
   },
   "outputs": [],
   "source": [
    "import time\n",
    "import optuna\n",
    "import numpy as np\n",
    "from sklearn.feature_extraction.text import CountVectorizer\n",
    "from sklearn.decomposition import NMF\n",
    "from sklearn.model_selection import train_test_split\n",
    "from sklearn.metrics import accuracy_score, f1_score\n",
    "from sklearn.svm import SVC\n",
    "from sklearn.pipeline import Pipeline\n",
    "from sklearn.ensemble import VotingClassifier\n",
    "\n",
    "from dataset.dataset import Dataset\n",
    "from constants import CLEANED_DATASET_PATH"
   ]
  },
  {
   "cell_type": "markdown",
   "id": "14ffafa63beef650",
   "metadata": {
    "collapsed": false
   },
   "source": [
    "## Constants"
   ]
  },
  {
   "cell_type": "code",
   "execution_count": 2,
   "id": "7e92953c8b90f034",
   "metadata": {
    "ExecuteTime": {
     "end_time": "2024-04-28T14:41:56.086428Z",
     "start_time": "2024-04-28T14:41:56.072476Z"
    },
    "collapsed": false
   },
   "outputs": [],
   "source": [
    "RANDOM_SEED = 0"
   ]
  },
  {
   "cell_type": "markdown",
   "id": "b6be051016d14124",
   "metadata": {
    "collapsed": false
   },
   "source": [
    "## Load the Hate Speech Filipino dataset from Hugging Face"
   ]
  },
  {
   "cell_type": "code",
   "execution_count": 3,
   "id": "88b506f040054ff5",
   "metadata": {
    "ExecuteTime": {
     "end_time": "2024-04-28T14:42:03.875866Z",
     "start_time": "2024-04-28T14:41:56.087424Z"
    },
    "collapsed": false
   },
   "outputs": [
    {
     "name": "stdout",
     "output_type": "stream",
     "text": [
      "Data loaded from dataset/cleaned_dataset.pkl\n"
     ]
    }
   ],
   "source": [
    "dataset = Dataset(full_data_path=CLEANED_DATASET_PATH,\n",
    "                  from_scratch=False,\n",
    "                  split_sizes=[10000, 4232, 4232])\n",
    "dataset.build()\n",
    "\n",
    "X_train = dataset.get_features(split_type=\"train\")\n",
    "Y_train = dataset.get_labels(split_type=\"train\")\n",
    "X_val = dataset.get_features(split_type=\"val\")\n",
    "Y_val = dataset.get_labels(split_type=\"val\")\n",
    "X_test = dataset.get_features(split_type=\"test\")\n",
    "Y_test = dataset.get_labels(split_type=\"test\")"
   ]
  },
  {
   "cell_type": "markdown",
   "id": "e7c8c684144c6b8a",
   "metadata": {
    "collapsed": false
   },
   "source": [
    "## Vectorize the texts to be able to perform LDA"
   ]
  },
  {
   "cell_type": "code",
   "execution_count": 4,
   "id": "19a447fade33a0d8",
   "metadata": {
    "ExecuteTime": {
     "end_time": "2024-04-28T14:42:04.113164Z",
     "start_time": "2024-04-28T14:42:03.907758Z"
    },
    "collapsed": false
   },
   "outputs": [],
   "source": [
    "def create_objective(X_train, Y_train, X_test, Y_test, random_seed):\n",
    "    def objective(trial):\n",
    "        # Suggest values for the hyperparameters\n",
    "        kernel = trial.suggest_categorical(f\"kernel\", [\"rbf\", \"poly\", \"sigmoid\"])\n",
    "        C = trial.suggest_float(f\"C\", 0.1, 10.0)\n",
    "\n",
    "        # Create the pipeline within the trial\n",
    "        pipeline = Pipeline([\n",
    "            (\"vectorizer\", CountVectorizer(max_df=0.95, min_df=2)),\n",
    "            (\"svc\", SVC(probability=True, C=C, kernel=kernel, random_state=random_seed))\n",
    "        ])\n",
    "\n",
    "        # Fit the pipeline\n",
    "        pipeline.fit(X_train, Y_train)\n",
    "\n",
    "        # Evaluate the pipeline\n",
    "        Y_pred = pipeline.predict(X_test)\n",
    "        accuracy = accuracy_score(Y_test, Y_pred)\n",
    "        return accuracy\n",
    "\n",
    "    return objective"
   ]
  },
  {
   "cell_type": "code",
   "execution_count": 5,
   "id": "e9dc27c7",
   "metadata": {},
   "outputs": [
    {
     "name": "stderr",
     "output_type": "stream",
     "text": [
      "[I 2024-05-04 16:01:55,383] A new study created in memory with name: SVC_Pipeline\n",
      "[I 2024-05-04 16:03:20,370] Trial 5 finished with value: 0.6483931947069943 and parameters: {'kernel': 'sigmoid', 'C': 6.82008628737552}. Best is trial 5 with value: 0.6483931947069943.\n",
      "[I 2024-05-04 16:03:22,551] Trial 2 finished with value: 0.650992438563327 and parameters: {'kernel': 'sigmoid', 'C': 5.663324130087262}. Best is trial 2 with value: 0.650992438563327.\n",
      "[I 2024-05-04 16:03:37,313] Trial 11 finished with value: 0.6552457466918714 and parameters: {'kernel': 'sigmoid', 'C': 3.9917939369747355}. Best is trial 11 with value: 0.6552457466918714.\n",
      "[I 2024-05-04 16:03:37,984] Trial 8 finished with value: 0.6550094517958412 and parameters: {'kernel': 'sigmoid', 'C': 4.1782610448748025}. Best is trial 11 with value: 0.6552457466918714.\n",
      "[I 2024-05-04 16:03:43,776] Trial 3 finished with value: 0.6717863894139886 and parameters: {'kernel': 'sigmoid', 'C': 3.3662508253029886}. Best is trial 3 with value: 0.6717863894139886.\n",
      "[I 2024-05-04 16:04:28,363] Trial 7 finished with value: 0.7166824196597353 and parameters: {'kernel': 'sigmoid', 'C': 0.6141480584492689}. Best is trial 7 with value: 0.7166824196597353.\n",
      "[I 2024-05-04 16:04:57,473] Trial 9 finished with value: 0.6968336483931947 and parameters: {'kernel': 'poly', 'C': 2.3074464214497814}. Best is trial 7 with value: 0.7166824196597353.\n",
      "[I 2024-05-04 16:05:16,759] Trial 10 finished with value: 0.7043950850661626 and parameters: {'kernel': 'poly', 'C': 4.527496740769722}. Best is trial 7 with value: 0.7166824196597353.\n",
      "[I 2024-05-04 16:05:30,756] Trial 1 finished with value: 0.7592155009451795 and parameters: {'kernel': 'rbf', 'C': 4.438008982749939}. Best is trial 1 with value: 0.7592155009451795.\n",
      "[I 2024-05-04 16:05:31,370] Trial 0 finished with value: 0.7585066162570888 and parameters: {'kernel': 'rbf', 'C': 5.582595456948847}. Best is trial 1 with value: 0.7592155009451795.\n",
      "[I 2024-05-04 16:05:31,594] Trial 6 finished with value: 0.753780718336484 and parameters: {'kernel': 'rbf', 'C': 6.981115509519668}. Best is trial 1 with value: 0.7592155009451795.\n",
      "[I 2024-05-04 16:05:32,204] Trial 4 finished with value: 0.7533081285444234 and parameters: {'kernel': 'rbf', 'C': 9.277730913487803}. Best is trial 1 with value: 0.7592155009451795.\n",
      "[I 2024-05-04 16:05:47,476] Trial 13 finished with value: 0.6611531190926276 and parameters: {'kernel': 'sigmoid', 'C': 2.7455965540514518}. Best is trial 1 with value: 0.7592155009451795.\n",
      "[I 2024-05-04 16:05:48,595] Trial 16 finished with value: 0.651937618147448 and parameters: {'kernel': 'sigmoid', 'C': 5.331437418072951}. Best is trial 1 with value: 0.7592155009451795.\n",
      "[I 2024-05-04 16:06:28,663] Trial 17 finished with value: 0.6488657844990549 and parameters: {'kernel': 'sigmoid', 'C': 6.0769638377680835}. Best is trial 1 with value: 0.7592155009451795.\n",
      "[I 2024-05-04 16:06:54,963] Trial 12 finished with value: 0.7065217391304348 and parameters: {'kernel': 'poly', 'C': 6.590920674032281}. Best is trial 1 with value: 0.7592155009451795.\n",
      "[I 2024-05-04 16:07:14,426] Trial 14 finished with value: 0.7027410207939508 and parameters: {'kernel': 'poly', 'C': 4.190500298707811}. Best is trial 1 with value: 0.7592155009451795.\n",
      "[I 2024-05-04 16:07:18,213] Trial 15 finished with value: 0.6838374291115312 and parameters: {'kernel': 'poly', 'C': 1.2141277035856943}. Best is trial 1 with value: 0.7592155009451795.\n",
      "[I 2024-05-04 16:07:27,469] Trial 20 finished with value: 0.6552457466918714 and parameters: {'kernel': 'sigmoid', 'C': 4.978552024578095}. Best is trial 1 with value: 0.7592155009451795.\n",
      "[I 2024-05-04 16:08:38,850] Trial 19 finished with value: 0.693289224952741 and parameters: {'kernel': 'poly', 'C': 1.7631441006588757}. Best is trial 1 with value: 0.7592155009451795.\n",
      "[I 2024-05-04 16:08:40,835] Trial 18 finished with value: 0.7081758034026465 and parameters: {'kernel': 'poly', 'C': 6.345432275437963}. Best is trial 1 with value: 0.7592155009451795.\n",
      "[I 2024-05-04 16:09:04,553] Trial 22 finished with value: 0.753780718336484 and parameters: {'kernel': 'rbf', 'C': 9.218547997635763}. Best is trial 1 with value: 0.7592155009451795.\n",
      "[I 2024-05-04 16:09:06,972] Trial 23 finished with value: 0.7554347826086957 and parameters: {'kernel': 'rbf', 'C': 6.279416814397573}. Best is trial 1 with value: 0.7592155009451795.\n",
      "[I 2024-05-04 16:09:08,338] Trial 21 finished with value: 0.753780718336484 and parameters: {'kernel': 'rbf', 'C': 9.903286217480426}. Best is trial 1 with value: 0.7592155009451795.\n",
      "[I 2024-05-04 16:09:16,808] Trial 24 finished with value: 0.7554347826086957 and parameters: {'kernel': 'rbf', 'C': 6.260844129662672}. Best is trial 1 with value: 0.7592155009451795.\n",
      "[I 2024-05-04 16:09:17,267] Trial 25 finished with value: 0.7544896030245747 and parameters: {'kernel': 'rbf', 'C': 8.38293343369684}. Best is trial 1 with value: 0.7592155009451795.\n",
      "[I 2024-05-04 16:09:33,168] Trial 26 finished with value: 0.7544896030245747 and parameters: {'kernel': 'rbf', 'C': 8.28921157374895}. Best is trial 1 with value: 0.7592155009451795.\n",
      "[I 2024-05-04 16:09:39,391] Trial 27 finished with value: 0.7544896030245747 and parameters: {'kernel': 'rbf', 'C': 8.800416896255172}. Best is trial 1 with value: 0.7592155009451795.\n",
      "[I 2024-05-04 16:09:46,918] Trial 28 finished with value: 0.7544896030245747 and parameters: {'kernel': 'rbf', 'C': 8.428149962279472}. Best is trial 1 with value: 0.7592155009451795.\n",
      "[I 2024-05-04 16:09:47,314] Trial 29 finished with value: 0.7535444234404537 and parameters: {'kernel': 'rbf', 'C': 7.808480672828839}. Best is trial 1 with value: 0.7592155009451795.\n"
     ]
    },
    {
     "name": "stdout",
     "output_type": "stream",
     "text": [
      "Best training accuracy: 0.7592155009451795\n",
      "Best training hyperparameters: {'kernel': 'rbf', 'C': 4.438008982749939}\n"
     ]
    }
   ],
   "source": [
    "# Create the objective function\n",
    "objective = create_objective(X_train, Y_train, X_val, Y_val, RANDOM_SEED)\n",
    "\n",
    "# Create an Optuna study object\n",
    "study = optuna.create_study(direction=\"maximize\", study_name=f\"SVC_Pipeline\")\n",
    "\n",
    "# Execute an optimization by running trials\n",
    "study.optimize(objective, n_trials=30, n_jobs=-1)\n",
    "\n",
    "best_svc_params = study.best_trial.params\n",
    "\n",
    "# Best trial result\n",
    "print(f\"Best training accuracy: {study.best_trial.value}\")\n",
    "print(f\"Best training hyperparameters: {best_svc_params}\")"
   ]
  },
  {
   "cell_type": "code",
   "execution_count": 6,
   "id": "63caab72",
   "metadata": {},
   "outputs": [
    {
     "name": "stdout",
     "output_type": "stream",
     "text": [
      "Best test accuracy: 0.7511814744801513\n",
      "Best test F1-score: 0.7235494880546075\n",
      "Best test hyperparameters: {'kernel': 'rbf', 'C': 4.438008982749939}\n"
     ]
    }
   ],
   "source": [
    "# Create and fit the pipeline\n",
    "pipeline = Pipeline([\n",
    "            (\"vectorizer\", CountVectorizer(max_df=0.95, min_df=2)),\n",
    "            (\"svc\", SVC(C=best_svc_params[\"C\"], \n",
    "                        kernel=best_svc_params[\"kernel\"], \n",
    "                        random_state=RANDOM_SEED))\n",
    "        ])\n",
    "\n",
    "# Fit the pipeline\n",
    "pipeline.fit(X_train, Y_train)\n",
    "\n",
    "# Evaluate the pipeline\n",
    "Y_pred = pipeline.predict(X_test)\n",
    "accuracy = accuracy_score(Y_test, Y_pred)\n",
    "f1 = f1_score(Y_test, Y_pred)\n",
    "\n",
    "# Best testing result\n",
    "print(f\"Best test accuracy: {accuracy}\")\n",
    "print(f\"Best test F1-score: {f1}\")\n",
    "print(f\"Best test hyperparameters: {study.best_trial.params}\")"
   ]
  },
  {
   "cell_type": "markdown",
   "id": "5e0d5432",
   "metadata": {},
   "source": [
    "## NMF-SVC Pipeline"
   ]
  },
  {
   "cell_type": "code",
   "execution_count": 7,
   "id": "48702f17",
   "metadata": {},
   "outputs": [],
   "source": [
    "def create_objective(X_train, Y_train, X_test, Y_test, best_svc_params, random_seed):\n",
    "    def objective(trial):\n",
    "        # Suggest values for the hyperparameters\n",
    "        n_topics = trial.suggest_int(\"n_topics\", 50, 300)\n",
    "\n",
    "        # Create the pipeline within the trial\n",
    "        pipeline = Pipeline([\n",
    "            (\"vectorizer\", CountVectorizer(max_df=0.95, min_df=2)),\n",
    "            (\"svc\", SVC(probability=True, \n",
    "                        C=best_svc_params[\"C\"], \n",
    "                        kernel=best_svc_params[\"kernel\"], \n",
    "                        random_state=random_seed))\n",
    "        ])\n",
    "\n",
    "        # Fit the pipeline\n",
    "        pipeline.fit(X_train, Y_train)\n",
    "\n",
    "        # Evaluate the pipeline\n",
    "        Y_pred = pipeline.predict(X_test)\n",
    "        accuracy = accuracy_score(Y_test, Y_pred)\n",
    "        return accuracy\n",
    "\n",
    "    return objective"
   ]
  },
  {
   "cell_type": "code",
   "execution_count": 8,
   "id": "e5d4f205",
   "metadata": {},
   "outputs": [
    {
     "name": "stderr",
     "output_type": "stream",
     "text": [
      "[I 2024-05-04 16:10:07,715] A new study created in memory with name: NMF_SVC_Pipeline\n",
      "[I 2024-05-04 16:16:41,782] Trial 9 finished with value: 0.7592155009451795 and parameters: {'n_topics': 237}. Best is trial 9 with value: 0.7592155009451795.\n",
      "[I 2024-05-04 16:16:41,922] Trial 7 finished with value: 0.7592155009451795 and parameters: {'n_topics': 300}. Best is trial 9 with value: 0.7592155009451795.\n",
      "[I 2024-05-04 16:16:41,926] Trial 8 finished with value: 0.7592155009451795 and parameters: {'n_topics': 133}. Best is trial 9 with value: 0.7592155009451795.\n",
      "[I 2024-05-04 16:16:42,087] Trial 0 finished with value: 0.7592155009451795 and parameters: {'n_topics': 172}. Best is trial 9 with value: 0.7592155009451795.\n",
      "[I 2024-05-04 16:16:42,091] Trial 2 finished with value: 0.7592155009451795 and parameters: {'n_topics': 295}. Best is trial 9 with value: 0.7592155009451795.\n",
      "[I 2024-05-04 16:16:42,153] Trial 3 finished with value: 0.7592155009451795 and parameters: {'n_topics': 159}. Best is trial 9 with value: 0.7592155009451795.\n",
      "[I 2024-05-04 16:16:42,155] Trial 5 finished with value: 0.7592155009451795 and parameters: {'n_topics': 213}. Best is trial 9 with value: 0.7592155009451795.\n",
      "[I 2024-05-04 16:16:42,169] Trial 1 finished with value: 0.7592155009451795 and parameters: {'n_topics': 155}. Best is trial 9 with value: 0.7592155009451795.\n",
      "[I 2024-05-04 16:16:42,227] Trial 4 finished with value: 0.7592155009451795 and parameters: {'n_topics': 275}. Best is trial 9 with value: 0.7592155009451795.\n",
      "[I 2024-05-04 16:16:42,230] Trial 11 finished with value: 0.7592155009451795 and parameters: {'n_topics': 229}. Best is trial 9 with value: 0.7592155009451795.\n",
      "[I 2024-05-04 16:16:42,232] Trial 6 finished with value: 0.7592155009451795 and parameters: {'n_topics': 156}. Best is trial 9 with value: 0.7592155009451795.\n",
      "[I 2024-05-04 16:16:42,274] Trial 10 finished with value: 0.7592155009451795 and parameters: {'n_topics': 60}. Best is trial 9 with value: 0.7592155009451795.\n"
     ]
    }
   ],
   "source": [
    "# Create the objective function\n",
    "objective = create_objective(X_train, Y_train, X_val, Y_val, best_svc_params, RANDOM_SEED)\n",
    "\n",
    "# Create an Optuna study object\n",
    "study = optuna.create_study(direction=\"maximize\", study_name=f\"NMF_SVC_Pipeline\")\n",
    "\n",
    "# Execute an optimization by running trials\n",
    "study.optimize(objective, n_trials=30, n_jobs=-1)\n",
    "\n",
    "best_nmf_params = study.best_trial.params\n",
    "\n",
    "# Best trial result\n",
    "print(f\"Best training accuracy: {study.best_trial.value}\")\n",
    "print(f\"Best training hyperparameters: {best_nmf_params}\")"
   ]
  },
  {
   "cell_type": "code",
   "execution_count": null,
   "id": "9f29a343",
   "metadata": {},
   "outputs": [],
   "source": [
    "# Create and fit the pipeline\n",
    "pipeline = Pipeline([\n",
    "    (\"vectorizer\", CountVectorizer(max_df=0.95, min_df=2)),\n",
    "    (\"nmf\", NMF(n_components=best_nmf_params[\"n_topics\"], \n",
    "                random_state=RANDOM_SEED)),\n",
    "    (\"svc\", SVC(probability=True, \n",
    "                C=best_svc_params[\"C\"], \n",
    "                kernel=best_svc_params[\"kernel\"], \n",
    "                random_state=RANDOM_SEED))\n",
    "])\n",
    "\n",
    "# Fit the pipeline\n",
    "pipeline.fit(X_train, Y_train)\n",
    "\n",
    "# Evaluate the pipeline\n",
    "Y_pred = pipeline.predict(X_test)\n",
    "accuracy = accuracy_score(Y_test, Y_pred)\n",
    "f1 = f1_score(Y_test, Y_pred)\n",
    "\n",
    "# Best testing result\n",
    "print(f\"Best test accuracy: {accuracy}\")\n",
    "print(f\"Best test F1-score: {f1}\")\n",
    "print(f\"Best test hyperparameters: {study.best_trial.params}\")"
   ]
  }
 ],
 "metadata": {
  "kernelspec": {
   "display_name": "Python 3",
   "language": "python",
   "name": "python3"
  },
  "language_info": {
   "codemirror_mode": {
    "name": "ipython",
    "version": 3
   },
   "file_extension": ".py",
   "mimetype": "text/x-python",
   "name": "python",
   "nbconvert_exporter": "python",
   "pygments_lexer": "ipython3",
   "version": "3.10.8"
  }
 },
 "nbformat": 4,
 "nbformat_minor": 5
}
