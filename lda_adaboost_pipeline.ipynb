{
 "cells": [
  {
   "cell_type": "markdown",
   "id": "3b0f1f6e",
   "metadata": {},
   "source": [
    "# LDA - AdaBoost Pipeline "
   ]
  },
  {
   "cell_type": "markdown",
   "id": "778cef84980d4467",
   "metadata": {
    "collapsed": false
   },
   "source": [
    "## Import necessary packages"
   ]
  },
  {
   "cell_type": "code",
   "execution_count": 14,
   "id": "initial_id",
   "metadata": {
    "ExecuteTime": {
     "end_time": "2024-04-30T06:07:55.625272Z",
     "start_time": "2024-04-30T06:07:54.319782Z"
    },
    "collapsed": true
   },
   "outputs": [],
   "source": [
    "import time\n",
    "import optuna\n",
    "import numpy as np\n",
    "from sklearn.feature_extraction.text import CountVectorizer\n",
    "from sklearn.decomposition import LatentDirichletAllocation\n",
    "from sklearn.model_selection import train_test_split\n",
    "from sklearn.metrics import accuracy_score\n",
    "from sklearn.ensemble import AdaBoostClassifier\n",
    "\n",
    "from dataset.dataset import Dataset\n",
    "from constants import CLEANED_DATASET_PATH"
   ]
  },
  {
   "cell_type": "markdown",
   "id": "14ffafa63beef650",
   "metadata": {
    "collapsed": false
   },
   "source": [
    "## Constants"
   ]
  },
  {
   "cell_type": "code",
   "execution_count": 15,
   "id": "7e92953c8b90f034",
   "metadata": {
    "ExecuteTime": {
     "end_time": "2024-04-30T06:07:55.627165Z",
     "start_time": "2024-04-30T06:07:55.625812Z"
    },
    "collapsed": false
   },
   "outputs": [],
   "source": [
    "RANDOM_SEED = 0"
   ]
  },
  {
   "cell_type": "markdown",
   "id": "b6be051016d14124",
   "metadata": {
    "collapsed": false
   },
   "source": [
    "## Load the Hate Speech Filipino dataset from Hugging Face"
   ]
  },
  {
   "cell_type": "code",
   "execution_count": 16,
   "id": "88b506f040054ff5",
   "metadata": {
    "ExecuteTime": {
     "end_time": "2024-04-30T06:08:07.029336Z",
     "start_time": "2024-04-30T06:07:55.974342Z"
    },
    "collapsed": false
   },
   "outputs": [
    {
     "name": "stdout",
     "output_type": "stream",
     "text": [
      "Data loaded from dataset/cleaned_dataset.pkl\n"
     ]
    }
   ],
   "source": [
    "dataset = Dataset()\n",
    "X, Y = dataset.load_from_file(CLEANED_DATASET_PATH)"
   ]
  },
  {
   "cell_type": "code",
   "execution_count": 17,
   "id": "334e0256",
   "metadata": {
    "ExecuteTime": {
     "end_time": "2024-04-30T06:08:07.066937Z",
     "start_time": "2024-04-30T06:08:07.051296Z"
    }
   },
   "outputs": [],
   "source": [
    "# Re-split the dataset into training, validation, and test sets\n",
    "X_train, X_temp, Y_train, Y_temp = train_test_split(X, Y, test_size=0.2, random_state=RANDOM_SEED)\n",
    "X_val, X_test, Y_val, Y_test = train_test_split(X_temp, Y_temp, test_size=0.5, random_state=RANDOM_SEED)"
   ]
  },
  {
   "cell_type": "markdown",
   "id": "e7c8c684144c6b8a",
   "metadata": {
    "collapsed": false
   },
   "source": [
    "## Vectorize the texts to be able to perform LDA"
   ]
  },
  {
   "cell_type": "code",
   "execution_count": 18,
   "id": "19a447fade33a0d8",
   "metadata": {
    "ExecuteTime": {
     "end_time": "2024-04-28T14:42:04.113164Z",
     "start_time": "2024-04-28T14:42:03.907758Z"
    },
    "collapsed": false
   },
   "outputs": [],
   "source": [
    "# Define the CountVectorizer\n",
    "vectorizer = CountVectorizer(max_df=0.95, min_df=2)\n",
    "X_train_vector = vectorizer.fit_transform(X_train)\n",
    "X_val_counts = vectorizer.transform(X_val)\n",
    "X_test_counts = vectorizer.transform(X_test)"
   ]
  },
  {
   "cell_type": "markdown",
   "id": "b43fd5af",
   "metadata": {},
   "source": [
    "## Perform Latent Dirichlet Allocation on the training set"
   ]
  },
  {
   "cell_type": "code",
   "execution_count": 19,
   "id": "725e49a8",
   "metadata": {},
   "outputs": [
    {
     "name": "stdout",
     "output_type": "stream",
     "text": [
      "Performing Latent Dirichlet Allocation for 10 topics\n",
      "Done performing Latent Dirichlet Allocation for 10 topics\n"
     ]
    }
   ],
   "source": [
    "N_TOPICS = 10\n",
    "print(f\"Performing Latent Dirichlet Allocation for {N_TOPICS} topics\")\n",
    "lda = LatentDirichletAllocation(n_components=N_TOPICS, random_state=RANDOM_SEED)\n",
    "X_train_topics = lda.fit_transform(X_train_vector)\n",
    "X_val_topics = lda.transform(X_val_counts)\n",
    "X_test_topics = lda.transform(X_test_counts)\n",
    "print(f\"Done performing Latent Dirichlet Allocation for {N_TOPICS} topics\")"
   ]
  },
  {
   "cell_type": "markdown",
   "id": "26fbc3c8",
   "metadata": {},
   "source": [
    "## Train an AdaBoost model then evaluate its performance"
   ]
  },
  {
   "cell_type": "code",
   "execution_count": 20,
   "id": "ad8a5402",
   "metadata": {},
   "outputs": [],
   "source": [
    "# Define the objective function for Optuna\n",
    "def create_objective(X_train, Y_train, X_test, Y_test):\n",
    "    def objective(trial):\n",
    "        n_estimators = trial.suggest_int(\"n_estimators\", 100, 1000)\n",
    "        learning_rate = trial.suggest_float(\"learning_rate\", 1e-4, 1e-2)\n",
    "        ada = AdaBoostClassifier(n_estimators=n_estimators, \n",
    "                                 learning_rate=learning_rate, \n",
    "                                 algorithm=\"SAMME\", \n",
    "                                 random_state=RANDOM_SEED)\n",
    "        ada.fit(X_train, Y_train)\n",
    "        Y_pred = ada.predict(X_test)\n",
    "        score = accuracy_score(Y_test, Y_pred)\n",
    "        return score\n",
    "    return objective"
   ]
  },
  {
   "cell_type": "code",
   "execution_count": 21,
   "id": "477f108e",
   "metadata": {},
   "outputs": [
    {
     "name": "stderr",
     "output_type": "stream",
     "text": [
      "[I 2024-04-30 21:58:07,010] A new study created in memory with name: LDA_AdaBoost_Pipeline\n",
      "[I 2024-04-30 21:58:10,742] Trial 7 finished with value: 0.5482123510292525 and parameters: {'n_estimators': 150, 'learning_rate': 0.00020552208091210978}. Best is trial 7 with value: 0.5482123510292525.\n",
      "[I 2024-04-30 21:58:13,354] Trial 6 finished with value: 0.5525460455037919 and parameters: {'n_estimators': 262, 'learning_rate': 0.009085275162654003}. Best is trial 6 with value: 0.5525460455037919.\n",
      "[I 2024-04-30 21:58:13,851] Trial 3 finished with value: 0.5482123510292525 and parameters: {'n_estimators': 282, 'learning_rate': 0.004341526648646872}. Best is trial 6 with value: 0.5525460455037919.\n",
      "[I 2024-04-30 21:58:14,207] Trial 4 finished with value: 0.5482123510292525 and parameters: {'n_estimators': 295, 'learning_rate': 0.0016945934749096963}. Best is trial 6 with value: 0.5525460455037919.\n",
      "[I 2024-04-30 21:58:16,854] Trial 5 finished with value: 0.5482123510292525 and parameters: {'n_estimators': 406, 'learning_rate': 0.0008998790894576998}. Best is trial 6 with value: 0.5525460455037919.\n",
      "[I 2024-04-30 21:58:19,107] Trial 10 finished with value: 0.5525460455037919 and parameters: {'n_estimators': 497, 'learning_rate': 0.004813839499596189}. Best is trial 6 with value: 0.5525460455037919.\n",
      "[I 2024-04-30 21:58:21,769] Trial 12 finished with value: 0.5525460455037919 and parameters: {'n_estimators': 477, 'learning_rate': 0.0044475621194633086}. Best is trial 6 with value: 0.5525460455037919.\n",
      "[I 2024-04-30 21:58:22,376] Trial 2 finished with value: 0.5482123510292525 and parameters: {'n_estimators': 641, 'learning_rate': 0.000857130482698117}. Best is trial 6 with value: 0.5525460455037919.\n",
      "[I 2024-04-30 21:58:23,544] Trial 9 finished with value: 0.5525460455037919 and parameters: {'n_estimators': 697, 'learning_rate': 0.003934488032438003}. Best is trial 6 with value: 0.5525460455037919.\n",
      "[I 2024-04-30 21:58:24,026] Trial 18 finished with value: 0.5482123510292525 and parameters: {'n_estimators': 102, 'learning_rate': 0.0018114109064820238}. Best is trial 6 with value: 0.5525460455037919.\n",
      "[I 2024-04-30 21:58:24,409] Trial 8 finished with value: 0.6375947995666306 and parameters: {'n_estimators': 736, 'learning_rate': 0.009317228409408573}. Best is trial 8 with value: 0.6375947995666306.\n",
      "[I 2024-04-30 21:58:26,354] Trial 1 finished with value: 0.5525460455037919 and parameters: {'n_estimators': 850, 'learning_rate': 0.003423199848933666}. Best is trial 8 with value: 0.6375947995666306.\n",
      "[I 2024-04-30 21:58:26,609] Trial 11 finished with value: 0.638136511375948 and parameters: {'n_estimators': 853, 'learning_rate': 0.009446661480410042}. Best is trial 11 with value: 0.638136511375948.\n",
      "[I 2024-04-30 21:58:26,773] Trial 0 finished with value: 0.5525460455037919 and parameters: {'n_estimators': 883, 'learning_rate': 0.0031344300140383223}. Best is trial 11 with value: 0.638136511375948.\n",
      "[I 2024-04-30 21:58:26,823] Trial 19 finished with value: 0.5482123510292525 and parameters: {'n_estimators': 236, 'learning_rate': 0.0021621430902157898}. Best is trial 11 with value: 0.638136511375948.\n",
      "[I 2024-04-30 21:58:27,359] Trial 16 finished with value: 0.5482123510292525 and parameters: {'n_estimators': 515, 'learning_rate': 0.003162516605900135}. Best is trial 11 with value: 0.638136511375948.\n",
      "[I 2024-04-30 21:58:30,431] Trial 13 finished with value: 0.6375947995666306 and parameters: {'n_estimators': 897, 'learning_rate': 0.0073425921957246615}. Best is trial 11 with value: 0.638136511375948.\n",
      "[I 2024-04-30 21:58:30,867] Trial 17 finished with value: 0.6375947995666306 and parameters: {'n_estimators': 678, 'learning_rate': 0.009352567118736152}. Best is trial 11 with value: 0.638136511375948.\n",
      "[I 2024-04-30 21:58:30,981] Trial 14 finished with value: 0.5482123510292525 and parameters: {'n_estimators': 912, 'learning_rate': 0.00025832347137278827}. Best is trial 11 with value: 0.638136511375948.\n",
      "[I 2024-04-30 21:58:31,111] Trial 15 finished with value: 0.6354279523293608 and parameters: {'n_estimators': 907, 'learning_rate': 0.006122702399027336}. Best is trial 11 with value: 0.638136511375948.\n"
     ]
    },
    {
     "name": "stdout",
     "output_type": "stream",
     "text": [
      "Best Accuracy: 0.638136511375948\n",
      "Best hyperparameters: {'n_estimators': 853, 'learning_rate': 0.009446661480410042}\n"
     ]
    }
   ],
   "source": [
    "# Create a study object\n",
    "study = optuna.create_study(direction=\"maximize\", study_name=f\"LDA_AdaBoost_Pipeline\")\n",
    "\n",
    "# Create the study objective\n",
    "objective = create_objective(X_train_topics, Y_train, X_val_topics, Y_val)\n",
    "\n",
    "# Execute an optimization\n",
    "study.optimize(objective, n_trials=20, n_jobs=-1)\n",
    "\n",
    "# Print the best trial results\n",
    "print(f\"Best Accuracy: {study.best_trial.value}\")\n",
    "print(f\"Best hyperparameters: {study.best_trial.params}\")"
   ]
  },
  {
   "cell_type": "code",
   "execution_count": 22,
   "id": "fa819f78",
   "metadata": {},
   "outputs": [
    {
     "name": "stdout",
     "output_type": "stream",
     "text": [
      "Best LDA-RF Model Accuracy: 0.6599891716296697\n"
     ]
    }
   ],
   "source": [
    "best_n_estimators = study.best_trial.params[\"n_estimators\"]\n",
    "best_learning_rate = study.best_trial.params[\"learning_rate\"]\n",
    "\n",
    "ada = AdaBoostClassifier(n_estimators=best_n_estimators, \n",
    "                         learning_rate=best_learning_rate,\n",
    "                         algorithm=\"SAMME\",\n",
    "                         random_state=RANDOM_SEED)\n",
    "ada.fit(X_train_topics, Y_train)\n",
    "Y_pred = ada.predict(X_test_topics)\n",
    "score = accuracy_score(Y_test, Y_pred)\n",
    "print(f\"Best LDA-RF Model Accuracy: {score}\")"
   ]
  },
  {
   "cell_type": "code",
   "execution_count": 23,
   "id": "673d858621f21b8d",
   "metadata": {
    "ExecuteTime": {
     "end_time": "2024-04-30T06:08:08.530776Z",
     "start_time": "2024-04-30T06:08:07.208343Z"
    },
    "collapsed": false
   },
   "outputs": [
    {
     "name": "stdout",
     "output_type": "stream",
     "text": [
      "Performing Non-negative Matrix Factorization for 20 topics\n",
      "Done performing Non-negative Matrix Factorization for 20 topics\n"
     ]
    }
   ],
   "source": [
    "from sklearn.decomposition import NMF\n",
    "\n",
    "N_TOPICS = 20\n",
    "print(f\"Performing Non-negative Matrix Factorization for {N_TOPICS} topics\")\n",
    "nmf = NMF(n_components=N_TOPICS, random_state=RANDOM_SEED)\n",
    "X_train_topics = nmf.fit_transform(X_train_vector)\n",
    "X_val_topics = nmf.transform(X_val_counts)\n",
    "X_test_topics = nmf.transform(X_test_counts)\n",
    "print(f\"Done performing Non-negative Matrix Factorization for {N_TOPICS} topics\")"
   ]
  },
  {
   "cell_type": "code",
   "execution_count": 25,
   "id": "f3e17a6dfed01162",
   "metadata": {
    "ExecuteTime": {
     "end_time": "2024-04-30T06:08:19.966460Z",
     "start_time": "2024-04-30T06:08:08.582639Z"
    },
    "collapsed": false
   },
   "outputs": [
    {
     "name": "stdout",
     "output_type": "stream",
     "text": [
      "Best NMF-RF Model Accuracy: 0.6513264753654575\n"
     ]
    }
   ],
   "source": [
    "ada = AdaBoostClassifier(n_estimators=best_n_estimators, \n",
    "                         learning_rate=best_learning_rate,\n",
    "                         algorithm=\"SAMME\",\n",
    "                         random_state=RANDOM_SEED)\n",
    "ada.fit(X_train_topics, Y_train)\n",
    "Y_pred = ada.predict(X_test_topics)\n",
    "score = accuracy_score(Y_test, Y_pred)\n",
    "print(f\"Best NMF-RF Model Accuracy: {score}\")"
   ]
  }
 ],
 "metadata": {
  "kernelspec": {
   "display_name": "Python 3",
   "language": "python",
   "name": "python3"
  },
  "language_info": {
   "codemirror_mode": {
    "name": "ipython",
    "version": 3
   },
   "file_extension": ".py",
   "mimetype": "text/x-python",
   "name": "python",
   "nbconvert_exporter": "python",
   "pygments_lexer": "ipython3",
   "version": "3.10.8"
  }
 },
 "nbformat": 4,
 "nbformat_minor": 5
}
