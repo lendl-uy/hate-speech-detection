{
 "cells": [
  {
   "cell_type": "markdown",
   "id": "3b0f1f6e",
   "metadata": {},
   "source": [
    "# LDA - AdaBoost Pipeline "
   ]
  },
  {
   "cell_type": "markdown",
   "id": "778cef84980d4467",
   "metadata": {
    "collapsed": false
   },
   "source": [
    "## Import necessary packages"
   ]
  },
  {
   "cell_type": "code",
   "execution_count": 1,
   "id": "initial_id",
   "metadata": {
    "collapsed": true,
    "ExecuteTime": {
     "end_time": "2024-04-30T06:07:55.625272Z",
     "start_time": "2024-04-30T06:07:54.319782Z"
    }
   },
   "outputs": [],
   "source": [
    "import time\n",
    "import optuna\n",
    "import numpy as np\n",
    "from sklearn.feature_extraction.text import CountVectorizer\n",
    "from sklearn.decomposition import LatentDirichletAllocation\n",
    "from sklearn.model_selection import train_test_split\n",
    "from sklearn.metrics import accuracy_score\n",
    "from sklearn.ensemble import AdaBoostClassifier\n",
    "\n",
    "from datasets import load_dataset"
   ]
  },
  {
   "cell_type": "markdown",
   "id": "14ffafa63beef650",
   "metadata": {
    "collapsed": false
   },
   "source": [
    "## Constants"
   ]
  },
  {
   "cell_type": "code",
   "execution_count": 2,
   "id": "7e92953c8b90f034",
   "metadata": {
    "collapsed": false,
    "ExecuteTime": {
     "end_time": "2024-04-30T06:07:55.627165Z",
     "start_time": "2024-04-30T06:07:55.625812Z"
    }
   },
   "outputs": [],
   "source": [
    "RANDOM_SEED = 0"
   ]
  },
  {
   "cell_type": "markdown",
   "id": "b6be051016d14124",
   "metadata": {
    "collapsed": false
   },
   "source": [
    "## Load the Hate Speech Filipino dataset from Hugging Face"
   ]
  },
  {
   "cell_type": "code",
   "execution_count": 3,
   "id": "88b506f040054ff5",
   "metadata": {
    "collapsed": false,
    "ExecuteTime": {
     "end_time": "2024-04-30T06:08:07.029336Z",
     "start_time": "2024-04-30T06:07:55.974342Z"
    }
   },
   "outputs": [],
   "source": [
    "dataset = load_dataset(\"hate_speech_filipino\")"
   ]
  },
  {
   "cell_type": "code",
   "execution_count": 4,
   "id": "e4d8361405fe5257",
   "metadata": {
    "collapsed": false,
    "ExecuteTime": {
     "end_time": "2024-04-30T06:08:07.049564Z",
     "start_time": "2024-04-30T06:08:07.028131Z"
    }
   },
   "outputs": [],
   "source": [
    "train_set = dataset[\"train\"]\n",
    "validation_set = dataset[\"validation\"]\n",
    "test_set = dataset[\"test\"]\n",
    "\n",
    "X_train, Y_train = train_set[\"text\"], train_set[\"label\"]\n",
    "X_val, Y_val = validation_set[\"text\"], validation_set[\"label\"]\n",
    "X_test, Y_test = test_set[\"text\"], test_set[\"label\"]\n",
    "\n",
    "X = X_train + X_val + X_test\n",
    "Y = Y_train + Y_val + Y_test"
   ]
  },
  {
   "cell_type": "code",
   "execution_count": 5,
   "id": "334e0256",
   "metadata": {
    "ExecuteTime": {
     "end_time": "2024-04-30T06:08:07.066937Z",
     "start_time": "2024-04-30T06:08:07.051296Z"
    }
   },
   "outputs": [],
   "source": [
    "# Re-split the dataset into training, validation, and test sets\n",
    "X_train, X_temp, Y_train, Y_temp = train_test_split(X, Y, test_size=0.2, random_state=RANDOM_SEED)\n",
    "X_val, X_test, Y_val, Y_test = train_test_split(X_temp, Y_temp, test_size=0.5, random_state=RANDOM_SEED)"
   ]
  },
  {
   "cell_type": "markdown",
   "id": "e7c8c684144c6b8a",
   "metadata": {
    "collapsed": false
   },
   "source": [
    "## Vectorize the texts to be able to perform LDA"
   ]
  },
  {
   "cell_type": "code",
   "execution_count": 6,
   "id": "19a447fade33a0d8",
   "metadata": {
    "ExecuteTime": {
     "end_time": "2024-04-28T14:42:04.113164Z",
     "start_time": "2024-04-28T14:42:03.907758Z"
    },
    "collapsed": false
   },
   "outputs": [],
   "source": [
    "# Define the CountVectorizer\n",
    "vectorizer = CountVectorizer(max_df=0.95, min_df=2)\n",
    "X_train_vector = vectorizer.fit_transform(X_train)"
   ]
  },
  {
   "cell_type": "markdown",
   "id": "b43fd5af",
   "metadata": {},
   "source": [
    "## Perform Latent Dirichlet Allocation on the training set"
   ]
  },
  {
   "cell_type": "code",
   "execution_count": 7,
   "id": "725e49a8",
   "metadata": {},
   "outputs": [
    {
     "name": "stdout",
     "output_type": "stream",
     "text": [
      "Performing Latent Dirichlet Allocation for 10 topics\n",
      "Done performing Latent Dirichlet Allocation for 10 topics\n"
     ]
    }
   ],
   "source": [
    "N_TOPICS = 10\n",
    "print(f\"Performing Latent Dirichlet Allocation for {N_TOPICS} topics\")\n",
    "lda = LatentDirichletAllocation(n_components=N_TOPICS, random_state=RANDOM_SEED)\n",
    "X_train_topics = lda.fit_transform(X_train_vector)\n",
    "print(f\"Done performing Latent Dirichlet Allocation for {N_TOPICS} topics\")"
   ]
  },
  {
   "cell_type": "code",
   "execution_count": 8,
   "id": "49682143",
   "metadata": {},
   "outputs": [],
   "source": [
    "# Transform validation and test data using the fitted vectorizer and LDA\n",
    "X_val_counts = vectorizer.transform(X_val)\n",
    "X_val_topics = lda.transform(X_val_counts)\n",
    "\n",
    "X_test_counts = vectorizer.transform(X_test)\n",
    "X_test_topics = lda.transform(X_test_counts)"
   ]
  },
  {
   "cell_type": "markdown",
   "id": "26fbc3c8",
   "metadata": {},
   "source": [
    "## Train an AdaBoost model then evaluate its performance"
   ]
  },
  {
   "cell_type": "code",
   "execution_count": 14,
   "id": "ad8a5402",
   "metadata": {},
   "outputs": [],
   "source": [
    "# Define the objective function for Optuna\n",
    "def create_objective(X_train, Y_train, X_test, Y_test):\n",
    "    def objective(trial):\n",
    "        n_estimators = trial.suggest_int(\"n_estimators\", 100, 1000)\n",
    "        learning_rate = trial.suggest_float(\"learning_rate\", 1e-4, 1e-2)\n",
    "        ada = AdaBoostClassifier(n_estimators=n_estimators, learning_rate=learning_rate, algorithm=\"SAMME\", random_state=RANDOM_SEED)\n",
    "        ada.fit(X_train, Y_train)\n",
    "        Y_pred = ada.predict(X_test)\n",
    "        score = accuracy_score(Y_test, Y_pred)\n",
    "        return score\n",
    "    return objective"
   ]
  },
  {
   "cell_type": "code",
   "execution_count": 15,
   "id": "477f108e",
   "metadata": {},
   "outputs": [
    {
     "name": "stderr",
     "output_type": "stream",
     "text": [
      "[I 2024-04-30 00:45:31,563] A new study created in memory with name: LDA_AdaBoost_Pipeline\n",
      "[I 2024-04-30 00:45:35,007] Trial 5 finished with value: 0.5480808914568717 and parameters: {'n_estimators': 123, 'learning_rate': 0.008306560309789691}. Best is trial 5 with value: 0.5480808914568717.\n",
      "[I 2024-04-30 00:45:36,228] Trial 0 finished with value: 0.529508873297565 and parameters: {'n_estimators': 167, 'learning_rate': 0.0002554080913481626}. Best is trial 5 with value: 0.5480808914568717.\n",
      "[I 2024-04-30 00:45:38,137] Trial 3 finished with value: 0.602971522905489 and parameters: {'n_estimators': 239, 'learning_rate': 0.009396362137001157}. Best is trial 3 with value: 0.602971522905489.\n",
      "[I 2024-04-30 00:45:40,598] Trial 10 finished with value: 0.5480808914568717 and parameters: {'n_estimators': 326, 'learning_rate': 0.004993200234210465}. Best is trial 3 with value: 0.602971522905489.\n",
      "[I 2024-04-30 00:45:40,619] Trial 4 finished with value: 0.6075113495666529 and parameters: {'n_estimators': 330, 'learning_rate': 0.0075149180925527205}. Best is trial 4 with value: 0.6075113495666529.\n",
      "[I 2024-04-30 00:45:41,757] Trial 12 finished with value: 0.5480808914568717 and parameters: {'n_estimators': 246, 'learning_rate': 0.006390484309108581}. Best is trial 4 with value: 0.6075113495666529.\n",
      "[I 2024-04-30 00:45:45,099] Trial 1 finished with value: 0.6025588113908378 and parameters: {'n_estimators': 495, 'learning_rate': 0.004080971930031262}. Best is trial 4 with value: 0.6075113495666529.\n",
      "[I 2024-04-30 00:45:48,925] Trial 2 finished with value: 0.6075113495666529 and parameters: {'n_estimators': 640, 'learning_rate': 0.005536533767499871}. Best is trial 4 with value: 0.6075113495666529.\n",
      "[I 2024-04-30 00:45:51,247] Trial 8 finished with value: 0.6075113495666529 and parameters: {'n_estimators': 720, 'learning_rate': 0.004184311257258521}. Best is trial 4 with value: 0.6075113495666529.\n",
      "[I 2024-04-30 00:45:51,520] Trial 6 finished with value: 0.5480808914568717 and parameters: {'n_estimators': 725, 'learning_rate': 0.0006343757125279462}. Best is trial 4 with value: 0.6075113495666529.\n",
      "[I 2024-04-30 00:45:51,968] Trial 13 finished with value: 0.6343375980189847 and parameters: {'n_estimators': 580, 'learning_rate': 0.007575917059414426}. Best is trial 13 with value: 0.6343375980189847.\n",
      "[I 2024-04-30 00:45:52,019] Trial 11 finished with value: 0.6343375980189847 and parameters: {'n_estimators': 750, 'learning_rate': 0.008002327950524867}. Best is trial 13 with value: 0.6343375980189847.\n",
      "[I 2024-04-30 00:45:53,500] Trial 18 finished with value: 0.6025588113908378 and parameters: {'n_estimators': 331, 'learning_rate': 0.0064203082681029275}. Best is trial 13 with value: 0.6343375980189847.\n",
      "[I 2024-04-30 00:45:54,601] Trial 9 finished with value: 0.6343375980189847 and parameters: {'n_estimators': 893, 'learning_rate': 0.007689475125941934}. Best is trial 13 with value: 0.6343375980189847.\n",
      "[I 2024-04-30 00:45:55,390] Trial 7 finished with value: 0.633099463475031 and parameters: {'n_estimators': 936, 'learning_rate': 0.004100349092279988}. Best is trial 13 with value: 0.6343375980189847.\n",
      "[I 2024-04-30 00:45:56,473] Trial 14 finished with value: 0.6343375980189847 and parameters: {'n_estimators': 766, 'learning_rate': 0.00952946026692474}. Best is trial 13 with value: 0.6343375980189847.\n",
      "[I 2024-04-30 00:45:58,049] Trial 19 finished with value: 0.6075113495666529 and parameters: {'n_estimators': 455, 'learning_rate': 0.007055264759329179}. Best is trial 13 with value: 0.6343375980189847.\n",
      "[I 2024-04-30 00:45:58,492] Trial 16 finished with value: 0.6343375980189847 and parameters: {'n_estimators': 798, 'learning_rate': 0.005783060139309563}. Best is trial 13 with value: 0.6343375980189847.\n",
      "[I 2024-04-30 00:45:59,134] Trial 17 finished with value: 0.6343375980189847 and parameters: {'n_estimators': 793, 'learning_rate': 0.009624428643721284}. Best is trial 13 with value: 0.6343375980189847.\n",
      "[I 2024-04-30 00:46:00,827] Trial 15 finished with value: 0.6343375980189847 and parameters: {'n_estimators': 948, 'learning_rate': 0.006593048700236047}. Best is trial 13 with value: 0.6343375980189847.\n"
     ]
    },
    {
     "name": "stdout",
     "output_type": "stream",
     "text": [
      "Best Accuracy: 0.6343375980189847\n",
      "Best hyperparameters: {'n_estimators': 580, 'learning_rate': 0.007575917059414426}\n"
     ]
    }
   ],
   "source": [
    "# Create a study object\n",
    "study = optuna.create_study(direction=\"maximize\", study_name=f\"LDA_AdaBoost_Pipeline\")\n",
    "\n",
    "# Create the study objective\n",
    "objective = create_objective(X_train_topics, Y_train, X_val_topics, Y_val)\n",
    "\n",
    "# Execute an optimization\n",
    "study.optimize(objective, n_trials=20, n_jobs=-1)\n",
    "\n",
    "# Print the best trial results\n",
    "print(f\"Best Accuracy: {study.best_trial.value}\")\n",
    "print(f\"Best hyperparameters: {study.best_trial.params}\")"
   ]
  },
  {
   "cell_type": "code",
   "execution_count": 16,
   "id": "fa819f78",
   "metadata": {},
   "outputs": [
    {
     "name": "stdout",
     "output_type": "stream",
     "text": [
      "Best LDA-RF Model Accuracy: 0.6307755775577558\n"
     ]
    }
   ],
   "source": [
    "best_n_estimators = study.best_trial.params[\"n_estimators\"]\n",
    "best_learning_rate = study.best_trial.params[\"learning_rate\"]\n",
    "\n",
    "ada = AdaBoostClassifier(n_estimators=best_n_estimators, \n",
    "                         learning_rate=best_learning_rate,\n",
    "                         algorithm=\"SAMME\",\n",
    "                         random_state=RANDOM_SEED)\n",
    "ada.fit(X_train_topics, Y_train)\n",
    "Y_pred = ada.predict(X_test_topics)\n",
    "score = accuracy_score(Y_test, Y_pred)\n",
    "print(f\"Best LDA-RF Model Accuracy: {score}\")"
   ]
  },
  {
   "cell_type": "code",
   "execution_count": 6,
   "outputs": [],
   "source": [
    "from sklearn.feature_extraction.text import TfidfVectorizer\n",
    "\n",
    "tfidf_vectorizer = TfidfVectorizer(max_df=0.95, min_df=2)\n",
    "X_train_vector = tfidf_vectorizer.fit_transform(X_train)"
   ],
   "metadata": {
    "collapsed": false,
    "ExecuteTime": {
     "end_time": "2024-04-30T06:08:07.207530Z",
     "start_time": "2024-04-30T06:08:07.114586Z"
    }
   },
   "id": "9cd23b9b6e9ceec1"
  },
  {
   "cell_type": "code",
   "execution_count": 7,
   "outputs": [
    {
     "name": "stdout",
     "output_type": "stream",
     "text": [
      "Performing Non-negative Matrix Factorization for 10 topics\n",
      "Done performing Non-negative Matrix Factorization for 10 topics\n"
     ]
    }
   ],
   "source": [
    "from sklearn.decomposition import NMF\n",
    "\n",
    "N_TOPICS = 10\n",
    "print(f\"Performing Non-negative Matrix Factorization for {N_TOPICS} topics\")\n",
    "nmf = NMF(n_components=N_TOPICS, random_state=RANDOM_SEED)\n",
    "X_train_topics = nmf.fit_transform(X_train_vector)\n",
    "print(f\"Done performing Non-negative Matrix Factorization for {N_TOPICS} topics\")"
   ],
   "metadata": {
    "collapsed": false,
    "ExecuteTime": {
     "end_time": "2024-04-30T06:08:08.530776Z",
     "start_time": "2024-04-30T06:08:07.208343Z"
    }
   },
   "id": "673d858621f21b8d"
  },
  {
   "cell_type": "code",
   "execution_count": 8,
   "outputs": [],
   "source": [
    "# Transform validation and test data using the fitted vectorizer and LDA\n",
    "X_val_counts = tfidf_vectorizer.transform(X_val)\n",
    "X_val_topics = nmf.transform(X_val_counts)\n",
    "\n",
    "X_test_counts = tfidf_vectorizer.transform(X_test)\n",
    "X_test_topics = nmf.transform(X_test_counts)"
   ],
   "metadata": {
    "collapsed": false,
    "ExecuteTime": {
     "end_time": "2024-04-30T06:08:08.602556Z",
     "start_time": "2024-04-30T06:08:08.529666Z"
    }
   },
   "id": "93d43e840571c0a0"
  },
  {
   "cell_type": "code",
   "execution_count": 9,
   "outputs": [
    {
     "name": "stdout",
     "output_type": "stream",
     "text": [
      "Best LDA-RF Model Accuracy: 0.6567656765676567\n"
     ]
    }
   ],
   "source": [
    "ada = AdaBoostClassifier(n_estimators=948, \n",
    "                         learning_rate=0.006593048700236047,\n",
    "                         algorithm=\"SAMME\",\n",
    "                         random_state=RANDOM_SEED)\n",
    "ada.fit(X_train_topics, Y_train)\n",
    "Y_pred = ada.predict(X_test_topics)\n",
    "score = accuracy_score(Y_test, Y_pred)\n",
    "print(f\"Best LDA-RF Model Accuracy: {score}\")"
   ],
   "metadata": {
    "collapsed": false,
    "ExecuteTime": {
     "end_time": "2024-04-30T06:08:19.966460Z",
     "start_time": "2024-04-30T06:08:08.582639Z"
    }
   },
   "id": "f3e17a6dfed01162"
  }
 ],
 "metadata": {
  "kernelspec": {
   "display_name": "Python 3",
   "language": "python",
   "name": "python3"
  },
  "language_info": {
   "codemirror_mode": {
    "name": "ipython",
    "version": 3
   },
   "file_extension": ".py",
   "mimetype": "text/x-python",
   "name": "python",
   "nbconvert_exporter": "python",
   "pygments_lexer": "ipython3",
   "version": "3.10.8"
  }
 },
 "nbformat": 4,
 "nbformat_minor": 5
}
