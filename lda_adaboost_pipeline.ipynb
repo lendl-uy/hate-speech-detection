{
 "cells": [
  {
   "cell_type": "markdown",
   "id": "3b0f1f6e",
   "metadata": {},
   "source": [
    "# LDA - AdaBoost Pipeline "
   ]
  },
  {
   "cell_type": "markdown",
   "id": "778cef84980d4467",
   "metadata": {
    "collapsed": false
   },
   "source": [
    "## Import necessary packages"
   ]
  },
  {
   "cell_type": "code",
   "execution_count": 1,
   "id": "initial_id",
   "metadata": {
    "ExecuteTime": {
     "end_time": "2024-04-30T06:07:55.625272Z",
     "start_time": "2024-04-30T06:07:54.319782Z"
    },
    "collapsed": true
   },
   "outputs": [],
   "source": [
    "import time\n",
    "import optuna\n",
    "import numpy as np\n",
    "from sklearn.feature_extraction.text import CountVectorizer\n",
    "from sklearn.decomposition import LatentDirichletAllocation, NMF\n",
    "from sklearn.model_selection import train_test_split\n",
    "from sklearn.metrics import accuracy_score\n",
    "from sklearn.ensemble import AdaBoostClassifier\n",
    "\n",
    "from dataset.dataset import Dataset\n",
    "from constants import CLEANED_DATASET_PATH"
   ]
  },
  {
   "cell_type": "markdown",
   "id": "14ffafa63beef650",
   "metadata": {
    "collapsed": false
   },
   "source": [
    "## Constants"
   ]
  },
  {
   "cell_type": "code",
   "execution_count": 2,
   "id": "7e92953c8b90f034",
   "metadata": {
    "ExecuteTime": {
     "end_time": "2024-04-30T06:07:55.627165Z",
     "start_time": "2024-04-30T06:07:55.625812Z"
    },
    "collapsed": false
   },
   "outputs": [],
   "source": [
    "RANDOM_SEED = 0"
   ]
  },
  {
   "cell_type": "markdown",
   "id": "b6be051016d14124",
   "metadata": {
    "collapsed": false
   },
   "source": [
    "## Load the Hate Speech Filipino dataset from Hugging Face"
   ]
  },
  {
   "cell_type": "code",
   "execution_count": 3,
   "id": "88b506f040054ff5",
   "metadata": {
    "ExecuteTime": {
     "end_time": "2024-04-30T06:08:07.029336Z",
     "start_time": "2024-04-30T06:07:55.974342Z"
    },
    "collapsed": false
   },
   "outputs": [
    {
     "name": "stdout",
     "output_type": "stream",
     "text": [
      "Data loaded from dataset/cleaned_dataset.pkl\n"
     ]
    }
   ],
   "source": [
    "dataset = Dataset(full_data_path=CLEANED_DATASET_PATH,\n",
    "                  from_scratch=False,\n",
    "                  split_sizes=[10000, 4232, 4232])\n",
    "dataset.build()\n",
    "\n",
    "X_train = dataset.get_features(split_type=\"train\")\n",
    "Y_train = dataset.get_labels(split_type=\"train\")\n",
    "X_val = dataset.get_features(split_type=\"val\")\n",
    "Y_val = dataset.get_labels(split_type=\"val\")\n",
    "X_test = dataset.get_features(split_type=\"test\")\n",
    "Y_test = dataset.get_labels(split_type=\"test\")"
   ]
  },
  {
   "cell_type": "code",
   "execution_count": 4,
   "id": "334e0256",
   "metadata": {
    "ExecuteTime": {
     "end_time": "2024-04-30T06:08:07.066937Z",
     "start_time": "2024-04-30T06:08:07.051296Z"
    }
   },
   "outputs": [],
   "source": [
    "# Re-split the dataset into training, validation, and test sets\n",
    "# X_train, X_temp, Y_train, Y_temp = train_test_split(X, Y, test_size=0.2, random_state=RANDOM_SEED)\n",
    "# X_val, X_test, Y_val, Y_test = train_test_split(X_temp, Y_temp, test_size=0.5, random_state=RANDOM_SEED)"
   ]
  },
  {
   "cell_type": "markdown",
   "id": "e7c8c684144c6b8a",
   "metadata": {
    "collapsed": false
   },
   "source": [
    "## Vectorize the texts to be able to perform LDA"
   ]
  },
  {
   "cell_type": "code",
   "execution_count": 5,
   "id": "19a447fade33a0d8",
   "metadata": {
    "ExecuteTime": {
     "end_time": "2024-04-28T14:42:04.113164Z",
     "start_time": "2024-04-28T14:42:03.907758Z"
    },
    "collapsed": false
   },
   "outputs": [],
   "source": [
    "# Define the CountVectorizer\n",
    "vectorizer = CountVectorizer(max_df=0.95, min_df=2)\n",
    "X_train_vector = vectorizer.fit_transform(X_train)\n",
    "X_val_counts = vectorizer.transform(X_val)\n",
    "X_test_counts = vectorizer.transform(X_test)"
   ]
  },
  {
   "cell_type": "markdown",
   "id": "b43fd5af",
   "metadata": {},
   "source": [
    "## Perform Latent Dirichlet Allocation on the training set"
   ]
  },
  {
   "cell_type": "code",
   "execution_count": 6,
   "id": "725e49a8",
   "metadata": {},
   "outputs": [],
   "source": [
    "# N_TOPICS = 10\n",
    "# print(f\"Performing Latent Dirichlet Allocation for {N_TOPICS} topics\")\n",
    "# lda = LatentDirichletAllocation(n_components=N_TOPICS, random_state=RANDOM_SEED)\n",
    "# X_train_topics = lda.fit_transform(X_train_vector)\n",
    "# X_val_topics = lda.transform(X_val_counts)\n",
    "# X_test_topics = lda.transform(X_test_counts)\n",
    "# print(f\"Done performing Latent Dirichlet Allocation for {N_TOPICS} topics\")"
   ]
  },
  {
   "cell_type": "markdown",
   "id": "212713f2",
   "metadata": {},
   "source": [
    "## Perform Non-negative Matrix Factorization on the training set"
   ]
  },
  {
   "cell_type": "code",
   "execution_count": 7,
   "id": "93d93859",
   "metadata": {},
   "outputs": [
    {
     "name": "stdout",
     "output_type": "stream",
     "text": [
      "Performing Non-negative Matrix Factorization for 20 topics\n",
      "Done performing Non-negative Matrix Factorization for 20 topics\n"
     ]
    }
   ],
   "source": [
    "N_TOPICS = 20\n",
    "print(f\"Performing Non-negative Matrix Factorization for {N_TOPICS} topics\")\n",
    "nmf = NMF(n_components=N_TOPICS, random_state=RANDOM_SEED)\n",
    "X_train_topics = nmf.fit_transform(X_train_vector)\n",
    "X_val_topics = nmf.transform(X_val_counts)\n",
    "X_test_topics = nmf.transform(X_test_counts)\n",
    "print(f\"Done performing Non-negative Matrix Factorization for {N_TOPICS} topics\")"
   ]
  },
  {
   "cell_type": "markdown",
   "id": "26fbc3c8",
   "metadata": {},
   "source": [
    "## Train an AdaBoost model then evaluate its performance"
   ]
  },
  {
   "cell_type": "code",
   "execution_count": 8,
   "id": "ad8a5402",
   "metadata": {},
   "outputs": [],
   "source": [
    "# Define the objective function for Optuna\n",
    "def create_objective(X_train, Y_train, X_test, Y_test):\n",
    "    def objective(trial):\n",
    "        n_estimators = trial.suggest_int(\"n_estimators\", 100, 1000)\n",
    "        learning_rate = trial.suggest_float(\"learning_rate\", 1e-4, 1e-2)\n",
    "        ada = AdaBoostClassifier(n_estimators=n_estimators, \n",
    "                                 learning_rate=learning_rate, \n",
    "                                 algorithm=\"SAMME\", \n",
    "                                 random_state=RANDOM_SEED)\n",
    "        ada.fit(X_train, Y_train)\n",
    "        Y_pred = ada.predict(X_test)\n",
    "        score = accuracy_score(Y_test, Y_pred)\n",
    "        return score\n",
    "    return objective"
   ]
  },
  {
   "cell_type": "code",
   "execution_count": 9,
   "id": "477f108e",
   "metadata": {},
   "outputs": [
    {
     "name": "stderr",
     "output_type": "stream",
     "text": [
      "[I 2024-04-30 23:32:24,269] A new study created in memory with name: LDA_AdaBoost_Pipeline\n",
      "[I 2024-04-30 23:32:26,849] Trial 8 finished with value: 0.6469754253308129 and parameters: {'n_estimators': 108, 'learning_rate': 0.008932898928368344}. Best is trial 8 with value: 0.6469754253308129.\n",
      "[I 2024-04-30 23:32:27,637] Trial 5 finished with value: 0.6141304347826086 and parameters: {'n_estimators': 149, 'learning_rate': 0.003494839849877383}. Best is trial 8 with value: 0.6469754253308129.\n",
      "[I 2024-04-30 23:32:28,155] Trial 1 finished with value: 0.6141304347826086 and parameters: {'n_estimators': 166, 'learning_rate': 0.0007928527682013344}. Best is trial 8 with value: 0.6469754253308129.\n",
      "[I 2024-04-30 23:32:29,090] Trial 3 finished with value: 0.6469754253308129 and parameters: {'n_estimators': 205, 'learning_rate': 0.004335612815516712}. Best is trial 8 with value: 0.6469754253308129.\n",
      "[I 2024-04-30 23:32:29,952] Trial 9 finished with value: 0.6469754253308129 and parameters: {'n_estimators': 242, 'learning_rate': 0.003799164343886884}. Best is trial 8 with value: 0.6469754253308129.\n",
      "[I 2024-04-30 23:32:32,421] Trial 16 finished with value: 0.6141304347826086 and parameters: {'n_estimators': 104, 'learning_rate': 0.003222010641790325}. Best is trial 8 with value: 0.6469754253308129.\n",
      "[I 2024-04-30 23:32:35,177] Trial 14 finished with value: 0.6436672967863895 and parameters: {'n_estimators': 295, 'learning_rate': 0.009280708960145177}. Best is trial 8 with value: 0.6469754253308129.\n",
      "[I 2024-04-30 23:32:38,780] Trial 2 finished with value: 0.6141304347826086 and parameters: {'n_estimators': 617, 'learning_rate': 0.000786044582537742}. Best is trial 8 with value: 0.6469754253308129.\n",
      "[I 2024-04-30 23:32:39,472] Trial 15 finished with value: 0.6434310018903592 and parameters: {'n_estimators': 458, 'learning_rate': 0.005975838619588331}. Best is trial 8 with value: 0.6469754253308129.\n",
      "[I 2024-04-30 23:32:40,211] Trial 10 finished with value: 0.6476843100189036 and parameters: {'n_estimators': 710, 'learning_rate': 0.007715807170646947}. Best is trial 10 with value: 0.6476843100189036.\n",
      "[I 2024-04-30 23:32:41,517] Trial 11 finished with value: 0.6469754253308129 and parameters: {'n_estimators': 786, 'learning_rate': 0.001074149207000042}. Best is trial 10 with value: 0.6476843100189036.\n",
      "[I 2024-04-30 23:32:42,418] Trial 7 finished with value: 0.6469754253308129 and parameters: {'n_estimators': 819, 'learning_rate': 0.0011429985626790929}. Best is trial 10 with value: 0.6476843100189036.\n",
      "[I 2024-04-30 23:32:42,675] Trial 0 finished with value: 0.6455576559546313 and parameters: {'n_estimators': 854, 'learning_rate': 0.0020516502149526736}. Best is trial 10 with value: 0.6476843100189036.\n",
      "[I 2024-04-30 23:32:43,340] Trial 17 finished with value: 0.6474480151228733 and parameters: {'n_estimators': 542, 'learning_rate': 0.007901423197941675}. Best is trial 10 with value: 0.6476843100189036.\n",
      "[I 2024-04-30 23:32:43,354] Trial 13 finished with value: 0.6455576559546313 and parameters: {'n_estimators': 759, 'learning_rate': 0.004056307151378185}. Best is trial 10 with value: 0.6476843100189036.\n",
      "[I 2024-04-30 23:32:43,390] Trial 18 finished with value: 0.6469754253308129 and parameters: {'n_estimators': 427, 'learning_rate': 0.008901919951974067}. Best is trial 10 with value: 0.6476843100189036.\n",
      "[I 2024-04-30 23:32:44,229] Trial 6 finished with value: 0.6507561436672968 and parameters: {'n_estimators': 989, 'learning_rate': 0.008115879344235508}. Best is trial 6 with value: 0.6507561436672968.\n",
      "[I 2024-04-30 23:32:44,350] Trial 4 finished with value: 0.6462665406427222 and parameters: {'n_estimators': 998, 'learning_rate': 0.002021248858895613}. Best is trial 6 with value: 0.6507561436672968.\n",
      "[I 2024-04-30 23:32:44,807] Trial 12 finished with value: 0.6141304347826086 and parameters: {'n_estimators': 921, 'learning_rate': 0.0007122148979638834}. Best is trial 6 with value: 0.6507561436672968.\n",
      "[I 2024-04-30 23:32:50,561] Trial 19 finished with value: 0.6472117202268431 and parameters: {'n_estimators': 897, 'learning_rate': 0.005533615530343523}. Best is trial 6 with value: 0.6507561436672968.\n"
     ]
    },
    {
     "name": "stdout",
     "output_type": "stream",
     "text": [
      "Best Accuracy: 0.6507561436672968\n",
      "Best hyperparameters: {'n_estimators': 989, 'learning_rate': 0.008115879344235508}\n"
     ]
    }
   ],
   "source": [
    "# Create a study object\n",
    "# study = optuna.create_study(direction=\"maximize\", study_name=f\"LDA_AdaBoost_Pipeline\")\n",
    "study = optuna.create_study(direction=\"maximize\", study_name=f\"NMF_AdaBoost_Pipeline\")\n",
    "\n",
    "\n",
    "# Create the study objective\n",
    "objective = create_objective(X_train_topics, Y_train, X_val_topics, Y_val)\n",
    "\n",
    "# Execute an optimization\n",
    "study.optimize(objective, n_trials=20, n_jobs=-1)\n",
    "\n",
    "# Print the best trial results\n",
    "print(f\"Best Accuracy: {study.best_trial.value}\")\n",
    "print(f\"Best hyperparameters: {study.best_trial.params}\")"
   ]
  },
  {
   "cell_type": "code",
   "execution_count": 10,
   "id": "fa819f78",
   "metadata": {},
   "outputs": [
    {
     "name": "stdout",
     "output_type": "stream",
     "text": [
      "Best NMF-AdaBoost Model Accuracy: 0.6415406427221172\n"
     ]
    }
   ],
   "source": [
    "best_n_estimators = study.best_trial.params[\"n_estimators\"]\n",
    "best_learning_rate = study.best_trial.params[\"learning_rate\"]\n",
    "\n",
    "ada = AdaBoostClassifier(n_estimators=best_n_estimators, \n",
    "                         learning_rate=best_learning_rate,\n",
    "                         algorithm=\"SAMME\",\n",
    "                         random_state=RANDOM_SEED)\n",
    "ada.fit(X_train_topics, Y_train)\n",
    "Y_pred = ada.predict(X_test_topics)\n",
    "score = accuracy_score(Y_test, Y_pred)\n",
    "# print(f\"Best LDA-AdaBoost Model Accuracy: {score}\")\n",
    "print(f\"Best NMF-AdaBoost Model Accuracy: {score}\")"
   ]
  }
 ],
 "metadata": {
  "kernelspec": {
   "display_name": "Python 3",
   "language": "python",
   "name": "python3"
  },
  "language_info": {
   "codemirror_mode": {
    "name": "ipython",
    "version": 3
   },
   "file_extension": ".py",
   "mimetype": "text/x-python",
   "name": "python",
   "nbconvert_exporter": "python",
   "pygments_lexer": "ipython3",
   "version": "3.10.8"
  }
 },
 "nbformat": 4,
 "nbformat_minor": 5
}
