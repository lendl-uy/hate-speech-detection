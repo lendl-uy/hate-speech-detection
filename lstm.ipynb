{
 "cells": [
  {
   "cell_type": "markdown",
   "metadata": {},
   "source": [
    "# Classifying Hate Speech using the LSTM Architecture\n",
    "\n",
    "Implemented models:\n",
    "- Dense Sequential Network\n",
    "- LSTM\n",
    "- BiLSTM\n",
    "- GRU\n",
    "\n",
    "Models are currently overfitting :(\n",
    "\n",
    "Reference:\n",
    "- https://nzlul.medium.com/the-classification-of-text-messages-using-lstm-bi-lstm-and-gru-f79b207f90ad"
   ]
  },
  {
   "cell_type": "code",
   "execution_count": 5,
   "metadata": {},
   "outputs": [],
   "source": [
    "# Load, explore and plot data\n",
    "import numpy as np\n",
    "import pandas as pd\n",
    "import seaborn as sns\n",
    "import matplotlib.pyplot as plt\n",
    "%matplotlib inline\n",
    "\n",
    "# Train test split\n",
    "from sklearn.model_selection import train_test_split\n",
    "\n",
    "# Text pre-processing\n",
    "import tensorflow as tf\n",
    "from tensorflow.keras.preprocessing.text import Tokenizer\n",
    "from tensorflow.keras.preprocessing.sequence import pad_sequences\n",
    "from tensorflow.keras.callbacks import EarlyStopping\n",
    "from tensorflow.keras.metrics import Precision, Recall, AUC\n",
    "\n",
    "# Modeling\n",
    "from tensorflow.keras.models import Sequential\n",
    "from tensorflow.keras.layers import LSTM, GRU, Dense, Embedding, Dropout, GlobalAveragePooling1D, Flatten, SpatialDropout1D, Bidirectional"
   ]
  },
  {
   "cell_type": "code",
   "execution_count": 6,
   "metadata": {},
   "outputs": [],
   "source": [
    "from dataset.dataset import Dataset\n",
    "from constants import *"
   ]
  },
  {
   "cell_type": "code",
   "execution_count": 7,
   "metadata": {},
   "outputs": [],
   "source": [
    "from collections import Counter\n",
    "import time"
   ]
  },
  {
   "cell_type": "code",
   "execution_count": 8,
   "metadata": {},
   "outputs": [],
   "source": [
    "RANDOM_SEED = 0"
   ]
  },
  {
   "cell_type": "code",
   "execution_count": 9,
   "metadata": {},
   "outputs": [
    {
     "name": "stdout",
     "output_type": "stream",
     "text": [
      "Data loaded from dataset/cleaned_dataset.pkl\n"
     ]
    }
   ],
   "source": [
    "# Load cleaned dataset\n",
    "dataset = Dataset(full_data_path=CLEANED_DATASET_PATH,\n",
    "                  from_scratch=False,\n",
    "                  split_sizes=split_sizes_cleaned)\n",
    "dataset.build()\n",
    "\n",
    "X_train = dataset.get_features(split_type=\"train\")\n",
    "Y_train = dataset.get_labels(split_type=\"train\")\n",
    "X_val = dataset.get_features(split_type=\"val\")\n",
    "Y_val = dataset.get_labels(split_type=\"val\")\n",
    "X_test = dataset.get_features(split_type=\"test\")\n",
    "Y_test = dataset.get_labels(split_type=\"test\")"
   ]
  },
  {
   "cell_type": "code",
   "execution_count": 10,
   "metadata": {},
   "outputs": [],
   "source": [
    "Y_train = np.array(Y_train)\n",
    "Y_val = np.array(Y_val)\n",
    "Y_test = np.array(Y_test)"
   ]
  },
  {
   "cell_type": "code",
   "execution_count": 45,
   "metadata": {},
   "outputs": [],
   "source": [
    "Y_train = Y_train.astype('float32')\n",
    "Y_val = Y_val.astype('float32')\n",
    "Y_test = Y_test.astype('float32')"
   ]
  },
  {
   "cell_type": "markdown",
   "metadata": {},
   "source": [
    "## Tokenization"
   ]
  },
  {
   "cell_type": "code",
   "execution_count": 11,
   "metadata": {},
   "outputs": [],
   "source": [
    "tokenizer = Tokenizer(char_level = False,\n",
    "                      oov_token = '<OOV>')\n",
    "tokenizer.fit_on_texts(X_train)"
   ]
  },
  {
   "cell_type": "code",
   "execution_count": 12,
   "metadata": {},
   "outputs": [
    {
     "data": {
      "text/plain": [
       "14120"
      ]
     },
     "execution_count": 12,
     "metadata": {},
     "output_type": "execute_result"
    }
   ],
   "source": [
    "# Get the word_index\n",
    "word_index = tokenizer.word_index\n",
    "total_words = len(word_index)\n",
    "total_words"
   ]
  },
  {
   "cell_type": "code",
   "execution_count": 13,
   "metadata": {},
   "outputs": [],
   "source": [
    "word_counts = tokenizer.word_counts"
   ]
  },
  {
   "cell_type": "code",
   "execution_count": 14,
   "metadata": {},
   "outputs": [
    {
     "data": {
      "image/png": "[encoded data removed]",
      "text/plain": [
       "<Figure size 640x480 with 1 Axes>"
      ]
     },
     "metadata": {},
     "output_type": "display_data"
    }
   ],
   "source": [
    "# Count distribution\n",
    "count_distribution = Counter(word_counts.values())\n",
    "\n",
    "# Plot count distribution\n",
    "max_word_count = 10  # Maximum word count to consider\n",
    "plt.bar(*zip(*sorted(count_distribution.items())), color='skyblue')\n",
    "plt.xlabel('Word Count')\n",
    "plt.ylabel('Frequency')\n",
    "plt.title('Word Count Distribution')\n",
    "plt.xticks(range(1, max_word_count + 1))\n",
    "plt.xlim(0.5, max_word_count + 0.5)  # Adjust x-axis limit\n",
    "plt.grid(axis='y')\n",
    "plt.show()"
   ]
  },
  {
   "cell_type": "markdown",
   "metadata": {},
   "source": [
    "We have a significant number of words that occur only once, so we exclude them from the vocab."
   ]
  },
  {
   "cell_type": "code",
   "execution_count": 15,
   "metadata": {},
   "outputs": [
    {
     "name": "stdout",
     "output_type": "stream",
     "text": [
      "5680\n"
     ]
    }
   ],
   "source": [
    "# Filter out words occurring only once\n",
    "filtered_words = [word for word, count in word_counts.items() if count > 1]\n",
    "\n",
    "# Create a new tokenizer with filtered words\n",
    "tokenizer = Tokenizer(char_level = False,\n",
    "                      oov_token = '<OOV>')\n",
    "tokenizer.fit_on_texts(filtered_words)\n",
    "\n",
    "# Get the word_index\n",
    "word_index = tokenizer.word_index\n",
    "print(len(word_index)) # note that we dont use index 0"
   ]
  },
  {
   "cell_type": "markdown",
   "metadata": {},
   "source": [
    "# Sequence and Padding\n",
    "\n",
    "We convert the tweets in the training, validation, and test sets into a sequence of numbers. Afterwards, we add padding to the sequences to ensure the same length for all sequences."
   ]
  },
  {
   "cell_type": "code",
   "execution_count": 16,
   "metadata": {},
   "outputs": [],
   "source": [
    "# Define parameters\n",
    "max_len = 25\n",
    "padding_type = 'post' \n",
    "trunc_type = 'post' "
   ]
  },
  {
   "cell_type": "code",
   "execution_count": 17,
   "metadata": {},
   "outputs": [],
   "source": [
    "training_sequences = tokenizer.texts_to_sequences(X_train)\n",
    "training_padded = pad_sequences(training_sequences,\n",
    "                                maxlen = 25,\n",
    "                                padding = 'post',\n",
    "                                truncating = 'post')"
   ]
  },
  {
   "cell_type": "code",
   "execution_count": 18,
   "metadata": {},
   "outputs": [],
   "source": [
    "validation_sequences = tokenizer.texts_to_sequences(X_val)\n",
    "validation_padded = pad_sequences(validation_sequences,\n",
    "                                maxlen = max_len,\n",
    "                                padding = padding_type,\n",
    "                                truncating = trunc_type)"
   ]
  },
  {
   "cell_type": "code",
   "execution_count": 19,
   "metadata": {},
   "outputs": [],
   "source": [
    "testing_sequences = tokenizer.texts_to_sequences(X_test)\n",
    "testing_padded = pad_sequences(testing_sequences,\n",
    "                            maxlen = max_len,\n",
    "                            padding = padding_type,\n",
    "                            truncating = trunc_type)"
   ]
  },
  {
   "cell_type": "code",
   "execution_count": 20,
   "metadata": {},
   "outputs": [
    {
     "name": "stdout",
     "output_type": "stream",
     "text": [
      "Shape of training tensor:  (8674, 25)\n",
      "Shape of validation tensor:  (3859, 25)\n",
      "Shape of testing tensor:  (3976, 25)\n"
     ]
    }
   ],
   "source": [
    "print('Shape of training tensor: ', training_padded.shape)\n",
    "print('Shape of validation tensor: ', validation_padded.shape)\n",
    "print('Shape of testing tensor: ', testing_padded.shape)\n"
   ]
  },
  {
   "cell_type": "markdown",
   "metadata": {},
   "source": [
    "# Dense Classifier"
   ]
  },
  {
   "cell_type": "code",
   "execution_count": 42,
   "metadata": {},
   "outputs": [
    {
     "data": {
      "text/html": [
       "<pre style=\"white-space:pre;overflow-x:auto;line-height:normal;font-family:Menlo,'DejaVu Sans Mono',consolas,'Courier New',monospace\"><span style=\"font-weight: bold\">Model: \"sequential_10\"</span>\n",
       "</pre>\n"
      ],
      "text/plain": [
       "\u001b[1mModel: \"sequential_10\"\u001b[0m\n"
      ]
     },
     "metadata": {},
     "output_type": "display_data"
    },
    {
     "data": {
      "text/html": [
       "<pre style=\"white-space:pre;overflow-x:auto;line-height:normal;font-family:Menlo,'DejaVu Sans Mono',consolas,'Courier New',monospace\">┏━━━━━━━━━━━━━━━━━━━━━━━━━━━━━━━━━┳━━━━━━━━━━━━━━━━━━━━━━━━┳━━━━━━━━━━━━━━━┓\n",
       "┃<span style=\"font-weight: bold\"> Layer (type)                    </span>┃<span style=\"font-weight: bold\"> Output Shape           </span>┃<span style=\"font-weight: bold\">       Param # </span>┃\n",
       "┡━━━━━━━━━━━━━━━━━━━━━━━━━━━━━━━━━╇━━━━━━━━━━━━━━━━━━━━━━━━╇━━━━━━━━━━━━━━━┩\n",
       "│ embedding_8 (<span style=\"color: #0087ff; text-decoration-color: #0087ff\">Embedding</span>)         │ (<span style=\"color: #00d7ff; text-decoration-color: #00d7ff\">None</span>, <span style=\"color: #00af00; text-decoration-color: #00af00\">25</span>, <span style=\"color: #00af00; text-decoration-color: #00af00\">16</span>)         │        <span style=\"color: #00af00; text-decoration-color: #00af00\">90,896</span> │\n",
       "├─────────────────────────────────┼────────────────────────┼───────────────┤\n",
       "│ global_average_pooling1d_6      │ (<span style=\"color: #00d7ff; text-decoration-color: #00d7ff\">None</span>, <span style=\"color: #00af00; text-decoration-color: #00af00\">16</span>)             │             <span style=\"color: #00af00; text-decoration-color: #00af00\">0</span> │\n",
       "│ (<span style=\"color: #0087ff; text-decoration-color: #0087ff\">GlobalAveragePooling1D</span>)        │                        │               │\n",
       "├─────────────────────────────────┼────────────────────────┼───────────────┤\n",
       "│ dense_14 (<span style=\"color: #0087ff; text-decoration-color: #0087ff\">Dense</span>)                │ (<span style=\"color: #00d7ff; text-decoration-color: #00d7ff\">None</span>, <span style=\"color: #00af00; text-decoration-color: #00af00\">24</span>)             │           <span style=\"color: #00af00; text-decoration-color: #00af00\">408</span> │\n",
       "├─────────────────────────────────┼────────────────────────┼───────────────┤\n",
       "│ dropout_8 (<span style=\"color: #0087ff; text-decoration-color: #0087ff\">Dropout</span>)             │ (<span style=\"color: #00d7ff; text-decoration-color: #00d7ff\">None</span>, <span style=\"color: #00af00; text-decoration-color: #00af00\">24</span>)             │             <span style=\"color: #00af00; text-decoration-color: #00af00\">0</span> │\n",
       "├─────────────────────────────────┼────────────────────────┼───────────────┤\n",
       "│ dense_15 (<span style=\"color: #0087ff; text-decoration-color: #0087ff\">Dense</span>)                │ (<span style=\"color: #00d7ff; text-decoration-color: #00d7ff\">None</span>, <span style=\"color: #00af00; text-decoration-color: #00af00\">1</span>)              │            <span style=\"color: #00af00; text-decoration-color: #00af00\">25</span> │\n",
       "└─────────────────────────────────┴────────────────────────┴───────────────┘\n",
       "</pre>\n"
      ],
      "text/plain": [
       "┏━━━━━━━━━━━━━━━━━━━━━━━━━━━━━━━━━┳━━━━━━━━━━━━━━━━━━━━━━━━┳━━━━━━━━━━━━━━━┓\n",
       "┃\u001b[1m \u001b[0m\u001b[1mLayer (type)                   \u001b[0m\u001b[1m \u001b[0m┃\u001b[1m \u001b[0m\u001b[1mOutput Shape          \u001b[0m\u001b[1m \u001b[0m┃\u001b[1m \u001b[0m\u001b[1m      Param #\u001b[0m\u001b[1m \u001b[0m┃\n",
       "┡━━━━━━━━━━━━━━━━━━━━━━━━━━━━━━━━━╇━━━━━━━━━━━━━━━━━━━━━━━━╇━━━━━━━━━━━━━━━┩\n",
       "│ embedding_8 (\u001b[38;5;33mEmbedding\u001b[0m)         │ (\u001b[38;5;45mNone\u001b[0m, \u001b[38;5;34m25\u001b[0m, \u001b[38;5;34m16\u001b[0m)         │        \u001b[38;5;34m90,896\u001b[0m │\n",
       "├─────────────────────────────────┼────────────────────────┼───────────────┤\n",
       "│ global_average_pooling1d_6      │ (\u001b[38;5;45mNone\u001b[0m, \u001b[38;5;34m16\u001b[0m)             │             \u001b[38;5;34m0\u001b[0m │\n",
       "│ (\u001b[38;5;33mGlobalAveragePooling1D\u001b[0m)        │                        │               │\n",
       "├─────────────────────────────────┼────────────────────────┼───────────────┤\n",
       "│ dense_14 (\u001b[38;5;33mDense\u001b[0m)                │ (\u001b[38;5;45mNone\u001b[0m, \u001b[38;5;34m24\u001b[0m)             │           \u001b[38;5;34m408\u001b[0m │\n",
       "├─────────────────────────────────┼────────────────────────┼───────────────┤\n",
       "│ dropout_8 (\u001b[38;5;33mDropout\u001b[0m)             │ (\u001b[38;5;45mNone\u001b[0m, \u001b[38;5;34m24\u001b[0m)             │             \u001b[38;5;34m0\u001b[0m │\n",
       "├─────────────────────────────────┼────────────────────────┼───────────────┤\n",
       "│ dense_15 (\u001b[38;5;33mDense\u001b[0m)                │ (\u001b[38;5;45mNone\u001b[0m, \u001b[38;5;34m1\u001b[0m)              │            \u001b[38;5;34m25\u001b[0m │\n",
       "└─────────────────────────────────┴────────────────────────┴───────────────┘\n"
      ]
     },
     "metadata": {},
     "output_type": "display_data"
    },
    {
     "data": {
      "text/html": [
       "<pre style=\"white-space:pre;overflow-x:auto;line-height:normal;font-family:Menlo,'DejaVu Sans Mono',consolas,'Courier New',monospace\"><span style=\"font-weight: bold\"> Total params: </span><span style=\"color: #00af00; text-decoration-color: #00af00\">91,329</span> (356.75 KB)\n",
       "</pre>\n"
      ],
      "text/plain": [
       "\u001b[1m Total params: \u001b[0m\u001b[38;5;34m91,329\u001b[0m (356.75 KB)\n"
      ]
     },
     "metadata": {},
     "output_type": "display_data"
    },
    {
     "data": {
      "text/html": [
       "<pre style=\"white-space:pre;overflow-x:auto;line-height:normal;font-family:Menlo,'DejaVu Sans Mono',consolas,'Courier New',monospace\"><span style=\"font-weight: bold\"> Trainable params: </span><span style=\"color: #00af00; text-decoration-color: #00af00\">91,329</span> (356.75 KB)\n",
       "</pre>\n"
      ],
      "text/plain": [
       "\u001b[1m Trainable params: \u001b[0m\u001b[38;5;34m91,329\u001b[0m (356.75 KB)\n"
      ]
     },
     "metadata": {},
     "output_type": "display_data"
    },
    {
     "data": {
      "text/html": [
       "<pre style=\"white-space:pre;overflow-x:auto;line-height:normal;font-family:Menlo,'DejaVu Sans Mono',consolas,'Courier New',monospace\"><span style=\"font-weight: bold\"> Non-trainable params: </span><span style=\"color: #00af00; text-decoration-color: #00af00\">0</span> (0.00 B)\n",
       "</pre>\n"
      ],
      "text/plain": [
       "\u001b[1m Non-trainable params: \u001b[0m\u001b[38;5;34m0\u001b[0m (0.00 B)\n"
      ]
     },
     "metadata": {},
     "output_type": "display_data"
    }
   ],
   "source": [
    "# Define parameter\n",
    "vocab_size = 5681 \n",
    "embedding_dim = 16\n",
    "drop_value = 0.2\n",
    "n_dense = 24\n",
    "max_len = 25\n",
    "\n",
    "# Define Dense Model Architecture\n",
    "model = Sequential()\n",
    "model.add(Embedding(input_dim = vocab_size,\n",
    "                    output_dim = embedding_dim))\n",
    "model.add(GlobalAveragePooling1D())\n",
    "model.add(Dense(n_dense, activation='relu'))\n",
    "model.add(Dropout(drop_value))\n",
    "model.add(Dense(1, activation='sigmoid'))\n",
    "model.build(input_shape=(None,max_len))\n",
    "model.summary()"
   ]
  },
  {
   "cell_type": "code",
   "execution_count": 36,
   "metadata": {},
   "outputs": [],
   "source": [
    "# Define additional metrics\n",
    "import tensorflow.keras.backend as K\n",
    "\n",
    "def recall(y_true, y_pred):\n",
    "    true_positives = K.sum(K.round(K.clip(y_true * y_pred, 0, 1)))\n",
    "    possible_positives = K.sum(K.round(K.clip(y_true, 0, 1)))\n",
    "    recall = true_positives / (possible_positives + K.epsilon())\n",
    "    return recall\n",
    "\n",
    "def precision(y_true, y_pred):\n",
    "    true_positives = K.sum(K.round(K.clip(y_true * y_pred, 0, 1)))\n",
    "    predicted_positives = K.sum(K.round(K.clip(y_pred, 0, 1)))\n",
    "    precision = true_positives / (predicted_positives + K.epsilon())\n",
    "    return precision\n",
    "\n",
    "def f1_score(y_true, y_pred):\n",
    "    p = precision(y_true, y_pred)\n",
    "    r = recall(y_true, y_pred)\n",
    "    return 2 * ((p * r) / (p + r + K.epsilon()))\n"
   ]
  },
  {
   "cell_type": "code",
   "execution_count": 65,
   "metadata": {},
   "outputs": [],
   "source": [
    "model.compile(optimizer='adam',\n",
    "              loss='binary_crossentropy',\n",
    "              metrics=['accuracy', Precision(), Recall(), AUC()])"
   ]
  },
  {
   "cell_type": "code",
   "execution_count": 66,
   "metadata": {},
   "outputs": [
    {
     "name": "stdout",
     "output_type": "stream",
     "text": [
      "Epoch 1/30\n",
      "272/272 - 1s - 4ms/step - accuracy: 0.9575 - auc_2: 0.9931 - loss: 0.1060 - precision_2: 0.9575 - recall_2: 0.9550 - val_accuracy: 0.7256 - val_auc_2: 0.7858 - val_loss: 1.2868 - val_precision_2: 0.7477 - val_recall_2: 0.6584\n",
      "Epoch 2/30\n",
      "272/272 - 0s - 1ms/step - accuracy: 0.9617 - auc_2: 0.9941 - loss: 0.0984 - precision_2: 0.9613 - recall_2: 0.9599 - val_accuracy: 0.7241 - val_auc_2: 0.7839 - val_loss: 1.3754 - val_precision_2: 0.7473 - val_recall_2: 0.6543\n",
      "Epoch 3/30\n",
      "272/272 - 0s - 1ms/step - accuracy: 0.9593 - auc_2: 0.9937 - loss: 0.1012 - precision_2: 0.9615 - recall_2: 0.9545 - val_accuracy: 0.7108 - val_auc_2: 0.7826 - val_loss: 1.3574 - val_precision_2: 0.6844 - val_recall_2: 0.7530\n",
      "Epoch 4/30\n",
      "272/272 - 0s - 1ms/step - accuracy: 0.9547 - auc_2: 0.9932 - loss: 0.1059 - precision_2: 0.9533 - recall_2: 0.9535 - val_accuracy: 0.7226 - val_auc_2: 0.7793 - val_loss: 1.3867 - val_precision_2: 0.7562 - val_recall_2: 0.6346\n"
     ]
    }
   ],
   "source": [
    "start_time = time.time()\n",
    "\n",
    "num_epochs = 30\n",
    "early_stop = EarlyStopping(monitor='val_loss', patience=3)\n",
    "history = model.fit(training_padded,\n",
    "                    Y_train,\n",
    "                    epochs=num_epochs, \n",
    "                    validation_data=(testing_padded, Y_test),\n",
    "                    callbacks =[early_stop],\n",
    "                    verbose=2)\n",
    "\n",
    "end_time = time.time()\n",
    "training_runtime = end_time - start_time\n"
   ]
  },
  {
   "cell_type": "code",
   "execution_count": 68,
   "metadata": {},
   "outputs": [
    {
     "name": "stdout",
     "output_type": "stream",
     "text": [
      "34/34 - 0s - 953us/step - accuracy: 0.9543 - auc_2: 0.9966 - loss: 0.1073 - precision_2: 0.9918 - recall_2: 0.9137\n",
      "16/16 - 0s - 1ms/step - accuracy: 0.7226 - auc_2: 0.7793 - loss: 1.3867 - precision_2: 0.7562 - recall_2: 0.6346\n",
      "Train accuracy: 95.43\n",
      "Test accuracy: 72.26\n",
      "Test precision: 75.62\n",
      "Test recall: 63.46\n",
      "Test AUC: 77.93\n",
      "Training Time: 2.005986213684082\n",
      "Inference Time: 0.03864908218383789\n"
     ]
    }
   ],
   "source": [
    "train_dense_results = model.evaluate(training_padded, np.asarray(Y_train), verbose=2, batch_size=256)\n",
    "test_start = time.time()\n",
    "test_dense_results = model.evaluate(testing_padded, np.asarray(Y_test), verbose=2, batch_size=256)\n",
    "test_end = time.time()\n",
    "inference_time = test_end - test_start\n",
    "print(f'Train accuracy: {train_dense_results[1]*100:0.2f}')\n",
    "print(f'Test accuracy: {test_dense_results[1]*100:0.2f}')\n",
    "print(f'Test precision: {test_dense_results[2]*100:0.2f}')\n",
    "print(f'Test recall: {test_dense_results[3]*100:0.2f}')\n",
    "print(f'Test AUC: {test_dense_results[4]*100:0.2f}')\n",
    "print(f'Training Time: {training_runtime}')\n",
    "print(f'Inference Time: {inference_time}')\n",
    "\n"
   ]
  },
  {
   "cell_type": "markdown",
   "metadata": {},
   "source": [
    "## LSTM"
   ]
  },
  {
   "cell_type": "code",
   "execution_count": 69,
   "metadata": {},
   "outputs": [
    {
     "data": {
      "text/html": [
       "<pre style=\"white-space:pre;overflow-x:auto;line-height:normal;font-family:Menlo,'DejaVu Sans Mono',consolas,'Courier New',monospace\"><span style=\"font-weight: bold\">Model: \"sequential_11\"</span>\n",
       "</pre>\n"
      ],
      "text/plain": [
       "\u001b[1mModel: \"sequential_11\"\u001b[0m\n"
      ]
     },
     "metadata": {},
     "output_type": "display_data"
    },
    {
     "data": {
      "text/html": [
       "<pre style=\"white-space:pre;overflow-x:auto;line-height:normal;font-family:Menlo,'DejaVu Sans Mono',consolas,'Courier New',monospace\">┏━━━━━━━━━━━━━━━━━━━━━━━━━━━━━━━━━┳━━━━━━━━━━━━━━━━━━━━━━━━┳━━━━━━━━━━━━━━━┓\n",
       "┃<span style=\"font-weight: bold\"> Layer (type)                    </span>┃<span style=\"font-weight: bold\"> Output Shape           </span>┃<span style=\"font-weight: bold\">       Param # </span>┃\n",
       "┡━━━━━━━━━━━━━━━━━━━━━━━━━━━━━━━━━╇━━━━━━━━━━━━━━━━━━━━━━━━╇━━━━━━━━━━━━━━━┩\n",
       "│ embedding_9 (<span style=\"color: #0087ff; text-decoration-color: #0087ff\">Embedding</span>)         │ (<span style=\"color: #00d7ff; text-decoration-color: #00d7ff\">None</span>, <span style=\"color: #00af00; text-decoration-color: #00af00\">25</span>, <span style=\"color: #00af00; text-decoration-color: #00af00\">16</span>)         │        <span style=\"color: #00af00; text-decoration-color: #00af00\">90,896</span> │\n",
       "├─────────────────────────────────┼────────────────────────┼───────────────┤\n",
       "│ spatial_dropout1d_2             │ (<span style=\"color: #00d7ff; text-decoration-color: #00d7ff\">None</span>, <span style=\"color: #00af00; text-decoration-color: #00af00\">25</span>, <span style=\"color: #00af00; text-decoration-color: #00af00\">16</span>)         │             <span style=\"color: #00af00; text-decoration-color: #00af00\">0</span> │\n",
       "│ (<span style=\"color: #0087ff; text-decoration-color: #0087ff\">SpatialDropout1D</span>)              │                        │               │\n",
       "├─────────────────────────────────┼────────────────────────┼───────────────┤\n",
       "│ lstm_2 (<span style=\"color: #0087ff; text-decoration-color: #0087ff\">LSTM</span>)                   │ (<span style=\"color: #00d7ff; text-decoration-color: #00d7ff\">None</span>, <span style=\"color: #00af00; text-decoration-color: #00af00\">128</span>)            │        <span style=\"color: #00af00; text-decoration-color: #00af00\">74,240</span> │\n",
       "├─────────────────────────────────┼────────────────────────┼───────────────┤\n",
       "│ dropout_9 (<span style=\"color: #0087ff; text-decoration-color: #0087ff\">Dropout</span>)             │ (<span style=\"color: #00d7ff; text-decoration-color: #00d7ff\">None</span>, <span style=\"color: #00af00; text-decoration-color: #00af00\">128</span>)            │             <span style=\"color: #00af00; text-decoration-color: #00af00\">0</span> │\n",
       "├─────────────────────────────────┼────────────────────────┼───────────────┤\n",
       "│ dense_16 (<span style=\"color: #0087ff; text-decoration-color: #0087ff\">Dense</span>)                │ (<span style=\"color: #00d7ff; text-decoration-color: #00d7ff\">None</span>, <span style=\"color: #00af00; text-decoration-color: #00af00\">1</span>)              │           <span style=\"color: #00af00; text-decoration-color: #00af00\">129</span> │\n",
       "└─────────────────────────────────┴────────────────────────┴───────────────┘\n",
       "</pre>\n"
      ],
      "text/plain": [
       "┏━━━━━━━━━━━━━━━━━━━━━━━━━━━━━━━━━┳━━━━━━━━━━━━━━━━━━━━━━━━┳━━━━━━━━━━━━━━━┓\n",
       "┃\u001b[1m \u001b[0m\u001b[1mLayer (type)                   \u001b[0m\u001b[1m \u001b[0m┃\u001b[1m \u001b[0m\u001b[1mOutput Shape          \u001b[0m\u001b[1m \u001b[0m┃\u001b[1m \u001b[0m\u001b[1m      Param #\u001b[0m\u001b[1m \u001b[0m┃\n",
       "┡━━━━━━━━━━━━━━━━━━━━━━━━━━━━━━━━━╇━━━━━━━━━━━━━━━━━━━━━━━━╇━━━━━━━━━━━━━━━┩\n",
       "│ embedding_9 (\u001b[38;5;33mEmbedding\u001b[0m)         │ (\u001b[38;5;45mNone\u001b[0m, \u001b[38;5;34m25\u001b[0m, \u001b[38;5;34m16\u001b[0m)         │        \u001b[38;5;34m90,896\u001b[0m │\n",
       "├─────────────────────────────────┼────────────────────────┼───────────────┤\n",
       "│ spatial_dropout1d_2             │ (\u001b[38;5;45mNone\u001b[0m, \u001b[38;5;34m25\u001b[0m, \u001b[38;5;34m16\u001b[0m)         │             \u001b[38;5;34m0\u001b[0m │\n",
       "│ (\u001b[38;5;33mSpatialDropout1D\u001b[0m)              │                        │               │\n",
       "├─────────────────────────────────┼────────────────────────┼───────────────┤\n",
       "│ lstm_2 (\u001b[38;5;33mLSTM\u001b[0m)                   │ (\u001b[38;5;45mNone\u001b[0m, \u001b[38;5;34m128\u001b[0m)            │        \u001b[38;5;34m74,240\u001b[0m │\n",
       "├─────────────────────────────────┼────────────────────────┼───────────────┤\n",
       "│ dropout_9 (\u001b[38;5;33mDropout\u001b[0m)             │ (\u001b[38;5;45mNone\u001b[0m, \u001b[38;5;34m128\u001b[0m)            │             \u001b[38;5;34m0\u001b[0m │\n",
       "├─────────────────────────────────┼────────────────────────┼───────────────┤\n",
       "│ dense_16 (\u001b[38;5;33mDense\u001b[0m)                │ (\u001b[38;5;45mNone\u001b[0m, \u001b[38;5;34m1\u001b[0m)              │           \u001b[38;5;34m129\u001b[0m │\n",
       "└─────────────────────────────────┴────────────────────────┴───────────────┘\n"
      ]
     },
     "metadata": {},
     "output_type": "display_data"
    },
    {
     "data": {
      "text/html": [
       "<pre style=\"white-space:pre;overflow-x:auto;line-height:normal;font-family:Menlo,'DejaVu Sans Mono',consolas,'Courier New',monospace\"><span style=\"font-weight: bold\"> Total params: </span><span style=\"color: #00af00; text-decoration-color: #00af00\">165,265</span> (645.57 KB)\n",
       "</pre>\n"
      ],
      "text/plain": [
       "\u001b[1m Total params: \u001b[0m\u001b[38;5;34m165,265\u001b[0m (645.57 KB)\n"
      ]
     },
     "metadata": {},
     "output_type": "display_data"
    },
    {
     "data": {
      "text/html": [
       "<pre style=\"white-space:pre;overflow-x:auto;line-height:normal;font-family:Menlo,'DejaVu Sans Mono',consolas,'Courier New',monospace\"><span style=\"font-weight: bold\"> Trainable params: </span><span style=\"color: #00af00; text-decoration-color: #00af00\">165,265</span> (645.57 KB)\n",
       "</pre>\n"
      ],
      "text/plain": [
       "\u001b[1m Trainable params: \u001b[0m\u001b[38;5;34m165,265\u001b[0m (645.57 KB)\n"
      ]
     },
     "metadata": {},
     "output_type": "display_data"
    },
    {
     "data": {
      "text/html": [
       "<pre style=\"white-space:pre;overflow-x:auto;line-height:normal;font-family:Menlo,'DejaVu Sans Mono',consolas,'Courier New',monospace\"><span style=\"font-weight: bold\"> Non-trainable params: </span><span style=\"color: #00af00; text-decoration-color: #00af00\">0</span> (0.00 B)\n",
       "</pre>\n"
      ],
      "text/plain": [
       "\u001b[1m Non-trainable params: \u001b[0m\u001b[38;5;34m0\u001b[0m (0.00 B)\n"
      ]
     },
     "metadata": {},
     "output_type": "display_data"
    }
   ],
   "source": [
    "# Define parameter\n",
    "vocab_size = 5681 \n",
    "embedding_dim = 16\n",
    "n_lstm = 128\n",
    "drop_lstm = 0.2\n",
    "max_len = 25\n",
    "\n",
    "# Define LSTM Model \n",
    "model1 = Sequential()\n",
    "model1.add(Embedding(vocab_size, embedding_dim))\n",
    "model1.add(SpatialDropout1D(drop_lstm))\n",
    "model1.add(LSTM(n_lstm, return_sequences=False))\n",
    "model1.add(Dropout(drop_lstm))\n",
    "model1.add(Dense(1, activation='sigmoid'))\n",
    "model1.build(input_shape=(None,max_len))\n",
    "model1.summary()"
   ]
  },
  {
   "cell_type": "code",
   "execution_count": 70,
   "metadata": {},
   "outputs": [],
   "source": [
    "model1.compile(optimizer='adam',\n",
    "              loss='binary_crossentropy',\n",
    "              metrics=['accuracy', Precision(), Recall(), AUC()])"
   ]
  },
  {
   "cell_type": "code",
   "execution_count": 73,
   "metadata": {},
   "outputs": [
    {
     "name": "stdout",
     "output_type": "stream",
     "text": [
      "Epoch 1/30\n",
      "272/272 - 4s - 15ms/step - accuracy: 0.9297 - auc_3: 0.9783 - loss: 0.1789 - precision_3: 0.9394 - recall_3: 0.9144 - val_accuracy: 0.7248 - val_auc_3: 0.7964 - val_loss: 0.7963 - val_precision_3: 0.7670 - val_recall_3: 0.6243\n",
      "Epoch 2/30\n",
      "272/272 - 4s - 15ms/step - accuracy: 0.9343 - auc_3: 0.9807 - loss: 0.1702 - precision_3: 0.9453 - recall_3: 0.9180 - val_accuracy: 0.7274 - val_auc_3: 0.7944 - val_loss: 0.7798 - val_precision_3: 0.7234 - val_recall_3: 0.7121\n",
      "Epoch 3/30\n",
      "272/272 - 4s - 15ms/step - accuracy: 0.9337 - auc_3: 0.9811 - loss: 0.1671 - precision_3: 0.9388 - recall_3: 0.9239 - val_accuracy: 0.7266 - val_auc_3: 0.7884 - val_loss: 0.9010 - val_precision_3: 0.7390 - val_recall_3: 0.6775\n",
      "Epoch 4/30\n",
      "272/272 - 4s - 15ms/step - accuracy: 0.9435 - auc_3: 0.9855 - loss: 0.1445 - precision_3: 0.9533 - recall_3: 0.9294 - val_accuracy: 0.7178 - val_auc_3: 0.7867 - val_loss: 0.8983 - val_precision_3: 0.6908 - val_recall_3: 0.7607\n",
      "Epoch 5/30\n",
      "272/272 - 4s - 14ms/step - accuracy: 0.9447 - auc_3: 0.9858 - loss: 0.1408 - precision_3: 0.9530 - recall_3: 0.9322 - val_accuracy: 0.7251 - val_auc_3: 0.7833 - val_loss: 0.9397 - val_precision_3: 0.7476 - val_recall_3: 0.6568\n",
      "Epoch 6/30\n",
      "272/272 - 4s - 14ms/step - accuracy: 0.9424 - auc_3: 0.9864 - loss: 0.1402 - precision_3: 0.9493 - recall_3: 0.9312 - val_accuracy: 0.7221 - val_auc_3: 0.7838 - val_loss: 0.9701 - val_precision_3: 0.7295 - val_recall_3: 0.6817\n",
      "Epoch 7/30\n",
      "272/272 - 4s - 14ms/step - accuracy: 0.9473 - auc_3: 0.9878 - loss: 0.1301 - precision_3: 0.9585 - recall_3: 0.9320 - val_accuracy: 0.7226 - val_auc_3: 0.7812 - val_loss: 1.0246 - val_precision_3: 0.7196 - val_recall_3: 0.7044\n"
     ]
    }
   ],
   "source": [
    "start_time = time.time()\n",
    "\n",
    "num_epochs = 30\n",
    "early_stop = EarlyStopping(monitor='val_loss', patience=5)\n",
    "history = model1.fit(training_padded,\n",
    "                     Y_train,\n",
    "                     epochs=num_epochs, \n",
    "                     validation_data=(testing_padded, Y_test),\n",
    "                     callbacks =[early_stop],\n",
    "                     verbose=2)\n",
    "\n",
    "end_time = time.time()\n",
    "training_time_lstm = end_time - start_time"
   ]
  },
  {
   "cell_type": "code",
   "execution_count": 74,
   "metadata": {},
   "outputs": [
    {
     "name": "stdout",
     "output_type": "stream",
     "text": [
      "34/34 - 1s - 19ms/step - accuracy: 0.9587 - auc_3: 0.9917 - loss: 0.1017 - precision_3: 0.9682 - recall_3: 0.9462\n",
      "16/16 - 0s - 20ms/step - accuracy: 0.7226 - auc_3: 0.7812 - loss: 1.0246 - precision_3: 0.7196 - recall_3: 0.7044\n",
      "Train accuracy: 95.87\n",
      "Test accuracy: 72.26\n",
      "Test precision: 71.96\n",
      "Test recall: 70.44\n",
      "Test AUC: 78.12\n",
      "Training Time: 27.648517847061157\n",
      "Inference Time: 0.3473677635192871\n"
     ]
    }
   ],
   "source": [
    "train_lstm_results = model1.evaluate(training_padded, np.asarray(Y_train), verbose=2, batch_size=256)\n",
    "test_start = time.time()\n",
    "test_lstm_results = model1.evaluate(testing_padded, np.asarray(Y_test), verbose=2, batch_size=256)\n",
    "test_end = time.time()\n",
    "inference_time_lstm = test_end - test_start\n",
    "print(f'Train accuracy: {train_lstm_results[1]*100:0.2f}')\n",
    "print(f'Test accuracy: {test_lstm_results[1]*100:0.2f}')\n",
    "print(f'Test precision: {test_lstm_results[2]*100:0.2f}')\n",
    "print(f'Test recall: {test_lstm_results[3]*100:0.2f}')\n",
    "print(f'Test AUC: {test_lstm_results[4]*100:0.2f}')\n",
    "print(f'Training Time: {training_time_lstm}')\n",
    "print(f'Inference Time: {inference_time_lstm}')\n",
    "\n"
   ]
  },
  {
   "cell_type": "markdown",
   "metadata": {},
   "source": [
    "## BiLSTM"
   ]
  },
  {
   "cell_type": "code",
   "execution_count": 75,
   "metadata": {},
   "outputs": [
    {
     "name": "stderr",
     "output_type": "stream",
     "text": [
      "/Users/cayasryan/.pyenv/versions/3.11.2/lib/python3.11/site-packages/keras/src/layers/core/embedding.py:90: UserWarning: Argument `input_length` is deprecated. Just remove it.\n",
      "  warnings.warn(\n"
     ]
    },
    {
     "data": {
      "text/html": [
       "<pre style=\"white-space:pre;overflow-x:auto;line-height:normal;font-family:Menlo,'DejaVu Sans Mono',consolas,'Courier New',monospace\"><span style=\"font-weight: bold\">Model: \"sequential_12\"</span>\n",
       "</pre>\n"
      ],
      "text/plain": [
       "\u001b[1mModel: \"sequential_12\"\u001b[0m\n"
      ]
     },
     "metadata": {},
     "output_type": "display_data"
    },
    {
     "data": {
      "text/html": [
       "<pre style=\"white-space:pre;overflow-x:auto;line-height:normal;font-family:Menlo,'DejaVu Sans Mono',consolas,'Courier New',monospace\">┏━━━━━━━━━━━━━━━━━━━━━━━━━━━━━━━━━┳━━━━━━━━━━━━━━━━━━━━━━━━┳━━━━━━━━━━━━━━━┓\n",
       "┃<span style=\"font-weight: bold\"> Layer (type)                    </span>┃<span style=\"font-weight: bold\"> Output Shape           </span>┃<span style=\"font-weight: bold\">       Param # </span>┃\n",
       "┡━━━━━━━━━━━━━━━━━━━━━━━━━━━━━━━━━╇━━━━━━━━━━━━━━━━━━━━━━━━╇━━━━━━━━━━━━━━━┩\n",
       "│ embedding_10 (<span style=\"color: #0087ff; text-decoration-color: #0087ff\">Embedding</span>)        │ (<span style=\"color: #00d7ff; text-decoration-color: #00d7ff\">None</span>, <span style=\"color: #00af00; text-decoration-color: #00af00\">25</span>, <span style=\"color: #00af00; text-decoration-color: #00af00\">16</span>)         │        <span style=\"color: #00af00; text-decoration-color: #00af00\">90,896</span> │\n",
       "├─────────────────────────────────┼────────────────────────┼───────────────┤\n",
       "│ bidirectional (<span style=\"color: #0087ff; text-decoration-color: #0087ff\">Bidirectional</span>)   │ (<span style=\"color: #00d7ff; text-decoration-color: #00d7ff\">None</span>, <span style=\"color: #00af00; text-decoration-color: #00af00\">256</span>)            │       <span style=\"color: #00af00; text-decoration-color: #00af00\">148,480</span> │\n",
       "├─────────────────────────────────┼────────────────────────┼───────────────┤\n",
       "│ dropout_10 (<span style=\"color: #0087ff; text-decoration-color: #0087ff\">Dropout</span>)            │ (<span style=\"color: #00d7ff; text-decoration-color: #00d7ff\">None</span>, <span style=\"color: #00af00; text-decoration-color: #00af00\">256</span>)            │             <span style=\"color: #00af00; text-decoration-color: #00af00\">0</span> │\n",
       "├─────────────────────────────────┼────────────────────────┼───────────────┤\n",
       "│ dense_17 (<span style=\"color: #0087ff; text-decoration-color: #0087ff\">Dense</span>)                │ (<span style=\"color: #00d7ff; text-decoration-color: #00d7ff\">None</span>, <span style=\"color: #00af00; text-decoration-color: #00af00\">1</span>)              │           <span style=\"color: #00af00; text-decoration-color: #00af00\">257</span> │\n",
       "└─────────────────────────────────┴────────────────────────┴───────────────┘\n",
       "</pre>\n"
      ],
      "text/plain": [
       "┏━━━━━━━━━━━━━━━━━━━━━━━━━━━━━━━━━┳━━━━━━━━━━━━━━━━━━━━━━━━┳━━━━━━━━━━━━━━━┓\n",
       "┃\u001b[1m \u001b[0m\u001b[1mLayer (type)                   \u001b[0m\u001b[1m \u001b[0m┃\u001b[1m \u001b[0m\u001b[1mOutput Shape          \u001b[0m\u001b[1m \u001b[0m┃\u001b[1m \u001b[0m\u001b[1m      Param #\u001b[0m\u001b[1m \u001b[0m┃\n",
       "┡━━━━━━━━━━━━━━━━━━━━━━━━━━━━━━━━━╇━━━━━━━━━━━━━━━━━━━━━━━━╇━━━━━━━━━━━━━━━┩\n",
       "│ embedding_10 (\u001b[38;5;33mEmbedding\u001b[0m)        │ (\u001b[38;5;45mNone\u001b[0m, \u001b[38;5;34m25\u001b[0m, \u001b[38;5;34m16\u001b[0m)         │        \u001b[38;5;34m90,896\u001b[0m │\n",
       "├─────────────────────────────────┼────────────────────────┼───────────────┤\n",
       "│ bidirectional (\u001b[38;5;33mBidirectional\u001b[0m)   │ (\u001b[38;5;45mNone\u001b[0m, \u001b[38;5;34m256\u001b[0m)            │       \u001b[38;5;34m148,480\u001b[0m │\n",
       "├─────────────────────────────────┼────────────────────────┼───────────────┤\n",
       "│ dropout_10 (\u001b[38;5;33mDropout\u001b[0m)            │ (\u001b[38;5;45mNone\u001b[0m, \u001b[38;5;34m256\u001b[0m)            │             \u001b[38;5;34m0\u001b[0m │\n",
       "├─────────────────────────────────┼────────────────────────┼───────────────┤\n",
       "│ dense_17 (\u001b[38;5;33mDense\u001b[0m)                │ (\u001b[38;5;45mNone\u001b[0m, \u001b[38;5;34m1\u001b[0m)              │           \u001b[38;5;34m257\u001b[0m │\n",
       "└─────────────────────────────────┴────────────────────────┴───────────────┘\n"
      ]
     },
     "metadata": {},
     "output_type": "display_data"
    },
    {
     "data": {
      "text/html": [
       "<pre style=\"white-space:pre;overflow-x:auto;line-height:normal;font-family:Menlo,'DejaVu Sans Mono',consolas,'Courier New',monospace\"><span style=\"font-weight: bold\"> Total params: </span><span style=\"color: #00af00; text-decoration-color: #00af00\">239,633</span> (936.07 KB)\n",
       "</pre>\n"
      ],
      "text/plain": [
       "\u001b[1m Total params: \u001b[0m\u001b[38;5;34m239,633\u001b[0m (936.07 KB)\n"
      ]
     },
     "metadata": {},
     "output_type": "display_data"
    },
    {
     "data": {
      "text/html": [
       "<pre style=\"white-space:pre;overflow-x:auto;line-height:normal;font-family:Menlo,'DejaVu Sans Mono',consolas,'Courier New',monospace\"><span style=\"font-weight: bold\"> Trainable params: </span><span style=\"color: #00af00; text-decoration-color: #00af00\">239,633</span> (936.07 KB)\n",
       "</pre>\n"
      ],
      "text/plain": [
       "\u001b[1m Trainable params: \u001b[0m\u001b[38;5;34m239,633\u001b[0m (936.07 KB)\n"
      ]
     },
     "metadata": {},
     "output_type": "display_data"
    },
    {
     "data": {
      "text/html": [
       "<pre style=\"white-space:pre;overflow-x:auto;line-height:normal;font-family:Menlo,'DejaVu Sans Mono',consolas,'Courier New',monospace\"><span style=\"font-weight: bold\"> Non-trainable params: </span><span style=\"color: #00af00; text-decoration-color: #00af00\">0</span> (0.00 B)\n",
       "</pre>\n"
      ],
      "text/plain": [
       "\u001b[1m Non-trainable params: \u001b[0m\u001b[38;5;34m0\u001b[0m (0.00 B)\n"
      ]
     },
     "metadata": {},
     "output_type": "display_data"
    }
   ],
   "source": [
    "# Define parameter\n",
    "vocab_size = 5681 \n",
    "embedding_dim = 16\n",
    "n_lstm = 128\n",
    "drop_lstm = 0.2\n",
    "max_len = 25\n",
    "\n",
    "\n",
    "model2 = Sequential()\n",
    "model2.add(Embedding(vocab_size,\n",
    "                     embedding_dim,\n",
    "                     input_length = max_len))\n",
    "model2.add(Bidirectional(LSTM(n_lstm,\n",
    "                              return_sequences = False)))\n",
    "model2.add(Dropout(drop_lstm))\n",
    "model2.add(Dense(1, activation='sigmoid'))\n",
    "model2.build(input_shape=(None,max_len))\n",
    "model2.summary()\n"
   ]
  },
  {
   "cell_type": "code",
   "execution_count": 76,
   "metadata": {},
   "outputs": [],
   "source": [
    "model2.compile(optimizer='adam',\n",
    "              loss='binary_crossentropy',\n",
    "              metrics=['accuracy', Precision(), Recall(), AUC()])"
   ]
  },
  {
   "cell_type": "code",
   "execution_count": 77,
   "metadata": {},
   "outputs": [
    {
     "name": "stdout",
     "output_type": "stream",
     "text": [
      "Epoch 1/30\n",
      "272/272 - 8s - 29ms/step - accuracy: 0.6458 - auc_4: 0.7142 - loss: 0.6105 - precision_4: 0.6632 - recall_4: 0.5522 - val_accuracy: 0.7279 - val_auc_4: 0.8153 - val_loss: 0.5325 - val_precision_4: 0.7960 - val_recall_4: 0.5928\n",
      "Epoch 2/30\n",
      "272/272 - 8s - 29ms/step - accuracy: 0.8044 - auc_4: 0.8862 - loss: 0.4238 - precision_4: 0.8146 - recall_4: 0.7738 - val_accuracy: 0.7485 - val_auc_4: 0.8326 - val_loss: 0.5100 - val_precision_4: 0.7570 - val_recall_4: 0.7116\n",
      "Epoch 3/30\n",
      "272/272 - 7s - 27ms/step - accuracy: 0.8386 - auc_4: 0.9123 - loss: 0.3746 - precision_4: 0.8508 - recall_4: 0.8101 - val_accuracy: 0.7372 - val_auc_4: 0.8084 - val_loss: 0.5453 - val_precision_4: 0.8035 - val_recall_4: 0.6088\n",
      "Epoch 4/30\n",
      "272/272 - 7s - 26ms/step - accuracy: 0.8764 - auc_4: 0.9462 - loss: 0.2989 - precision_4: 0.8990 - recall_4: 0.8402 - val_accuracy: 0.7497 - val_auc_4: 0.8270 - val_loss: 0.5717 - val_precision_4: 0.7652 - val_recall_4: 0.7008\n",
      "Epoch 5/30\n",
      "272/272 - 7s - 26ms/step - accuracy: 0.9007 - auc_4: 0.9645 - loss: 0.2400 - precision_4: 0.9152 - recall_4: 0.8772 - val_accuracy: 0.7435 - val_auc_4: 0.8195 - val_loss: 0.6551 - val_precision_4: 0.7715 - val_recall_4: 0.6718\n",
      "Epoch 6/30\n",
      "272/272 - 7s - 26ms/step - accuracy: 0.9161 - auc_4: 0.9748 - loss: 0.2031 - precision_4: 0.9258 - recall_4: 0.8995 - val_accuracy: 0.7329 - val_auc_4: 0.8090 - val_loss: 0.7900 - val_precision_4: 0.7413 - val_recall_4: 0.6930\n",
      "Epoch 7/30\n",
      "272/272 - 7s - 27ms/step - accuracy: 0.9249 - auc_4: 0.9798 - loss: 0.1810 - precision_4: 0.9311 - recall_4: 0.9132 - val_accuracy: 0.7347 - val_auc_4: 0.8057 - val_loss: 0.8745 - val_precision_4: 0.7222 - val_recall_4: 0.7390\n"
     ]
    }
   ],
   "source": [
    "start_time = time.time()\n",
    "\n",
    "num_epochs = 30\n",
    "early_stop = EarlyStopping(monitor='val_loss', patience=5)\n",
    "history = model2.fit(training_padded,\n",
    "                     Y_train,\n",
    "                     epochs=num_epochs, \n",
    "                     validation_data=(testing_padded, Y_test),\n",
    "                     callbacks =[early_stop],\n",
    "                     verbose=2)\n",
    "\n",
    "end_time = time.time()\n",
    "training_time_bilstm = end_time - start_time"
   ]
  },
  {
   "cell_type": "code",
   "execution_count": 102,
   "metadata": {},
   "outputs": [
    {
     "name": "stdout",
     "output_type": "stream",
     "text": [
      "34/34 - 1s - 34ms/step - accuracy: 0.9442 - auc_4: 0.9875 - loss: 0.1444 - precision_4: 0.9393 - recall_4: 0.9464\n",
      "16/16 - 1s - 37ms/step - accuracy: 0.7347 - auc_4: 0.8057 - loss: 0.8745 - precision_4: 0.7222 - recall_4: 0.7390\n",
      "Train accuracy: 94.42\n",
      "Test accuracy: 73.47\n",
      "Test precision: 72.22\n",
      "Test recall: 73.90\n",
      "Test AUC: 80.57\n",
      "Training Time: 51.723658084869385\n",
      "Inference Time: 0.6214849948883057\n"
     ]
    }
   ],
   "source": [
    "train_bilstm_results = model2.evaluate(training_padded, np.asarray(Y_train), verbose=2, batch_size=256)\n",
    "test_start = time.time()\n",
    "test_bilstm_results = model2.evaluate(testing_padded, np.asarray(Y_test), verbose=2, batch_size=256)\n",
    "test_end = time.time()\n",
    "inference_time_bilstm = test_end - test_start\n",
    "print(f'Train accuracy: {train_bilstm_results[1]*100:0.2f}')\n",
    "print(f'Test accuracy: {test_bilstm_results[1]*100:0.2f}')\n",
    "print(f'Test precision: {test_bilstm_results[2]*100:0.2f}')\n",
    "print(f'Test recall: {test_bilstm_results[3]*100:0.2f}')\n",
    "print(f'Test AUC: {test_bilstm_results[4]*100:0.2f}')\n",
    "print(f'Training Time: {training_time_bilstm}')\n",
    "print(f'Inference Time: {inference_time_bilstm}')\n",
    "\n"
   ]
  },
  {
   "cell_type": "markdown",
   "metadata": {},
   "source": [
    "## GRU"
   ]
  },
  {
   "cell_type": "code",
   "execution_count": 98,
   "metadata": {},
   "outputs": [
    {
     "name": "stderr",
     "output_type": "stream",
     "text": [
      "/Users/cayasryan/.pyenv/versions/3.11.2/lib/python3.11/site-packages/keras/src/layers/core/embedding.py:90: UserWarning: Argument `input_length` is deprecated. Just remove it.\n",
      "  warnings.warn(\n"
     ]
    },
    {
     "data": {
      "text/html": [
       "<pre style=\"white-space:pre;overflow-x:auto;line-height:normal;font-family:Menlo,'DejaVu Sans Mono',consolas,'Courier New',monospace\"><span style=\"font-weight: bold\">Model: \"sequential_13\"</span>\n",
       "</pre>\n"
      ],
      "text/plain": [
       "\u001b[1mModel: \"sequential_13\"\u001b[0m\n"
      ]
     },
     "metadata": {},
     "output_type": "display_data"
    },
    {
     "data": {
      "text/html": [
       "<pre style=\"white-space:pre;overflow-x:auto;line-height:normal;font-family:Menlo,'DejaVu Sans Mono',consolas,'Courier New',monospace\">┏━━━━━━━━━━━━━━━━━━━━━━━━━━━━━━━━━┳━━━━━━━━━━━━━━━━━━━━━━━━┳━━━━━━━━━━━━━━━┓\n",
       "┃<span style=\"font-weight: bold\"> Layer (type)                    </span>┃<span style=\"font-weight: bold\"> Output Shape           </span>┃<span style=\"font-weight: bold\">       Param # </span>┃\n",
       "┡━━━━━━━━━━━━━━━━━━━━━━━━━━━━━━━━━╇━━━━━━━━━━━━━━━━━━━━━━━━╇━━━━━━━━━━━━━━━┩\n",
       "│ embedding_11 (<span style=\"color: #0087ff; text-decoration-color: #0087ff\">Embedding</span>)        │ (<span style=\"color: #00d7ff; text-decoration-color: #00d7ff\">None</span>, <span style=\"color: #00af00; text-decoration-color: #00af00\">25</span>, <span style=\"color: #00af00; text-decoration-color: #00af00\">16</span>)         │        <span style=\"color: #00af00; text-decoration-color: #00af00\">90,896</span> │\n",
       "├─────────────────────────────────┼────────────────────────┼───────────────┤\n",
       "│ spatial_dropout1d_3             │ (<span style=\"color: #00d7ff; text-decoration-color: #00d7ff\">None</span>, <span style=\"color: #00af00; text-decoration-color: #00af00\">25</span>, <span style=\"color: #00af00; text-decoration-color: #00af00\">16</span>)         │             <span style=\"color: #00af00; text-decoration-color: #00af00\">0</span> │\n",
       "│ (<span style=\"color: #0087ff; text-decoration-color: #0087ff\">SpatialDropout1D</span>)              │                        │               │\n",
       "├─────────────────────────────────┼────────────────────────┼───────────────┤\n",
       "│ gru (<span style=\"color: #0087ff; text-decoration-color: #0087ff\">GRU</span>)                       │ (<span style=\"color: #00d7ff; text-decoration-color: #00d7ff\">None</span>, <span style=\"color: #00af00; text-decoration-color: #00af00\">128</span>)            │        <span style=\"color: #00af00; text-decoration-color: #00af00\">56,064</span> │\n",
       "├─────────────────────────────────┼────────────────────────┼───────────────┤\n",
       "│ dropout_11 (<span style=\"color: #0087ff; text-decoration-color: #0087ff\">Dropout</span>)            │ (<span style=\"color: #00d7ff; text-decoration-color: #00d7ff\">None</span>, <span style=\"color: #00af00; text-decoration-color: #00af00\">128</span>)            │             <span style=\"color: #00af00; text-decoration-color: #00af00\">0</span> │\n",
       "├─────────────────────────────────┼────────────────────────┼───────────────┤\n",
       "│ dense_18 (<span style=\"color: #0087ff; text-decoration-color: #0087ff\">Dense</span>)                │ (<span style=\"color: #00d7ff; text-decoration-color: #00d7ff\">None</span>, <span style=\"color: #00af00; text-decoration-color: #00af00\">1</span>)              │           <span style=\"color: #00af00; text-decoration-color: #00af00\">129</span> │\n",
       "└─────────────────────────────────┴────────────────────────┴───────────────┘\n",
       "</pre>\n"
      ],
      "text/plain": [
       "┏━━━━━━━━━━━━━━━━━━━━━━━━━━━━━━━━━┳━━━━━━━━━━━━━━━━━━━━━━━━┳━━━━━━━━━━━━━━━┓\n",
       "┃\u001b[1m \u001b[0m\u001b[1mLayer (type)                   \u001b[0m\u001b[1m \u001b[0m┃\u001b[1m \u001b[0m\u001b[1mOutput Shape          \u001b[0m\u001b[1m \u001b[0m┃\u001b[1m \u001b[0m\u001b[1m      Param #\u001b[0m\u001b[1m \u001b[0m┃\n",
       "┡━━━━━━━━━━━━━━━━━━━━━━━━━━━━━━━━━╇━━━━━━━━━━━━━━━━━━━━━━━━╇━━━━━━━━━━━━━━━┩\n",
       "│ embedding_11 (\u001b[38;5;33mEmbedding\u001b[0m)        │ (\u001b[38;5;45mNone\u001b[0m, \u001b[38;5;34m25\u001b[0m, \u001b[38;5;34m16\u001b[0m)         │        \u001b[38;5;34m90,896\u001b[0m │\n",
       "├─────────────────────────────────┼────────────────────────┼───────────────┤\n",
       "│ spatial_dropout1d_3             │ (\u001b[38;5;45mNone\u001b[0m, \u001b[38;5;34m25\u001b[0m, \u001b[38;5;34m16\u001b[0m)         │             \u001b[38;5;34m0\u001b[0m │\n",
       "│ (\u001b[38;5;33mSpatialDropout1D\u001b[0m)              │                        │               │\n",
       "├─────────────────────────────────┼────────────────────────┼───────────────┤\n",
       "│ gru (\u001b[38;5;33mGRU\u001b[0m)                       │ (\u001b[38;5;45mNone\u001b[0m, \u001b[38;5;34m128\u001b[0m)            │        \u001b[38;5;34m56,064\u001b[0m │\n",
       "├─────────────────────────────────┼────────────────────────┼───────────────┤\n",
       "│ dropout_11 (\u001b[38;5;33mDropout\u001b[0m)            │ (\u001b[38;5;45mNone\u001b[0m, \u001b[38;5;34m128\u001b[0m)            │             \u001b[38;5;34m0\u001b[0m │\n",
       "├─────────────────────────────────┼────────────────────────┼───────────────┤\n",
       "│ dense_18 (\u001b[38;5;33mDense\u001b[0m)                │ (\u001b[38;5;45mNone\u001b[0m, \u001b[38;5;34m1\u001b[0m)              │           \u001b[38;5;34m129\u001b[0m │\n",
       "└─────────────────────────────────┴────────────────────────┴───────────────┘\n"
      ]
     },
     "metadata": {},
     "output_type": "display_data"
    },
    {
     "data": {
      "text/html": [
       "<pre style=\"white-space:pre;overflow-x:auto;line-height:normal;font-family:Menlo,'DejaVu Sans Mono',consolas,'Courier New',monospace\"><span style=\"font-weight: bold\"> Total params: </span><span style=\"color: #00af00; text-decoration-color: #00af00\">147,089</span> (574.57 KB)\n",
       "</pre>\n"
      ],
      "text/plain": [
       "\u001b[1m Total params: \u001b[0m\u001b[38;5;34m147,089\u001b[0m (574.57 KB)\n"
      ]
     },
     "metadata": {},
     "output_type": "display_data"
    },
    {
     "data": {
      "text/html": [
       "<pre style=\"white-space:pre;overflow-x:auto;line-height:normal;font-family:Menlo,'DejaVu Sans Mono',consolas,'Courier New',monospace\"><span style=\"font-weight: bold\"> Trainable params: </span><span style=\"color: #00af00; text-decoration-color: #00af00\">147,089</span> (574.57 KB)\n",
       "</pre>\n"
      ],
      "text/plain": [
       "\u001b[1m Trainable params: \u001b[0m\u001b[38;5;34m147,089\u001b[0m (574.57 KB)\n"
      ]
     },
     "metadata": {},
     "output_type": "display_data"
    },
    {
     "data": {
      "text/html": [
       "<pre style=\"white-space:pre;overflow-x:auto;line-height:normal;font-family:Menlo,'DejaVu Sans Mono',consolas,'Courier New',monospace\"><span style=\"font-weight: bold\"> Non-trainable params: </span><span style=\"color: #00af00; text-decoration-color: #00af00\">0</span> (0.00 B)\n",
       "</pre>\n"
      ],
      "text/plain": [
       "\u001b[1m Non-trainable params: \u001b[0m\u001b[38;5;34m0\u001b[0m (0.00 B)\n"
      ]
     },
     "metadata": {},
     "output_type": "display_data"
    }
   ],
   "source": [
    "model3 = Sequential()\n",
    "model3.add(Embedding(vocab_size,\n",
    "                     embedding_dim,\n",
    "                     input_length = max_len))\n",
    "model3.add(SpatialDropout1D(0.2))\n",
    "model3.add(GRU(128, return_sequences = False))\n",
    "model3.add(Dropout(0.2))\n",
    "model3.add(Dense(1, activation = 'sigmoid'))\n",
    "\n",
    "model3.build(input_shape=(None,max_len))\n",
    "model3.summary()"
   ]
  },
  {
   "cell_type": "code",
   "execution_count": 99,
   "metadata": {},
   "outputs": [],
   "source": [
    "model3.compile(optimizer='adam',\n",
    "              loss='binary_crossentropy',\n",
    "              metrics=['accuracy', Precision(), Recall(), AUC()])"
   ]
  },
  {
   "cell_type": "code",
   "execution_count": 105,
   "metadata": {},
   "outputs": [
    {
     "name": "stdout",
     "output_type": "stream",
     "text": [
      "Epoch 1/30\n",
      "272/272 - 4s - 16ms/step - accuracy: 0.9743 - auc_5: 0.9977 - loss: 0.0559 - precision_5: 0.9787 - recall_5: 0.9682 - val_accuracy: 0.7165 - val_auc_5: 0.7616 - val_loss: 1.5466 - val_precision_5: 0.7059 - val_recall_5: 0.7158\n",
      "Epoch 2/30\n",
      "272/272 - 4s - 16ms/step - accuracy: 0.9758 - auc_5: 0.9981 - loss: 0.0527 - precision_5: 0.9810 - recall_5: 0.9689 - val_accuracy: 0.7155 - val_auc_5: 0.7572 - val_loss: 1.6396 - val_precision_5: 0.7043 - val_recall_5: 0.7163\n",
      "Epoch 3/30\n",
      "272/272 - 4s - 16ms/step - accuracy: 0.9752 - auc_5: 0.9978 - loss: 0.0547 - precision_5: 0.9785 - recall_5: 0.9704 - val_accuracy: 0.7148 - val_auc_5: 0.7637 - val_loss: 1.5118 - val_precision_5: 0.7020 - val_recall_5: 0.7194\n",
      "Epoch 4/30\n",
      "272/272 - 4s - 16ms/step - accuracy: 0.9786 - auc_5: 0.9982 - loss: 0.0496 - precision_5: 0.9816 - recall_5: 0.9742 - val_accuracy: 0.7103 - val_auc_5: 0.7547 - val_loss: 1.6483 - val_precision_5: 0.6968 - val_recall_5: 0.7163\n",
      "Epoch 5/30\n",
      "272/272 - 4s - 15ms/step - accuracy: 0.9764 - auc_5: 0.9980 - loss: 0.0504 - precision_5: 0.9779 - recall_5: 0.9734 - val_accuracy: 0.7165 - val_auc_5: 0.7554 - val_loss: 1.7102 - val_precision_5: 0.7140 - val_recall_5: 0.6966\n",
      "Epoch 6/30\n",
      "272/272 - 4s - 14ms/step - accuracy: 0.9769 - auc_5: 0.9981 - loss: 0.0489 - precision_5: 0.9815 - recall_5: 0.9708 - val_accuracy: 0.7123 - val_auc_5: 0.7610 - val_loss: 1.5152 - val_precision_5: 0.7114 - val_recall_5: 0.6879\n",
      "Epoch 7/30\n",
      "272/272 - 4s - 16ms/step - accuracy: 0.9771 - auc_5: 0.9981 - loss: 0.0501 - precision_5: 0.9827 - recall_5: 0.9699 - val_accuracy: 0.7140 - val_auc_5: 0.7559 - val_loss: 1.7200 - val_precision_5: 0.6929 - val_recall_5: 0.7406\n",
      "Epoch 8/30\n",
      "272/272 - 4s - 16ms/step - accuracy: 0.9782 - auc_5: 0.9983 - loss: 0.0486 - precision_5: 0.9825 - recall_5: 0.9725 - val_accuracy: 0.7045 - val_auc_5: 0.7556 - val_loss: 1.6028 - val_precision_5: 0.6668 - val_recall_5: 0.7850\n"
     ]
    }
   ],
   "source": [
    "start_time = time.time()\n",
    "\n",
    "num_epochs = 30\n",
    "early_stop = EarlyStopping(monitor='val_loss', patience=5)\n",
    "history = model3.fit(training_padded,\n",
    "                     Y_train,\n",
    "                     epochs=num_epochs, \n",
    "                     validation_data=(testing_padded, Y_test),\n",
    "                     callbacks =[early_stop],\n",
    "                     verbose=2)\n",
    "\n",
    "end_time = time.time()\n",
    "training_time_gru = end_time - start_time"
   ]
  },
  {
   "cell_type": "code",
   "execution_count": 106,
   "metadata": {},
   "outputs": [
    {
     "name": "stdout",
     "output_type": "stream",
     "text": [
      "34/34 - 1s - 16ms/step - accuracy: 0.9738 - auc_5: 0.9989 - loss: 0.0507 - precision_5: 0.9520 - recall_5: 0.9964\n",
      "16/16 - 0s - 17ms/step - accuracy: 0.7045 - auc_5: 0.7556 - loss: 1.6028 - precision_5: 0.6668 - recall_5: 0.7850\n",
      "Train accuracy: 97.38\n",
      "Test accuracy: 70.45\n",
      "Test precision: 66.68\n",
      "Test recall: 78.50\n",
      "Test AUC: 75.56\n",
      "Training Time: 33.92593717575073\n",
      "Inference Time: 0.29160594940185547\n"
     ]
    }
   ],
   "source": [
    "train_gru_results = model3.evaluate(training_padded, np.asarray(Y_train), verbose=2, batch_size=256)\n",
    "test_start = time.time()\n",
    "test_gru_results = model3.evaluate(testing_padded, np.asarray(Y_test), verbose=2, batch_size=256)\n",
    "test_end = time.time()\n",
    "inference_time_gru = test_end - test_start\n",
    "print(f'Train accuracy: {train_gru_results[1]*100:0.2f}')\n",
    "print(f'Test accuracy: {test_gru_results[1]*100:0.2f}')\n",
    "print(f'Test precision: {test_gru_results[2]*100:0.2f}')\n",
    "print(f'Test recall: {test_gru_results[3]*100:0.2f}')\n",
    "print(f'Test AUC: {test_gru_results[4]*100:0.2f}')\n",
    "print(f'Training Time: {training_time_gru}')\n",
    "print(f'Inference Time: {inference_time_gru}')\n",
    "\n"
   ]
  }
 ],
 "metadata": {
  "kernelspec": {
   "display_name": "Python 3",
   "language": "python",
   "name": "python3"
  },
  "language_info": {
   "codemirror_mode": {
    "name": "ipython",
    "version": 3
   },
   "file_extension": ".py",
   "mimetype": "text/x-python",
   "name": "python",
   "nbconvert_exporter": "python",
   "pygments_lexer": "ipython3",
   "version": "3.11.2"
  }
 },
 "nbformat": 4,
 "nbformat_minor": 2
}
