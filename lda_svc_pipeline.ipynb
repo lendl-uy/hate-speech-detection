{
 "cells": [
  {
   "cell_type": "markdown",
   "id": "717881f9",
   "metadata": {},
   "source": [
    "# LDA - SVC Pipeline"
   ]
  },
  {
   "cell_type": "markdown",
   "id": "778cef84980d4467",
   "metadata": {
    "collapsed": false
   },
   "source": [
    "## Import necessary packages"
   ]
  },
  {
   "cell_type": "code",
   "execution_count": 1,
   "id": "initial_id",
   "metadata": {
    "ExecuteTime": {
     "end_time": "2024-04-28T14:41:56.071481Z",
     "start_time": "2024-04-28T14:41:51.462844Z"
    },
    "collapsed": true
   },
   "outputs": [],
   "source": [
    "import time\n",
    "import optuna\n",
    "import numpy as np\n",
    "from sklearn.feature_extraction.text import CountVectorizer\n",
    "from sklearn.decomposition import LatentDirichletAllocation\n",
    "from sklearn.model_selection import train_test_split\n",
    "from sklearn.metrics import accuracy_score\n",
    "from sklearn.svm import SVC\n",
    "from sklearn.ensemble import VotingClassifier\n",
    "\n",
    "from datasets import load_dataset"
   ]
  },
  {
   "cell_type": "markdown",
   "id": "14ffafa63beef650",
   "metadata": {
    "collapsed": false
   },
   "source": [
    "## Constants"
   ]
  },
  {
   "cell_type": "code",
   "execution_count": 2,
   "id": "7e92953c8b90f034",
   "metadata": {
    "ExecuteTime": {
     "end_time": "2024-04-28T14:41:56.086428Z",
     "start_time": "2024-04-28T14:41:56.072476Z"
    },
    "collapsed": false
   },
   "outputs": [],
   "source": [
    "RANDOM_SEED = 0"
   ]
  },
  {
   "cell_type": "markdown",
   "id": "b6be051016d14124",
   "metadata": {
    "collapsed": false
   },
   "source": [
    "## Load the Hate Speech Filipino dataset from Hugging Face"
   ]
  },
  {
   "cell_type": "code",
   "execution_count": 3,
   "id": "88b506f040054ff5",
   "metadata": {
    "ExecuteTime": {
     "end_time": "2024-04-28T14:42:03.875866Z",
     "start_time": "2024-04-28T14:41:56.087424Z"
    },
    "collapsed": false
   },
   "outputs": [],
   "source": [
    "dataset = load_dataset(\"hate_speech_filipino\")"
   ]
  },
  {
   "cell_type": "code",
   "execution_count": 4,
   "id": "e4d8361405fe5257",
   "metadata": {
    "ExecuteTime": {
     "end_time": "2024-04-28T14:42:03.906760Z",
     "start_time": "2024-04-28T14:42:03.877856Z"
    },
    "collapsed": false
   },
   "outputs": [],
   "source": [
    "train_set = dataset[\"train\"]\n",
    "validation_set = dataset[\"validation\"]\n",
    "test_set = dataset[\"test\"]\n",
    "\n",
    "X_train, Y_train = train_set[\"text\"], train_set[\"label\"]\n",
    "X_val, Y_val = validation_set[\"text\"], validation_set[\"label\"]\n",
    "X_test, Y_test = test_set[\"text\"], test_set[\"label\"]\n",
    "\n",
    "X = X_train + X_val + X_test\n",
    "Y = Y_train + Y_val + Y_test"
   ]
  },
  {
   "cell_type": "code",
   "execution_count": null,
   "id": "a4ba926f",
   "metadata": {},
   "outputs": [],
   "source": [
    "# Re-split the dataset into training, validation, and test sets\n",
    "X_train, X_temp, Y_train, Y_temp = train_test_split(X, Y, test_size=0.2, random_state=RANDOM_SEED)\n",
    "X_val, X_test, Y_val, Y_test = train_test_split(X_temp, Y_temp, test_size=0.5, random_state=RANDOM_SEED)"
   ]
  },
  {
   "cell_type": "markdown",
   "id": "e7c8c684144c6b8a",
   "metadata": {
    "collapsed": false
   },
   "source": [
    "## Vectorize the texts to be able to perform LDA"
   ]
  },
  {
   "cell_type": "code",
   "execution_count": 5,
   "id": "19a447fade33a0d8",
   "metadata": {
    "ExecuteTime": {
     "end_time": "2024-04-28T14:42:04.113164Z",
     "start_time": "2024-04-28T14:42:03.907758Z"
    },
    "collapsed": false
   },
   "outputs": [],
   "source": [
    "# Define the CountVectorizer\n",
    "vectorizer = CountVectorizer(max_df=0.95, min_df=2)\n",
    "X_train_vector = vectorizer.fit_transform(X_train)"
   ]
  },
  {
   "cell_type": "markdown",
   "id": "2d03c047",
   "metadata": {},
   "source": [
    "## Objective function for Optuna hyperparameter tuning"
   ]
  },
  {
   "cell_type": "code",
   "execution_count": 6,
   "id": "3f2a8a5890f5232b",
   "metadata": {
    "collapsed": false,
    "jupyter": {
     "is_executing": true
    }
   },
   "outputs": [],
   "source": [
    "def create_objective(N_TOPICS, X_train, Y_train, X_val, Y_val):\n",
    "    def objective(trial):\n",
    "        # Create a list of models for the ensemble\n",
    "        estimators = []\n",
    "        for i in range(N_TOPICS):\n",
    "            C = trial.suggest_float(f\"C_{i}\", 0.1, 10.0)\n",
    "            kernel = trial.suggest_categorical(f\"kernel_{i}\", [\"rbf\", \"poly\", \"sigmoid\"])\n",
    "            svc = SVC(probability=True, C=C, kernel=kernel, random_state=RANDOM_SEED)\n",
    "            estimators.append((f'svc_{i}', svc))\n",
    "\n",
    "        # Create a voting classifier for the ensemble\n",
    "        # Using 'soft' voting to average probabilities or 'hard' for majority vote\n",
    "        ensemble = VotingClassifier(estimators, voting=\"soft\")\n",
    "        ensemble.fit(X_train, Y_train)\n",
    "\n",
    "        # Evaluate the ensemble on the validation set\n",
    "        return accuracy_score(Y_val, ensemble.predict(X_val))\n",
    "\n",
    "    return objective"
   ]
  },
  {
   "cell_type": "code",
   "execution_count": 7,
   "id": "c7ed4daf",
   "metadata": {},
   "outputs": [],
   "source": [
    "def run_optimization(N_TOPICS, X_counts, Y, random_seed):\n",
    "\n",
    "    N_TOPICS = 10\n",
    "    print(f\"Performing Latent Dirichlet Allocation for {N_TOPICS} topics\")\n",
    "    lda = LatentDirichletAllocation(n_components=N_TOPICS, random_state=RANDOM_SEED)\n",
    "    X_train_topics = lda.fit_transform(X_train_vector)\n",
    "    print(f\"Done performing Latent Dirichlet Allocation for {N_TOPICS} topics\")\n",
    "\n",
    "    # Transform validation and test data using the fitted vectorizer and LDA\n",
    "    X_val_counts = vectorizer.transform(X_val)\n",
    "    X_val_topics = lda.transform(X_val_counts)\n",
    "\n",
    "    X_test_counts = vectorizer.transform(X_test)\n",
    "    X_test_topics = lda.transform(X_test_counts)\n",
    "\n",
    "    # Split the transformed data\n",
    "    X_train, X_temp, Y_train, Y_temp = train_test_split(X_topics, Y, test_size=0.2, random_state=random_seed)\n",
    "    X_val, X_test, Y_val, Y_test = train_test_split(X_temp, Y_temp, test_size=0.5, random_state=random_seed)\n",
    "\n",
    "    # Create a study object\n",
    "    study = optuna.create_study(direction=\"maximize\", study_name=f\"LDA_{N_TOPICS}_SVC_Ensemble\")\n",
    "    \n",
    "    # Create the study objective\n",
    "    objective = create_objective(N_TOPICS, X_train, Y_train, X_val, Y_val)\n",
    "\n",
    "    # Execute an optimization\n",
    "    study.optimize(objective, n_trials=20, n_jobs=-1)\n",
    "\n",
    "    # Print the best trial results\n",
    "    print(f\"Best Accuracy: {study.best_trial.value}\")\n",
    "    print(f\"Best hyperparameters: {study.best_trial.params}\")\n",
    "\n",
    "    return study"
   ]
  },
  {
   "cell_type": "code",
   "execution_count": 8,
   "id": "36286e9a",
   "metadata": {},
   "outputs": [],
   "source": [
    "def evaluate_best_model(N_TOPICS, X_counts, Y, random_seed, best_params):\n",
    "    # Perform LDA with the best number of topics\n",
    "    lda = LatentDirichletAllocation(n_components=N_TOPICS, random_state=random_seed)\n",
    "    X_topics = lda.fit_transform(X_counts)\n",
    "    \n",
    "    # Split the transformed data\n",
    "    X_train, X_temp, Y_train, Y_temp = train_test_split(X_topics, Y, test_size=0.2, random_state=random_seed)\n",
    "    X_val, X_test, Y_val, Y_test = train_test_split(X_temp, Y_temp, test_size=0.5, random_state=random_seed)\n",
    "\n",
    "    # Set up the best SVC ensemble\n",
    "    estimators = []\n",
    "    for i in range(N_TOPICS):\n",
    "        C = best_params[f\"C_{i}\"]\n",
    "        kernel = best_params[f\"kernel_{i}\"]\n",
    "        svc = SVC(probability=True, C=C, kernel=kernel, random_state=random_seed)\n",
    "        estimators.append((f'svc_{i}', svc))\n",
    "\n",
    "    # Create and train the Voting Classifier with the best parameters\n",
    "    ensemble = VotingClassifier(estimators, voting='soft')\n",
    "    ensemble.fit(X_train, Y_train)\n",
    "\n",
    "    # Evaluate on the test set\n",
    "    Y_test_pred = ensemble.predict(X_test)\n",
    "    test_accuracy = accuracy_score(Y_test, Y_test_pred)\n",
    "    print(f\"Test Accuracy: {test_accuracy}\")"
   ]
  },
  {
   "cell_type": "markdown",
   "id": "9daac94b",
   "metadata": {},
   "source": [
    "# LDA + 3 SVCs"
   ]
  },
  {
   "cell_type": "code",
   "execution_count": 9,
   "id": "8ae842d3",
   "metadata": {},
   "outputs": [
    {
     "name": "stdout",
     "output_type": "stream",
     "text": [
      "Performing Latent Dirichlet Allocation for 3 topics\n"
     ]
    },
    {
     "name": "stderr",
     "output_type": "stream",
     "text": [
      "[I 2024-04-29 11:48:08,169] A new study created in memory with name: LDA_3_SVC_Ensemble\n"
     ]
    },
    {
     "name": "stdout",
     "output_type": "stream",
     "text": [
      "Done performing Latent Dirichlet Allocation for 3 topics\n"
     ]
    },
    {
     "name": "stderr",
     "output_type": "stream",
     "text": [
      "[I 2024-04-29 11:53:25,348] Trial 11 finished with value: 0.5476681799422204 and parameters: {'C_0': 9.978450928019946, 'kernel_0': 'sigmoid', 'C_1': 5.394056745213837, 'kernel_1': 'sigmoid', 'C_2': 8.006539928574718, 'kernel_2': 'sigmoid'}. Best is trial 11 with value: 0.5476681799422204.\n",
      "[I 2024-04-29 11:53:48,482] Trial 7 finished with value: 0.5489063144861742 and parameters: {'C_0': 3.5620806543037404, 'kernel_0': 'sigmoid', 'C_1': 0.16774659296069133, 'kernel_1': 'sigmoid', 'C_2': 5.227069465747458, 'kernel_2': 'sigmoid'}. Best is trial 7 with value: 0.5489063144861742.\n",
      "[I 2024-04-29 11:57:44,217] Trial 1 finished with value: 0.6380520016508461 and parameters: {'C_0': 4.864873052818894, 'kernel_0': 'rbf', 'C_1': 1.1544432869880796, 'kernel_1': 'sigmoid', 'C_2': 2.209081796751062, 'kernel_2': 'rbf'}. Best is trial 1 with value: 0.6380520016508461.\n",
      "[I 2024-04-29 11:57:48,567] Trial 3 finished with value: 0.6397028477094511 and parameters: {'C_0': 5.8911394062180165, 'kernel_0': 'rbf', 'C_1': 9.291175228614703, 'kernel_1': 'rbf', 'C_2': 3.33926169149211, 'kernel_2': 'sigmoid'}. Best is trial 3 with value: 0.6397028477094511.\n",
      "[I 2024-04-29 11:58:02,957] Trial 5 finished with value: 0.6401155592241023 and parameters: {'C_0': 9.695951175549485, 'kernel_0': 'rbf', 'C_1': 4.8378497287129, 'kernel_1': 'poly', 'C_2': 6.963154845339166, 'kernel_2': 'sigmoid'}. Best is trial 5 with value: 0.6401155592241023.\n",
      "[I 2024-04-29 11:58:21,378] Trial 6 finished with value: 0.6401155592241023 and parameters: {'C_0': 5.878021912829526, 'kernel_0': 'poly', 'C_1': 1.797630451956861, 'kernel_1': 'rbf', 'C_2': 3.7272134359659805, 'kernel_2': 'sigmoid'}. Best is trial 5 with value: 0.6401155592241023.\n",
      "[I 2024-04-29 11:58:33,593] Trial 4 finished with value: 0.6401155592241023 and parameters: {'C_0': 6.403535571608294, 'kernel_0': 'poly', 'C_1': 6.218069610412827, 'kernel_1': 'sigmoid', 'C_2': 9.751949837220696, 'kernel_2': 'rbf'}. Best is trial 5 with value: 0.6401155592241023.\n",
      "[I 2024-04-29 11:58:48,149] Trial 9 finished with value: 0.6376392901361948 and parameters: {'C_0': 8.475328452743147, 'kernel_0': 'poly', 'C_1': 3.986383413107803, 'kernel_1': 'poly', 'C_2': 8.718807269255812, 'kernel_2': 'sigmoid'}. Best is trial 5 with value: 0.6401155592241023.\n",
      "[I 2024-04-29 11:59:20,947] Trial 0 finished with value: 0.6343375980189847 and parameters: {'C_0': 1.8169521371087811, 'kernel_0': 'poly', 'C_1': 4.523021553083087, 'kernel_1': 'rbf', 'C_2': 7.543656457438431, 'kernel_2': 'rbf'}. Best is trial 5 with value: 0.6401155592241023.\n",
      "[I 2024-04-29 11:59:59,213] Trial 10 finished with value: 0.6355757325629385 and parameters: {'C_0': 5.612608018800827, 'kernel_0': 'rbf', 'C_1': 1.8636795128729922, 'kernel_1': 'poly', 'C_2': 8.059784012086084, 'kernel_2': 'poly'}. Best is trial 5 with value: 0.6401155592241023.\n",
      "[I 2024-04-29 12:00:52,701] Trial 2 finished with value: 0.6368138671068923 and parameters: {'C_0': 8.785254662342291, 'kernel_0': 'poly', 'C_1': 3.559237458510641, 'kernel_1': 'poly', 'C_2': 9.247949579169006, 'kernel_2': 'poly'}. Best is trial 5 with value: 0.6401155592241023.\n",
      "[I 2024-04-29 12:01:24,552] Trial 13 finished with value: 0.6343375980189847 and parameters: {'C_0': 3.3704443725626447, 'kernel_0': 'sigmoid', 'C_1': 6.6178069069166545, 'kernel_1': 'poly', 'C_2': 6.090320251836782, 'kernel_2': 'sigmoid'}. Best is trial 5 with value: 0.6401155592241023.\n",
      "[I 2024-04-29 12:03:35,415] Trial 17 finished with value: 0.6343375980189847 and parameters: {'C_0': 0.6059713838134877, 'kernel_0': 'sigmoid', 'C_1': 3.5230467596778445, 'kernel_1': 'poly', 'C_2': 6.5975289525149705, 'kernel_2': 'sigmoid'}. Best is trial 5 with value: 0.6401155592241023.\n",
      "[I 2024-04-29 12:03:50,163] Trial 12 finished with value: 0.634750309533636 and parameters: {'C_0': 9.918281555519, 'kernel_0': 'rbf', 'C_1': 8.80429803724659, 'kernel_1': 'poly', 'C_2': 6.204120264496712, 'kernel_2': 'rbf'}. Best is trial 5 with value: 0.6401155592241023.\n",
      "[I 2024-04-29 12:04:07,905] Trial 15 finished with value: 0.6388774246801486 and parameters: {'C_0': 4.0465471227366905, 'kernel_0': 'sigmoid', 'C_1': 8.173537057165749, 'kernel_1': 'rbf', 'C_2': 1.909986251038251, 'kernel_2': 'rbf'}. Best is trial 5 with value: 0.6401155592241023.\n",
      "[I 2024-04-29 12:04:13,639] Trial 19 finished with value: 0.6384647131654974 and parameters: {'C_0': 2.7813531017711135, 'kernel_0': 'rbf', 'C_1': 3.0004273156379617, 'kernel_1': 'sigmoid', 'C_2': 0.3587966877356755, 'kernel_2': 'rbf'}. Best is trial 5 with value: 0.6401155592241023.\n",
      "[I 2024-04-29 12:04:45,007] Trial 14 finished with value: 0.6355757325629385 and parameters: {'C_0': 7.726554331516417, 'kernel_0': 'poly', 'C_1': 9.865014182835967, 'kernel_1': 'rbf', 'C_2': 1.6247540082087972, 'kernel_2': 'poly'}. Best is trial 5 with value: 0.6401155592241023.\n",
      "[I 2024-04-29 12:04:55,599] Trial 18 finished with value: 0.633099463475031 and parameters: {'C_0': 8.339056235194615, 'kernel_0': 'poly', 'C_1': 0.6474000653859925, 'kernel_1': 'rbf', 'C_2': 5.496416070551898, 'kernel_2': 'rbf'}. Best is trial 5 with value: 0.6401155592241023.\n",
      "[I 2024-04-29 12:05:14,129] Trial 16 finished with value: 0.6335121749896823 and parameters: {'C_0': 1.572429323691837, 'kernel_0': 'rbf', 'C_1': 7.524633955822158, 'kernel_1': 'rbf', 'C_2': 9.995270667668143, 'kernel_2': 'poly'}. Best is trial 5 with value: 0.6401155592241023.\n"
     ]
    }
   ],
   "source": [
    "N_TOPICS = 3\n",
    "study = run_optimization(N_TOPICS, X_counts, Y, RANDOM_SEED)\n",
    "best_params = study.best_trial.params"
   ]
  },
  {
   "cell_type": "code",
   "execution_count": 10,
   "id": "53c83018",
   "metadata": {},
   "outputs": [
    {
     "name": "stdout",
     "output_type": "stream",
     "text": [
      "Test Accuracy: 0.634075907590759\n"
     ]
    }
   ],
   "source": [
    "best_params = {'C_0': 9.695951175549485, 'kernel_0': 'rbf', 'C_1': 4.8378497287129, 'kernel_1': 'poly', 'C_2': 6.963154845339166, 'kernel_2': 'sigmoid'}\n",
    "evaluate_best_model(3, X_counts, Y, RANDOM_SEED, best_params)"
   ]
  },
  {
   "cell_type": "markdown",
   "id": "2000bcf7",
   "metadata": {},
   "source": [
    "# LDA + 5 SVCs"
   ]
  },
  {
   "cell_type": "code",
   "execution_count": null,
   "id": "8de55fd3",
   "metadata": {},
   "outputs": [],
   "source": [
    "N_TOPICS = 5\n",
    "study = run_optimization(N_TOPICS, X_counts, Y, RANDOM_SEED)\n",
    "best_params = study.best_trial.params"
   ]
  },
  {
   "cell_type": "code",
   "execution_count": null,
   "id": "fdccc5de",
   "metadata": {},
   "outputs": [],
   "source": [
    "evaluate_best_model(N_TOPICS, X_counts, Y, RANDOM_SEED, best_params)"
   ]
  },
  {
   "cell_type": "markdown",
   "id": "c3f3d49f",
   "metadata": {},
   "source": [
    "# LDA + 7 SVCs"
   ]
  },
  {
   "cell_type": "code",
   "execution_count": null,
   "id": "6347b51d",
   "metadata": {},
   "outputs": [],
   "source": [
    "N_TOPICS = 7\n",
    "study = run_optimization(N_TOPICS, X_counts, Y, RANDOM_SEED)\n",
    "best_params = study.best_trial.params"
   ]
  },
  {
   "cell_type": "code",
   "execution_count": null,
   "id": "6aa58b38",
   "metadata": {},
   "outputs": [],
   "source": [
    "evaluate_best_model(N_TOPICS, X_counts, Y, RANDOM_SEED, best_params)"
   ]
  }
 ],
 "metadata": {
  "kernelspec": {
   "display_name": "Python 3",
   "language": "python",
   "name": "python3"
  },
  "language_info": {
   "codemirror_mode": {
    "name": "ipython",
    "version": 3
   },
   "file_extension": ".py",
   "mimetype": "text/x-python",
   "name": "python",
   "nbconvert_exporter": "python",
   "pygments_lexer": "ipython3",
   "version": "3.10.8"
  }
 },
 "nbformat": 4,
 "nbformat_minor": 5
}
