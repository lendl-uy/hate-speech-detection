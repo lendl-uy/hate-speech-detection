{
 "cells": [
  {
   "cell_type": "markdown",
   "id": "0d05c036",
   "metadata": {},
   "source": [
    "# LDA - RF Pipeline "
   ]
  },
  {
   "cell_type": "markdown",
   "id": "778cef84980d4467",
   "metadata": {
    "collapsed": false
   },
   "source": [
    "## Import necessary packages"
   ]
  },
  {
   "cell_type": "code",
   "execution_count": 1,
   "id": "initial_id",
   "metadata": {
    "ExecuteTime": {
     "end_time": "2024-04-30T06:12:15.723490Z",
     "start_time": "2024-04-30T06:12:14.266895Z"
    },
    "collapsed": true
   },
   "outputs": [],
   "source": [
    "import time\n",
    "import optuna\n",
    "import numpy as np\n",
    "from tqdm import tqdm\n",
    "from sklearn.feature_extraction.text import CountVectorizer\n",
    "from sklearn.decomposition import NMF\n",
    "from sklearn.model_selection import train_test_split\n",
    "from sklearn.metrics import accuracy_score, f1_score\n",
    "from sklearn.pipeline import Pipeline\n",
    "from sklearn.ensemble import RandomForestClassifier\n",
    "# from bitermplus import BTM\n",
    "\n",
    "from dataset.dataset import Dataset\n",
    "from constants import CLEANED_DATASET_PATH"
   ]
  },
  {
   "cell_type": "markdown",
   "id": "14ffafa63beef650",
   "metadata": {
    "collapsed": false
   },
   "source": [
    "## Constants"
   ]
  },
  {
   "cell_type": "code",
   "execution_count": 2,
   "id": "7e92953c8b90f034",
   "metadata": {
    "ExecuteTime": {
     "end_time": "2024-04-30T06:12:15.730647Z",
     "start_time": "2024-04-30T06:12:15.723831Z"
    },
    "collapsed": false
   },
   "outputs": [],
   "source": [
    "RANDOM_SEED = 0"
   ]
  },
  {
   "cell_type": "markdown",
   "id": "b6be051016d14124",
   "metadata": {
    "collapsed": false
   },
   "source": [
    "## Load the Hate Speech Filipino dataset from Hugging Face"
   ]
  },
  {
   "cell_type": "code",
   "execution_count": 3,
   "id": "88b506f040054ff5",
   "metadata": {
    "ExecuteTime": {
     "end_time": "2024-04-30T06:12:25.180185Z",
     "start_time": "2024-04-30T06:12:16.265426Z"
    },
    "collapsed": false
   },
   "outputs": [
    {
     "name": "stdout",
     "output_type": "stream",
     "text": [
      "Data loaded from dataset/cleaned_dataset.pkl\n"
     ]
    }
   ],
   "source": [
    "dataset = Dataset(full_data_path=CLEANED_DATASET_PATH,\n",
    "                  from_scratch=False,\n",
    "                  split_sizes=[10000, 4232, 4232])\n",
    "dataset.build()\n",
    "\n",
    "X_train = dataset.get_features(split_type=\"train\")\n",
    "Y_train = dataset.get_labels(split_type=\"train\")\n",
    "X_val = dataset.get_features(split_type=\"val\")\n",
    "Y_val = dataset.get_labels(split_type=\"val\")\n",
    "X_test = dataset.get_features(split_type=\"test\")\n",
    "Y_test = dataset.get_labels(split_type=\"test\")"
   ]
  },
  {
   "cell_type": "code",
   "execution_count": 4,
   "id": "f76bd2607ff0e948",
   "metadata": {
    "ExecuteTime": {
     "end_time": "2024-04-30T06:12:25.205936Z",
     "start_time": "2024-04-30T06:12:25.196203Z"
    }
   },
   "outputs": [],
   "source": [
    "# Re-split the dataset into training, validation, and test sets\n",
    "# X_train, X_temp, Y_train, Y_temp = train_test_split(X, Y, test_size=0.2, random_state=RANDOM_SEED)\n",
    "# X_val, X_test, Y_val, Y_test = train_test_split(X_temp, Y_temp, test_size=0.5, random_state=RANDOM_SEED)"
   ]
  },
  {
   "cell_type": "markdown",
   "id": "e7c8c684144c6b8a",
   "metadata": {
    "collapsed": false
   },
   "source": [
    "## Classifier Only Pipeline"
   ]
  },
  {
   "cell_type": "code",
   "execution_count": 5,
   "id": "19a447fade33a0d8",
   "metadata": {
    "ExecuteTime": {
     "end_time": "2024-04-30T06:12:25.321426Z",
     "start_time": "2024-04-30T06:12:25.219275Z"
    },
    "collapsed": false
   },
   "outputs": [],
   "source": [
    "def create_objective(X_train, Y_train, X_test, Y_test, random_seed):\n",
    "    def objective(trial):\n",
    "        # Suggest values for the hyperparameters\n",
    "        n_estimators = trial.suggest_int(\"n_estimators\", 100, 1000)\n",
    "\n",
    "        # Create the pipeline within the trial\n",
    "        pipeline = Pipeline([\n",
    "            (\"vectorizer\", CountVectorizer(max_df=0.95, min_df=2)),\n",
    "            (\"rf\", RandomForestClassifier(n_estimators=n_estimators, random_state=random_seed))\n",
    "        ])\n",
    "\n",
    "        # Fit the pipeline\n",
    "        pipeline.fit(X_train, Y_train)\n",
    "\n",
    "        # Evaluate the pipeline\n",
    "        Y_pred = pipeline.predict(X_test)\n",
    "        accuracy = accuracy_score(Y_test, Y_pred)\n",
    "        return accuracy\n",
    "\n",
    "    return objective"
   ]
  },
  {
   "cell_type": "code",
   "execution_count": 6,
   "id": "2d8659d6",
   "metadata": {},
   "outputs": [
    {
     "name": "stderr",
     "output_type": "stream",
     "text": [
      "[I 2024-05-03 18:06:24,733] A new study created in memory with name: RF_Pipeline\n",
      "[I 2024-05-03 18:06:42,924] Trial 6 finished with value: 0.7431474480151229 and parameters: {'n_estimators': 103}. Best is trial 6 with value: 0.7431474480151229.\n",
      "[I 2024-05-03 18:07:39,179] Trial 3 finished with value: 0.7431474480151229 and parameters: {'n_estimators': 424}. Best is trial 6 with value: 0.7431474480151229.\n",
      "[I 2024-05-03 18:07:45,989] Trial 4 finished with value: 0.7422022684310019 and parameters: {'n_estimators': 460}. Best is trial 6 with value: 0.7431474480151229.\n",
      "[I 2024-05-03 18:07:51,381] Trial 11 finished with value: 0.7429111531190926 and parameters: {'n_estimators': 495}. Best is trial 6 with value: 0.7431474480151229.\n",
      "[I 2024-05-03 18:07:51,601] Trial 8 finished with value: 0.7431474480151229 and parameters: {'n_estimators': 493}. Best is trial 6 with value: 0.7431474480151229.\n",
      "[I 2024-05-03 18:07:55,063] Trial 9 finished with value: 0.7436200378071833 and parameters: {'n_estimators': 514}. Best is trial 9 with value: 0.7436200378071833.\n",
      "[I 2024-05-03 18:07:57,646] Trial 10 finished with value: 0.7436200378071833 and parameters: {'n_estimators': 528}. Best is trial 9 with value: 0.7436200378071833.\n",
      "[I 2024-05-03 18:08:13,847] Trial 12 finished with value: 0.7433837429111532 and parameters: {'n_estimators': 524}. Best is trial 9 with value: 0.7436200378071833.\n",
      "[I 2024-05-03 18:08:21,437] Trial 5 finished with value: 0.746219281663516 and parameters: {'n_estimators': 672}. Best is trial 5 with value: 0.746219281663516.\n",
      "[I 2024-05-03 18:08:34,382] Trial 7 finished with value: 0.746219281663516 and parameters: {'n_estimators': 751}. Best is trial 5 with value: 0.746219281663516.\n",
      "[I 2024-05-03 18:08:44,649] Trial 19 finished with value: 0.7424385633270322 and parameters: {'n_estimators': 183}. Best is trial 5 with value: 0.746219281663516.\n",
      "[I 2024-05-03 18:08:56,822] Trial 13 finished with value: 0.7419659735349716 and parameters: {'n_estimators': 439}. Best is trial 5 with value: 0.746219281663516.\n",
      "[I 2024-05-03 18:08:59,212] Trial 1 finished with value: 0.745274102079395 and parameters: {'n_estimators': 894}. Best is trial 5 with value: 0.746219281663516.\n",
      "[I 2024-05-03 18:09:07,368] Trial 15 finished with value: 0.7419659735349716 and parameters: {'n_estimators': 438}. Best is trial 5 with value: 0.746219281663516.\n",
      "[I 2024-05-03 18:09:13,798] Trial 0 finished with value: 0.7450378071833649 and parameters: {'n_estimators': 974}. Best is trial 5 with value: 0.746219281663516.\n",
      "[I 2024-05-03 18:09:14,502] Trial 16 finished with value: 0.7429111531190926 and parameters: {'n_estimators': 476}. Best is trial 5 with value: 0.746219281663516.\n",
      "[I 2024-05-03 18:09:15,164] Trial 2 finished with value: 0.7457466918714556 and parameters: {'n_estimators': 982}. Best is trial 5 with value: 0.746219281663516.\n",
      "[I 2024-05-03 18:09:28,407] Trial 14 finished with value: 0.7455103969754253 and parameters: {'n_estimators': 589}. Best is trial 5 with value: 0.746219281663516.\n",
      "[I 2024-05-03 18:09:48,852] Trial 17 finished with value: 0.7464555765595463 and parameters: {'n_estimators': 664}. Best is trial 17 with value: 0.7464555765595463.\n",
      "[I 2024-05-03 18:10:53,012] Trial 18 finished with value: 0.7450378071833649 and parameters: {'n_estimators': 977}. Best is trial 17 with value: 0.7464555765595463.\n",
      "[I 2024-05-03 18:11:17,772] Trial 21 finished with value: 0.7450378071833649 and parameters: {'n_estimators': 878}. Best is trial 17 with value: 0.7464555765595463.\n",
      "[I 2024-05-03 18:11:21,996] Trial 20 finished with value: 0.7448015122873346 and parameters: {'n_estimators': 975}. Best is trial 17 with value: 0.7464555765595463.\n",
      "[I 2024-05-03 18:11:23,400] Trial 24 finished with value: 0.745274102079395 and parameters: {'n_estimators': 769}. Best is trial 17 with value: 0.7464555765595463.\n",
      "[I 2024-05-03 18:11:31,593] Trial 28 finished with value: 0.745274102079395 and parameters: {'n_estimators': 731}. Best is trial 17 with value: 0.7464555765595463.\n",
      "[I 2024-05-03 18:11:32,484] Trial 25 finished with value: 0.7464555765595463 and parameters: {'n_estimators': 775}. Best is trial 17 with value: 0.7464555765595463.\n",
      "[I 2024-05-03 18:11:33,225] Trial 26 finished with value: 0.7455103969754253 and parameters: {'n_estimators': 742}. Best is trial 17 with value: 0.7464555765595463.\n",
      "[I 2024-05-03 18:11:34,622] Trial 27 finished with value: 0.7455103969754253 and parameters: {'n_estimators': 746}. Best is trial 17 with value: 0.7464555765595463.\n",
      "[I 2024-05-03 18:11:41,766] Trial 22 finished with value: 0.7455103969754253 and parameters: {'n_estimators': 967}. Best is trial 17 with value: 0.7464555765595463.\n",
      "[I 2024-05-03 18:11:43,141] Trial 23 finished with value: 0.7445652173913043 and parameters: {'n_estimators': 896}. Best is trial 17 with value: 0.7464555765595463.\n",
      "[I 2024-05-03 18:11:49,587] Trial 29 finished with value: 0.7455103969754253 and parameters: {'n_estimators': 749}. Best is trial 17 with value: 0.7464555765595463.\n",
      "[I 2024-05-03 18:11:58,107] Trial 30 finished with value: 0.7469281663516069 and parameters: {'n_estimators': 683}. Best is trial 30 with value: 0.7469281663516069.\n",
      "[I 2024-05-03 18:12:54,322] Trial 31 finished with value: 0.745274102079395 and parameters: {'n_estimators': 645}. Best is trial 30 with value: 0.7469281663516069.\n",
      "[I 2024-05-03 18:13:20,275] Trial 32 finished with value: 0.7464555765595463 and parameters: {'n_estimators': 655}. Best is trial 30 with value: 0.7469281663516069.\n",
      "[I 2024-05-03 18:13:29,901] Trial 34 finished with value: 0.7466918714555766 and parameters: {'n_estimators': 679}. Best is trial 30 with value: 0.7469281663516069.\n",
      "[I 2024-05-03 18:13:30,674] Trial 36 finished with value: 0.7474007561436673 and parameters: {'n_estimators': 640}. Best is trial 36 with value: 0.7474007561436673.\n",
      "[I 2024-05-03 18:13:32,203] Trial 33 finished with value: 0.7464555765595463 and parameters: {'n_estimators': 697}. Best is trial 36 with value: 0.7474007561436673.\n",
      "[I 2024-05-03 18:13:33,326] Trial 35 finished with value: 0.7464555765595463 and parameters: {'n_estimators': 653}. Best is trial 36 with value: 0.7474007561436673.\n",
      "[I 2024-05-03 18:13:33,968] Trial 37 finished with value: 0.745274102079395 and parameters: {'n_estimators': 657}. Best is trial 36 with value: 0.7474007561436673.\n",
      "[I 2024-05-03 18:13:34,686] Trial 38 finished with value: 0.7459829867674859 and parameters: {'n_estimators': 647}. Best is trial 36 with value: 0.7474007561436673.\n",
      "[I 2024-05-03 18:13:38,495] Trial 39 finished with value: 0.747164461247637 and parameters: {'n_estimators': 642}. Best is trial 36 with value: 0.7474007561436673.\n",
      "[I 2024-05-03 18:13:41,227] Trial 40 finished with value: 0.7459829867674859 and parameters: {'n_estimators': 647}. Best is trial 36 with value: 0.7474007561436673.\n",
      "[I 2024-05-03 18:13:43,483] Trial 41 finished with value: 0.7459829867674859 and parameters: {'n_estimators': 625}. Best is trial 36 with value: 0.7474007561436673.\n",
      "[I 2024-05-03 18:13:50,069] Trial 42 finished with value: 0.7459829867674859 and parameters: {'n_estimators': 629}. Best is trial 36 with value: 0.7474007561436673.\n",
      "[I 2024-05-03 18:14:20,011] Trial 45 finished with value: 0.7424385633270322 and parameters: {'n_estimators': 358}. Best is trial 36 with value: 0.7474007561436673.\n",
      "[I 2024-05-03 18:14:22,855] Trial 49 finished with value: 0.7440926275992439 and parameters: {'n_estimators': 364}. Best is trial 36 with value: 0.7474007561436673.\n",
      "[I 2024-05-03 18:14:34,958] Trial 43 finished with value: 0.7459829867674859 and parameters: {'n_estimators': 677}. Best is trial 36 with value: 0.7474007561436673.\n",
      "[I 2024-05-03 18:14:42,416] Trial 44 finished with value: 0.7469281663516069 and parameters: {'n_estimators': 622}. Best is trial 36 with value: 0.7474007561436673.\n",
      "[I 2024-05-03 18:14:45,289] Trial 46 finished with value: 0.7450378071833649 and parameters: {'n_estimators': 595}. Best is trial 36 with value: 0.7474007561436673.\n",
      "[I 2024-05-03 18:14:45,732] Trial 48 finished with value: 0.745274102079395 and parameters: {'n_estimators': 586}. Best is trial 36 with value: 0.7474007561436673.\n",
      "[I 2024-05-03 18:14:46,090] Trial 47 finished with value: 0.745274102079395 and parameters: {'n_estimators': 594}. Best is trial 36 with value: 0.7474007561436673.\n"
     ]
    },
    {
     "name": "stdout",
     "output_type": "stream",
     "text": [
      "Best training accuracy: 0.7474007561436673\n",
      "Best training hyperparameters: {'n_estimators': 640}\n"
     ]
    }
   ],
   "source": [
    "# Create the objective function\n",
    "objective = create_objective(X_train, Y_train, X_val, Y_val, RANDOM_SEED)\n",
    "\n",
    "# Create an Optuna study object\n",
    "study = optuna.create_study(direction=\"maximize\", study_name=f\"RF_Pipeline\")\n",
    "\n",
    "# Execute an optimization by running trials\n",
    "study.optimize(objective, n_trials=30, n_jobs=-1)\n",
    "\n",
    "best_rf_params = study.best_trial.params\n",
    "\n",
    "# Best trial result\n",
    "print(f\"Best training accuracy: {study.best_trial.value}\")\n",
    "print(f\"Best training hyperparameters: {best_rf_params}\")"
   ]
  },
  {
   "cell_type": "code",
   "execution_count": 11,
   "id": "7396c3db",
   "metadata": {},
   "outputs": [
    {
     "name": "stdout",
     "output_type": "stream",
     "text": [
      "Best test accuracy: 0.7372400756143668\n",
      "Best test F1-score: 0.7031500266951415\n",
      "Best test hyperparameters: {'n_topics': 236}\n"
     ]
    }
   ],
   "source": [
    "# Create and fit the pipeline\n",
    "pipeline = Pipeline([\n",
    "    (\"vectorizer\", CountVectorizer(max_df=0.95, min_df=2)),\n",
    "    (\"rf\", RandomForestClassifier(n_estimators=best_rf_params[\"n_estimators\"], \n",
    "                                  random_state=RANDOM_SEED))\n",
    "])\n",
    "\n",
    "# Fit the pipeline\n",
    "pipeline.fit(X_train, Y_train)\n",
    "\n",
    "# Evaluate the pipeline\n",
    "Y_pred = pipeline.predict(X_test)\n",
    "accuracy = accuracy_score(Y_test, Y_pred)\n",
    "f1 = f1_score(Y_test, Y_pred)\n",
    "\n",
    "# Best testing result\n",
    "print(f\"Best test accuracy: {accuracy}\")\n",
    "print(f\"Best test F1-score: {f1}\")\n",
    "print(f\"Best test hyperparameters: {study.best_trial.params}\")"
   ]
  },
  {
   "cell_type": "markdown",
   "id": "951e2e63",
   "metadata": {},
   "source": [
    "## NMF-RF Pipeline"
   ]
  },
  {
   "cell_type": "code",
   "execution_count": 8,
   "id": "68688f72",
   "metadata": {},
   "outputs": [],
   "source": [
    "def create_objective(X_train, Y_train, X_test, Y_test, best_rf_params, random_seed):\n",
    "    def objective(trial):\n",
    "        # Suggest values for the hyperparameters\n",
    "        n_topics = trial.suggest_int(\"n_topics\", 50, 300)\n",
    "\n",
    "        # Create the pipeline within the trial\n",
    "        pipeline = Pipeline([\n",
    "            (\"vectorizer\", CountVectorizer(max_df=0.95, min_df=2)),\n",
    "            (\"nmf\", NMF(n_components=n_topics, random_state=random_seed)),\n",
    "            (\"rf\", RandomForestClassifier(n_estimators=best_rf_params[\"n_estimators\"], \n",
    "                                          random_state=random_seed))\n",
    "        ])\n",
    "\n",
    "        # Fit the pipeline\n",
    "        pipeline.fit(X_train, Y_train)\n",
    "\n",
    "        # Evaluate the pipeline\n",
    "        Y_pred = pipeline.predict(X_test)\n",
    "        accuracy = accuracy_score(Y_test, Y_pred)\n",
    "        return accuracy\n",
    "\n",
    "    return objective"
   ]
  },
  {
   "cell_type": "code",
   "execution_count": 9,
   "id": "b3548b5c",
   "metadata": {},
   "outputs": [
    {
     "name": "stderr",
     "output_type": "stream",
     "text": [
      "[I 2024-05-03 18:15:46,904] A new study created in memory with name: NMF_RF_Pipeline\n",
      "[I 2024-05-03 18:16:27,394] Trial 4 finished with value: 0.7003780718336484 and parameters: {'n_topics': 52}. Best is trial 4 with value: 0.7003780718336484.\n",
      "[I 2024-05-03 18:16:36,485] Trial 5 finished with value: 0.7053402646502835 and parameters: {'n_topics': 57}. Best is trial 5 with value: 0.7053402646502835.\n",
      "[I 2024-05-03 18:17:01,027] Trial 2 finished with value: 0.7214083175803403 and parameters: {'n_topics': 93}. Best is trial 2 with value: 0.7214083175803403.\n",
      "[I 2024-05-03 18:17:15,293] Trial 0 finished with value: 0.7190453686200378 and parameters: {'n_topics': 95}. Best is trial 2 with value: 0.7214083175803403.\n",
      "[I 2024-05-03 18:17:24,116] Trial 9 finished with value: 0.7244801512287334 and parameters: {'n_topics': 104}. Best is trial 9 with value: 0.7244801512287334.\n",
      "[I 2024-05-03 18:17:36,635] Trial 13 finished with value: 0.7091209829867675 and parameters: {'n_topics': 62}. Best is trial 9 with value: 0.7244801512287334.\n",
      "[I 2024-05-03 18:18:18,420] Trial 16 finished with value: 0.7121928166351607 and parameters: {'n_topics': 65}. Best is trial 9 with value: 0.7244801512287334.\n",
      "[I 2024-05-03 18:19:06,603] Trial 12 finished with value: 0.7247164461247637 and parameters: {'n_topics': 142}. Best is trial 12 with value: 0.7247164461247637.\n",
      "[I 2024-05-03 18:19:17,388] Trial 1 finished with value: 0.724007561436673 and parameters: {'n_topics': 152}. Best is trial 12 with value: 0.7247164461247637.\n",
      "[I 2024-05-03 18:19:38,337] Trial 18 finished with value: 0.72117202268431 and parameters: {'n_topics': 91}. Best is trial 12 with value: 0.7247164461247637.\n",
      "[I 2024-05-03 18:20:05,149] Trial 15 finished with value: 0.7282608695652174 and parameters: {'n_topics': 160}. Best is trial 15 with value: 0.7282608695652174.\n",
      "[I 2024-05-03 18:20:27,176] Trial 7 finished with value: 0.7280245746691871 and parameters: {'n_topics': 148}. Best is trial 15 with value: 0.7282608695652174.\n",
      "[I 2024-05-03 18:20:43,150] Trial 14 finished with value: 0.7303875236294896 and parameters: {'n_topics': 176}. Best is trial 14 with value: 0.7303875236294896.\n",
      "[I 2024-05-03 18:21:08,250] Trial 10 finished with value: 0.7344045368620038 and parameters: {'n_topics': 198}. Best is trial 10 with value: 0.7344045368620038.\n",
      "c:\\Users\\lendl\\Documents\\hate-speech-detection\\venv\\lib\\site-packages\\sklearn\\decomposition\\_nmf.py:1770: ConvergenceWarning: Maximum number of iterations 200 reached. Increase it to improve convergence.\n",
      "  warnings.warn(\n",
      "[I 2024-05-03 18:21:59,429] Trial 11 finished with value: 0.7384215500945179 and parameters: {'n_topics': 212}. Best is trial 11 with value: 0.7384215500945179.\n",
      "c:\\Users\\lendl\\Documents\\hate-speech-detection\\venv\\lib\\site-packages\\sklearn\\decomposition\\_nmf.py:1770: ConvergenceWarning: Maximum number of iterations 200 reached. Increase it to improve convergence.\n",
      "  warnings.warn(\n",
      "[I 2024-05-03 18:23:37,965] Trial 17 finished with value: 0.725897920604915 and parameters: {'n_topics': 172}. Best is trial 11 with value: 0.7384215500945179.\n",
      "[I 2024-05-03 18:25:31,400] Trial 6 finished with value: 0.7436200378071833 and parameters: {'n_topics': 253}. Best is trial 6 with value: 0.7436200378071833.\n",
      "[I 2024-05-03 18:25:46,168] Trial 3 finished with value: 0.7407844990548205 and parameters: {'n_topics': 249}. Best is trial 6 with value: 0.7436200378071833.\n",
      "[I 2024-05-03 18:26:38,541] Trial 20 finished with value: 0.7386578449905482 and parameters: {'n_topics': 209}. Best is trial 6 with value: 0.7436200378071833.\n",
      "c:\\Users\\lendl\\Documents\\hate-speech-detection\\venv\\lib\\site-packages\\sklearn\\decomposition\\_nmf.py:1770: ConvergenceWarning: Maximum number of iterations 200 reached. Increase it to improve convergence.\n",
      "  warnings.warn(\n",
      "c:\\Users\\lendl\\Documents\\hate-speech-detection\\venv\\lib\\site-packages\\sklearn\\decomposition\\_nmf.py:1770: ConvergenceWarning: Maximum number of iterations 200 reached. Increase it to improve convergence.\n",
      "  warnings.warn(\n",
      "[I 2024-05-03 18:28:43,349] Trial 19 finished with value: 0.745274102079395 and parameters: {'n_topics': 236}. Best is trial 19 with value: 0.745274102079395.\n",
      "[I 2024-05-03 18:29:06,249] Trial 8 finished with value: 0.7419659735349716 and parameters: {'n_topics': 276}. Best is trial 19 with value: 0.745274102079395.\n",
      "[I 2024-05-03 18:29:21,842] Trial 22 finished with value: 0.7381852551984878 and parameters: {'n_topics': 237}. Best is trial 19 with value: 0.745274102079395.\n",
      "c:\\Users\\lendl\\Documents\\hate-speech-detection\\venv\\lib\\site-packages\\sklearn\\decomposition\\_nmf.py:1770: ConvergenceWarning: Maximum number of iterations 200 reached. Increase it to improve convergence.\n",
      "  warnings.warn(\n",
      "c:\\Users\\lendl\\Documents\\hate-speech-detection\\venv\\lib\\site-packages\\sklearn\\decomposition\\_nmf.py:1770: ConvergenceWarning: Maximum number of iterations 200 reached. Increase it to improve convergence.\n",
      "  warnings.warn(\n",
      "[I 2024-05-03 18:30:03,252] Trial 23 finished with value: 0.7348771266540642 and parameters: {'n_topics': 247}. Best is trial 19 with value: 0.745274102079395.\n",
      "[I 2024-05-03 18:30:43,323] Trial 26 finished with value: 0.7336956521739131 and parameters: {'n_topics': 238}. Best is trial 19 with value: 0.745274102079395.\n",
      "[I 2024-05-03 18:31:17,276] Trial 24 finished with value: 0.745274102079395 and parameters: {'n_topics': 236}. Best is trial 19 with value: 0.745274102079395.\n",
      "[I 2024-05-03 18:31:32,316] Trial 25 finished with value: 0.7360586011342155 and parameters: {'n_topics': 229}. Best is trial 19 with value: 0.745274102079395.\n",
      "[I 2024-05-03 18:32:56,810] Trial 21 finished with value: 0.7377126654064272 and parameters: {'n_topics': 268}. Best is trial 19 with value: 0.745274102079395.\n",
      "[I 2024-05-03 18:33:20,612] Trial 27 finished with value: 0.7367674858223062 and parameters: {'n_topics': 240}. Best is trial 19 with value: 0.745274102079395.\n",
      "c:\\Users\\lendl\\Documents\\hate-speech-detection\\venv\\lib\\site-packages\\sklearn\\decomposition\\_nmf.py:1770: ConvergenceWarning: Maximum number of iterations 200 reached. Increase it to improve convergence.\n",
      "  warnings.warn(\n",
      "c:\\Users\\lendl\\Documents\\hate-speech-detection\\venv\\lib\\site-packages\\sklearn\\decomposition\\_nmf.py:1770: ConvergenceWarning: Maximum number of iterations 200 reached. Increase it to improve convergence.\n",
      "  warnings.warn(\n",
      "[I 2024-05-03 18:38:22,080] Trial 31 finished with value: 0.735586011342155 and parameters: {'n_topics': 287}. Best is trial 19 with value: 0.745274102079395.\n",
      "c:\\Users\\lendl\\Documents\\hate-speech-detection\\venv\\lib\\site-packages\\sklearn\\decomposition\\_nmf.py:1770: ConvergenceWarning: Maximum number of iterations 200 reached. Increase it to improve convergence.\n",
      "  warnings.warn(\n",
      "[I 2024-05-03 18:38:56,685] Trial 28 finished with value: 0.7358223062381852 and parameters: {'n_topics': 278}. Best is trial 19 with value: 0.745274102079395.\n",
      "[I 2024-05-03 18:39:14,535] Trial 29 finished with value: 0.7384215500945179 and parameters: {'n_topics': 274}. Best is trial 19 with value: 0.745274102079395.\n",
      "[I 2024-05-03 18:41:02,891] Trial 30 finished with value: 0.7384215500945179 and parameters: {'n_topics': 274}. Best is trial 19 with value: 0.745274102079395.\n",
      "[I 2024-05-03 18:42:28,268] Trial 34 finished with value: 0.7429111531190926 and parameters: {'n_topics': 298}. Best is trial 19 with value: 0.745274102079395.\n",
      "c:\\Users\\lendl\\Documents\\hate-speech-detection\\venv\\lib\\site-packages\\sklearn\\decomposition\\_nmf.py:1770: ConvergenceWarning: Maximum number of iterations 200 reached. Increase it to improve convergence.\n",
      "  warnings.warn(\n",
      "c:\\Users\\lendl\\Documents\\hate-speech-detection\\venv\\lib\\site-packages\\sklearn\\decomposition\\_nmf.py:1770: ConvergenceWarning: Maximum number of iterations 200 reached. Increase it to improve convergence.\n",
      "  warnings.warn(\n",
      "[I 2024-05-03 18:43:30,827] Trial 37 finished with value: 0.7429111531190926 and parameters: {'n_topics': 298}. Best is trial 19 with value: 0.745274102079395.\n",
      "[I 2024-05-03 18:44:25,944] Trial 32 finished with value: 0.7403119092627599 and parameters: {'n_topics': 299}. Best is trial 19 with value: 0.745274102079395.\n",
      "c:\\Users\\lendl\\Documents\\hate-speech-detection\\venv\\lib\\site-packages\\sklearn\\decomposition\\_nmf.py:1770: ConvergenceWarning: Maximum number of iterations 200 reached. Increase it to improve convergence.\n",
      "  warnings.warn(\n",
      "c:\\Users\\lendl\\Documents\\hate-speech-detection\\venv\\lib\\site-packages\\sklearn\\decomposition\\_nmf.py:1770: ConvergenceWarning: Maximum number of iterations 200 reached. Increase it to improve convergence.\n",
      "  warnings.warn(\n",
      "[I 2024-05-03 18:45:20,082] Trial 33 finished with value: 0.7412570888468809 and parameters: {'n_topics': 289}. Best is trial 19 with value: 0.745274102079395.\n",
      "c:\\Users\\lendl\\Documents\\hate-speech-detection\\venv\\lib\\site-packages\\sklearn\\decomposition\\_nmf.py:1770: ConvergenceWarning: Maximum number of iterations 200 reached. Increase it to improve convergence.\n",
      "  warnings.warn(\n",
      "[I 2024-05-03 18:46:10,808] Trial 39 finished with value: 0.7400756143667296 and parameters: {'n_topics': 300}. Best is trial 19 with value: 0.745274102079395.\n",
      "[I 2024-05-03 18:47:45,421] Trial 36 finished with value: 0.744328922495274 and parameters: {'n_topics': 291}. Best is trial 19 with value: 0.745274102079395.\n",
      "[I 2024-05-03 18:47:58,985] Trial 35 finished with value: 0.7410207939508506 and parameters: {'n_topics': 294}. Best is trial 19 with value: 0.745274102079395.\n",
      "[I 2024-05-03 18:49:05,183] Trial 38 finished with value: 0.7410207939508506 and parameters: {'n_topics': 294}. Best is trial 19 with value: 0.745274102079395.\n",
      "c:\\Users\\lendl\\Documents\\hate-speech-detection\\venv\\lib\\site-packages\\sklearn\\decomposition\\_nmf.py:1770: ConvergenceWarning: Maximum number of iterations 200 reached. Increase it to improve convergence.\n",
      "  warnings.warn(\n",
      "c:\\Users\\lendl\\Documents\\hate-speech-detection\\venv\\lib\\site-packages\\sklearn\\decomposition\\_nmf.py:1770: ConvergenceWarning: Maximum number of iterations 200 reached. Increase it to improve convergence.\n",
      "  warnings.warn(\n",
      "c:\\Users\\lendl\\Documents\\hate-speech-detection\\venv\\lib\\site-packages\\sklearn\\decomposition\\_nmf.py:1770: ConvergenceWarning: Maximum number of iterations 200 reached. Increase it to improve convergence.\n",
      "  warnings.warn(\n",
      "c:\\Users\\lendl\\Documents\\hate-speech-detection\\venv\\lib\\site-packages\\sklearn\\decomposition\\_nmf.py:1770: ConvergenceWarning: Maximum number of iterations 200 reached. Increase it to improve convergence.\n",
      "  warnings.warn(\n",
      "[I 2024-05-03 18:52:08,445] Trial 40 finished with value: 0.7403119092627599 and parameters: {'n_topics': 299}. Best is trial 19 with value: 0.745274102079395.\n",
      "c:\\Users\\lendl\\Documents\\hate-speech-detection\\venv\\lib\\site-packages\\sklearn\\decomposition\\_nmf.py:1770: ConvergenceWarning: Maximum number of iterations 200 reached. Increase it to improve convergence.\n",
      "  warnings.warn(\n",
      "[I 2024-05-03 18:53:06,322] Trial 44 finished with value: 0.7429111531190926 and parameters: {'n_topics': 298}. Best is trial 19 with value: 0.745274102079395.\n",
      "[I 2024-05-03 18:53:10,098] Trial 45 finished with value: 0.7348771266540642 and parameters: {'n_topics': 221}. Best is trial 19 with value: 0.745274102079395.\n",
      "[I 2024-05-03 18:53:17,381] Trial 41 finished with value: 0.7367674858223062 and parameters: {'n_topics': 297}. Best is trial 19 with value: 0.745274102079395.\n",
      "[I 2024-05-03 18:53:21,324] Trial 42 finished with value: 0.7410207939508506 and parameters: {'n_topics': 294}. Best is trial 19 with value: 0.745274102079395.\n",
      "[I 2024-05-03 18:53:35,995] Trial 46 finished with value: 0.7398393194706995 and parameters: {'n_topics': 256}. Best is trial 19 with value: 0.745274102079395.\n",
      "[I 2024-05-03 18:53:39,572] Trial 47 finished with value: 0.7429111531190926 and parameters: {'n_topics': 254}. Best is trial 19 with value: 0.745274102079395.\n",
      "[I 2024-05-03 18:53:55,746] Trial 48 finished with value: 0.7403119092627599 and parameters: {'n_topics': 263}. Best is trial 19 with value: 0.745274102079395.\n",
      "[I 2024-05-03 18:54:03,935] Trial 43 finished with value: 0.7405482041587902 and parameters: {'n_topics': 295}. Best is trial 19 with value: 0.745274102079395.\n",
      "[I 2024-05-03 18:54:15,957] Trial 49 finished with value: 0.7403119092627599 and parameters: {'n_topics': 263}. Best is trial 19 with value: 0.745274102079395.\n"
     ]
    },
    {
     "name": "stdout",
     "output_type": "stream",
     "text": [
      "Best training accuracy: 0.745274102079395\n",
      "Best training hyperparameters: {'n_topics': 236}\n"
     ]
    }
   ],
   "source": [
    "# Create the objective function\n",
    "objective = create_objective(X_train, Y_train, X_val, Y_val, best_rf_params, RANDOM_SEED)\n",
    "\n",
    "# Create an Optuna study object\n",
    "study = optuna.create_study(direction=\"maximize\", study_name=f\"NMF_RF_Pipeline\")\n",
    "\n",
    "# Execute an optimization by running trials\n",
    "study.optimize(objective, n_trials=30, n_jobs=-1)\n",
    "\n",
    "best_nmf_params = study.best_trial.params\n",
    "\n",
    "# Best trial result\n",
    "print(f\"Best training accuracy: {study.best_trial.value}\")\n",
    "print(f\"Best training hyperparameters: {best_nmf_params}\")"
   ]
  },
  {
   "cell_type": "code",
   "execution_count": 10,
   "id": "a8270024",
   "metadata": {},
   "outputs": [
    {
     "name": "stderr",
     "output_type": "stream",
     "text": [
      "c:\\Users\\lendl\\Documents\\hate-speech-detection\\venv\\lib\\site-packages\\sklearn\\decomposition\\_nmf.py:1770: ConvergenceWarning: Maximum number of iterations 200 reached. Increase it to improve convergence.\n",
      "  warnings.warn(\n"
     ]
    },
    {
     "name": "stdout",
     "output_type": "stream",
     "text": [
      "Best test accuracy: 0.7268431001890359\n",
      "Best test F1-score: 0.7025218733916624\n",
      "Best test hyperparameters: {'n_topics': 236}\n"
     ]
    }
   ],
   "source": [
    "# Create and fit the pipeline\n",
    "pipeline = Pipeline([\n",
    "    (\"vectorizer\", CountVectorizer(max_df=0.95, min_df=2)),\n",
    "    (\"nmf\", NMF(n_components=best_nmf_params[\"n_topics\"], \n",
    "                random_state=RANDOM_SEED)),\n",
    "    (\"rf\", RandomForestClassifier(n_estimators=best_rf_params[\"n_estimators\"], \n",
    "                                  random_state=RANDOM_SEED))\n",
    "])\n",
    "\n",
    "# Fit the pipeline\n",
    "pipeline.fit(X_train, Y_train)\n",
    "\n",
    "# Evaluate the pipeline\n",
    "Y_pred = pipeline.predict(X_test)\n",
    "accuracy = accuracy_score(Y_test, Y_pred)\n",
    "f1 = f1_score(Y_test, Y_pred)\n",
    "\n",
    "# Best testing result\n",
    "print(f\"Best test accuracy: {accuracy}\")\n",
    "print(f\"Best test F1-score: {f1}\")\n",
    "print(f\"Best test hyperparameters: {study.best_trial.params}\")"
   ]
  }
 ],
 "metadata": {
  "kernelspec": {
   "display_name": "Python 3",
   "language": "python",
   "name": "python3"
  },
  "language_info": {
   "codemirror_mode": {
    "name": "ipython",
    "version": 3
   },
   "file_extension": ".py",
   "mimetype": "text/x-python",
   "name": "python",
   "nbconvert_exporter": "python",
   "pygments_lexer": "ipython3",
   "version": "3.10.8"
  }
 },
 "nbformat": 4,
 "nbformat_minor": 5
}
