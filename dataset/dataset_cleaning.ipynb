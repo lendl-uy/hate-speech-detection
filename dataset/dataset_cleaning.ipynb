{
 "cells": [
  {
   "cell_type": "code",
   "execution_count": 1,
   "metadata": {},
   "outputs": [],
   "source": [
    "import re\n",
    "from dataset import Dataset"
   ]
  },
  {
   "cell_type": "code",
   "execution_count": 2,
   "metadata": {},
   "outputs": [],
   "source": [
    "TRAIN_DATASET_PATH = \"train.csv\"\n",
    "VALIDATION_DATASET_PATH = \"valid.csv\"\n",
    "TEST_DATASET_PATH = \"test.csv\""
   ]
  },
  {
   "cell_type": "code",
   "execution_count": 3,
   "metadata": {},
   "outputs": [
    {
     "name": "stdout",
     "output_type": "stream",
     "text": [
      "Error: The file dataset/train.csv does not exist.\n",
      "Error: The file dataset/valid.csv does not exist.\n",
      "Error: The file dataset/test.csv does not exist.\n"
     ]
    }
   ],
   "source": [
    "dataset = Dataset(TRAIN_DATASET_PATH,\n",
    "                  VALIDATION_DATASET_PATH, \n",
    "                  TEST_DATASET_PATH)\n",
    "dataset.build()"
   ]
  },
  {
   "cell_type": "code",
   "execution_count": 4,
   "metadata": {},
   "outputs": [
    {
     "name": "stdout",
     "output_type": "stream",
     "text": [
      "[]\n",
      "[]\n",
      "0\n",
      "0\n"
     ]
    }
   ],
   "source": [
    "print(dataset.X_train)\n",
    "print(dataset.Y_train)\n",
    "print(len(dataset.X_train))\n",
    "print(len(dataset.Y_train))"
   ]
  },
  {
   "cell_type": "code",
   "execution_count": 5,
   "metadata": {},
   "outputs": [
    {
     "name": "stdout",
     "output_type": "stream",
     "text": [
      "[]\n",
      "[]\n",
      "0\n",
      "0\n"
     ]
    }
   ],
   "source": [
    "print(dataset.X_val)\n",
    "print(dataset.Y_val)\n",
    "print(len(dataset.X_val))\n",
    "print(len(dataset.Y_val))"
   ]
  },
  {
   "cell_type": "code",
   "execution_count": 6,
   "metadata": {},
   "outputs": [
    {
     "name": "stdout",
     "output_type": "stream",
     "text": [
      "[]\n",
      "[]\n",
      "0\n",
      "0\n"
     ]
    }
   ],
   "source": [
    "print(dataset.X_test)\n",
    "print(dataset.Y_test)\n",
    "print(len(dataset.X_test))\n",
    "print(len(dataset.Y_test))"
   ]
  },
  {
   "cell_type": "code",
   "execution_count": null,
   "metadata": {},
   "outputs": [],
   "source": []
  },
  {
   "cell_type": "code",
   "execution_count": 7,
   "metadata": {},
   "outputs": [],
   "source": [
    "# X, Y = load_dataset(DATASET_PATH)"
   ]
  },
  {
   "cell_type": "code",
   "execution_count": 8,
   "metadata": {},
   "outputs": [],
   "source": [
    "# def count_texts_with_urls(texts):\n",
    "#     # Define the regex pattern for URLs\n",
    "#     url_pattern = r'https?://\\S+'\n",
    "#     # Count texts containing at least one URL\n",
    "#     count = sum(bool(re.search(url_pattern, text)) for text in texts)\n",
    "#     return count"
   ]
  },
  {
   "cell_type": "code",
   "execution_count": 9,
   "metadata": {},
   "outputs": [],
   "source": [
    "# print(X[:5])\n",
    "# print(count_texts_with_urls(X))"
   ]
  },
  {
   "cell_type": "code",
   "execution_count": 10,
   "metadata": {},
   "outputs": [],
   "source": [
    "# def remove_urls(X):\n",
    "#     # Define the regex pattern for URLs\n",
    "#     url_pattern = r'https?://\\S+'\n",
    "#     # Remove URLs from each text in the list\n",
    "#     return [re.sub(url_pattern, '', text) for text in X]"
   ]
  },
  {
   "cell_type": "code",
   "execution_count": 11,
   "metadata": {},
   "outputs": [],
   "source": [
    "# X_url_removed = remove_urls(X)\n",
    "# print(X_url_removed[:5])"
   ]
  },
  {
   "cell_type": "code",
   "execution_count": 12,
   "metadata": {},
   "outputs": [],
   "source": [
    "# def save_to_file(file_path, X, Y):\n",
    "#     with open(file_path, 'wb') as f:\n",
    "#         pickle.dump((X, Y), f)\n",
    "#         print(f\"Data saved to {file_path}\")"
   ]
  },
  {
   "cell_type": "code",
   "execution_count": 13,
   "metadata": {},
   "outputs": [],
   "source": [
    "# save_to_file(\"dataset/hate_speech_filipino_cleaned.pkl\", X_url_removed, Y)"
   ]
  }
 ],
 "metadata": {
  "kernelspec": {
   "display_name": "venv",
   "language": "python",
   "name": "python3"
  },
  "language_info": {
   "codemirror_mode": {
    "name": "ipython",
    "version": 3
   },
   "file_extension": ".py",
   "mimetype": "text/x-python",
   "name": "python",
   "nbconvert_exporter": "python",
   "pygments_lexer": "ipython3",
   "version": "3.10.8"
  }
 },
 "nbformat": 4,
 "nbformat_minor": 2
}
