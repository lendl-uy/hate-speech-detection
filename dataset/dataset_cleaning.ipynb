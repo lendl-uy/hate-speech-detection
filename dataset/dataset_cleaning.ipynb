{
 "cells": [
  {
   "cell_type": "code",
   "execution_count": 2,
   "metadata": {},
   "outputs": [],
   "source": [
    "import re\n",
    "from dataset import Dataset\n",
    "from dataset_constants import *"
   ]
  },
  {
   "cell_type": "code",
   "execution_count": 3,
   "metadata": {},
   "outputs": [],
   "source": [
    "dataset = Dataset(train_path=TRAIN_DATASET_PATH,\n",
    "                  val_path=VALIDATION_DATASET_PATH, \n",
    "                  test_path=TEST_DATASET_PATH)\n",
    "dataset.build()"
   ]
  },
  {
   "cell_type": "code",
   "execution_count": 4,
   "metadata": {},
   "outputs": [
    {
     "name": "stdout",
     "output_type": "stream",
     "text": [
      "['Inaasahan na ni Vice President Jejomar Binay na may mga taong... https://t.co/SDytgbWiLh', 'Mar Roxas TANG INA TUWID NA DAAN DAW .. EH SYA NGA DI STRAIGHT', 'Salamat sa walang sawang suporta ng mga taga makati! Ang Pagbabalik Binay In Makati #OnlyBinayInMakatiSanKaPa https://t.co/iwAOdtZPRE', '@rapplerdotcom putangina mo binay TAKBO PA', 'Binay with selective amnesia, forgetting about the past six years he spent preparing to be president.  #PiliPinasDebates2016']\n",
      "[0, 1, 0, 1, 0]\n",
      "10000\n",
      "10000\n"
     ]
    }
   ],
   "source": [
    "X_train = dataset.get_features(split_type=\"train\")\n",
    "Y_train = dataset.get_labels(split_type=\"train\")\n",
    "\n",
    "print(X_train[:5])\n",
    "print(Y_train[:5])\n",
    "print(len(X_train))\n",
    "print(len(Y_train))"
   ]
  },
  {
   "cell_type": "code",
   "execution_count": 5,
   "metadata": {},
   "outputs": [
    {
     "name": "stdout",
     "output_type": "stream",
     "text": [
      "['Escudero denies betraying Poe after meeting with Binay |https://t.co/sKlXTIhHJa - Kare-kare at sinampalukan ang topic. Walang balimbing?', 'Hndi ko makita yung sa one more chance saka kay binay sa fb. Haist.', \"Mar Roxas is now addressing the crowd gathered at Pasay City's Ulat sa Barangay 2016  https://t.co/VruZyJ2e2H\", '@ImYourBaeMax perfect! Para makaharap ni Duterte ang mga Binay at makatikim ng mura #^%* i#*', '#OnlyBinayPriority4Ps Wag nating hayaan na maloko tayo ng mga pulitikong yan. Kay Binay na tayo']\n",
      "[0, 1, 0, 0, 0]\n",
      "4232\n",
      "4232\n"
     ]
    }
   ],
   "source": [
    "X_val = dataset.get_features(split_type=\"val\")\n",
    "Y_val = dataset.get_labels(split_type=\"val\")\n",
    "\n",
    "print(X_val[:5])\n",
    "print(Y_val[:5])\n",
    "print(len(X_val))\n",
    "print(len(Y_val))"
   ]
  },
  {
   "cell_type": "code",
   "execution_count": 6,
   "metadata": {},
   "outputs": [
    {
     "name": "stdout",
     "output_type": "stream",
     "text": [
      "['Unshaded votes and votes for Mayor Duterte goes to Mar Roxas according to some reports of ballot tests.  #AyawSaDILAW', '#NoMoreChance https://t.co/msaaUGv0bS', \"@itsmanj well there's other good choices like Duterte or Poe. But both of them are still undecided, I think? :( :(\", 'Nognog. Pandak. Laki sa hirap. Pero corrupt. Yan si Binay!!!', 'Ex-Binay aide turns tables on Mercado | https://t.co/nyySAo54rL']\n",
      "[1, 1, 0, 1, 0]\n",
      "4232\n",
      "4232\n"
     ]
    }
   ],
   "source": [
    "X_test = dataset.get_features(split_type=\"test\")\n",
    "Y_test = dataset.get_labels(split_type=\"test\")\n",
    "\n",
    "print(X_test[:5])\n",
    "print(Y_test[:5])\n",
    "print(len(X_test))\n",
    "print(len(Y_test))"
   ]
  },
  {
   "cell_type": "code",
   "execution_count": 7,
   "metadata": {},
   "outputs": [
    {
     "name": "stdout",
     "output_type": "stream",
     "text": [
      "18464\n",
      "18464\n",
      "['Inaasahan na ni Vice President Jejomar Binay na may mga taong... https://t.co/SDytgbWiLh', 'Mar Roxas TANG INA TUWID NA DAAN DAW .. EH SYA NGA DI STRAIGHT', 'Salamat sa walang sawang suporta ng mga taga makati! Ang Pagbabalik Binay In Makati #OnlyBinayInMakatiSanKaPa https://t.co/iwAOdtZPRE', '@rapplerdotcom putangina mo binay TAKBO PA', 'Binay with selective amnesia, forgetting about the past six years he spent preparing to be president.  #PiliPinasDebates2016']\n",
      "[0, 1, 0, 1, 0]\n"
     ]
    }
   ],
   "source": [
    "X = dataset.get_features()\n",
    "Y = dataset.get_labels()\n",
    "print(len(X))\n",
    "print(len(Y))\n",
    "print(X[:5])\n",
    "print(Y[:5])"
   ]
  },
  {
   "cell_type": "code",
   "execution_count": 9,
   "metadata": {},
   "outputs": [],
   "source": [
    "def count_texts_with_urls(texts):\n",
    "    # Define the regex pattern for URLs\n",
    "    url_pattern = r'https?://\\S+'\n",
    "    # Count texts containing at least one URL\n",
    "    count = sum(bool(re.search(url_pattern, text)) for text in texts)\n",
    "    return count"
   ]
  },
  {
   "cell_type": "code",
   "execution_count": 10,
   "metadata": {},
   "outputs": [],
   "source": [
    "def remove_urls(X):\n",
    "    # Define the regex pattern for URLs\n",
    "    url_pattern = r'https?://\\S+'\n",
    "    # Remove URLs from each text in the list\n",
    "    return [re.sub(url_pattern, '', text) for text in X]"
   ]
  },
  {
   "cell_type": "code",
   "execution_count": 11,
   "metadata": {},
   "outputs": [],
   "source": [
    "def remove_usernames(texts):\n",
    "    # Define the regex pattern for usernames\n",
    "    username_pattern = r'@\\S+'\n",
    "    \n",
    "    # Remove usernames from each text in the list\n",
    "    return [re.sub(username_pattern, '', text) for text in texts]"
   ]
  },
  {
   "cell_type": "code",
   "execution_count": 12,
   "metadata": {},
   "outputs": [],
   "source": [
    "def count_texts_with_usernames(texts):\n",
    "    # Regular expression pattern to match usernames\n",
    "    pattern = r'@\\S+'\n",
    "    count = 0\n",
    "    \n",
    "    # Iterate through each text and check for the presence of the pattern\n",
    "    for text in texts:\n",
    "        if re.search(pattern, text):\n",
    "            count += 1\n",
    "    \n",
    "    return count"
   ]
  },
  {
   "cell_type": "code",
   "execution_count": 11,
   "metadata": {},
   "outputs": [
    {
     "name": "stdout",
     "output_type": "stream",
     "text": [
      "5016\n",
      "0\n"
     ]
    }
   ],
   "source": [
    "print(count_texts_with_urls(X))\n",
    "X_url_removed = remove_urls(X)\n",
    "print(count_texts_with_urls(X_url_removed))"
   ]
  },
  {
   "cell_type": "code",
   "execution_count": 12,
   "metadata": {},
   "outputs": [
    {
     "name": "stdout",
     "output_type": "stream",
     "text": [
      "['Inaasahan na ni Vice President Jejomar Binay na may mga taong... ', 'Mar Roxas TANG INA TUWID NA DAAN DAW .. EH SYA NGA DI STRAIGHT', 'Salamat sa walang sawang suporta ng mga taga makati! Ang Pagbabalik Binay In Makati #OnlyBinayInMakatiSanKaPa ', '@rapplerdotcom putangina mo binay TAKBO PA', 'Binay with selective amnesia, forgetting about the past six years he spent preparing to be president.  #PiliPinasDebates2016', \"It doesn't matter whoever won between Duterte &amp; Miriam as President. As long as they finally changed the country Noynoy failed to do so.\", 'Nognog? Pero nognog din ang nag malasakit? Wtf? Tangina mo Binay nagpapaawa kapa! Hahahahaha #Nognog ??', '#OnlyB1nay ?? #FB ', 'What Abi Binay said on running for Makati mayor #Halalan2016  ', 'Srsly. How can Binay do away with no tax for those earning PhP 30k and below without any compromises? Nkklk talaga!']\n"
     ]
    }
   ],
   "source": [
    "print(X_url_removed[:10])"
   ]
  },
  {
   "cell_type": "code",
   "execution_count": 13,
   "metadata": {},
   "outputs": [
    {
     "name": "stdout",
     "output_type": "stream",
     "text": [
      "3950\n",
      "0\n"
     ]
    }
   ],
   "source": [
    "print(count_texts_with_usernames(X_url_removed))\n",
    "X_username_url_removed = remove_usernames(X_url_removed)\n",
    "print(count_texts_with_urls(X_username_url_removed))"
   ]
  },
  {
   "cell_type": "code",
   "execution_count": 14,
   "metadata": {},
   "outputs": [
    {
     "name": "stdout",
     "output_type": "stream",
     "text": [
      "Data saved to cleaned_dataset.pkl\n"
     ]
    }
   ],
   "source": [
    "dataset.save_to_file(X_username_url_removed, Y, CLEANED_DATASET_PATH)"
   ]
  },
  {
   "cell_type": "code",
   "execution_count": 15,
   "metadata": {},
   "outputs": [
    {
     "name": "stdout",
     "output_type": "stream",
     "text": [
      "Data loaded from cleaned_dataset.pkl\n"
     ]
    }
   ],
   "source": [
    "X, Y = dataset.load_from_file(CLEANED_DATASET_PATH)"
   ]
  },
  {
   "cell_type": "code",
   "execution_count": 8,
   "metadata": {},
   "outputs": [
    {
     "name": "stdout",
     "output_type": "stream",
     "text": [
      "['Inaasahan na ni Vice President Jejomar Binay na may mga taong... https://t.co/SDytgbWiLh', 'Mar Roxas TANG INA TUWID NA DAAN DAW .. EH SYA NGA DI STRAIGHT', 'Salamat sa walang sawang suporta ng mga taga makati! Ang Pagbabalik Binay In Makati #OnlyBinayInMakatiSanKaPa https://t.co/iwAOdtZPRE', '@rapplerdotcom putangina mo binay TAKBO PA', 'Binay with selective amnesia, forgetting about the past six years he spent preparing to be president.  #PiliPinasDebates2016']\n",
      "[0, 1, 0, 1, 0]\n",
      "10000\n",
      "10000\n"
     ]
    }
   ],
   "source": [
    "X_train = dataset.get_features(split_type=\"train\")\n",
    "Y_train = dataset.get_labels(split_type=\"train\")\n",
    "\n",
    "print(X_train[:5])\n",
    "print(Y_train[:5])\n",
    "print(len(X_train))\n",
    "print(len(Y_train))"
   ]
  },
  {
   "cell_type": "code",
   "execution_count": 9,
   "metadata": {},
   "outputs": [
    {
     "name": "stdout",
     "output_type": "stream",
     "text": [
      "['Escudero denies betraying Poe after meeting with Binay |https://t.co/sKlXTIhHJa - Kare-kare at sinampalukan ang topic. Walang balimbing?', 'Hndi ko makita yung sa one more chance saka kay binay sa fb. Haist.', \"Mar Roxas is now addressing the crowd gathered at Pasay City's Ulat sa Barangay 2016  https://t.co/VruZyJ2e2H\", '@ImYourBaeMax perfect! Para makaharap ni Duterte ang mga Binay at makatikim ng mura #^%* i#*', '#OnlyBinayPriority4Ps Wag nating hayaan na maloko tayo ng mga pulitikong yan. Kay Binay na tayo']\n",
      "[0, 1, 0, 0, 0]\n",
      "4232\n",
      "4232\n"
     ]
    }
   ],
   "source": [
    "X_val = dataset.get_features(split_type=\"val\")\n",
    "Y_val = dataset.get_labels(split_type=\"val\")\n",
    "\n",
    "print(X_val[:5])\n",
    "print(Y_val[:5])\n",
    "print(len(X_val))\n",
    "print(len(Y_val))"
   ]
  },
  {
   "cell_type": "code",
   "execution_count": 10,
   "metadata": {},
   "outputs": [
    {
     "name": "stdout",
     "output_type": "stream",
     "text": [
      "['Unshaded votes and votes for Mayor Duterte goes to Mar Roxas according to some reports of ballot tests.  #AyawSaDILAW', '#NoMoreChance https://t.co/msaaUGv0bS', \"@itsmanj well there's other good choices like Duterte or Poe. But both of them are still undecided, I think? :( :(\", 'Nognog. Pandak. Laki sa hirap. Pero corrupt. Yan si Binay!!!', 'Ex-Binay aide turns tables on Mercado | https://t.co/nyySAo54rL']\n",
      "[1, 1, 0, 1, 0]\n",
      "4232\n",
      "4232\n"
     ]
    }
   ],
   "source": [
    "X_test = dataset.get_features(split_type=\"test\")\n",
    "Y_test = dataset.get_labels(split_type=\"test\")\n",
    "\n",
    "print(X_test[:5])\n",
    "print(Y_test[:5])\n",
    "print(len(X_test))\n",
    "print(len(Y_test))"
   ]
  },
  {
   "cell_type": "code",
   "execution_count": 19,
   "metadata": {},
   "outputs": [
    {
     "name": "stdout",
     "output_type": "stream",
     "text": [
      "Inaasahan na ni Vice President Jejomar Binay na may mga taong... https://t.co/SDytgbWiLh\n",
      "0\n"
     ]
    }
   ],
   "source": [
    "print(X[0])\n",
    "print(Y[0])"
   ]
  },
  {
   "cell_type": "markdown",
   "metadata": {},
   "source": [
    "## Clean each set separately"
   ]
  },
  {
   "cell_type": "markdown",
   "metadata": {},
   "source": [
    "### Train Set"
   ]
  },
  {
   "cell_type": "code",
   "execution_count": 7,
   "metadata": {},
   "outputs": [],
   "source": [
    "X_train = dataset.X_train\n",
    "Y_train = dataset.Y_train"
   ]
  },
  {
   "cell_type": "code",
   "execution_count": 13,
   "metadata": {},
   "outputs": [
    {
     "name": "stdout",
     "output_type": "stream",
     "text": [
      "2685\n",
      "0\n"
     ]
    }
   ],
   "source": [
    "print(count_texts_with_urls(X_train))\n",
    "X_train_url_removed = remove_urls(X_train)\n",
    "print(count_texts_with_urls(X_train_url_removed))"
   ]
  },
  {
   "cell_type": "code",
   "execution_count": 14,
   "metadata": {},
   "outputs": [
    {
     "name": "stdout",
     "output_type": "stream",
     "text": [
      "2094\n",
      "0\n"
     ]
    }
   ],
   "source": [
    "print(count_texts_with_usernames(X_train_url_removed))\n",
    "X_train_username_url_removed = remove_usernames(X_train_url_removed)\n",
    "print(count_texts_with_urls(X_train_username_url_removed))"
   ]
  },
  {
   "cell_type": "code",
   "execution_count": 17,
   "metadata": {},
   "outputs": [
    {
     "name": "stdout",
     "output_type": "stream",
     "text": [
      "Data saved to train.pkl\n"
     ]
    }
   ],
   "source": [
    "dataset.save_to_file(X_train_username_url_removed, Y_train, 'train.pkl')"
   ]
  },
  {
   "cell_type": "markdown",
   "metadata": {},
   "source": [
    "### Validation Set"
   ]
  },
  {
   "cell_type": "code",
   "execution_count": 18,
   "metadata": {},
   "outputs": [],
   "source": [
    "X_val = dataset.X_val\n",
    "Y_val = dataset.Y_val"
   ]
  },
  {
   "cell_type": "code",
   "execution_count": 19,
   "metadata": {},
   "outputs": [
    {
     "name": "stdout",
     "output_type": "stream",
     "text": [
      "1171\n",
      "0\n"
     ]
    }
   ],
   "source": [
    "print(count_texts_with_urls(X_val))\n",
    "X_val_url_removed = remove_urls(X_val)\n",
    "print(count_texts_with_urls(X_val_url_removed))"
   ]
  },
  {
   "cell_type": "code",
   "execution_count": 20,
   "metadata": {},
   "outputs": [
    {
     "name": "stdout",
     "output_type": "stream",
     "text": [
      "903\n",
      "0\n"
     ]
    }
   ],
   "source": [
    "print(count_texts_with_usernames(X_val_url_removed))\n",
    "X_val_username_url_removed = remove_usernames(X_val_url_removed)\n",
    "print(count_texts_with_urls(X_val_username_url_removed))"
   ]
  },
  {
   "cell_type": "code",
   "execution_count": 21,
   "metadata": {},
   "outputs": [
    {
     "name": "stdout",
     "output_type": "stream",
     "text": [
      "Data saved to valid.pkl\n"
     ]
    }
   ],
   "source": [
    "dataset.save_to_file(X_val_username_url_removed, Y_val, 'valid.pkl')"
   ]
  },
  {
   "cell_type": "markdown",
   "metadata": {},
   "source": [
    "### Test Set"
   ]
  },
  {
   "cell_type": "code",
   "execution_count": 22,
   "metadata": {},
   "outputs": [],
   "source": [
    "X_test = dataset.X_test\n",
    "Y_test = dataset.Y_test"
   ]
  },
  {
   "cell_type": "code",
   "execution_count": 23,
   "metadata": {},
   "outputs": [
    {
     "name": "stdout",
     "output_type": "stream",
     "text": [
      "1160\n",
      "0\n"
     ]
    }
   ],
   "source": [
    "print(count_texts_with_urls(X_test))\n",
    "X_test_url_removed = remove_urls(X_test)\n",
    "print(count_texts_with_urls(X_test_url_removed))"
   ]
  },
  {
   "cell_type": "code",
   "execution_count": 24,
   "metadata": {},
   "outputs": [
    {
     "name": "stdout",
     "output_type": "stream",
     "text": [
      "953\n",
      "0\n"
     ]
    }
   ],
   "source": [
    "print(count_texts_with_usernames(X_test_url_removed))\n",
    "X_test_username_url_removed = remove_usernames(X_test_url_removed)\n",
    "print(count_texts_with_urls(X_test_username_url_removed))"
   ]
  },
  {
   "cell_type": "code",
   "execution_count": 25,
   "metadata": {},
   "outputs": [
    {
     "name": "stdout",
     "output_type": "stream",
     "text": [
      "Data saved to test.pkl\n"
     ]
    }
   ],
   "source": [
    "dataset.save_to_file(X_test_username_url_removed, Y_test, 'test.pkl')"
   ]
  },
  {
   "cell_type": "markdown",
   "metadata": {},
   "source": [
    "### Load Datasets"
   ]
  },
  {
   "cell_type": "code",
   "execution_count": 26,
   "metadata": {},
   "outputs": [
    {
     "name": "stdout",
     "output_type": "stream",
     "text": [
      "Data loaded from train.pkl\n",
      "10000\n",
      "10000\n"
     ]
    }
   ],
   "source": [
    "X_train, Y_train = dataset.load_from_file('train.pkl')\n",
    "print(len(X_train))\n",
    "print(len(Y_train))"
   ]
  },
  {
   "cell_type": "code",
   "execution_count": 27,
   "metadata": {},
   "outputs": [
    {
     "name": "stdout",
     "output_type": "stream",
     "text": [
      "['Inaasahan na ni Vice President Jejomar Binay na may mga taong... ', 'Mar Roxas TANG INA TUWID NA DAAN DAW .. EH SYA NGA DI STRAIGHT', 'Salamat sa walang sawang suporta ng mga taga makati! Ang Pagbabalik Binay In Makati #OnlyBinayInMakatiSanKaPa ', ' putangina mo binay TAKBO PA', 'Binay with selective amnesia, forgetting about the past six years he spent preparing to be president.  #PiliPinasDebates2016']\n",
      "[0, 1, 0, 1, 0]\n"
     ]
    }
   ],
   "source": [
    "print(X_train[:5])\n",
    "print(Y_train[:5])"
   ]
  },
  {
   "cell_type": "code",
   "execution_count": 28,
   "metadata": {},
   "outputs": [
    {
     "name": "stdout",
     "output_type": "stream",
     "text": [
      "Data loaded from valid.pkl\n",
      "4232\n",
      "4232\n"
     ]
    }
   ],
   "source": [
    "X_valid, Y_valid = dataset.load_from_file('valid.pkl')\n",
    "print(len(X_valid))\n",
    "print(len(Y_valid))"
   ]
  },
  {
   "cell_type": "code",
   "execution_count": 30,
   "metadata": {},
   "outputs": [
    {
     "name": "stdout",
     "output_type": "stream",
     "text": [
      "['Escudero denies betraying Poe after meeting with Binay |https://t.co/sKlXTIhHJa - Kare-kare at sinampalukan ang topic. Walang balimbing?', 'Hndi ko makita yung sa one more chance saka kay binay sa fb. Haist.', \"Mar Roxas is now addressing the crowd gathered at Pasay City's Ulat sa Barangay 2016  https://t.co/VruZyJ2e2H\", '@ImYourBaeMax perfect! Para makaharap ni Duterte ang mga Binay at makatikim ng mura #^%* i#*', '#OnlyBinayPriority4Ps Wag nating hayaan na maloko tayo ng mga pulitikong yan. Kay Binay na tayo']\n",
      "[0, 1, 0, 0, 0]\n"
     ]
    }
   ],
   "source": [
    "print(X_val[:5])\n",
    "print(Y_val[:5])"
   ]
  },
  {
   "cell_type": "code",
   "execution_count": 29,
   "metadata": {},
   "outputs": [
    {
     "name": "stdout",
     "output_type": "stream",
     "text": [
      "Data loaded from test.pkl\n",
      "4232\n",
      "4232\n"
     ]
    }
   ],
   "source": [
    "X_test, Y_test = dataset.load_from_file('test.pkl')\n",
    "print(len(X_test))\n",
    "print(len(Y_test))"
   ]
  },
  {
   "cell_type": "code",
   "execution_count": 31,
   "metadata": {},
   "outputs": [
    {
     "name": "stdout",
     "output_type": "stream",
     "text": [
      "['Unshaded votes and votes for Mayor Duterte goes to Mar Roxas according to some reports of ballot tests.  #AyawSaDILAW', '#NoMoreChance ', \" well there's other good choices like Duterte or Poe. But both of them are still undecided, I think? :( :(\", 'Nognog. Pandak. Laki sa hirap. Pero corrupt. Yan si Binay!!!', 'Ex-Binay aide turns tables on Mercado | ']\n",
      "[1, 1, 0, 1, 0]\n"
     ]
    }
   ],
   "source": [
    "print(X_test[:5])\n",
    "print(Y_test[:5])"
   ]
  }
 ],
 "metadata": {
  "kernelspec": {
   "display_name": "venv",
   "language": "python",
   "name": "python3"
  },
  "language_info": {
   "codemirror_mode": {
    "name": "ipython",
    "version": 3
   },
   "file_extension": ".py",
   "mimetype": "text/x-python",
   "name": "python",
   "nbconvert_exporter": "python",
   "pygments_lexer": "ipython3",
   "version": "3.11.2"
  }
 },
 "nbformat": 4,
 "nbformat_minor": 2
}
