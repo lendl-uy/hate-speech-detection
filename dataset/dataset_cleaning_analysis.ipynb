{
 "cells": [
  {
   "cell_type": "markdown",
   "metadata": {},
   "source": [
    "# Analysis of Cleaning Procedures"
   ]
  },
  {
   "cell_type": "markdown",
   "metadata": {},
   "source": [
    "## Prerequisites"
   ]
  },
  {
   "cell_type": "code",
   "execution_count": 2,
   "metadata": {},
   "outputs": [],
   "source": [
    "import numpy as np\n",
    "import pandas as pd\n",
    "import matplotlib.pyplot as plt\n",
    "\n",
    "from dataset import Dataset\n",
    "from dataset_constants import *\n",
    "\n",
    "from collections import Counter\n",
    "\n",
    "RANDOM_SEED = 0"
   ]
  },
  {
   "cell_type": "code",
   "execution_count": 71,
   "metadata": {},
   "outputs": [],
   "source": [
    "# Run when dataset.py has been updated\n",
    "\n",
    "import importlib\n",
    "import dataset\n",
    "importlib.reload(dataset) # reload to update changes to the file\n",
    "from dataset import Dataset"
   ]
  },
  {
   "cell_type": "markdown",
   "metadata": {},
   "source": [
    "## Helper Functions"
   ]
  },
  {
   "cell_type": "code",
   "execution_count": 6,
   "metadata": {},
   "outputs": [],
   "source": [
    "def plot_hate_freq(train_df, val_df, test_df):\n",
    "    # Count occurrences of 0s and 1s for each set\n",
    "    train_counts = train_df['label'].value_counts()\n",
    "    validation_counts = val_df['label'].value_counts()\n",
    "    test_counts = test_df['label'].value_counts()\n",
    "\n",
    "    # Ensure both labels (0 and 1) exist in each set, even if they are zero\n",
    "    train_counts = train_counts.reindex([0, 1], fill_value=0)\n",
    "    validation_counts = validation_counts.reindex([0, 1], fill_value=0)\n",
    "    test_counts = test_counts.reindex([0, 1], fill_value=0)\n",
    "\n",
    "    # Calculate total counts for percentages\n",
    "    train_total = train_counts.sum()\n",
    "    val_total = validation_counts.sum()\n",
    "    test_total = test_counts.sum()\n",
    "\n",
    "    # Calculate percentages\n",
    "    train_percent = train_counts / train_total * 100\n",
    "    val_percent = validation_counts / val_total * 100\n",
    "    test_percent = test_counts / test_total * 100\n",
    "\n",
    "    # Plotting\n",
    "    fig, ax = plt.subplots(figsize=(12, 6))\n",
    "\n",
    "    bar_width = 0.3  # Adjusted width of the bars to reduce spacing\n",
    "\n",
    "    # Positions for bars\n",
    "    train_positions = np.arange(len(train_counts))\n",
    "    val_positions = np.arange(len(validation_counts)) + bar_width * 2\n",
    "    test_positions = np.arange(len(test_counts)) + bar_width * 4\n",
    "\n",
    "    # Plot stacked bars\n",
    "    train_bars_not_hate = ax.bar(train_positions[0], train_counts[0], bar_width, label='Not Hate Speech', color='tab:blue')\n",
    "    train_bars_hate = ax.bar(train_positions[0], train_counts[1], bar_width, bottom=train_counts[0], label='Hate Speech', color='tab:orange')\n",
    "\n",
    "    val_bars_not_hate = ax.bar(val_positions[0], validation_counts[0], bar_width, label='Not Hate Speech', color='tab:blue')\n",
    "    val_bars_hate = ax.bar(val_positions[0], validation_counts[1], bar_width, bottom=validation_counts[0], label='Hate Speech', color='tab:orange')\n",
    "\n",
    "    test_bars_not_hate = ax.bar(test_positions[0], test_counts[0], bar_width, label='Not Hate Speech', color='tab:blue')\n",
    "    test_bars_hate = ax.bar(test_positions[0], test_counts[1], bar_width, bottom=test_counts[0], label='Hate Speech', color='tab:orange')\n",
    "\n",
    "    # Add labels, title, and legend\n",
    "    ax.set_ylabel('Count')\n",
    "    ax.set_title('Count of Hate Speech Labels by Dataset')\n",
    "\n",
    "    # Create a custom legend with unique labels\n",
    "    handles, labels = ax.get_legend_handles_labels()\n",
    "    unique_handles = [handles[0], handles[1]]  # Select unique handles\n",
    "    unique_labels = ['Not Hate Speech', 'Hate Speech']\n",
    "\n",
    "    ax.legend(unique_handles, unique_labels)\n",
    "\n",
    "    # Function to add labels and percentages on the bars\n",
    "    def add_labels_and_percentages(bars, counts, percentages):\n",
    "        for bar, count, percentage in zip(bars, counts, percentages):\n",
    "            height = bar.get_height()\n",
    "            if height > 0:\n",
    "                x_pos = bar.get_x() + bar.get_width() / 2\n",
    "                y_pos = bar.get_y() + height / 2\n",
    "                ax.annotate(f'{count}\\n({percentage:.1f}%)',\n",
    "                            xy=(x_pos, y_pos),\n",
    "                            xytext=(0, 5),\n",
    "                            textcoords=\"offset points\",\n",
    "                            ha='center', va='center', color='white')\n",
    "\n",
    "    # Add labels and percentages to \"Not Hate Speech\" and \"Hate Speech\" bars separately\n",
    "    add_labels_and_percentages(train_bars_not_hate, [train_counts[0]], [train_percent[0]])\n",
    "    add_labels_and_percentages(train_bars_hate, [train_counts[1]], [train_percent[1]])\n",
    "\n",
    "    add_labels_and_percentages(val_bars_not_hate, [validation_counts[0]], [val_percent[0]])\n",
    "    add_labels_and_percentages(val_bars_hate, [validation_counts[1]], [val_percent[1]])\n",
    "\n",
    "    add_labels_and_percentages(test_bars_not_hate, [test_counts[0]], [test_percent[0]])\n",
    "    add_labels_and_percentages(test_bars_hate, [test_counts[1]], [test_percent[1]])\n",
    "\n",
    "    plt.tight_layout()\n",
    "    plt.show()"
   ]
  },
  {
   "cell_type": "markdown",
   "metadata": {},
   "source": [
    "## Original Uncleaned Data"
   ]
  },
  {
   "cell_type": "code",
   "execution_count": 7,
   "metadata": {},
   "outputs": [],
   "source": [
    "dataset_uncleaned = Dataset(train_path=TRAIN_DATASET_PATH,\n",
    "                  val_path=VALIDATION_DATASET_PATH, \n",
    "                  test_path=TEST_DATASET_PATH)\n",
    "dataset_uncleaned.build()\n",
    "\n",
    "X_train_uncleaned = dataset_uncleaned.get_features(split_type=\"train\")\n",
    "Y_train_uncleaned = dataset_uncleaned.get_labels(split_type=\"train\")\n",
    "X_val_uncleaned = dataset_uncleaned.get_features(split_type=\"val\")\n",
    "Y_val_uncleaned = dataset_uncleaned.get_labels(split_type=\"val\")\n",
    "X_test_uncleaned = dataset_uncleaned.get_features(split_type=\"test\")\n",
    "Y_test_uncleaned = dataset_uncleaned.get_labels(split_type=\"test\")\n",
    "X_uncleaned = dataset_uncleaned.get_features()\n",
    "Y_uncleaned = dataset_uncleaned.get_labels()"
   ]
  },
  {
   "cell_type": "code",
   "execution_count": 8,
   "metadata": {},
   "outputs": [
    {
     "data": {
      "text/plain": [
       "18464"
      ]
     },
     "execution_count": 8,
     "metadata": {},
     "output_type": "execute_result"
    }
   ],
   "source": [
    "len(X_uncleaned)"
   ]
  },
  {
   "cell_type": "code",
   "execution_count": 88,
   "metadata": {},
   "outputs": [],
   "source": [
    "import re\n",
    "\n",
    "def count_texts(texts, pattern):\n",
    "    count = 0\n",
    "    matched_tweets = []\n",
    "\n",
    "    # Iterate through each text and check for the presence of the pattern\n",
    "    for text in texts:\n",
    "        if re.search(pattern, text):\n",
    "            count += 1\n",
    "            matched_tweets.append(text)\n",
    "    \n",
    "    return matched_tweets, count"
   ]
  },
  {
   "cell_type": "code",
   "execution_count": 117,
   "metadata": {},
   "outputs": [
    {
     "name": "stdout",
     "output_type": "stream",
     "text": [
      "198\n"
     ]
    }
   ],
   "source": [
    "# search for emoticons\n",
    "matches, count = count_texts(X_uncleaned,r':\\)+|:\\(+')\n",
    "print(count) # only 1% of the tweets have emoticons. can ignore to simplify analysis"
   ]
  },
  {
   "cell_type": "markdown",
   "metadata": {},
   "source": [
    "# Part I. Cleaned Dataset with Duplicates\n",
    "\n",
    "The following preprocessing was performed:\n",
    "- Removed URLs and usernames\n",
    "- Removed numeric words\n",
    "- Convert all text to lowercase\n",
    "- Removed 'rt'\n",
    "- Expanded contractions\n",
    "- Removed punctuations\n",
    "- Removed stopwords"
   ]
  },
  {
   "cell_type": "code",
   "execution_count": 20,
   "metadata": {},
   "outputs": [
    {
     "name": "stdout",
     "output_type": "stream",
     "text": [
      "Data loaded from cleaned_dataset_v0.pkl\n"
     ]
    }
   ],
   "source": [
    "dataset_v0 = Dataset(full_data_path='cleaned_dataset_v0.pkl',\n",
    "                  from_scratch=False,\n",
    "                  split_sizes=[10000, 4232, 4232])\n",
    "dataset_v0.build()\n",
    "\n",
    "X_train = dataset_v0.get_features(split_type=\"train\")\n",
    "Y_train = dataset_v0.get_labels(split_type=\"train\")\n",
    "X_val = dataset_v0.get_features(split_type=\"val\")\n",
    "Y_val = dataset_v0.get_labels(split_type=\"val\")\n",
    "X_test = dataset_v0.get_features(split_type=\"test\")\n",
    "Y_test = dataset_v0.get_labels(split_type=\"test\")"
   ]
  },
  {
   "cell_type": "code",
   "execution_count": 4,
   "metadata": {},
   "outputs": [],
   "source": [
    "# Convert to pandas df\n",
    "train_df = pd.DataFrame(\n",
    "    {'tweets': X_train,\n",
    "     'label': Y_train\n",
    "    })\n",
    "\n",
    "val_df = pd.DataFrame(\n",
    "    {'tweets': X_val,\n",
    "     'label': Y_val\n",
    "    })\n",
    "\n",
    "test_df = pd.DataFrame(\n",
    "    {'tweets': X_test,\n",
    "     'label': Y_test\n",
    "    })"
   ]
  },
  {
   "cell_type": "code",
   "execution_count": 9,
   "metadata": {},
   "outputs": [
    {
     "data": {
      "image/png": "[encoded data removed]",
      "text/plain": [
       "<Figure size 1200x600 with 1 Axes>"
      ]
     },
     "metadata": {},
     "output_type": "display_data"
    }
   ],
   "source": [
    "plot_hate_freq(train_df,val_df,test_df)"
   ]
  },
  {
   "cell_type": "markdown",
   "metadata": {},
   "source": [
    "## Analysis of Duplicates"
   ]
  },
  {
   "cell_type": "code",
   "execution_count": 10,
   "metadata": {},
   "outputs": [
    {
     "data": {
      "text/html": [
       "<div>\n",
       "<style scoped>\n",
       "    .dataframe tbody tr th:only-of-type {\n",
       "        vertical-align: middle;\n",
       "    }\n",
       "\n",
       "    .dataframe tbody tr th {\n",
       "        vertical-align: top;\n",
       "    }\n",
       "\n",
       "    .dataframe thead th {\n",
       "        text-align: right;\n",
       "    }\n",
       "</style>\n",
       "<table border=\"1\" class=\"dataframe\">\n",
       "  <thead>\n",
       "    <tr style=\"text-align: right;\">\n",
       "      <th></th>\n",
       "      <th>Tweet</th>\n",
       "      <th>Train_Count</th>\n",
       "      <th>Val_Count</th>\n",
       "      <th>Test_Count</th>\n",
       "      <th>Total_Count</th>\n",
       "    </tr>\n",
       "  </thead>\n",
       "  <tbody>\n",
       "    <tr>\n",
       "      <th>0</th>\n",
       "      <td></td>\n",
       "      <td>13</td>\n",
       "      <td>8</td>\n",
       "      <td>2</td>\n",
       "      <td>23</td>\n",
       "    </tr>\n",
       "    <tr>\n",
       "      <th>20</th>\n",
       "      <td>2nd mar roxas</td>\n",
       "      <td>1</td>\n",
       "      <td>1</td>\n",
       "      <td>1</td>\n",
       "      <td>3</td>\n",
       "    </tr>\n",
       "    <tr>\n",
       "      <th>42</th>\n",
       "      <td>4p tinuligsa kampo vp binay tinuligsa kampo vi...</td>\n",
       "      <td>1</td>\n",
       "      <td>1</td>\n",
       "      <td>0</td>\n",
       "      <td>2</td>\n",
       "    </tr>\n",
       "    <tr>\n",
       "      <th>99</th>\n",
       "      <td>abigail binay claims peña shut district office...</td>\n",
       "      <td>1</td>\n",
       "      <td>0</td>\n",
       "      <td>1</td>\n",
       "      <td>2</td>\n",
       "    </tr>\n",
       "    <tr>\n",
       "      <th>100</th>\n",
       "      <td>abigail binay derpcon secondchancefor charlhon...</td>\n",
       "      <td>2</td>\n",
       "      <td>0</td>\n",
       "      <td>0</td>\n",
       "      <td>2</td>\n",
       "    </tr>\n",
       "  </tbody>\n",
       "</table>\n",
       "</div>"
      ],
      "text/plain": [
       "                                                 Tweet  Train_Count  \\\n",
       "0                                                                13   \n",
       "20                                       2nd mar roxas            1   \n",
       "42   4p tinuligsa kampo vp binay tinuligsa kampo vi...            1   \n",
       "99   abigail binay claims peña shut district office...            1   \n",
       "100  abigail binay derpcon secondchancefor charlhon...            2   \n",
       "\n",
       "     Val_Count  Test_Count  Total_Count  \n",
       "0            8           2           23  \n",
       "20           1           1            3  \n",
       "42           1           0            2  \n",
       "99           0           1            2  \n",
       "100          0           0            2  "
      ]
     },
     "execution_count": 10,
     "metadata": {},
     "output_type": "execute_result"
    }
   ],
   "source": [
    "# Count the occurrences in each set\n",
    "train_counts = Counter(X_train)\n",
    "val_counts = Counter(X_val)\n",
    "test_counts = Counter(X_test)\n",
    "\n",
    "# Create a DataFrame\n",
    "df_train = pd.DataFrame(train_counts.items(), columns=['Tweet', 'Train_Count'])\n",
    "df_val = pd.DataFrame(val_counts.items(), columns=['Tweet', 'Val_Count'])\n",
    "df_test = pd.DataFrame(test_counts.items(), columns=['Tweet', 'Test_Count'])\n",
    "\n",
    "# Merge DataFrames on 'Tweet'\n",
    "df = pd.merge(df_train, df_val, on='Tweet', how='outer')\n",
    "df = pd.merge(df, df_test, on='Tweet', how='outer')\n",
    "\n",
    "# Fill NaN values with 0 (in case some tweets are missing in some sets)\n",
    "df = df.fillna(0).astype({'Train_Count': 'int', 'Val_Count': 'int', 'Test_Count': 'int'})\n",
    "\n",
    "# Calculate total count across train, val, and test\n",
    "df['Total_Count'] = df['Train_Count'] + df['Val_Count'] + df['Test_Count']\n",
    "\n",
    "# Filter out rows where the total count is 1 or 0\n",
    "df_filtered = df[df['Total_Count'] > 1]\n",
    "\n",
    "# Display the filtered DataFrame\n",
    "df_filtered.head()"
   ]
  },
  {
   "cell_type": "code",
   "execution_count": 24,
   "metadata": {},
   "outputs": [
    {
     "data": {
      "text/html": [
       "<div>\n",
       "<style scoped>\n",
       "    .dataframe tbody tr th:only-of-type {\n",
       "        vertical-align: middle;\n",
       "    }\n",
       "\n",
       "    .dataframe tbody tr th {\n",
       "        vertical-align: top;\n",
       "    }\n",
       "\n",
       "    .dataframe thead th {\n",
       "        text-align: right;\n",
       "    }\n",
       "</style>\n",
       "<table border=\"1\" class=\"dataframe\">\n",
       "  <thead>\n",
       "    <tr style=\"text-align: right;\">\n",
       "      <th></th>\n",
       "      <th>Tweet</th>\n",
       "      <th>Train_Count</th>\n",
       "      <th>Val_Count</th>\n",
       "      <th>Test_Count</th>\n",
       "      <th>Total_Count</th>\n",
       "    </tr>\n",
       "  </thead>\n",
       "  <tbody>\n",
       "    <tr>\n",
       "      <th>1238</th>\n",
       "      <td>binay</td>\n",
       "      <td>46</td>\n",
       "      <td>26</td>\n",
       "      <td>20</td>\n",
       "      <td>92</td>\n",
       "    </tr>\n",
       "    <tr>\n",
       "      <th>8417</th>\n",
       "      <td>mar roxas</td>\n",
       "      <td>33</td>\n",
       "      <td>7</td>\n",
       "      <td>17</td>\n",
       "      <td>57</td>\n",
       "    </tr>\n",
       "    <tr>\n",
       "      <th>15287</th>\n",
       "      <td>toni katangian kayong big winner binay nognog ...</td>\n",
       "      <td>6</td>\n",
       "      <td>5</td>\n",
       "      <td>6</td>\n",
       "      <td>17</td>\n",
       "    </tr>\n",
       "    <tr>\n",
       "      <th>6476</th>\n",
       "      <td>inang bayan</td>\n",
       "      <td>3</td>\n",
       "      <td>3</td>\n",
       "      <td>5</td>\n",
       "      <td>11</td>\n",
       "    </tr>\n",
       "    <tr>\n",
       "      <th>13014</th>\n",
       "      <td>really happened alfred romualdez mar roxas yol...</td>\n",
       "      <td>3</td>\n",
       "      <td>1</td>\n",
       "      <td>5</td>\n",
       "      <td>9</td>\n",
       "    </tr>\n",
       "    <tr>\n",
       "      <th>...</th>\n",
       "      <td>...</td>\n",
       "      <td>...</td>\n",
       "      <td>...</td>\n",
       "      <td>...</td>\n",
       "      <td>...</td>\n",
       "    </tr>\n",
       "    <tr>\n",
       "      <th>6304</th>\n",
       "      <td>hoy roxas mag fusion poe parang vegetta goku m...</td>\n",
       "      <td>2</td>\n",
       "      <td>0</td>\n",
       "      <td>0</td>\n",
       "      <td>2</td>\n",
       "    </tr>\n",
       "    <tr>\n",
       "      <th>6222</th>\n",
       "      <td>honasan belies crowd sinulog booed binay</td>\n",
       "      <td>3</td>\n",
       "      <td>0</td>\n",
       "      <td>0</td>\n",
       "      <td>3</td>\n",
       "    </tr>\n",
       "    <tr>\n",
       "      <th>6048</th>\n",
       "      <td>hay nako mar roxas</td>\n",
       "      <td>2</td>\n",
       "      <td>0</td>\n",
       "      <td>0</td>\n",
       "      <td>2</td>\n",
       "    </tr>\n",
       "    <tr>\n",
       "      <th>6002</th>\n",
       "      <td>hassle talaga patalastas binay mayorship rin m...</td>\n",
       "      <td>2</td>\n",
       "      <td>0</td>\n",
       "      <td>0</td>\n",
       "      <td>2</td>\n",
       "    </tr>\n",
       "    <tr>\n",
       "      <th>17039</th>\n",
       "      <td>“we hold future hands ” mar roxas minus razzle...</td>\n",
       "      <td>2</td>\n",
       "      <td>0</td>\n",
       "      <td>0</td>\n",
       "      <td>2</td>\n",
       "    </tr>\n",
       "  </tbody>\n",
       "</table>\n",
       "<p>834 rows × 5 columns</p>\n",
       "</div>"
      ],
      "text/plain": [
       "                                                   Tweet  Train_Count  \\\n",
       "1238                                               binay           46   \n",
       "8417                                           mar roxas           33   \n",
       "15287  toni katangian kayong big winner binay nognog ...            6   \n",
       "6476                                         inang bayan            3   \n",
       "13014  really happened alfred romualdez mar roxas yol...            3   \n",
       "...                                                  ...          ...   \n",
       "6304   hoy roxas mag fusion poe parang vegetta goku m...            2   \n",
       "6222            honasan belies crowd sinulog booed binay            3   \n",
       "6048                                  hay nako mar roxas            2   \n",
       "6002   hassle talaga patalastas binay mayorship rin m...            2   \n",
       "17039  “we hold future hands ” mar roxas minus razzle...            2   \n",
       "\n",
       "       Val_Count  Test_Count  Total_Count  \n",
       "1238          26          20           92  \n",
       "8417           7          17           57  \n",
       "15287          5           6           17  \n",
       "6476           3           5           11  \n",
       "13014          1           5            9  \n",
       "...          ...         ...          ...  \n",
       "6304           0           0            2  \n",
       "6222           0           0            3  \n",
       "6048           0           0            2  \n",
       "6002           0           0            2  \n",
       "17039          0           0            2  \n",
       "\n",
       "[834 rows x 5 columns]"
      ]
     },
     "execution_count": 24,
     "metadata": {},
     "output_type": "execute_result"
    }
   ],
   "source": [
    "df_filtered.sort_values(by='Test_Count', ascending=False)"
   ]
  },
  {
   "cell_type": "code",
   "execution_count": 25,
   "metadata": {},
   "outputs": [
    {
     "name": "stdout",
     "output_type": "stream",
     "text": [
      "2257\n"
     ]
    }
   ],
   "source": [
    "print(df_filtered['Total_Count'].sum())"
   ]
  }
 ],
 "metadata": {
  "kernelspec": {
   "display_name": "Python 3",
   "language": "python",
   "name": "python3"
  },
  "language_info": {
   "codemirror_mode": {
    "name": "ipython",
    "version": 3
   },
   "file_extension": ".py",
   "mimetype": "text/x-python",
   "name": "python",
   "nbconvert_exporter": "python",
   "pygments_lexer": "ipython3",
   "version": "3.11.2"
  }
 },
 "nbformat": 4,
 "nbformat_minor": 2
}
