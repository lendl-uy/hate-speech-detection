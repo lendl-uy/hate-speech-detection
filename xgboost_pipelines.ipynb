{
 "cells": [
  {
   "cell_type": "markdown",
   "id": "30c48592",
   "metadata": {},
   "source": [
    "# LDA - XGBoost Pipeline "
   ]
  },
  {
   "cell_type": "markdown",
   "id": "778cef84980d4467",
   "metadata": {
    "collapsed": false
   },
   "source": [
    "## Import necessary packages"
   ]
  },
  {
   "cell_type": "code",
   "execution_count": 1,
   "id": "initial_id",
   "metadata": {
    "ExecuteTime": {
     "end_time": "2024-04-30T06:15:34.266840Z",
     "start_time": "2024-04-30T06:15:34.253920Z"
    },
    "collapsed": true
   },
   "outputs": [],
   "source": [
    "import time\n",
    "import optuna\n",
    "import numpy as np\n",
    "import xgboost as xgb\n",
    "from sklearn.feature_extraction.text import CountVectorizer\n",
    "from sklearn.decomposition import NMF\n",
    "from sklearn.model_selection import train_test_split\n",
    "from sklearn.metrics import accuracy_score, f1_score\n",
    "from sklearn.pipeline import Pipeline\n",
    "\n",
    "from dataset.dataset import Dataset\n",
    "from constants import CLEANED_DATASET_PATH"
   ]
  },
  {
   "cell_type": "markdown",
   "id": "14ffafa63beef650",
   "metadata": {
    "collapsed": false
   },
   "source": [
    "## Constants"
   ]
  },
  {
   "cell_type": "code",
   "execution_count": 2,
   "id": "7e92953c8b90f034",
   "metadata": {
    "ExecuteTime": {
     "end_time": "2024-04-30T06:15:35.143992Z",
     "start_time": "2024-04-30T06:15:35.093759Z"
    },
    "collapsed": false
   },
   "outputs": [],
   "source": [
    "RANDOM_SEED = 0"
   ]
  },
  {
   "cell_type": "markdown",
   "id": "b6be051016d14124",
   "metadata": {
    "collapsed": false
   },
   "source": [
    "## Load the Hate Speech Filipino dataset from Hugging Face"
   ]
  },
  {
   "cell_type": "code",
   "execution_count": 3,
   "id": "88b506f040054ff5",
   "metadata": {
    "ExecuteTime": {
     "end_time": "2024-04-30T06:15:47.281786Z",
     "start_time": "2024-04-30T06:15:35.782572Z"
    },
    "collapsed": false
   },
   "outputs": [
    {
     "name": "stdout",
     "output_type": "stream",
     "text": [
      "Data loaded from dataset/cleaned_dataset.pkl\n"
     ]
    }
   ],
   "source": [
    "dataset = Dataset(full_data_path=CLEANED_DATASET_PATH,\n",
    "                  from_scratch=False,\n",
    "                  split_sizes=[10000, 4232, 4232])\n",
    "dataset.build()\n",
    "\n",
    "X_train = dataset.get_features(split_type=\"train\")\n",
    "Y_train = dataset.get_labels(split_type=\"train\")\n",
    "X_val = dataset.get_features(split_type=\"val\")\n",
    "Y_val = dataset.get_labels(split_type=\"val\")\n",
    "X_test = dataset.get_features(split_type=\"test\")\n",
    "Y_test = dataset.get_labels(split_type=\"test\")"
   ]
  },
  {
   "cell_type": "code",
   "execution_count": 4,
   "id": "85a7950f",
   "metadata": {},
   "outputs": [],
   "source": [
    "# X_train_np = np.array(X_train)\n",
    "# Y_train_np = np.array(Y_train)\n",
    "# X_val_np = np.array(X_val)\n",
    "# Y_val_np = np.array(Y_val)\n",
    "# X_test_np = np.array(X_test)\n",
    "# Y_test_np = np.array(Y_test)\n",
    "\n",
    "# X_train_np = np.vstack(X_train_np)\n",
    "# Y_train_np = np.vstack(Y_train_np)\n",
    "# X_val_np = np.vstack(X_val_np)\n",
    "# Y_val_np = np.vstack(Y_val_np)\n",
    "# X_test_np = np.vstack(X_test_np)\n",
    "# Y_test_np = np.vstack(Y_test_np)"
   ]
  },
  {
   "cell_type": "code",
   "execution_count": 5,
   "id": "e592255b",
   "metadata": {
    "ExecuteTime": {
     "end_time": "2024-04-30T06:15:47.339678Z",
     "start_time": "2024-04-30T06:15:47.320434Z"
    }
   },
   "outputs": [],
   "source": [
    "# Re-split the dataset into training, validation, and test sets\n",
    "# X_train, X_temp, Y_train, Y_temp = train_test_split(X, Y, test_size=0.2, random_state=RANDOM_SEED)\n",
    "# X_val, X_test, Y_val, Y_test = train_test_split(X_temp, Y_temp, test_size=0.5, random_state=RANDOM_SEED)"
   ]
  },
  {
   "cell_type": "markdown",
   "id": "e7c8c684144c6b8a",
   "metadata": {
    "collapsed": false
   },
   "source": [
    "## Classifier Only Pipeline"
   ]
  },
  {
   "cell_type": "code",
   "execution_count": 6,
   "id": "56546fb8",
   "metadata": {},
   "outputs": [],
   "source": [
    "# Define the objective function for Optuna\n",
    "def create_objective(X_train, Y_train, X_test, Y_test, random_seed):\n",
    "    def objective(trial):\n",
    "        # Suggest values for the hyperparameters\n",
    "        n_estimators = trial.suggest_int(\"n_estimators\", 100, 1000)\n",
    "        learning_rate = trial.suggest_float(\"learning_rate\", 1e-4, 1e-2)\n",
    "        max_depth = trial.suggest_int(\"max_depth\", 3, 20)\n",
    "        subsample = trial.suggest_float(\"subsample\", 0.5, 1.0)\n",
    "        colsample_bytree = trial.suggest_float(\"colsample_bytree\", 0.5, 1.0)\n",
    "\n",
    "        # Create an XGBoost classifier model with suggested parameters\n",
    "        model = xgb.XGBClassifier(\n",
    "            objective=\"binary:logistic\",\n",
    "            n_estimators=n_estimators,    # Number of trees\n",
    "            learning_rate=learning_rate,  # Learning rate\n",
    "            max_depth=max_depth,          # Depth of the trees\n",
    "            subsample=subsample,          # Subsampling of the training instances\n",
    "            colsample_bytree=colsample_bytree,  # Subsampling of columns for each tree\n",
    "            seed=random_seed,             # Seed for reproducibility\n",
    "            use_label_encoder=False,      # Disable label encoder warning\n",
    "            eval_metric=\"logloss\")\n",
    "        \n",
    "        # Create the pipeline within the trial\n",
    "        pipeline = Pipeline([\n",
    "            (\"vectorizer\", CountVectorizer(max_df=0.95, min_df=2)),\n",
    "            (\"xgb\", model)\n",
    "        ])\n",
    "\n",
    "        # Fit the model on the training data\n",
    "        pipeline.fit(X_train, Y_train)\n",
    "\n",
    "        # Predict the labels on the test set\n",
    "        Y_pred = pipeline.predict(X_test)\n",
    "\n",
    "        # Calculate the accuracy\n",
    "        accuracy = accuracy_score(Y_test, Y_pred)\n",
    "        return accuracy\n",
    "    return objective"
   ]
  },
  {
   "cell_type": "code",
   "execution_count": 7,
   "id": "eaf73d30",
   "metadata": {},
   "outputs": [
    {
     "name": "stderr",
     "output_type": "stream",
     "text": [
      "[I 2024-05-03 19:35:02,371] A new study created in memory with name: XGB_Pipeline\n",
      "[I 2024-05-03 19:35:13,502] Trial 0 finished with value: 0.6996691871455577 and parameters: {'n_estimators': 275, 'learning_rate': 0.009449065633517457, 'max_depth': 8, 'subsample': 0.7670255500162464, 'colsample_bytree': 0.7934570037390087}. Best is trial 0 with value: 0.6996691871455577.\n",
      "[I 2024-05-03 19:35:15,220] Trial 3 finished with value: 0.6713137996219282 and parameters: {'n_estimators': 418, 'learning_rate': 0.0030662130918332323, 'max_depth': 6, 'subsample': 0.6630028343455379, 'colsample_bytree': 0.9271280578914012}. Best is trial 0 with value: 0.6996691871455577.\n",
      "[I 2024-05-03 19:35:21,225] Trial 8 finished with value: 0.6980151228733459 and parameters: {'n_estimators': 295, 'learning_rate': 0.003082470685183052, 'max_depth': 15, 'subsample': 0.6475880340922875, 'colsample_bytree': 0.5893824613668761}. Best is trial 0 with value: 0.6996691871455577.\n",
      "[I 2024-05-03 19:35:21,335] Trial 13 finished with value: 0.6833648393194707 and parameters: {'n_estimators': 153, 'learning_rate': 0.003888194993697644, 'max_depth': 11, 'subsample': 0.6762683221560337, 'colsample_bytree': 0.5296212021477749}. Best is trial 0 with value: 0.6996691871455577.\n",
      "[I 2024-05-03 19:35:21,657] Trial 10 finished with value: 0.7051039697542533 and parameters: {'n_estimators': 263, 'learning_rate': 0.0065984893505492736, 'max_depth': 17, 'subsample': 0.7572011077082034, 'colsample_bytree': 0.804286866982169}. Best is trial 10 with value: 0.7051039697542533.\n",
      "[I 2024-05-03 19:35:22,210] Trial 2 finished with value: 0.7169187145557656 and parameters: {'n_estimators': 890, 'learning_rate': 0.009858489902871794, 'max_depth': 5, 'subsample': 0.5988628648937916, 'colsample_bytree': 0.6833467853290666}. Best is trial 2 with value: 0.7169187145557656.\n",
      "[I 2024-05-03 19:35:22,988] Trial 5 finished with value: 0.6864366729678639 and parameters: {'n_estimators': 289, 'learning_rate': 0.0027773314099490192, 'max_depth': 16, 'subsample': 0.8664359805905086, 'colsample_bytree': 0.8735192303569296}. Best is trial 2 with value: 0.7169187145557656.\n",
      "[I 2024-05-03 19:35:23,824] Trial 11 finished with value: 0.7008506616257089 and parameters: {'n_estimators': 606, 'learning_rate': 0.004886580144343165, 'max_depth': 8, 'subsample': 0.8599415694117691, 'colsample_bytree': 0.9615269632974597}. Best is trial 2 with value: 0.7169187145557656.\n",
      "[I 2024-05-03 19:35:24,937] Trial 4 finished with value: 0.720226843100189 and parameters: {'n_estimators': 453, 'learning_rate': 0.009557215951154146, 'max_depth': 12, 'subsample': 0.9243475326281397, 'colsample_bytree': 0.6595877259699947}. Best is trial 4 with value: 0.720226843100189.\n",
      "[I 2024-05-03 19:35:26,672] Trial 9 finished with value: 0.7204631379962193 and parameters: {'n_estimators': 381, 'learning_rate': 0.009027219853513912, 'max_depth': 16, 'subsample': 0.6093002331892469, 'colsample_bytree': 0.6066539216601337}. Best is trial 9 with value: 0.7204631379962193.\n",
      "[I 2024-05-03 19:35:29,418] Trial 18 finished with value: 0.6573724007561437 and parameters: {'n_estimators': 515, 'learning_rate': 0.0038626646943469892, 'max_depth': 3, 'subsample': 0.5627584326931319, 'colsample_bytree': 0.8814485276930595}. Best is trial 9 with value: 0.7204631379962193.\n",
      "[I 2024-05-03 19:35:30,132] Trial 19 finished with value: 0.6668241965973535 and parameters: {'n_estimators': 245, 'learning_rate': 0.0037527658796424604, 'max_depth': 7, 'subsample': 0.5641732954890635, 'colsample_bytree': 0.7428012685639498}. Best is trial 9 with value: 0.7204631379962193.\n",
      "[I 2024-05-03 19:35:30,513] Trial 17 finished with value: 0.6902173913043478 and parameters: {'n_estimators': 185, 'learning_rate': 0.0062858758552667374, 'max_depth': 12, 'subsample': 0.7461955967196249, 'colsample_bytree': 0.6531204167355277}. Best is trial 9 with value: 0.7204631379962193.\n",
      "[I 2024-05-03 19:35:33,341] Trial 7 finished with value: 0.7209357277882797 and parameters: {'n_estimators': 704, 'learning_rate': 0.008780107698694778, 'max_depth': 11, 'subsample': 0.7160429730200464, 'colsample_bytree': 0.7945409447638412}. Best is trial 7 with value: 0.7209357277882797.\n",
      "[I 2024-05-03 19:35:36,718] Trial 12 finished with value: 0.6739130434782609 and parameters: {'n_estimators': 864, 'learning_rate': 0.001187593376125778, 'max_depth': 7, 'subsample': 0.7444614536211982, 'colsample_bytree': 0.5148619231652358}. Best is trial 7 with value: 0.7209357277882797.\n",
      "[I 2024-05-03 19:35:38,144] Trial 14 finished with value: 0.6958884688090737 and parameters: {'n_estimators': 477, 'learning_rate': 0.004295413306349258, 'max_depth': 9, 'subsample': 0.5920197737775728, 'colsample_bytree': 0.5922557533896424}. Best is trial 7 with value: 0.7209357277882797.\n",
      "[I 2024-05-03 19:35:38,779] Trial 20 finished with value: 0.5886105860113422 and parameters: {'n_estimators': 480, 'learning_rate': 0.0003163125998621022, 'max_depth': 7, 'subsample': 0.8103340259746206, 'colsample_bytree': 0.6823432925262995}. Best is trial 7 with value: 0.7209357277882797.\n",
      "[I 2024-05-03 19:35:54,311] Trial 6 finished with value: 0.7329867674858223 and parameters: {'n_estimators': 791, 'learning_rate': 0.009690909925861194, 'max_depth': 17, 'subsample': 0.6725464477370312, 'colsample_bytree': 0.7300233580729759}. Best is trial 6 with value: 0.7329867674858223.\n",
      "[I 2024-05-03 19:35:56,899] Trial 1 finished with value: 0.7336956521739131 and parameters: {'n_estimators': 710, 'learning_rate': 0.009320201532026229, 'max_depth': 20, 'subsample': 0.5538025974268534, 'colsample_bytree': 0.680328369259792}. Best is trial 1 with value: 0.7336956521739131.\n",
      "[I 2024-05-03 19:36:18,007] Trial 16 finished with value: 0.7039224952741021 and parameters: {'n_estimators': 731, 'learning_rate': 0.0018907565101075737, 'max_depth': 20, 'subsample': 0.5426460223263911, 'colsample_bytree': 0.6791079817243388}. Best is trial 1 with value: 0.7336956521739131.\n",
      "[I 2024-05-03 19:36:19,091] Trial 21 finished with value: 0.6904536862003781 and parameters: {'n_estimators': 686, 'learning_rate': 0.0006786204550524597, 'max_depth': 20, 'subsample': 0.5063951072179371, 'colsample_bytree': 0.5086400129116858}. Best is trial 1 with value: 0.7336956521739131.\n",
      "[I 2024-05-03 19:36:19,850] Trial 23 finished with value: 0.7292060491493384 and parameters: {'n_estimators': 671, 'learning_rate': 0.007806448179853887, 'max_depth': 20, 'subsample': 0.9534484212860491, 'colsample_bytree': 0.645465212320195}. Best is trial 1 with value: 0.7336956521739131.\n",
      "[I 2024-05-03 19:36:22,735] Trial 15 finished with value: 0.7310964083175804 and parameters: {'n_estimators': 890, 'learning_rate': 0.0069355498580666195, 'max_depth': 18, 'subsample': 0.9774372911883431, 'colsample_bytree': 0.6998928530849184}. Best is trial 1 with value: 0.7336956521739131.\n",
      "[I 2024-05-03 19:36:23,469] Trial 24 finished with value: 0.6441398865784499 and parameters: {'n_estimators': 695, 'learning_rate': 0.0003237647344480586, 'max_depth': 19, 'subsample': 0.9675860043280932, 'colsample_bytree': 0.5002177700188979}. Best is trial 1 with value: 0.7336956521739131.\n",
      "[I 2024-05-03 19:36:25,802] Trial 22 finished with value: 0.7306238185255198 and parameters: {'n_estimators': 749, 'learning_rate': 0.007680927018106937, 'max_depth': 20, 'subsample': 0.9886621633811044, 'colsample_bytree': 0.665169686449161}. Best is trial 1 with value: 0.7336956521739131.\n",
      "[I 2024-05-03 19:36:26,489] Trial 25 finished with value: 0.6498109640831758 and parameters: {'n_estimators': 682, 'learning_rate': 0.0003809785144571233, 'max_depth': 20, 'subsample': 0.5128222423888233, 'colsample_bytree': 0.5011009197028441}. Best is trial 1 with value: 0.7336956521739131.\n",
      "[I 2024-05-03 19:36:29,909] Trial 28 finished with value: 0.7270793950850661 and parameters: {'n_estimators': 687, 'learning_rate': 0.008274064873503744, 'max_depth': 19, 'subsample': 0.6994122011331643, 'colsample_bytree': 0.7436155844460184}. Best is trial 1 with value: 0.7336956521739131.\n",
      "[I 2024-05-03 19:36:32,193] Trial 27 finished with value: 0.724952741020794 and parameters: {'n_estimators': 692, 'learning_rate': 0.007858497961719337, 'max_depth': 20, 'subsample': 0.5099278377939419, 'colsample_bytree': 0.734454392578744}. Best is trial 1 with value: 0.7336956521739131.\n",
      "[I 2024-05-03 19:36:32,819] Trial 26 finished with value: 0.7308601134215501 and parameters: {'n_estimators': 728, 'learning_rate': 0.008068345367187629, 'max_depth': 20, 'subsample': 0.5155553540513051, 'colsample_bytree': 0.7360057881308297}. Best is trial 1 with value: 0.7336956521739131.\n",
      "[I 2024-05-03 19:36:47,280] Trial 29 finished with value: 0.7294423440453687 and parameters: {'n_estimators': 748, 'learning_rate': 0.007883115838453391, 'max_depth': 19, 'subsample': 0.9931662395321353, 'colsample_bytree': 0.7623287781914694}. Best is trial 1 with value: 0.7336956521739131.\n",
      "[I 2024-05-03 19:36:53,677] Trial 30 finished with value: 0.7294423440453687 and parameters: {'n_estimators': 775, 'learning_rate': 0.007883884954648077, 'max_depth': 20, 'subsample': 0.5147687504920853, 'colsample_bytree': 0.7192457420025067}. Best is trial 1 with value: 0.7336956521739131.\n",
      "[I 2024-05-03 19:37:09,544] Trial 32 finished with value: 0.7284971644612477 and parameters: {'n_estimators': 779, 'learning_rate': 0.00803449546903954, 'max_depth': 19, 'subsample': 0.7110138276045569, 'colsample_bytree': 0.7410465383014926}. Best is trial 1 with value: 0.7336956521739131.\n",
      "[I 2024-05-03 19:37:12,606] Trial 35 finished with value: 0.7310964083175804 and parameters: {'n_estimators': 812, 'learning_rate': 0.007987191058976694, 'max_depth': 18, 'subsample': 0.8409551155515753, 'colsample_bytree': 0.7391611970712527}. Best is trial 1 with value: 0.7336956521739131.\n",
      "[I 2024-05-03 19:37:13,682] Trial 36 finished with value: 0.7299149338374291 and parameters: {'n_estimators': 828, 'learning_rate': 0.008089425030556808, 'max_depth': 18, 'subsample': 0.5004385744626022, 'colsample_bytree': 0.7478752204551334}. Best is trial 1 with value: 0.7336956521739131.\n",
      "[I 2024-05-03 19:37:14,066] Trial 38 finished with value: 0.724007561436673 and parameters: {'n_estimators': 972, 'learning_rate': 0.006685499886113803, 'max_depth': 14, 'subsample': 0.6365014682249265, 'colsample_bytree': 0.721896634390289}. Best is trial 1 with value: 0.7336956521739131.\n",
      "[I 2024-05-03 19:37:16,651] Trial 40 finished with value: 0.7228260869565217 and parameters: {'n_estimators': 977, 'learning_rate': 0.00679579425676741, 'max_depth': 14, 'subsample': 0.6284871242851425, 'colsample_bytree': 0.839246386397867}. Best is trial 1 with value: 0.7336956521739131.\n",
      "[I 2024-05-03 19:37:16,833] Trial 39 finished with value: 0.725897920604915 and parameters: {'n_estimators': 977, 'learning_rate': 0.006606173835462226, 'max_depth': 14, 'subsample': 0.8390356065905192, 'colsample_bytree': 0.7143953917991365}. Best is trial 1 with value: 0.7336956521739131.\n",
      "[I 2024-05-03 19:37:20,077] Trial 33 finished with value: 0.7334593572778828 and parameters: {'n_estimators': 991, 'learning_rate': 0.007874778082957088, 'max_depth': 18, 'subsample': 0.9628030870416943, 'colsample_bytree': 0.722676252624834}. Best is trial 1 with value: 0.7336956521739131.\n",
      "[I 2024-05-03 19:37:23,278] Trial 34 finished with value: 0.7332230623818525 and parameters: {'n_estimators': 981, 'learning_rate': 0.007936719407665794, 'max_depth': 18, 'subsample': 0.5017382689221037, 'colsample_bytree': 0.7465249774775773}. Best is trial 1 with value: 0.7336956521739131.\n",
      "[I 2024-05-03 19:37:26,066] Trial 31 finished with value: 0.7377126654064272 and parameters: {'n_estimators': 975, 'learning_rate': 0.00788488180934829, 'max_depth': 20, 'subsample': 0.6862291345349006, 'colsample_bytree': 0.7284848858899601}. Best is trial 31 with value: 0.7377126654064272.\n",
      "[I 2024-05-03 19:37:27,599] Trial 37 finished with value: 0.7346408317580341 and parameters: {'n_estimators': 994, 'learning_rate': 0.007884144941613842, 'max_depth': 18, 'subsample': 0.689837903959756, 'colsample_bytree': 0.7332701824505484}. Best is trial 31 with value: 0.7377126654064272.\n",
      "[I 2024-05-03 19:37:32,475] Trial 41 finished with value: 0.7225897920604915 and parameters: {'n_estimators': 995, 'learning_rate': 0.006879695880367241, 'max_depth': 14, 'subsample': 0.6305437994926416, 'colsample_bytree': 0.8374426268862839}. Best is trial 31 with value: 0.7377126654064272.\n",
      "[I 2024-05-03 19:37:42,545] Trial 42 finished with value: 0.7339319470699432 and parameters: {'n_estimators': 949, 'learning_rate': 0.00681926563273062, 'max_depth': 18, 'subsample': 0.6411362065532171, 'colsample_bytree': 0.8279971947443423}. Best is trial 31 with value: 0.7377126654064272.\n",
      "[I 2024-05-03 19:37:47,676] Trial 45 finished with value: 0.7244801512287334 and parameters: {'n_estimators': 964, 'learning_rate': 0.0065906591482704485, 'max_depth': 14, 'subsample': 0.8117199536839198, 'colsample_bytree': 0.8392196166969681}. Best is trial 31 with value: 0.7377126654064272.\n",
      "[I 2024-05-03 19:37:48,066] Trial 44 finished with value: 0.7270793950850661 and parameters: {'n_estimators': 994, 'learning_rate': 0.006876592366533802, 'max_depth': 14, 'subsample': 0.8299759070833778, 'colsample_bytree': 0.8241027446520387}. Best is trial 31 with value: 0.7377126654064272.\n",
      "[I 2024-05-03 19:37:50,157] Trial 47 finished with value: 0.7362948960302458 and parameters: {'n_estimators': 914, 'learning_rate': 0.009844988754778287, 'max_depth': 17, 'subsample': 0.8158245208068393, 'colsample_bytree': 0.6256630042261447}. Best is trial 31 with value: 0.7377126654064272.\n",
      "[I 2024-05-03 19:37:50,176] Trial 43 finished with value: 0.7284971644612477 and parameters: {'n_estimators': 992, 'learning_rate': 0.0067107824155725635, 'max_depth': 17, 'subsample': 0.615686581164923, 'colsample_bytree': 0.7814411326404159}. Best is trial 31 with value: 0.7377126654064272.\n",
      "[I 2024-05-03 19:37:50,748] Trial 46 finished with value: 0.736531190926276 and parameters: {'n_estimators': 941, 'learning_rate': 0.009974880692492442, 'max_depth': 17, 'subsample': 0.8210236514480798, 'colsample_bytree': 0.8392228996450556}. Best is trial 31 with value: 0.7377126654064272.\n",
      "[I 2024-05-03 19:37:50,783] Trial 48 finished with value: 0.736531190926276 and parameters: {'n_estimators': 922, 'learning_rate': 0.009939572640771385, 'max_depth': 17, 'subsample': 0.9183644007811295, 'colsample_bytree': 0.7870038348745613}. Best is trial 31 with value: 0.7377126654064272.\n",
      "[I 2024-05-03 19:37:51,167] Trial 49 finished with value: 0.7336956521739131 and parameters: {'n_estimators': 923, 'learning_rate': 0.009760650411214369, 'max_depth': 17, 'subsample': 0.9054523854665408, 'colsample_bytree': 0.7808873769650116}. Best is trial 31 with value: 0.7377126654064272.\n"
     ]
    },
    {
     "name": "stdout",
     "output_type": "stream",
     "text": [
      "Best training accuracy: 0.7377126654064272\n",
      "Best training hyperparameters: {'n_estimators': 975, 'learning_rate': 0.00788488180934829, 'max_depth': 20, 'subsample': 0.6862291345349006, 'colsample_bytree': 0.7284848858899601}\n"
     ]
    }
   ],
   "source": [
    "# Create the objective function\n",
    "objective = create_objective(X_train, Y_train, X_val, Y_val, RANDOM_SEED)\n",
    "\n",
    "# Create an Optuna study object\n",
    "study = optuna.create_study(direction=\"maximize\", study_name=f\"XGB_Pipeline\")\n",
    "\n",
    "# Execute an optimization by running trials\n",
    "study.optimize(objective, n_trials=50, n_jobs=-1)\n",
    "\n",
    "best_xgb_params = study.best_trial.params\n",
    "\n",
    "# Best trial result\n",
    "print(f\"Best training accuracy: {study.best_trial.value}\")\n",
    "print(f\"Best training hyperparameters: {best_xgb_params}\")"
   ]
  },
  {
   "cell_type": "code",
   "execution_count": 8,
   "id": "ed3acd75",
   "metadata": {},
   "outputs": [
    {
     "name": "stdout",
     "output_type": "stream",
     "text": [
      "Best test accuracy: 0.7372400756143668\n",
      "Best test F1-score: 0.6973326075122482\n",
      "Best test hyperparameters: {'n_estimators': 975, 'learning_rate': 0.00788488180934829, 'max_depth': 20, 'subsample': 0.6862291345349006, 'colsample_bytree': 0.7284848858899601}\n"
     ]
    }
   ],
   "source": [
    "# Create an XGBoost classifier model with suggested parameters\n",
    "model = xgb.XGBClassifier(\n",
    "    objective=\"binary:logistic\",\n",
    "    n_estimators=best_xgb_params[\"n_estimators\"],    # Number of trees\n",
    "    learning_rate=best_xgb_params[\"learning_rate\"],  # Learning rate\n",
    "    max_depth=best_xgb_params[\"max_depth\"],          # Depth of the trees\n",
    "    subsample=best_xgb_params[\"subsample\"],          # Subsampling of the training instances\n",
    "    colsample_bytree=best_xgb_params[\"colsample_bytree\"],  # Subsampling of columns for each tree\n",
    "    seed=RANDOM_SEED,             # Seed for reproducibility\n",
    "    use_label_encoder=False,      # Disable label encoder warning\n",
    "    eval_metric=\"logloss\")\n",
    "\n",
    "# Create the pipeline within the trial\n",
    "pipeline = Pipeline([\n",
    "    (\"vectorizer\", CountVectorizer(max_df=0.95, min_df=2)),\n",
    "    (\"gbt\", model)\n",
    "])\n",
    "\n",
    "# Fit the model on the training data\n",
    "pipeline.fit(X_train, Y_train)\n",
    "\n",
    "# Predict the labels on the test set\n",
    "Y_pred = pipeline.predict(X_test)\n",
    "accuracy = accuracy_score(Y_test, Y_pred)\n",
    "f1 = f1_score(Y_test, Y_pred)\n",
    "\n",
    "# Best testing result\n",
    "print(f\"Best test accuracy: {accuracy}\")\n",
    "print(f\"Best test F1-score: {f1}\")\n",
    "print(f\"Best test hyperparameters: {study.best_trial.params}\")"
   ]
  },
  {
   "cell_type": "markdown",
   "id": "7fe3b6dc",
   "metadata": {},
   "source": [
    "## NMF-XGB Pipeline"
   ]
  },
  {
   "cell_type": "code",
   "execution_count": 9,
   "id": "0e2efd2c",
   "metadata": {},
   "outputs": [],
   "source": [
    "# Define the objective function for Optuna\n",
    "def create_objective(X_train, Y_train, X_test, Y_test, best_xgb_params, random_seed):\n",
    "    def objective(trial):\n",
    "        # Suggest values for the hyperparameters\n",
    "        n_topics = trial.suggest_int(\"n_topics\", 50, 300)\n",
    "\n",
    "        # Create an XGBoost classifier model with suggested parameters\n",
    "        model = xgb.XGBClassifier(\n",
    "            objective=\"binary:logistic\",\n",
    "            n_estimators=best_xgb_params[\"n_estimators\"],    # Number of trees\n",
    "            learning_rate=best_xgb_params[\"learning_rate\"],  # Learning rate\n",
    "            max_depth=best_xgb_params[\"max_depth\"],          # Depth of the trees\n",
    "            subsample=best_xgb_params[\"subsample\"],          # Subsampling of the training instances\n",
    "            colsample_bytree=best_xgb_params[\"colsample_bytree\"],  # Subsampling of columns for each tree\n",
    "            seed=random_seed,             # Seed for reproducibility\n",
    "            use_label_encoder=False,      # Disable label encoder warning\n",
    "            eval_metric=\"logloss\")\n",
    "        \n",
    "        # Create the pipeline within the trial\n",
    "        pipeline = Pipeline([\n",
    "            (\"vectorizer\", CountVectorizer(max_df=0.95, min_df=2)),\n",
    "            (\"nmf\", NMF(n_components=n_topics, random_state=random_seed)),\n",
    "            (\"gbt\", model)\n",
    "        ])\n",
    "\n",
    "        # Fit the model on the training data\n",
    "        pipeline.fit(X_train, Y_train)\n",
    "\n",
    "        # Predict the labels on the test set\n",
    "        Y_pred = pipeline.predict(X_test)\n",
    "\n",
    "        # Calculate the accuracy\n",
    "        accuracy = accuracy_score(Y_test, Y_pred)\n",
    "        return accuracy\n",
    "    return objective"
   ]
  },
  {
   "cell_type": "code",
   "execution_count": 10,
   "id": "42ac769e",
   "metadata": {},
   "outputs": [
    {
     "name": "stderr",
     "output_type": "stream",
     "text": [
      "[I 2024-05-03 19:37:58,561] A new study created in memory with name: XGB_Pipeline\n",
      "c:\\Users\\lendl\\Documents\\hate-speech-detection\\venv\\lib\\site-packages\\sklearn\\decomposition\\_nmf.py:1770: ConvergenceWarning: Maximum number of iterations 200 reached. Increase it to improve convergence.\n",
      "  warnings.warn(\n",
      "[I 2024-05-03 19:48:17,325] Trial 10 finished with value: 0.7166824196597353 and parameters: {'n_topics': 60}. Best is trial 10 with value: 0.7166824196597353.\n",
      "[I 2024-05-03 19:48:37,523] Trial 1 finished with value: 0.7164461247637051 and parameters: {'n_topics': 80}. Best is trial 10 with value: 0.7166824196597353.\n",
      "[I 2024-05-03 19:48:53,824] Trial 4 finished with value: 0.7299149338374291 and parameters: {'n_topics': 134}. Best is trial 4 with value: 0.7299149338374291.\n",
      "c:\\Users\\lendl\\Documents\\hate-speech-detection\\venv\\lib\\site-packages\\sklearn\\decomposition\\_nmf.py:1770: ConvergenceWarning: Maximum number of iterations 200 reached. Increase it to improve convergence.\n",
      "  warnings.warn(\n",
      "[I 2024-05-03 19:49:24,205] Trial 6 finished with value: 0.7424385633270322 and parameters: {'n_topics': 147}. Best is trial 6 with value: 0.7424385633270322.\n",
      "[I 2024-05-03 19:50:12,116] Trial 9 finished with value: 0.7346408317580341 and parameters: {'n_topics': 173}. Best is trial 6 with value: 0.7424385633270322.\n",
      "[I 2024-05-03 19:50:29,895] Trial 11 finished with value: 0.7325141776937618 and parameters: {'n_topics': 146}. Best is trial 6 with value: 0.7424385633270322.\n",
      "[I 2024-05-03 19:50:56,800] Trial 5 finished with value: 0.7414933837429112 and parameters: {'n_topics': 224}. Best is trial 6 with value: 0.7424385633270322.\n",
      "c:\\Users\\lendl\\Documents\\hate-speech-detection\\venv\\lib\\site-packages\\sklearn\\decomposition\\_nmf.py:1770: ConvergenceWarning: Maximum number of iterations 200 reached. Increase it to improve convergence.\n",
      "  warnings.warn(\n",
      "[I 2024-05-03 19:53:00,490] Trial 8 finished with value: 0.7424385633270322 and parameters: {'n_topics': 174}. Best is trial 6 with value: 0.7424385633270322.\n",
      "[I 2024-05-03 19:54:22,116] Trial 0 finished with value: 0.744328922495274 and parameters: {'n_topics': 197}. Best is trial 0 with value: 0.744328922495274.\n",
      "[I 2024-05-03 19:59:03,080] Trial 7 finished with value: 0.7502362948960303 and parameters: {'n_topics': 261}. Best is trial 7 with value: 0.7502362948960303.\n",
      "[I 2024-05-03 19:59:24,235] Trial 15 finished with value: 0.7301512287334594 and parameters: {'n_topics': 102}. Best is trial 7 with value: 0.7502362948960303.\n",
      "[I 2024-05-03 19:59:36,370] Trial 12 finished with value: 0.7384215500945179 and parameters: {'n_topics': 161}. Best is trial 7 with value: 0.7502362948960303.\n",
      "[I 2024-05-03 19:59:50,142] Trial 3 finished with value: 0.748109640831758 and parameters: {'n_topics': 276}. Best is trial 7 with value: 0.7502362948960303.\n",
      "[I 2024-05-03 19:59:58,168] Trial 16 finished with value: 0.7310964083175804 and parameters: {'n_topics': 103}. Best is trial 7 with value: 0.7502362948960303.\n",
      "[I 2024-05-03 20:00:39,087] Trial 2 finished with value: 0.7478733459357277 and parameters: {'n_topics': 290}. Best is trial 7 with value: 0.7502362948960303.\n",
      "c:\\Users\\lendl\\Documents\\hate-speech-detection\\venv\\lib\\site-packages\\sklearn\\decomposition\\_nmf.py:1770: ConvergenceWarning: Maximum number of iterations 200 reached. Increase it to improve convergence.\n",
      "  warnings.warn(\n",
      "[I 2024-05-03 20:01:00,231] Trial 17 finished with value: 0.7299149338374291 and parameters: {'n_topics': 134}. Best is trial 7 with value: 0.7502362948960303.\n",
      "[I 2024-05-03 20:02:17,455] Trial 19 finished with value: 0.7225897920604915 and parameters: {'n_topics': 79}. Best is trial 7 with value: 0.7502362948960303.\n",
      "[I 2024-05-03 20:02:49,512] Trial 14 finished with value: 0.7398393194706995 and parameters: {'n_topics': 202}. Best is trial 7 with value: 0.7502362948960303.\n",
      "[I 2024-05-03 20:03:33,932] Trial 20 finished with value: 0.7216446124763705 and parameters: {'n_topics': 85}. Best is trial 7 with value: 0.7502362948960303.\n",
      "[I 2024-05-03 20:06:52,685] Trial 18 finished with value: 0.7426748582230623 and parameters: {'n_topics': 208}. Best is trial 7 with value: 0.7502362948960303.\n",
      "c:\\Users\\lendl\\Documents\\hate-speech-detection\\venv\\lib\\site-packages\\sklearn\\decomposition\\_nmf.py:1770: ConvergenceWarning: Maximum number of iterations 200 reached. Increase it to improve convergence.\n",
      "  warnings.warn(\n",
      "[I 2024-05-03 20:15:40,063] Trial 13 finished with value: 0.7495274102079396 and parameters: {'n_topics': 270}. Best is trial 7 with value: 0.7502362948960303.\n",
      "c:\\Users\\lendl\\Documents\\hate-speech-detection\\venv\\lib\\site-packages\\sklearn\\decomposition\\_nmf.py:1770: ConvergenceWarning: Maximum number of iterations 200 reached. Increase it to improve convergence.\n",
      "  warnings.warn(\n",
      "[I 2024-05-03 20:23:31,950] Trial 25 finished with value: 0.7455103969754253 and parameters: {'n_topics': 300}. Best is trial 7 with value: 0.7502362948960303.\n",
      "[I 2024-05-03 20:24:05,645] Trial 29 finished with value: 0.7400756143667296 and parameters: {'n_topics': 287}. Best is trial 7 with value: 0.7502362948960303.\n",
      "[I 2024-05-03 20:24:31,967] Trial 27 finished with value: 0.7492911153119093 and parameters: {'n_topics': 298}. Best is trial 7 with value: 0.7502362948960303.\n",
      "[I 2024-05-03 20:24:34,352] Trial 26 finished with value: 0.7455103969754253 and parameters: {'n_topics': 300}. Best is trial 7 with value: 0.7502362948960303.\n",
      "[I 2024-05-03 20:25:47,395] Trial 28 finished with value: 0.7492911153119093 and parameters: {'n_topics': 298}. Best is trial 7 with value: 0.7502362948960303.\n",
      "[I 2024-05-03 20:26:04,231] Trial 24 finished with value: 0.7474007561436673 and parameters: {'n_topics': 289}. Best is trial 7 with value: 0.7502362948960303.\n",
      "[I 2024-05-03 20:26:59,377] Trial 22 finished with value: 0.7507088846880907 and parameters: {'n_topics': 294}. Best is trial 22 with value: 0.7507088846880907.\n",
      "[I 2024-05-03 20:27:13,466] Trial 23 finished with value: 0.7466918714555766 and parameters: {'n_topics': 295}. Best is trial 22 with value: 0.7507088846880907.\n",
      "c:\\Users\\lendl\\Documents\\hate-speech-detection\\venv\\lib\\site-packages\\sklearn\\decomposition\\_nmf.py:1770: ConvergenceWarning: Maximum number of iterations 200 reached. Increase it to improve convergence.\n",
      "  warnings.warn(\n",
      "[I 2024-05-03 20:28:58,547] Trial 21 finished with value: 0.751890359168242 and parameters: {'n_topics': 293}. Best is trial 21 with value: 0.751890359168242.\n",
      "[I 2024-05-03 20:30:17,640] Trial 30 finished with value: 0.748109640831758 and parameters: {'n_topics': 299}. Best is trial 21 with value: 0.751890359168242.\n",
      "[I 2024-05-03 20:30:58,686] Trial 31 finished with value: 0.7492911153119093 and parameters: {'n_topics': 298}. Best is trial 21 with value: 0.751890359168242.\n",
      "c:\\Users\\lendl\\Documents\\hate-speech-detection\\venv\\lib\\site-packages\\sklearn\\decomposition\\_nmf.py:1770: ConvergenceWarning: Maximum number of iterations 200 reached. Increase it to improve convergence.\n",
      "  warnings.warn(\n",
      "[I 2024-05-03 20:42:46,853] Trial 32 finished with value: 0.746219281663516 and parameters: {'n_topics': 278}. Best is trial 21 with value: 0.751890359168242.\n",
      "[I 2024-05-03 20:43:40,118] Trial 33 finished with value: 0.7478733459357277 and parameters: {'n_topics': 262}. Best is trial 21 with value: 0.751890359168242.\n",
      "[I 2024-05-03 20:44:00,267] Trial 34 finished with value: 0.7495274102079396 and parameters: {'n_topics': 260}. Best is trial 21 with value: 0.751890359168242.\n",
      "[I 2024-05-03 20:45:17,456] Trial 35 finished with value: 0.7426748582230623 and parameters: {'n_topics': 257}. Best is trial 21 with value: 0.751890359168242.\n",
      "[I 2024-05-03 20:45:25,540] Trial 36 finished with value: 0.7457466918714556 and parameters: {'n_topics': 255}. Best is trial 21 with value: 0.751890359168242.\n",
      "[I 2024-05-03 20:45:59,410] Trial 38 finished with value: 0.7457466918714556 and parameters: {'n_topics': 255}. Best is trial 21 with value: 0.751890359168242.\n",
      "[I 2024-05-03 20:46:43,771] Trial 40 finished with value: 0.7457466918714556 and parameters: {'n_topics': 255}. Best is trial 21 with value: 0.751890359168242.\n",
      "[I 2024-05-03 20:47:16,626] Trial 37 finished with value: 0.7459829867674859 and parameters: {'n_topics': 259}. Best is trial 21 with value: 0.751890359168242.\n",
      "[I 2024-05-03 20:47:32,680] Trial 39 finished with value: 0.7424385633270322 and parameters: {'n_topics': 256}. Best is trial 21 with value: 0.751890359168242.\n",
      "[I 2024-05-03 20:47:56,062] Trial 41 finished with value: 0.7407844990548205 and parameters: {'n_topics': 254}. Best is trial 21 with value: 0.751890359168242.\n",
      "[I 2024-05-03 20:48:31,544] Trial 43 finished with value: 0.7426748582230623 and parameters: {'n_topics': 257}. Best is trial 21 with value: 0.751890359168242.\n",
      "[I 2024-05-03 20:48:35,044] Trial 42 finished with value: 0.746219281663516 and parameters: {'n_topics': 251}. Best is trial 21 with value: 0.751890359168242.\n",
      "c:\\Users\\lendl\\Documents\\hate-speech-detection\\venv\\lib\\site-packages\\sklearn\\decomposition\\_nmf.py:1770: ConvergenceWarning: Maximum number of iterations 200 reached. Increase it to improve convergence.\n",
      "  warnings.warn(\n",
      "[I 2024-05-03 20:55:37,227] Trial 46 finished with value: 0.7424385633270322 and parameters: {'n_topics': 246}. Best is trial 21 with value: 0.751890359168242.\n",
      "[I 2024-05-03 20:55:40,483] Trial 44 finished with value: 0.7478733459357277 and parameters: {'n_topics': 253}. Best is trial 21 with value: 0.751890359168242.\n",
      "[I 2024-05-03 20:55:40,572] Trial 47 finished with value: 0.7405482041587902 and parameters: {'n_topics': 238}. Best is trial 21 with value: 0.751890359168242.\n",
      "[I 2024-05-03 20:56:05,791] Trial 49 finished with value: 0.7469281663516069 and parameters: {'n_topics': 230}. Best is trial 21 with value: 0.751890359168242.\n",
      "[I 2024-05-03 20:56:06,197] Trial 45 finished with value: 0.7450378071833649 and parameters: {'n_topics': 250}. Best is trial 21 with value: 0.751890359168242.\n",
      "[I 2024-05-03 20:56:07,068] Trial 48 finished with value: 0.7492911153119093 and parameters: {'n_topics': 244}. Best is trial 21 with value: 0.751890359168242.\n"
     ]
    },
    {
     "name": "stdout",
     "output_type": "stream",
     "text": [
      "Best training accuracy: 0.751890359168242\n",
      "Best training hyperparameters: {'n_topics': 293}\n"
     ]
    }
   ],
   "source": [
    "# Create the objective function\n",
    "objective = create_objective(X_train, Y_train, X_val, Y_val, best_xgb_params, RANDOM_SEED)\n",
    "\n",
    "# Create an Optuna study object\n",
    "study = optuna.create_study(direction=\"maximize\", study_name=f\"XGB_Pipeline\")\n",
    "\n",
    "# Execute an optimization by running trials\n",
    "study.optimize(objective, n_trials=50, n_jobs=-1)\n",
    "\n",
    "best_nmf_params = study.best_trial.params\n",
    "\n",
    "# Best trial result\n",
    "print(f\"Best training accuracy: {study.best_trial.value}\")\n",
    "print(f\"Best training hyperparameters: {best_nmf_params}\")"
   ]
  },
  {
   "cell_type": "code",
   "execution_count": 11,
   "id": "56fb4bee",
   "metadata": {},
   "outputs": [
    {
     "name": "stderr",
     "output_type": "stream",
     "text": [
      "c:\\Users\\lendl\\Documents\\hate-speech-detection\\venv\\lib\\site-packages\\sklearn\\decomposition\\_nmf.py:1770: ConvergenceWarning: Maximum number of iterations 200 reached. Increase it to improve convergence.\n",
      "  warnings.warn(\n"
     ]
    },
    {
     "name": "stdout",
     "output_type": "stream",
     "text": [
      "Best test accuracy: 0.7405482041587902\n",
      "Best test F1-score: 0.712565445026178\n",
      "Best test hyperparameters: {'n_topics': 293}\n"
     ]
    },
    {
     "name": "stderr",
     "output_type": "stream",
     "text": [
      "c:\\Users\\lendl\\Documents\\hate-speech-detection\\venv\\lib\\site-packages\\sklearn\\decomposition\\_nmf.py:1770: ConvergenceWarning: Maximum number of iterations 200 reached. Increase it to improve convergence.\n",
      "  warnings.warn(\n"
     ]
    }
   ],
   "source": [
    "# Create an XGBoost classifier model with suggested parameters\n",
    "model = xgb.XGBClassifier(\n",
    "    objective=\"binary:logistic\",\n",
    "    n_estimators=best_xgb_params[\"n_estimators\"],    # Number of trees\n",
    "    learning_rate=best_xgb_params[\"learning_rate\"],  # Learning rate\n",
    "    max_depth=best_xgb_params[\"max_depth\"],          # Depth of the trees\n",
    "    subsample=best_xgb_params[\"subsample\"],          # Subsampling of the training instances\n",
    "    colsample_bytree=best_xgb_params[\"colsample_bytree\"],  # Subsampling of columns for each tree\n",
    "    seed=RANDOM_SEED,             # Seed for reproducibility\n",
    "    use_label_encoder=False,      # Disable label encoder warning\n",
    "    eval_metric=\"logloss\")\n",
    "\n",
    "# Create the pipeline within the trial\n",
    "pipeline = Pipeline([\n",
    "    (\"vectorizer\", CountVectorizer(max_df=0.95, min_df=2)),\n",
    "    (\"nmf\", NMF(n_components=best_nmf_params[\"n_topics\"], \n",
    "                random_state=RANDOM_SEED)),\n",
    "    (\"gbt\", model)\n",
    "])\n",
    "\n",
    "# Fit the model on the training data\n",
    "pipeline.fit(X_train, Y_train)\n",
    "\n",
    "# Predict the labels on the test set\n",
    "Y_pred = pipeline.predict(X_test)\n",
    "accuracy = accuracy_score(Y_test, Y_pred)\n",
    "f1 = f1_score(Y_test, Y_pred)\n",
    "\n",
    "# Best testing result\n",
    "print(f\"Best test accuracy: {accuracy}\")\n",
    "print(f\"Best test F1-score: {f1}\")\n",
    "print(f\"Best test hyperparameters: {study.best_trial.params}\")"
   ]
  }
 ],
 "metadata": {
  "kernelspec": {
   "display_name": "Python 3",
   "language": "python",
   "name": "python3"
  },
  "language_info": {
   "codemirror_mode": {
    "name": "ipython",
    "version": 3
   },
   "file_extension": ".py",
   "mimetype": "text/x-python",
   "name": "python",
   "nbconvert_exporter": "python",
   "pygments_lexer": "ipython3",
   "version": "3.10.8"
  }
 },
 "nbformat": 4,
 "nbformat_minor": 5
}
