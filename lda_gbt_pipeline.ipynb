{
 "cells": [
  {
   "cell_type": "markdown",
   "id": "657e43c3",
   "metadata": {},
   "source": [
    "# LDA - GBT Pipeline "
   ]
  },
  {
   "cell_type": "markdown",
   "id": "778cef84980d4467",
   "metadata": {
    "collapsed": false
   },
   "source": [
    "## Import necessary packages"
   ]
  },
  {
   "cell_type": "code",
   "execution_count": 1,
   "id": "initial_id",
   "metadata": {
    "ExecuteTime": {
     "end_time": "2024-04-28T14:41:56.071481Z",
     "start_time": "2024-04-28T14:41:51.462844Z"
    },
    "collapsed": true
   },
   "outputs": [],
   "source": [
    "import time\n",
    "import optuna\n",
    "import numpy as np\n",
    "from tqdm import tqdm\n",
    "from sklearn.feature_extraction.text import CountVectorizer\n",
    "from sklearn.decomposition import LatentDirichletAllocation\n",
    "from sklearn.model_selection import train_test_split\n",
    "from sklearn.ensemble import GradientBoostingClassifier\n",
    "from sklearn.metrics import accuracy_score\n",
    "\n",
    "\n",
    "from datasets import load_dataset"
   ]
  },
  {
   "cell_type": "markdown",
   "id": "14ffafa63beef650",
   "metadata": {
    "collapsed": false
   },
   "source": [
    "## Constants"
   ]
  },
  {
   "cell_type": "code",
   "execution_count": 2,
   "id": "7e92953c8b90f034",
   "metadata": {
    "ExecuteTime": {
     "end_time": "2024-04-28T14:41:56.086428Z",
     "start_time": "2024-04-28T14:41:56.072476Z"
    },
    "collapsed": false
   },
   "outputs": [],
   "source": [
    "RANDOM_SEED = 0"
   ]
  },
  {
   "cell_type": "markdown",
   "id": "b6be051016d14124",
   "metadata": {
    "collapsed": false
   },
   "source": [
    "## Load the Hate Speech Filipino dataset from Hugging Face"
   ]
  },
  {
   "cell_type": "code",
   "execution_count": 3,
   "id": "88b506f040054ff5",
   "metadata": {
    "ExecuteTime": {
     "end_time": "2024-04-28T14:42:03.875866Z",
     "start_time": "2024-04-28T14:41:56.087424Z"
    },
    "collapsed": false
   },
   "outputs": [],
   "source": [
    "dataset = load_dataset(\"hate_speech_filipino\")"
   ]
  },
  {
   "cell_type": "code",
   "execution_count": 4,
   "id": "e4d8361405fe5257",
   "metadata": {
    "ExecuteTime": {
     "end_time": "2024-04-28T14:42:03.906760Z",
     "start_time": "2024-04-28T14:42:03.877856Z"
    },
    "collapsed": false
   },
   "outputs": [],
   "source": [
    "train_set = dataset[\"train\"]\n",
    "validation_set = dataset[\"validation\"]\n",
    "test_set = dataset[\"test\"]\n",
    "\n",
    "X_train, Y_train = train_set[\"text\"], train_set[\"label\"]\n",
    "X_val, Y_val = validation_set[\"text\"], validation_set[\"label\"]\n",
    "X_test, Y_test = test_set[\"text\"], test_set[\"label\"]\n",
    "\n",
    "X = X_train + X_val + X_test\n",
    "Y = Y_train + Y_val + Y_test"
   ]
  },
  {
   "cell_type": "code",
   "execution_count": 5,
   "id": "a64eeb32",
   "metadata": {},
   "outputs": [],
   "source": [
    "# Re-split the dataset into training, validation, and test sets\n",
    "X_train, X_temp, Y_train, Y_temp = train_test_split(X, Y, test_size=0.2, random_state=RANDOM_SEED)\n",
    "X_val, X_test, Y_val, Y_test = train_test_split(X_temp, Y_temp, test_size=0.5, random_state=RANDOM_SEED)"
   ]
  },
  {
   "cell_type": "markdown",
   "id": "e7c8c684144c6b8a",
   "metadata": {
    "collapsed": false
   },
   "source": [
    "## Vectorize the texts to be able to perform LDA"
   ]
  },
  {
   "cell_type": "code",
   "execution_count": 6,
   "id": "19a447fade33a0d8",
   "metadata": {
    "ExecuteTime": {
     "end_time": "2024-04-28T14:42:04.113164Z",
     "start_time": "2024-04-28T14:42:03.907758Z"
    },
    "collapsed": false
   },
   "outputs": [],
   "source": [
    "# Define the CountVectorizer\n",
    "vectorizer = CountVectorizer(max_df=0.95, min_df=2)\n",
    "X_train_vector = vectorizer.fit_transform(X_train)"
   ]
  },
  {
   "cell_type": "markdown",
   "id": "fd05817c",
   "metadata": {},
   "source": [
    "## Perform Latent Dirichlet Allocation on the training set"
   ]
  },
  {
   "cell_type": "code",
   "execution_count": 7,
   "id": "3cd05682",
   "metadata": {},
   "outputs": [
    {
     "name": "stdout",
     "output_type": "stream",
     "text": [
      "Performing Latent Dirichlet Allocation for 10 topics\n",
      "Done performing Latent Dirichlet Allocation for 10 topics\n"
     ]
    }
   ],
   "source": [
    "N_TOPICS = 10\n",
    "print(f\"Performing Latent Dirichlet Allocation for {N_TOPICS} topics\")\n",
    "lda = LatentDirichletAllocation(n_components=N_TOPICS, random_state=RANDOM_SEED)\n",
    "X_train_topics = lda.fit_transform(X_train_vector)\n",
    "print(f\"Done performing Latent Dirichlet Allocation for {N_TOPICS} topics\")"
   ]
  },
  {
   "cell_type": "code",
   "execution_count": 8,
   "id": "c0a90cdb",
   "metadata": {},
   "outputs": [],
   "source": [
    "# Transform validation and test data using the fitted vectorizer and LDA\n",
    "X_val_counts = vectorizer.transform(X_val)\n",
    "X_val_topics = lda.transform(X_val_counts)\n",
    "\n",
    "X_test_counts = vectorizer.transform(X_test)\n",
    "X_test_topics = lda.transform(X_test_counts)"
   ]
  },
  {
   "cell_type": "markdown",
   "id": "f77a2d6d",
   "metadata": {},
   "source": [
    "## Train the Gradient-boosting Tree"
   ]
  },
  {
   "cell_type": "code",
   "execution_count": 9,
   "id": "a216e663",
   "metadata": {},
   "outputs": [],
   "source": [
    "# Define the objective function for Optuna\n",
    "def create_objective(X_train, Y_train, X_test, Y_test):\n",
    "    def objective(trial):\n",
    "        n_estimators = trial.suggest_int(\"n_estimators\", 100, 1000)\n",
    "        learning_rate = trial.suggest_float(\"learning_rate\", 1e-4, 1e-2)\n",
    "        max_depth = trial.suggest_int(\"max_depth\", 10, 100)\n",
    "        gbt = GradientBoostingClassifier(n_estimators=n_estimators, learning_rate=learning_rate, max_depth=max_depth, random_state=RANDOM_SEED)\n",
    "        gbt.fit(X_train, Y_train)\n",
    "        Y_pred = gbt.predict(X_test)\n",
    "        score = accuracy_score(Y_test, Y_pred)\n",
    "        return score\n",
    "    return objective"
   ]
  },
  {
   "cell_type": "code",
   "execution_count": 10,
   "id": "646d4c94",
   "metadata": {},
   "outputs": [
    {
     "name": "stderr",
     "output_type": "stream",
     "text": [
      "[I 2024-04-30 00:15:41,522] A new study created in memory with name: LDA_GBT_Pipeline\n",
      "[I 2024-04-30 00:18:04,749] Trial 7 finished with value: 0.6983078827899298 and parameters: {'n_estimators': 388, 'learning_rate': 0.0011647439451420093, 'max_depth': 11}. Best is trial 7 with value: 0.6983078827899298.\n",
      "[I 2024-04-30 00:18:23,169] Trial 2 finished with value: 0.8378043747420553 and parameters: {'n_estimators': 115, 'learning_rate': 0.007635154042794744, 'max_depth': 70}. Best is trial 2 with value: 0.8378043747420553.\n",
      "[I 2024-04-30 00:20:31,761] Trial 6 finished with value: 0.7870408584399504 and parameters: {'n_estimators': 798, 'learning_rate': 0.005897766936296455, 'max_depth': 12}. Best is trial 2 with value: 0.8378043747420553.\n",
      "[I 2024-04-30 00:22:13,328] Trial 13 finished with value: 0.8382170862567065 and parameters: {'n_estimators': 152, 'learning_rate': 0.003592720326893685, 'max_depth': 37}. Best is trial 13 with value: 0.8382170862567065.\n",
      "[I 2024-04-30 00:23:02,396] Trial 1 finished with value: 0.810152703260421 and parameters: {'n_estimators': 360, 'learning_rate': 0.004039334035787379, 'max_depth': 17}. Best is trial 13 with value: 0.8382170862567065.\n",
      "[I 2024-04-30 00:23:16,109] Trial 3 finished with value: 0.8386297977713578 and parameters: {'n_estimators': 310, 'learning_rate': 0.00919283524285072, 'max_depth': 94}. Best is trial 3 with value: 0.8386297977713578.\n",
      "[I 2024-04-30 00:23:32,127] Trial 4 finished with value: 0.8258357408171688 and parameters: {'n_estimators': 333, 'learning_rate': 0.0006854726771244863, 'max_depth': 30}. Best is trial 3 with value: 0.8386297977713578.\n",
      "[I 2024-04-30 00:24:14,075] Trial 15 finished with value: 0.7478332645480809 and parameters: {'n_estimators': 324, 'learning_rate': 0.008204903286516673, 'max_depth': 11}. Best is trial 3 with value: 0.8386297977713578.\n",
      "[I 2024-04-30 00:24:31,521] Trial 10 finished with value: 0.834089971110194 and parameters: {'n_estimators': 361, 'learning_rate': 0.009003764908539666, 'max_depth': 96}. Best is trial 3 with value: 0.8386297977713578.\n",
      "[I 2024-04-30 00:25:32,553] Trial 11 finished with value: 0.837391663227404 and parameters: {'n_estimators': 389, 'learning_rate': 0.009025119135031807, 'max_depth': 43}. Best is trial 3 with value: 0.8386297977713578.\n",
      "[I 2024-04-30 00:26:09,506] Trial 9 finished with value: 0.5402393726784978 and parameters: {'n_estimators': 419, 'learning_rate': 1.0421445945925358e-05, 'max_depth': 82}. Best is trial 3 with value: 0.8386297977713578.\n",
      "[I 2024-04-30 00:27:43,081] Trial 18 finished with value: 0.8361535286834503 and parameters: {'n_estimators': 197, 'learning_rate': 0.009692827056917307, 'max_depth': 95}. Best is trial 3 with value: 0.8386297977713578.\n",
      "[I 2024-04-30 00:29:40,148] Trial 17 finished with value: 0.8369789517127528 and parameters: {'n_estimators': 323, 'learning_rate': 0.0021483205582673724, 'max_depth': 99}. Best is trial 3 with value: 0.8386297977713578.\n",
      "[I 2024-04-30 00:29:45,584] Trial 12 finished with value: 0.8361535286834503 and parameters: {'n_estimators': 538, 'learning_rate': 0.0019195412410234868, 'max_depth': 71}. Best is trial 3 with value: 0.8386297977713578.\n",
      "[I 2024-04-30 00:31:32,161] Trial 14 finished with value: 0.837391663227404 and parameters: {'n_estimators': 575, 'learning_rate': 0.0026210394849194903, 'max_depth': 39}. Best is trial 3 with value: 0.8386297977713578.\n",
      "[I 2024-04-30 00:31:37,556] Trial 0 finished with value: 0.8369789517127528 and parameters: {'n_estimators': 790, 'learning_rate': 0.0019818180910279163, 'max_depth': 65}. Best is trial 3 with value: 0.8386297977713578.\n",
      "[I 2024-04-30 00:32:09,911] Trial 16 finished with value: 0.8365662401981016 and parameters: {'n_estimators': 574, 'learning_rate': 0.008312147755245023, 'max_depth': 86}. Best is trial 3 with value: 0.8386297977713578.\n",
      "[I 2024-04-30 00:32:15,207] Trial 8 finished with value: 0.837391663227404 and parameters: {'n_estimators': 864, 'learning_rate': 0.0018449807690473026, 'max_depth': 40}. Best is trial 3 with value: 0.8386297977713578.\n",
      "[I 2024-04-30 00:32:39,681] Trial 5 finished with value: 0.8361535286834503 and parameters: {'n_estimators': 972, 'learning_rate': 0.005038049229787152, 'max_depth': 97}. Best is trial 3 with value: 0.8386297977713578.\n",
      "[I 2024-04-30 00:33:31,202] Trial 19 finished with value: 0.8386297977713578 and parameters: {'n_estimators': 792, 'learning_rate': 0.007378301474816144, 'max_depth': 47}. Best is trial 3 with value: 0.8386297977713578.\n"
     ]
    },
    {
     "name": "stdout",
     "output_type": "stream",
     "text": [
      "Best Accuracy: 0.8386297977713578\n",
      "Best hyperparameters: {'n_estimators': 310, 'learning_rate': 0.00919283524285072, 'max_depth': 94}\n"
     ]
    }
   ],
   "source": [
    "# Create a study object\n",
    "study = optuna.create_study(direction=\"maximize\", study_name=f\"LDA_GBT_Pipeline\")\n",
    "\n",
    "# Create the study objective\n",
    "objective = create_objective(X_train_topics, Y_train, X_val_topics, Y_val)\n",
    "\n",
    "# Execute an optimization\n",
    "study.optimize(objective, n_trials=20, n_jobs=-1)\n",
    "\n",
    "# Print the best trial results\n",
    "print(f\"Best Accuracy: {study.best_trial.value}\")\n",
    "print(f\"Best hyperparameters: {study.best_trial.params}\")"
   ]
  },
  {
   "cell_type": "code",
   "execution_count": 11,
   "id": "5957841d",
   "metadata": {},
   "outputs": [
    {
     "name": "stdout",
     "output_type": "stream",
     "text": [
      "Best LDA-RF Model Accuracy: 0.8638613861386139\n"
     ]
    }
   ],
   "source": [
    "best_n_estimators = study.best_trial.params[\"n_estimators\"]\n",
    "best_learning_rate = study.best_trial.params[\"learning_rate\"]\n",
    "best_max_depth = study.best_trial.params[\"max_depth\"]\n",
    "\n",
    "gbt = GradientBoostingClassifier(n_estimators=best_n_estimators, \n",
    "                                 learning_rate=best_learning_rate,\n",
    "                                 max_depth=best_max_depth,\n",
    "                                 random_state=RANDOM_SEED)\n",
    "gbt.fit(X_train_topics, Y_train)\n",
    "Y_pred = gbt.predict(X_test_topics)\n",
    "score = accuracy_score(Y_test, Y_pred)\n",
    "print(f\"Best LDA-RF Model Accuracy: {score}\")"
   ]
  }
 ],
 "metadata": {
  "kernelspec": {
   "display_name": "Python 3",
   "language": "python",
   "name": "python3"
  },
  "language_info": {
   "codemirror_mode": {
    "name": "ipython",
    "version": 3
   },
   "file_extension": ".py",
   "mimetype": "text/x-python",
   "name": "python",
   "nbconvert_exporter": "python",
   "pygments_lexer": "ipython3",
   "version": "3.10.8"
  }
 },
 "nbformat": 4,
 "nbformat_minor": 5
}
