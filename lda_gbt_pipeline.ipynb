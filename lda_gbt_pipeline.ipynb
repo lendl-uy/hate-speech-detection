{
 "cells": [
  {
   "cell_type": "markdown",
   "id": "657e43c3",
   "metadata": {},
   "source": [
    "# LDA - GBT Pipeline "
   ]
  },
  {
   "cell_type": "markdown",
   "id": "778cef84980d4467",
   "metadata": {
    "collapsed": false
   },
   "source": [
    "## Import necessary packages"
   ]
  },
  {
   "cell_type": "code",
   "execution_count": 1,
   "id": "initial_id",
   "metadata": {
    "ExecuteTime": {
     "end_time": "2024-04-30T06:13:19.059134Z",
     "start_time": "2024-04-30T06:13:17.609454Z"
    },
    "collapsed": true
   },
   "outputs": [],
   "source": [
    "import time\n",
    "import optuna\n",
    "import numpy as np\n",
    "from tqdm import tqdm\n",
    "from sklearn.feature_extraction.text import CountVectorizer\n",
    "from sklearn.decomposition import NMF\n",
    "from sklearn.model_selection import train_test_split\n",
    "from sklearn.ensemble import GradientBoostingClassifier\n",
    "from sklearn.metrics import accuracy_score, f1_score\n",
    "from sklearn.pipeline import Pipeline\n",
    "\n",
    "from dataset.dataset import Dataset\n",
    "from constants import CLEANED_DATASET_PATH"
   ]
  },
  {
   "cell_type": "markdown",
   "id": "14ffafa63beef650",
   "metadata": {
    "collapsed": false
   },
   "source": [
    "## Constants"
   ]
  },
  {
   "cell_type": "code",
   "execution_count": 2,
   "id": "7e92953c8b90f034",
   "metadata": {
    "ExecuteTime": {
     "end_time": "2024-04-30T06:13:19.060866Z",
     "start_time": "2024-04-30T06:13:19.055058Z"
    },
    "collapsed": false
   },
   "outputs": [],
   "source": [
    "RANDOM_SEED = 0"
   ]
  },
  {
   "cell_type": "markdown",
   "id": "b6be051016d14124",
   "metadata": {
    "collapsed": false
   },
   "source": [
    "## Load the Hate Speech Filipino dataset from Hugging Face"
   ]
  },
  {
   "cell_type": "code",
   "execution_count": 3,
   "id": "88b506f040054ff5",
   "metadata": {
    "ExecuteTime": {
     "end_time": "2024-04-30T06:13:31.058160Z",
     "start_time": "2024-04-30T06:13:19.142009Z"
    },
    "collapsed": false
   },
   "outputs": [
    {
     "name": "stdout",
     "output_type": "stream",
     "text": [
      "Data loaded from dataset/cleaned_dataset.pkl\n"
     ]
    }
   ],
   "source": [
    "dataset = Dataset(full_data_path=CLEANED_DATASET_PATH,\n",
    "                  from_scratch=False,\n",
    "                  split_sizes=[10000, 4232, 4232])\n",
    "dataset.build()\n",
    "\n",
    "X_train = dataset.get_features(split_type=\"train\")\n",
    "Y_train = dataset.get_labels(split_type=\"train\")\n",
    "X_val = dataset.get_features(split_type=\"val\")\n",
    "Y_val = dataset.get_labels(split_type=\"val\")\n",
    "X_test = dataset.get_features(split_type=\"test\")\n",
    "Y_test = dataset.get_labels(split_type=\"test\")"
   ]
  },
  {
   "cell_type": "code",
   "execution_count": 4,
   "id": "a64eeb32",
   "metadata": {
    "ExecuteTime": {
     "end_time": "2024-04-30T06:13:31.113177Z",
     "start_time": "2024-04-30T06:13:30.990078Z"
    }
   },
   "outputs": [],
   "source": [
    "# Re-split the dataset into training, validation, and test sets\n",
    "# X_train, X_temp, Y_train, Y_temp = train_test_split(X, Y, test_size=0.2, random_state=RANDOM_SEED)\n",
    "# X_val, X_test, Y_val, Y_test = train_test_split(X_temp, Y_temp, test_size=0.5, random_state=RANDOM_SEED)"
   ]
  },
  {
   "cell_type": "markdown",
   "id": "e7c8c684144c6b8a",
   "metadata": {
    "collapsed": false
   },
   "source": [
    "## Classifier Only Pipeline"
   ]
  },
  {
   "cell_type": "code",
   "execution_count": 5,
   "id": "19a447fade33a0d8",
   "metadata": {
    "ExecuteTime": {
     "end_time": "2024-04-30T06:13:31.262504Z",
     "start_time": "2024-04-30T06:13:31.036560Z"
    },
    "collapsed": false
   },
   "outputs": [],
   "source": [
    "def create_objective(X_train, Y_train, X_test, Y_test, random_seed):\n",
    "    def objective(trial):\n",
    "        # Suggest values for the hyperparameters\n",
    "        n_estimators = trial.suggest_int(\"n_estimators\", 100, 1000)\n",
    "        learning_rate = trial.suggest_float(\"learning_rate\", 1e-4, 1e-2)\n",
    "        max_depth = trial.suggest_int(\"max_depth\", 10, 100)\n",
    "\n",
    "        # Create the pipeline within the trial\n",
    "        pipeline = Pipeline([\n",
    "            (\"vectorizer\", CountVectorizer(max_df=0.95, min_df=2)),\n",
    "            (\"gbt\", GradientBoostingClassifier(n_estimators=n_estimators, \n",
    "                                         learning_rate=learning_rate, \n",
    "                                         max_depth=max_depth, \n",
    "                                         random_state=RANDOM_SEED))\n",
    "        ])\n",
    "\n",
    "        # Fit the pipeline\n",
    "        pipeline.fit(X_train, Y_train)\n",
    "\n",
    "        # Evaluate the pipeline\n",
    "        Y_pred = pipeline.predict(X_test)\n",
    "        accuracy = accuracy_score(Y_test, Y_pred)\n",
    "        return accuracy\n",
    "\n",
    "    return objective"
   ]
  },
  {
   "cell_type": "code",
   "execution_count": 6,
   "id": "3cd05682",
   "metadata": {},
   "outputs": [],
   "source": [
    "# Create the objective function\n",
    "objective = create_objective(X_train, Y_train, X_val, Y_val, RANDOM_SEED)\n",
    "\n",
    "# Create an Optuna study object\n",
    "study = optuna.create_study(direction=\"maximize\", study_name=f\"GBT_Pipeline\")\n",
    "\n",
    "# Execute an optimization by running trials\n",
    "study.optimize(objective, n_trials=50, n_jobs=-1)\n",
    "\n",
    "best_gbt_params = study.best_trial.params\n",
    "\n",
    "# Best trial result\n",
    "print(f\"Best training accuracy: {study.best_trial.value}\")\n",
    "print(f\"Best training hyperparameters: {best_gbt_params}\")"
   ]
  },
  {
   "cell_type": "code",
   "execution_count": null,
   "id": "28de712f",
   "metadata": {},
   "outputs": [],
   "source": [
    "# Create and fit the pipeline\n",
    "pipeline = Pipeline([\n",
    "    (\"vectorizer\", CountVectorizer(max_df=0.95, min_df=2)),\n",
    "    (\"gbt\", GradientBoostingClassifier(n_estimators=best_gbt_params[\"n_estimators\"], \n",
    "                                         learning_rate=best_gbt_params[\"learning_rate\"], \n",
    "                                         max_depth=best_gbt_params[\"max_depth\"], \n",
    "                                         random_state=RANDOM_SEED))\n",
    "])\n",
    "\n",
    "# Fit the pipeline\n",
    "pipeline.fit(X_train, Y_train)\n",
    "\n",
    "# Evaluate the pipeline\n",
    "Y_pred = pipeline.predict(X_test)\n",
    "accuracy = accuracy_score(Y_test, Y_pred)\n",
    "f1 = f1_score(Y_test, Y_pred)\n",
    "\n",
    "# Best testing result\n",
    "print(f\"Best test accuracy: {study.best_trial.value}\")\n",
    "print(f\"Best test hyperparameters: {study.best_trial.params}\")"
   ]
  },
  {
   "cell_type": "markdown",
   "id": "35a427da",
   "metadata": {},
   "source": [
    "## NMF-GBT Pipeline"
   ]
  },
  {
   "cell_type": "code",
   "execution_count": null,
   "id": "4e4d5998",
   "metadata": {},
   "outputs": [],
   "source": [
    "def create_objective(X_train, Y_train, X_test, Y_test, best_gbt_params, random_seed):\n",
    "    def objective(trial):\n",
    "        # Suggest values for the hyperparameters\n",
    "        n_topics = trial.suggest_int(\"n_topics\", 50, 300)\n",
    "\n",
    "        # Create the pipeline within the trial\n",
    "        pipeline = Pipeline([\n",
    "            (\"vectorizer\", CountVectorizer(max_df=0.95, min_df=2)),\n",
    "            (\"nmf\", NMF(n_components=n_topics, random_state=random_seed)),\n",
    "            (\"gbt\", GradientBoostingClassifier(n_estimators=best_gbt_params[\"n_estimators\"], \n",
    "                                         learning_rate=best_gbt_params[\"learning_rate\"], \n",
    "                                         max_depth=best_gbt_params[\"max_depth\"], \n",
    "                                         random_state=RANDOM_SEED))\n",
    "        ])\n",
    "\n",
    "        # Fit the pipeline\n",
    "        pipeline.fit(X_train, Y_train)\n",
    "\n",
    "        # Evaluate the pipeline\n",
    "        Y_pred = pipeline.predict(X_test)\n",
    "        accuracy = accuracy_score(Y_test, Y_pred)\n",
    "        return accuracy\n",
    "\n",
    "    return objective"
   ]
  },
  {
   "cell_type": "code",
   "execution_count": null,
   "id": "ecd87507",
   "metadata": {},
   "outputs": [],
   "source": [
    "# Create the objective function\n",
    "objective = create_objective(X_train, Y_train, X_val, Y_val, best_gbt_params, RANDOM_SEED)\n",
    "\n",
    "# Create an Optuna study object\n",
    "study = optuna.create_study(direction=\"maximize\", study_name=f\"NMF_GBT_Pipeline\")\n",
    "\n",
    "# Execute an optimization by running trials\n",
    "study.optimize(objective, n_trials=50, n_jobs=-1)\n",
    "\n",
    "best_nmf_params = study.best_trial.params\n",
    "\n",
    "# Best trial result\n",
    "print(f\"Best training accuracy: {study.best_trial.value}\")\n",
    "print(f\"Best training hyperparameters: {best_nmf_params}\")"
   ]
  },
  {
   "cell_type": "code",
   "execution_count": null,
   "id": "89e3b82a",
   "metadata": {},
   "outputs": [],
   "source": [
    "# Create and fit the pipeline\n",
    "pipeline = Pipeline([\n",
    "    (\"vectorizer\", CountVectorizer(max_df=0.95, min_df=2)),\n",
    "    (\"nmf\", NMF(n_components=best_nmf_params[\"n_topics\"], \n",
    "                random_state=RANDOM_SEED)),\n",
    "    (\"rf\", GradientBoostingClassifier(n_estimators=best_gbt_params[\"n_estimators\"], \n",
    "                                         learning_rate=best_gbt_params[\"learning_rate\"], \n",
    "                                         max_depth=best_gbt_params[\"max_depth\"], \n",
    "                                         random_state=RANDOM_SEED))\n",
    "])\n",
    "\n",
    "# Fit the pipeline\n",
    "pipeline.fit(X_train, Y_train)\n",
    "\n",
    "# Evaluate the pipeline\n",
    "Y_pred = pipeline.predict(X_test)\n",
    "accuracy = accuracy_score(Y_test, Y_pred)\n",
    "f1 = f1_score(Y_test, Y_pred)\n",
    "\n",
    "# Best testing result\n",
    "print(f\"Best test accuracy: {study.best_trial.value}\")\n",
    "print(f\"Best test hyperparameters: {study.best_trial.params}\")"
   ]
  }
 ],
 "metadata": {
  "kernelspec": {
   "display_name": "Python 3",
   "language": "python",
   "name": "python3"
  },
  "language_info": {
   "codemirror_mode": {
    "name": "ipython",
    "version": 3
   },
   "file_extension": ".py",
   "mimetype": "text/x-python",
   "name": "python",
   "nbconvert_exporter": "python",
   "pygments_lexer": "ipython3",
   "version": "3.10.8"
  }
 },
 "nbformat": 4,
 "nbformat_minor": 5
}
