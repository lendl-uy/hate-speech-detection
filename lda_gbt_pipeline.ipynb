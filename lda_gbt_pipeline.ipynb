{
 "cells": [
  {
   "cell_type": "markdown",
   "id": "657e43c3",
   "metadata": {},
   "source": [
    "# LDA - GBT Pipeline "
   ]
  },
  {
   "cell_type": "markdown",
   "id": "778cef84980d4467",
   "metadata": {
    "collapsed": false
   },
   "source": [
    "## Import necessary packages"
   ]
  },
  {
   "cell_type": "code",
   "execution_count": 1,
   "id": "initial_id",
   "metadata": {
    "ExecuteTime": {
     "end_time": "2024-04-30T06:13:19.059134Z",
     "start_time": "2024-04-30T06:13:17.609454Z"
    },
    "collapsed": true
   },
   "outputs": [],
   "source": [
    "import time\n",
    "import optuna\n",
    "import numpy as np\n",
    "from tqdm import tqdm\n",
    "from sklearn.feature_extraction.text import CountVectorizer\n",
    "from sklearn.decomposition import LatentDirichletAllocation, NMF\n",
    "from sklearn.model_selection import train_test_split\n",
    "from sklearn.ensemble import GradientBoostingClassifier\n",
    "from sklearn.metrics import accuracy_score\n",
    "\n",
    "from dataset.dataset import Dataset\n",
    "from constants import CLEANED_DATASET_PATH"
   ]
  },
  {
   "cell_type": "markdown",
   "id": "14ffafa63beef650",
   "metadata": {
    "collapsed": false
   },
   "source": [
    "## Constants"
   ]
  },
  {
   "cell_type": "code",
   "execution_count": 2,
   "id": "7e92953c8b90f034",
   "metadata": {
    "ExecuteTime": {
     "end_time": "2024-04-30T06:13:19.060866Z",
     "start_time": "2024-04-30T06:13:19.055058Z"
    },
    "collapsed": false
   },
   "outputs": [],
   "source": [
    "RANDOM_SEED = 0"
   ]
  },
  {
   "cell_type": "markdown",
   "id": "b6be051016d14124",
   "metadata": {
    "collapsed": false
   },
   "source": [
    "## Load the Hate Speech Filipino dataset from Hugging Face"
   ]
  },
  {
   "cell_type": "code",
   "execution_count": 3,
   "id": "88b506f040054ff5",
   "metadata": {
    "ExecuteTime": {
     "end_time": "2024-04-30T06:13:31.058160Z",
     "start_time": "2024-04-30T06:13:19.142009Z"
    },
    "collapsed": false
   },
   "outputs": [
    {
     "name": "stdout",
     "output_type": "stream",
     "text": [
      "Data loaded from dataset/cleaned_dataset.pkl\n"
     ]
    }
   ],
   "source": [
    "dataset = Dataset(full_data_path=CLEANED_DATASET_PATH,\n",
    "                  from_scratch=False,\n",
    "                  split_sizes=[10000, 4232, 4232])\n",
    "dataset.build()\n",
    "\n",
    "X_train = dataset.get_features(split_type=\"train\")\n",
    "Y_train = dataset.get_labels(split_type=\"train\")\n",
    "X_val = dataset.get_features(split_type=\"val\")\n",
    "Y_val = dataset.get_labels(split_type=\"val\")\n",
    "X_test = dataset.get_features(split_type=\"test\")\n",
    "Y_test = dataset.get_labels(split_type=\"test\")"
   ]
  },
  {
   "cell_type": "code",
   "execution_count": 4,
   "id": "a64eeb32",
   "metadata": {
    "ExecuteTime": {
     "end_time": "2024-04-30T06:13:31.113177Z",
     "start_time": "2024-04-30T06:13:30.990078Z"
    }
   },
   "outputs": [],
   "source": [
    "# Re-split the dataset into training, validation, and test sets\n",
    "# X_train, X_temp, Y_train, Y_temp = train_test_split(X, Y, test_size=0.2, random_state=RANDOM_SEED)\n",
    "# X_val, X_test, Y_val, Y_test = train_test_split(X_temp, Y_temp, test_size=0.5, random_state=RANDOM_SEED)"
   ]
  },
  {
   "cell_type": "markdown",
   "id": "e7c8c684144c6b8a",
   "metadata": {
    "collapsed": false
   },
   "source": [
    "## Vectorize the texts to be able to perform LDA"
   ]
  },
  {
   "cell_type": "code",
   "execution_count": 5,
   "id": "19a447fade33a0d8",
   "metadata": {
    "ExecuteTime": {
     "end_time": "2024-04-30T06:13:31.262504Z",
     "start_time": "2024-04-30T06:13:31.036560Z"
    },
    "collapsed": false
   },
   "outputs": [],
   "source": [
    "# Define the CountVectorizer\n",
    "vectorizer = CountVectorizer(max_df=0.95, min_df=2)\n",
    "X_train_vector = vectorizer.fit_transform(X_train)\n",
    "X_val_counts = vectorizer.transform(X_val)\n",
    "X_test_counts = vectorizer.transform(X_test)"
   ]
  },
  {
   "cell_type": "markdown",
   "id": "fd05817c",
   "metadata": {},
   "source": [
    "## Perform Latent Dirichlet Allocation on the training set"
   ]
  },
  {
   "cell_type": "code",
   "execution_count": 6,
   "id": "3cd05682",
   "metadata": {},
   "outputs": [],
   "source": [
    "# N_TOPICS = 10\n",
    "# print(f\"Performing Latent Dirichlet Allocation for {N_TOPICS} topics\")\n",
    "# lda = LatentDirichletAllocation(n_components=N_TOPICS, random_state=RANDOM_SEED)\n",
    "# X_train_topics = lda.fit_transform(X_train_vector)\n",
    "# X_val_topics = lda.transform(X_val_counts)\n",
    "# X_test_topics = lda.transform(X_test_counts)\n",
    "# print(f\"Done performing Latent Dirichlet Allocation for {N_TOPICS} topics\")"
   ]
  },
  {
   "cell_type": "markdown",
   "id": "5d4e879e",
   "metadata": {},
   "source": [
    "## Perform Non-negative Matrix Factorization on the training set"
   ]
  },
  {
   "cell_type": "code",
   "execution_count": 7,
   "id": "dff6b09c",
   "metadata": {},
   "outputs": [
    {
     "name": "stdout",
     "output_type": "stream",
     "text": [
      "Performing Non-negative Matrix Factorization for 20 topics\n",
      "Done performing Non-negative Matrix Factorization for 20 topics\n"
     ]
    }
   ],
   "source": [
    "N_TOPICS = 20\n",
    "print(f\"Performing Non-negative Matrix Factorization for {N_TOPICS} topics\")\n",
    "nmf = NMF(n_components=N_TOPICS, random_state=RANDOM_SEED)\n",
    "X_train_topics = nmf.fit_transform(X_train_vector)\n",
    "X_val_topics = nmf.transform(X_val_counts)\n",
    "X_test_topics = nmf.transform(X_test_counts)\n",
    "print(f\"Done performing Non-negative Matrix Factorization for {N_TOPICS} topics\")"
   ]
  },
  {
   "cell_type": "markdown",
   "id": "f77a2d6d",
   "metadata": {},
   "source": [
    "## Train the Gradient-boosting Tree"
   ]
  },
  {
   "cell_type": "code",
   "execution_count": 8,
   "id": "a216e663",
   "metadata": {},
   "outputs": [],
   "source": [
    "# Define the objective function for Optuna\n",
    "def create_objective(X_train, Y_train, X_test, Y_test):\n",
    "    def objective(trial):\n",
    "        n_estimators = trial.suggest_int(\"n_estimators\", 100, 1000)\n",
    "        learning_rate = trial.suggest_float(\"learning_rate\", 1e-4, 1e-2)\n",
    "        max_depth = trial.suggest_int(\"max_depth\", 10, 100)\n",
    "        gbt = GradientBoostingClassifier(n_estimators=n_estimators, \n",
    "                                         learning_rate=learning_rate, \n",
    "                                         max_depth=max_depth, \n",
    "                                         random_state=RANDOM_SEED)\n",
    "        gbt.fit(X_train, Y_train)\n",
    "        Y_pred = gbt.predict(X_test)\n",
    "        score = accuracy_score(Y_test, Y_pred)\n",
    "        return score\n",
    "    return objective"
   ]
  },
  {
   "cell_type": "code",
   "execution_count": 9,
   "id": "646d4c94",
   "metadata": {},
   "outputs": [
    {
     "name": "stderr",
     "output_type": "stream",
     "text": [
      "[I 2024-04-30 23:33:12,145] A new study created in memory with name: LDA_GBT_Pipeline\n",
      "[I 2024-04-30 23:34:44,445] Trial 9 finished with value: 0.6141304347826086 and parameters: {'n_estimators': 100, 'learning_rate': 0.00743688608398819, 'max_depth': 72}. Best is trial 9 with value: 0.6141304347826086.\n",
      "[I 2024-04-30 23:36:14,781] Trial 8 finished with value: 0.625 and parameters: {'n_estimators': 217, 'learning_rate': 0.0010303707874840464, 'max_depth': 19}. Best is trial 8 with value: 0.625.\n",
      "[I 2024-04-30 23:37:20,193] Trial 4 finished with value: 0.6153119092627599 and parameters: {'n_estimators': 274, 'learning_rate': 0.00393159977077752, 'max_depth': 100}. Best is trial 8 with value: 0.625.\n",
      "[I 2024-04-30 23:39:16,652] Trial 6 finished with value: 0.6143667296786389 and parameters: {'n_estimators': 405, 'learning_rate': 0.006907270597423413, 'max_depth': 92}. Best is trial 8 with value: 0.625.\n",
      "[I 2024-04-30 23:40:55,122] Trial 11 finished with value: 0.6131852551984878 and parameters: {'n_estimators': 510, 'learning_rate': 0.006790641055832764, 'max_depth': 60}. Best is trial 8 with value: 0.625.\n",
      "[I 2024-04-30 23:41:29,887] Trial 5 finished with value: 0.6143667296786389 and parameters: {'n_estimators': 554, 'learning_rate': 0.002065694561802935, 'max_depth': 83}. Best is trial 8 with value: 0.625.\n",
      "[I 2024-04-30 23:42:00,485] Trial 12 finished with value: 0.6131852551984878 and parameters: {'n_estimators': 488, 'learning_rate': 0.005556354556935283, 'max_depth': 66}. Best is trial 8 with value: 0.625.\n",
      "[I 2024-04-30 23:43:06,645] Trial 2 finished with value: 0.6150756143667296 and parameters: {'n_estimators': 622, 'learning_rate': 0.00453603515100474, 'max_depth': 27}. Best is trial 8 with value: 0.625.\n",
      "[I 2024-04-30 23:43:21,778] Trial 15 finished with value: 0.6157844990548205 and parameters: {'n_estimators': 267, 'learning_rate': 0.0053962803269948, 'max_depth': 52}. Best is trial 8 with value: 0.625.\n",
      "[I 2024-04-30 23:43:35,814] Trial 10 finished with value: 0.621219281663516 and parameters: {'n_estimators': 468, 'learning_rate': 0.006394172937223845, 'max_depth': 20}. Best is trial 8 with value: 0.625.\n",
      "[I 2024-04-30 23:44:25,963] Trial 17 finished with value: 0.6153119092627599 and parameters: {'n_estimators': 207, 'learning_rate': 0.006331677447632629, 'max_depth': 97}. Best is trial 8 with value: 0.625.\n",
      "[I 2024-04-30 23:44:58,754] Trial 13 finished with value: 0.6124763705103969 and parameters: {'n_estimators': 592, 'learning_rate': 0.0010349541511329879, 'max_depth': 32}. Best is trial 8 with value: 0.625.\n",
      "[I 2024-04-30 23:45:24,714] Trial 3 finished with value: 0.6124763705103969 and parameters: {'n_estimators': 857, 'learning_rate': 0.009377804708725193, 'max_depth': 57}. Best is trial 8 with value: 0.625.\n",
      "[I 2024-04-30 23:45:31,519] Trial 1 finished with value: 0.6134215500945179 and parameters: {'n_estimators': 839, 'learning_rate': 0.002848571522615739, 'max_depth': 67}. Best is trial 8 with value: 0.625.\n",
      "[I 2024-04-30 23:45:36,788] Trial 7 finished with value: 0.6167296786389413 and parameters: {'n_estimators': 839, 'learning_rate': 0.00037541463730038854, 'max_depth': 57}. Best is trial 8 with value: 0.625.\n",
      "[I 2024-04-30 23:46:03,078] Trial 16 finished with value: 0.6141304347826086 and parameters: {'n_estimators': 424, 'learning_rate': 0.0017132950628427634, 'max_depth': 64}. Best is trial 8 with value: 0.625.\n",
      "[I 2024-04-30 23:46:05,737] Trial 18 finished with value: 0.6162570888468809 and parameters: {'n_estimators': 367, 'learning_rate': 0.002974590032858842, 'max_depth': 94}. Best is trial 8 with value: 0.625.\n",
      "[I 2024-04-30 23:46:15,146] Trial 0 finished with value: 0.611531190926276 and parameters: {'n_estimators': 984, 'learning_rate': 0.00841681142624861, 'max_depth': 99}. Best is trial 8 with value: 0.625.\n",
      "[I 2024-04-30 23:46:19,600] Trial 19 finished with value: 0.6157844990548205 and parameters: {'n_estimators': 355, 'learning_rate': 0.004500257485671161, 'max_depth': 98}. Best is trial 8 with value: 0.625.\n",
      "[I 2024-04-30 23:47:48,596] Trial 14 finished with value: 0.6450850661625709 and parameters: {'n_estimators': 944, 'learning_rate': 0.005110020139553487, 'max_depth': 18}. Best is trial 14 with value: 0.6450850661625709.\n"
     ]
    },
    {
     "name": "stdout",
     "output_type": "stream",
     "text": [
      "Best Accuracy: 0.6450850661625709\n",
      "Best hyperparameters: {'n_estimators': 944, 'learning_rate': 0.005110020139553487, 'max_depth': 18}\n"
     ]
    }
   ],
   "source": [
    "# Create a study object\n",
    "# study = optuna.create_study(direction=\"maximize\", study_name=f\"LDA_GBT_Pipeline\")\n",
    "study = optuna.create_study(direction=\"maximize\", study_name=f\"NMF_GBT_Pipeline\")\n",
    "\n",
    "# Create the study objective\n",
    "objective = create_objective(X_train_topics, Y_train, X_val_topics, Y_val)\n",
    "\n",
    "# Execute an optimization\n",
    "study.optimize(objective, n_trials=20, n_jobs=-1)\n",
    "\n",
    "# Print the best trial results\n",
    "print(f\"Best Accuracy: {study.best_trial.value}\")\n",
    "print(f\"Best hyperparameters: {study.best_trial.params}\")"
   ]
  },
  {
   "cell_type": "code",
   "execution_count": 10,
   "id": "5957841d",
   "metadata": {},
   "outputs": [
    {
     "name": "stdout",
     "output_type": "stream",
     "text": [
      "Best NMF-GBT Model Accuracy: 0.6446124763705104\n"
     ]
    }
   ],
   "source": [
    "best_n_estimators = study.best_trial.params[\"n_estimators\"]\n",
    "best_learning_rate = study.best_trial.params[\"learning_rate\"]\n",
    "best_max_depth = study.best_trial.params[\"max_depth\"]\n",
    "\n",
    "gbt = GradientBoostingClassifier(n_estimators=best_n_estimators, \n",
    "                                 learning_rate=best_learning_rate,\n",
    "                                 max_depth=best_max_depth,\n",
    "                                 random_state=RANDOM_SEED)\n",
    "gbt.fit(X_train_topics, Y_train)\n",
    "Y_pred = gbt.predict(X_test_topics)\n",
    "score = accuracy_score(Y_test, Y_pred)\n",
    "# print(f\"Best LDA-GBT Model Accuracy: {score}\")\n",
    "print(f\"Best NMF-GBT Model Accuracy: {score}\")"
   ]
  }
 ],
 "metadata": {
  "kernelspec": {
   "display_name": "Python 3",
   "language": "python",
   "name": "python3"
  },
  "language_info": {
   "codemirror_mode": {
    "name": "ipython",
    "version": 3
   },
   "file_extension": ".py",
   "mimetype": "text/x-python",
   "name": "python",
   "nbconvert_exporter": "python",
   "pygments_lexer": "ipython3",
   "version": "3.10.8"
  }
 },
 "nbformat": 4,
 "nbformat_minor": 5
}
